{
 "cells": [
  {
   "cell_type": "markdown",
   "metadata": {
    "deletable": false,
    "editable": false,
    "nbgrader": {
     "cell_type": "markdown",
     "checksum": "67319f35581647e4fda037f88c448f7c",
     "grade": false,
     "grade_id": "Lab4_title",
     "locked": true,
     "schema_version": 3,
     "solution": false,
     "task": false
    }
   },
   "source": [
    "# Lab 4: Fourier series and PDEs\n",
    "\n",
    "In this lab we will revisit topics from recent weeks in the course - computing Fourier series, and using these methods to solve partial differential equations such as the wave equation.\n",
    "\n",
    "By using Python, we will be able to tackle some computations quickly, and also produce visualisations to help understand what is going on."
   ]
  },
  {
   "cell_type": "markdown",
   "metadata": {
    "deletable": false,
    "editable": false,
    "nbgrader": {
     "cell_type": "markdown",
     "checksum": "5947650e773367f226caaf55b897b7e0",
     "grade": false,
     "grade_id": "Lab4_S1_01",
     "locked": true,
     "schema_version": 3,
     "solution": false,
     "task": false
    }
   },
   "source": [
    "## 1. Fourier series\n",
    "\n",
    "Recall that a periodic function $f(x)$ with period $2L$ can be expressed as the **Fourier series** $$\\frac{a_0}{2}+\\sum_{n=1}^\\infty\\left(a_n\\cos\\frac{n\\pi x}{L}+b_n\\sin\\frac{n\\pi x}{L}\\right),$$\n",
    "where $$\\begin{align} a_n &=\\frac{1}{L}\\int_{-L}^{L}f(x)\\cos\\frac{n\\pi x}{L}\\,dx \\\\ b_n &=\\frac{1}{L}\\int_{-L}^{L}f(x)\\sin\\frac{n\\pi x}{L}\\,dx \\end{align}$$\n",
    "\n",
    "For many functions, we can use SymPy to do these computations."
   ]
  },
  {
   "cell_type": "markdown",
   "metadata": {
    "deletable": false,
    "editable": false,
    "nbgrader": {
     "cell_type": "markdown",
     "checksum": "b86073bbdbb7028a00ed9cd80ceddf4b",
     "grade": false,
     "grade_id": "Lab4_S1_02",
     "locked": true,
     "schema_version": 3,
     "solution": false,
     "task": false
    }
   },
   "source": [
    "---\n",
    "**Example**\n",
    "\n",
    "Find the Fourier series for the function with period 2, defined on $[-1,1)$ by: $$f(x) = \\begin{cases}-1 & -1\\leq x <0, \\\\ 1 & 0<x<1\\end{cases}$$\n",
    "\n",
    "---"
   ]
  },
  {
   "cell_type": "markdown",
   "metadata": {
    "deletable": false,
    "editable": false,
    "nbgrader": {
     "cell_type": "markdown",
     "checksum": "30484cbe21927fe2237d35a3036c3c58",
     "grade": false,
     "grade_id": "Lab4_S1_03",
     "locked": true,
     "schema_version": 3,
     "solution": false,
     "task": false
    }
   },
   "source": [
    "First, we load SymPy and use its [`Piecewise`](https://docs.sympy.org/latest/modules/functions/elementary.html#piecewise) function to define $f$:"
   ]
  },
  {
   "cell_type": "code",
   "execution_count": 1,
   "metadata": {},
   "outputs": [
    {
     "data": {
      "image/png": "[encoded data removed]",
      "text/plain": [
       "<Figure size 432x288 with 1 Axes>"
      ]
     },
     "metadata": {
      "needs_background": "light"
     },
     "output_type": "display_data"
    },
    {
     "data": {
      "text/plain": [
       "<sympy.plotting.plot.Plot at 0x269788200a0>"
      ]
     },
     "execution_count": 1,
     "metadata": {},
     "output_type": "execute_result"
    }
   ],
   "source": [
    "import sympy as sym\n",
    "import sympy.plotting as sym_plot\n",
    "sym.init_printing()\n",
    "from IPython.display import display_latex\n",
    "\n",
    "x,n = sym.symbols('x, n')\n",
    "\n",
    "f = sym.Piecewise((1, (x>0)), (-1, (x<=0)))\n",
    "\n",
    "sym_plot.plot(f, (x,-1,1))"
   ]
  },
  {
   "cell_type": "markdown",
   "metadata": {},
   "source": [
    "<span class=\"label label-danger\">Task</span>\n",
    "Does the syntax for `sym.Piecewise` make sense to you? Read the details in the documentation (linked above) to help you. This will be important for defining piecewise functions yourself later in the lab!"
   ]
  },
  {
   "cell_type": "markdown",
   "metadata": {
    "deletable": false,
    "editable": false,
    "nbgrader": {
     "cell_type": "markdown",
     "checksum": "90989f748e7de86655d71f0a6123e1a5",
     "grade": false,
     "grade_id": "Lab4_S1_04",
     "locked": true,
     "schema_version": 3,
     "solution": false,
     "task": false
    }
   },
   "source": [
    "We can use `SymPy` to compute the Fourier coefficients:"
   ]
  },
  {
   "cell_type": "code",
   "execution_count": 2,
   "metadata": {},
   "outputs": [],
   "source": [
    "a0 = sym.integrate(f, (x,-1,1))\n",
    "an = sym.integrate(f*sym.cos(n*sym.pi*x), (x, -1, 1))\n",
    "bn = sym.integrate(f*sym.sin(n*sym.pi*x), (x, -1, 1))"
   ]
  },
  {
   "cell_type": "code",
   "execution_count": 3,
   "metadata": {},
   "outputs": [
    {
     "data": {
      "image/png": "[encoded data removed]",
      "text/latex": [
       "$\\displaystyle 0$"
      ],
      "text/plain": [
       "0"
      ]
     },
     "execution_count": 3,
     "metadata": {},
     "output_type": "execute_result"
    }
   ],
   "source": [
    "a0"
   ]
  },
  {
   "cell_type": "code",
   "execution_count": 4,
   "metadata": {},
   "outputs": [
    {
     "data": {
      "image/png": "[encoded data removed]",
      "text/latex": [
       "$\\displaystyle 0$"
      ],
      "text/plain": [
       "0"
      ]
     },
     "execution_count": 4,
     "metadata": {},
     "output_type": "execute_result"
    }
   ],
   "source": [
    "an"
   ]
  },
  {
   "cell_type": "code",
   "execution_count": 5,
   "metadata": {},
   "outputs": [
    {
     "data": {
      "text/latex": [
       "$\\displaystyle \\begin{cases} - \\frac{2 \\cos{\\left(\\pi n \\right)}}{\\pi n} + \\frac{2}{\\pi n} & \\text{for}\\: n > -\\infty \\wedge n < \\infty \\wedge n \\neq 0 \\\\0 & \\text{otherwise} \\end{cases}$"
      ],
      "text/plain": [
       "⎧  2⋅cos(π⋅n)    2                             \n",
       "⎪- ────────── + ───  for n > -∞ ∧ n < ∞ ∧ n ≠ 0\n",
       "⎨     π⋅n       π⋅n                            \n",
       "⎪                                              \n",
       "⎩        0                   otherwise         "
      ]
     },
     "execution_count": 5,
     "metadata": {},
     "output_type": "execute_result"
    }
   ],
   "source": [
    "bn"
   ]
  },
  {
   "cell_type": "markdown",
   "metadata": {
    "deletable": false,
    "editable": false,
    "nbgrader": {
     "cell_type": "markdown",
     "checksum": "913b3f753120179b05094a9e7b20c202",
     "grade": false,
     "grade_id": "Lab4_S1_05",
     "locked": true,
     "schema_version": 3,
     "solution": false,
     "task": false
    }
   },
   "source": [
    "Next, we can use a `Sum` to write the Fourier series -- here, we just take the terms up to $n=10$:"
   ]
  },
  {
   "cell_type": "code",
   "execution_count": 6,
   "metadata": {},
   "outputs": [
    {
     "data": {
      "text/latex": [
       "$\\displaystyle \\sum_{n=1}^{10} \\begin{cases} \\left(- \\frac{2 \\cos{\\left(\\pi n \\right)}}{\\pi n} + \\frac{2}{\\pi n}\\right) \\sin{\\left(\\pi n x \\right)} & \\text{for}\\: n > -\\infty \\wedge n < \\infty \\wedge n \\neq 0 \\\\0 & \\text{otherwise} \\end{cases}$"
      ],
      "text/plain": [
       "  10                                                              \n",
       "_____                                                             \n",
       "╲                                                                 \n",
       " ╲                                                                \n",
       "  ╲   ⎧⎛  2⋅cos(π⋅n)    2 ⎞                                       \n",
       "   ╲  ⎪⎜- ────────── + ───⎟⋅sin(π⋅n⋅x)  for n > -∞ ∧ n < ∞ ∧ n ≠ 0\n",
       "   ╱  ⎨⎝     π⋅n       π⋅n⎠                                       \n",
       "  ╱   ⎪                                                           \n",
       " ╱    ⎩               0                         otherwise         \n",
       "╱                                                                 \n",
       "‾‾‾‾‾                                                             \n",
       "n = 1                                                             "
      ]
     },
     "execution_count": 6,
     "metadata": {},
     "output_type": "execute_result"
    }
   ],
   "source": [
    "f10 = a0/2 + sym.Sum(an*sym.cos(n*sym.pi*x)+bn*sym.sin(n*sym.pi*x), (n,1,10))\n",
    "f10"
   ]
  },
  {
   "cell_type": "markdown",
   "metadata": {
    "deletable": false,
    "editable": false,
    "nbgrader": {
     "cell_type": "markdown",
     "checksum": "17e0c8d59752525428857afd084ac090",
     "grade": false,
     "grade_id": "Lab4_S1_06",
     "locked": true,
     "schema_version": 3,
     "solution": false,
     "task": false
    }
   },
   "source": [
    "The `simplify()` function can help to gather common factors:"
   ]
  },
  {
   "cell_type": "code",
   "execution_count": 7,
   "metadata": {},
   "outputs": [
    {
     "data": {
      "text/latex": [
       "$\\displaystyle \\sum_{n=1}^{10} \\begin{cases} \\frac{2 \\left(1 - \\cos{\\left(\\pi n \\right)}\\right) \\sin{\\left(\\pi n x \\right)}}{\\pi n} & \\text{for}\\: n > -\\infty \\wedge n < \\infty \\wedge n \\neq 0 \\\\0 & \\text{otherwise} \\end{cases}$"
      ],
      "text/plain": [
       "  10                                                          \n",
       "_____                                                         \n",
       "╲                                                             \n",
       " ╲                                                            \n",
       "  ╲   ⎧2⋅(1 - cos(π⋅n))⋅sin(π⋅n⋅x)                            \n",
       "   ╲  ⎪───────────────────────────  for n > -∞ ∧ n < ∞ ∧ n ≠ 0\n",
       "   ╱  ⎨            π⋅n                                        \n",
       "  ╱   ⎪                                                       \n",
       " ╱    ⎩             0                       otherwise         \n",
       "╱                                                             \n",
       "‾‾‾‾‾                                                         \n",
       "n = 1                                                         "
      ]
     },
     "execution_count": 7,
     "metadata": {},
     "output_type": "execute_result"
    }
   ],
   "source": [
    "f10.simplify()"
   ]
  },
  {
   "cell_type": "markdown",
   "metadata": {
    "deletable": false,
    "editable": false,
    "nbgrader": {
     "cell_type": "markdown",
     "checksum": "521d6556bddeaf762b1af6e9bb328504",
     "grade": false,
     "grade_id": "Lab4_S1_07",
     "locked": true,
     "schema_version": 3,
     "solution": false,
     "task": false
    }
   },
   "source": [
    "And to actually work with the expression, we can use `doit()` to make SymPy write out all the terms of the sum:"
   ]
  },
  {
   "cell_type": "code",
   "execution_count": 8,
   "metadata": {},
   "outputs": [
    {
     "data": {
      "image/png": "[encoded data removed]",
      "text/latex": [
       "$\\displaystyle \\frac{4 \\sin{\\left(\\pi x \\right)}}{\\pi} + \\frac{4 \\sin{\\left(3 \\pi x \\right)}}{3 \\pi} + \\frac{4 \\sin{\\left(5 \\pi x \\right)}}{5 \\pi} + \\frac{4 \\sin{\\left(7 \\pi x \\right)}}{7 \\pi} + \\frac{4 \\sin{\\left(9 \\pi x \\right)}}{9 \\pi}$"
      ],
      "text/plain": [
       "4⋅sin(π⋅x)   4⋅sin(3⋅π⋅x)   4⋅sin(5⋅π⋅x)   4⋅sin(7⋅π⋅x)   4⋅sin(9⋅π⋅x)\n",
       "────────── + ──────────── + ──────────── + ──────────── + ────────────\n",
       "    π            3⋅π            5⋅π            7⋅π            9⋅π     "
      ]
     },
     "execution_count": 8,
     "metadata": {},
     "output_type": "execute_result"
    }
   ],
   "source": [
    "f10_expr = f10.doit()\n",
    "f10_expr"
   ]
  },
  {
   "cell_type": "markdown",
   "metadata": {
    "deletable": false,
    "editable": false,
    "nbgrader": {
     "cell_type": "markdown",
     "checksum": "f70982c59cd3c6f1a9c47bacd713c069",
     "grade": false,
     "grade_id": "Lab4_S1_08",
     "locked": true,
     "schema_version": 3,
     "solution": false,
     "task": false
    }
   },
   "source": [
    "We can then produce a plot of this Fourier approximation, and the original function:"
   ]
  },
  {
   "cell_type": "code",
   "execution_count": 9,
   "metadata": {},
   "outputs": [
    {
     "data": {
      "image/png": "[encoded data removed]",
      "text/plain": [
       "<Figure size 432x288 with 1 Axes>"
      ]
     },
     "metadata": {
      "needs_background": "light"
     },
     "output_type": "display_data"
    }
   ],
   "source": [
    "f_plot = sym_plot.plot((f10_expr,(x,-2,2)), (f,(x,-1,1)), show  = False)\n",
    "f_plot[0].line_color = \"blue\"\n",
    "f_plot[1].line_color = \"red\"\n",
    "f_plot.show()"
   ]
  },
  {
   "cell_type": "markdown",
   "metadata": {},
   "source": [
    "<span class=\"label label-danger\">Task</span>\n",
    "What happens if you try to plot `f10` directly, rather than `f10_expr`?"
   ]
  },
  {
   "cell_type": "markdown",
   "metadata": {
    "deletable": false,
    "editable": false,
    "nbgrader": {
     "cell_type": "markdown",
     "checksum": "847ae915146850298d4539f929944329",
     "grade": false,
     "grade_id": "Lab4_S1_E1",
     "locked": true,
     "schema_version": 3,
     "solution": false,
     "task": false
    }
   },
   "source": [
    "<div class=\"alert alert-info\">\n",
    "    <h3>Exercise 1.1 </h3>\n",
    "\n",
    "Produce similar plots for:\n",
    "\n",
    "**(a)** $g(x)=\\exp(x)$ on $[-1,1]$\n",
    "\n",
    "**(b)** $h(x)=x+2$ on $[-2,2]$\n",
    "\n",
    "</div>\n",
    "\n",
    "*Hint:* For (b) you will need to account for the $L$ appearing in the general Fourier series formulae."
   ]
  },
  {
   "cell_type": "code",
   "execution_count": null,
   "metadata": {
    "deletable": false,
    "nbgrader": {
     "cell_type": "code",
     "checksum": "45293547a911e3b213c34ac14e08b289",
     "grade": false,
     "grade_id": "Lab4_S1_E1_A",
     "locked": false,
     "schema_version": 3,
     "solution": true,
     "task": false
    }
   },
   "outputs": [],
   "source": [
    "# Your code here for (a)\n",
    "\n",
    "# YOUR CODE HERE\n",
    "raise NotImplementedError()"
   ]
  },
  {
   "cell_type": "code",
   "execution_count": null,
   "metadata": {
    "deletable": false,
    "editable": false,
    "nbgrader": {
     "cell_type": "code",
     "checksum": "ff34672710e6b509a0cebff4b6693218",
     "grade": true,
     "grade_id": "Lab4_S1_E1_A_test",
     "locked": true,
     "points": 1,
     "schema_version": 3,
     "solution": false,
     "task": false
    }
   },
   "outputs": [],
   "source": [
    "# Autograder test for (a)\n",
    "\n",
    "assert an.subs(n,2).simplify() == 2*sym.sinh(1)/(1 + 4*sym.pi**2)\n",
    "print(\" ✔ a_2 is correct\")\n",
    "assert bn.subs(n,3).simplify() == 6*sym.pi*sym.sinh(1)/(1 + 9*sym.pi**2)\n",
    "print(\" ✔ b_3 is correct\")\n",
    "assert isinstance(g_plot, type(f_plot))\n",
    "print(\" ✔ g_plot exists\")\n",
    "assert len(g_plot._series) > 1\n",
    "print(\" ✔ at least two curves are plotted (should be g and its approximation)\")\n",
    "# Hidden tests (1 mark)"
   ]
  },
  {
   "cell_type": "code",
   "execution_count": null,
   "metadata": {
    "deletable": false,
    "nbgrader": {
     "cell_type": "code",
     "checksum": "2bed043e567116441c0ff82eb655f4cb",
     "grade": false,
     "grade_id": "Lab4_S1_E1_B",
     "locked": false,
     "schema_version": 3,
     "solution": true,
     "task": false
    }
   },
   "outputs": [],
   "source": [
    "# Your code here for (b)\n",
    "\n",
    "# YOUR CODE HERE\n",
    "raise NotImplementedError()"
   ]
  },
  {
   "cell_type": "code",
   "execution_count": null,
   "metadata": {
    "deletable": false,
    "editable": false,
    "nbgrader": {
     "cell_type": "code",
     "checksum": "239f95cd05ce610a223fcc149af6e59d",
     "grade": true,
     "grade_id": "Lab4_S1_E1_B_test",
     "locked": true,
     "points": 1,
     "schema_version": 3,
     "solution": false,
     "task": false
    }
   },
   "outputs": [],
   "source": [
    "# Autograder test for (b)\n",
    "\n",
    "assert an.subs(n,2).simplify() == 0\n",
    "print(\" ✔ a_2 is correct\")\n",
    "assert bn.subs(n,3).simplify() == 4/(3*sym.pi)\n",
    "print(\" ✔ b_3 is correct\")\n",
    "assert isinstance(h_plot, type(f_plot))\n",
    "print(\" ✔ h_plot exists\")\n",
    "assert len(h_plot._series) > 1\n",
    "print(\" ✔ at least two curves are plotted (should be h and its approximation)\")\n",
    "assert bn.subs(n,2).simplify() == -2/sym.pi\n",
    "print(\" ✔ b_2 is correct\")\n"
   ]
  },
  {
   "cell_type": "markdown",
   "metadata": {
    "deletable": false,
    "editable": false,
    "nbgrader": {
     "cell_type": "markdown",
     "checksum": "11339f7546e34ab4d09a376a99a715dd",
     "grade": false,
     "grade_id": "Lab4_S1_E2",
     "locked": true,
     "schema_version": 3,
     "solution": false,
     "task": false
    }
   },
   "source": [
    "<div class=\"alert alert-info\">\n",
    "    <h3>Exercise 1.2 </h3>\n",
    "\n",
    "**(a)** Write a function `approx_fourier` that takes in a SymPy expression `f`, and integers `L` and `num_terms`. It should return the Fourier series with `num_terms` terms, for the function with period 2`L` that matches `f` on $[-L,L]$.\n",
    "\n",
    "So `approx_fourier(f, 1, 10)` should produce an expression like `f10_expr` that we computed above.\n",
    "\n",
    "**(b)** Write another function, `plot_approx`, that takes the same arguments and produces a plot of `f` and its Fourier series (making use of the `approx_fourier` function you just wrote).\n",
    "\n",
    "**(c)** Use the functions to replicate the plots you produced in Exercise 1.1.\n",
    "\n",
    "**(d)** Similarly, produce plots of the Fourier series in Tutorial Week 7, Q2 (b) and (c).\n",
    "\n",
    "</div>\n"
   ]
  },
  {
   "cell_type": "code",
   "execution_count": null,
   "metadata": {
    "deletable": false,
    "nbgrader": {
     "cell_type": "code",
     "checksum": "0f62e75e0fc6b823ff41aca5a583dffa",
     "grade": false,
     "grade_id": "Lab4_S1_E2_A",
     "locked": false,
     "schema_version": 3,
     "solution": true,
     "task": false
    }
   },
   "outputs": [],
   "source": [
    "# Your code here for (a)\n",
    "\n",
    "def approx_fourier(f, L, num_terms):\n",
    "    \n",
    "    # YOUR CODE HERE\n",
    "    raise NotImplementedError()"
   ]
  },
  {
   "cell_type": "code",
   "execution_count": null,
   "metadata": {
    "deletable": false,
    "editable": false,
    "nbgrader": {
     "cell_type": "code",
     "checksum": "940b176f33d755056422cc2209ddf172",
     "grade": true,
     "grade_id": "Lab4_S1_E2_test",
     "locked": true,
     "points": 0,
     "schema_version": 3,
     "solution": false,
     "task": false
    }
   },
   "outputs": [],
   "source": [
    "# Autograder test \n",
    "def check_solution(student_answer, expected_answer, message):\n",
    "    print(\"Testing \"+message)\n",
    "    # Check the constants\n",
    "    const = list(student_answer.atoms(sym.Symbol))\n",
    "    assert x in const\n",
    "    assert len(const) == 1\n",
    "    print(\" ✔ output contains the correct number of symbols\")\n",
    "    assert isinstance(student_answer,type(expected_answer))\n",
    "    print(\" ✔ output is of the correct type\")\n",
    "    # Does the answer match the model answer?\n",
    "    assert student_answer - expected_answer == 0 \n",
    "    print(\" ✔ general solution matches model answer \\n\")\n",
    "\n",
    "check_solution(approx_fourier(f, 1, 10), f10_expr, \"f10_expr example\")"
   ]
  },
  {
   "cell_type": "code",
   "execution_count": null,
   "metadata": {
    "deletable": false,
    "editable": false,
    "nbgrader": {
     "cell_type": "code",
     "checksum": "3879e24ee647ab668f80a578ca33e99f",
     "grade": true,
     "grade_id": "Lab4_S1_E2_A_test1",
     "locked": true,
     "points": 0.5,
     "schema_version": 3,
     "solution": false,
     "task": false
    }
   },
   "outputs": [],
   "source": [
    "# Autograder Test: check approx_fourier on g(x) (0.5 marks)"
   ]
  },
  {
   "cell_type": "code",
   "execution_count": null,
   "metadata": {
    "deletable": false,
    "editable": false,
    "nbgrader": {
     "cell_type": "code",
     "checksum": "d74b89244d8b6cf7fcd05e893b1f4db1",
     "grade": true,
     "grade_id": "Lab4_S1_E2_A_test2",
     "locked": true,
     "points": 0.5,
     "schema_version": 3,
     "solution": false,
     "task": false
    }
   },
   "outputs": [],
   "source": [
    "# Autograder Test: check approx_fourier on h(x) (0.5 marks)"
   ]
  },
  {
   "cell_type": "code",
   "execution_count": null,
   "metadata": {
    "deletable": false,
    "nbgrader": {
     "cell_type": "code",
     "checksum": "991097c0719d15b56b33933f8b4a2bf1",
     "grade": false,
     "grade_id": "Lab4_S1_E2_B",
     "locked": false,
     "schema_version": 3,
     "solution": true,
     "task": false
    }
   },
   "outputs": [],
   "source": [
    "# Your code here for (b) \n",
    "\n",
    "def plot_approx(f, L, num_terms):\n",
    "    \n",
    "    # YOUR CODE HERE\n",
    "    raise NotImplementedError()"
   ]
  },
  {
   "cell_type": "code",
   "execution_count": null,
   "metadata": {
    "deletable": false,
    "nbgrader": {
     "cell_type": "code",
     "checksum": "f095bff3ef38156d6cf903db2b395b62",
     "grade": false,
     "grade_id": "Lab4_S1_E2_C",
     "locked": false,
     "schema_version": 3,
     "solution": true,
     "task": false
    }
   },
   "outputs": [],
   "source": [
    "# Your code here for (c) \n",
    "\n",
    "# YOUR CODE HERE\n",
    "raise NotImplementedError()"
   ]
  },
  {
   "cell_type": "code",
   "execution_count": null,
   "metadata": {
    "deletable": false,
    "nbgrader": {
     "cell_type": "code",
     "checksum": "5f02f2814c54cebd1f2d495bd9e820ee",
     "grade": false,
     "grade_id": "Lab4_S1_E2_D_1",
     "locked": false,
     "schema_version": 3,
     "solution": true,
     "task": false
    }
   },
   "outputs": [],
   "source": [
    "# Your code here for (d) - The Fourier series of the function in Workshop Week 7, Q2 (b) \n",
    "# Use the name g_b for the function\n",
    "\n",
    "# YOUR CODE HERE\n",
    "raise NotImplementedError()"
   ]
  },
  {
   "cell_type": "code",
   "execution_count": null,
   "metadata": {
    "deletable": false,
    "nbgrader": {
     "cell_type": "code",
     "checksum": "bd2a0895e0c45aa746f282a48efd9d19",
     "grade": false,
     "grade_id": "Lab4_S1_E2_D_2",
     "locked": false,
     "schema_version": 3,
     "solution": true,
     "task": false
    }
   },
   "outputs": [],
   "source": [
    "# Your code here for (d) - The plot of the function in Workshop Week 7, Q2 (b) \n",
    "\n",
    "# YOUR CODE HERE\n",
    "raise NotImplementedError()"
   ]
  },
  {
   "cell_type": "code",
   "execution_count": null,
   "metadata": {
    "deletable": false,
    "editable": false,
    "nbgrader": {
     "cell_type": "code",
     "checksum": "0a2fa99b816aa5aeddaf8dcc5a7b1737",
     "grade": true,
     "grade_id": "Lab4_S1_E2_D_1_test",
     "locked": true,
     "points": 0.5,
     "schema_version": 3,
     "solution": false,
     "task": false
    }
   },
   "outputs": [],
   "source": [
    "# Autograder Test: The Fourier series of the function in Workshop Week 7, Q2 (b)\n",
    "\n",
    "assert isinstance(g_b, sym.Piecewise)\n",
    "print(\" ✔ g_b definition is of the correct type\")\n",
    "assert [g_b.subs(x,xi/4) for xi in range(-4,4,1)] == [0, 0.25, 0.5, 0.75, 1.0, 0.75, 0.5, 0.25]\n",
    "print(\" ✔ g_b takes correct values\")\n",
    "\n",
    "# Hidden tests (0.5 marks)"
   ]
  },
  {
   "cell_type": "code",
   "execution_count": null,
   "metadata": {
    "deletable": false,
    "nbgrader": {
     "cell_type": "code",
     "checksum": "06c16219b406a28aa273ada464856438",
     "grade": false,
     "grade_id": "Lab4_S1_E2_D_3",
     "locked": false,
     "schema_version": 3,
     "solution": true,
     "task": false
    }
   },
   "outputs": [],
   "source": [
    "# Your code here for (d) - The Fourier series of the function in Workshop Week 7, Q2 (c) \n",
    "\n",
    "# YOUR CODE HERE\n",
    "raise NotImplementedError()"
   ]
  },
  {
   "cell_type": "code",
   "execution_count": null,
   "metadata": {
    "deletable": false,
    "nbgrader": {
     "cell_type": "code",
     "checksum": "eae5aac6c066023e1b2ba3d97392944c",
     "grade": false,
     "grade_id": "Lab4_S1_E2_D_4",
     "locked": false,
     "schema_version": 3,
     "solution": true,
     "task": false
    }
   },
   "outputs": [],
   "source": [
    "# Your code here for (d) - The plot of the function in Workshop Week 7, Q2 (c) \n",
    "\n",
    "# YOUR CODE HERE\n",
    "raise NotImplementedError()"
   ]
  },
  {
   "cell_type": "code",
   "execution_count": null,
   "metadata": {
    "deletable": false,
    "editable": false,
    "nbgrader": {
     "cell_type": "code",
     "checksum": "d60685f0a1a99f5d6766b83ef0e108d0",
     "grade": true,
     "grade_id": "Lab4_S1_E2_D_3_test",
     "locked": true,
     "points": 0.5,
     "schema_version": 3,
     "solution": false,
     "task": false
    }
   },
   "outputs": [],
   "source": [
    "# Autograder Test: The Fourier series of the function in Workshop Week 7, Q2 (c)\n",
    "assert isinstance(g_c, sym.Piecewise)\n",
    "print(\" ✔ g_c definition is of the correct type\")\n",
    "assert [g_c.subs(x,xi/2) for xi in range(-4,4,1)] == [1.0, 0.75, 0.5, 0.25, 0, 0.875, 1.5, 1.875]\n",
    "print(\" ✔ g_c takes correct values\")\n",
    "\n",
    "# Hidden tests (0.5 marks)"
   ]
  },
  {
   "cell_type": "markdown",
   "metadata": {
    "deletable": false,
    "editable": false,
    "nbgrader": {
     "cell_type": "markdown",
     "checksum": "0337d4f45e6485037b5981d105509388",
     "grade": false,
     "grade_id": "Lab4_S1_task1",
     "locked": true,
     "schema_version": 3,
     "solution": false,
     "task": false
    }
   },
   "source": [
    "### Gibbs phenomenon\n",
    "\n",
    "<span class=\"label label-danger\">Task</span>\n",
    "Use your `plot_approx` function to plot the approximations of $f$ by Fourier series with 10, 20 and 30 terms.\n",
    "\n",
    "You should notice the approximations overshoot the values of +1 and -1 at the discontinuities, and increasing the number of terms does not seem to make this better. This is the Gibbs phenomenon."
   ]
  },
  {
   "cell_type": "code",
   "execution_count": null,
   "metadata": {
    "deletable": false,
    "nbgrader": {
     "cell_type": "code",
     "checksum": "2c3e11e9f0ce2fd1fde20381d12d70e3",
     "grade": false,
     "grade_id": "Lab4_S1_task1_answer",
     "locked": false,
     "schema_version": 3,
     "solution": true,
     "task": false
    }
   },
   "outputs": [],
   "source": [
    "# Your code here \n",
    "\n",
    "# YOUR CODE HERE\n",
    "raise NotImplementedError()"
   ]
  },
  {
   "cell_type": "markdown",
   "metadata": {
    "deletable": false,
    "editable": false,
    "nbgrader": {
     "cell_type": "markdown",
     "checksum": "1afbbf80baa931ba2563e332e7ff20b0",
     "grade": false,
     "grade_id": "Lab4_S2_01",
     "locked": true,
     "schema_version": 3,
     "solution": false,
     "task": false
    }
   },
   "source": [
    "## 2. Animating plots in Python\n",
    "\n",
    "To get a visual sense of how the Fourier series converges toward the function it is approximating, we can produce an animation which shows the effect of adding more terms. Each frame in the animation will add a new term to the Fourier series, and we would expect to see the Fourier series looking more and more like the function it is approximating.\n",
    "\n",
    "To achieve this in Python, we will use the [`matplotlib.animation`](https://matplotlib.org/3.1.1/api/animation_api.html) functionality. This works a bit like a [flip book](https://en.wikipedia.org/wiki/Flip_book), where we need to write a function that draws each \"frame\" of the animation and `matplotlib` will stitch them all together to make an animation.\n",
    "\n",
    "### From SymPy to NumPy\n",
    "The first problem we have is that so far we have been working with SymPy, but `matplotlib` works with NumPy. Fortunately, there is a way round this.\n",
    "\n",
    "Here is a piece of code from earlier, which uses your `approx_fourier` function to approximate the step function $f$:"
   ]
  },
  {
   "cell_type": "code",
   "execution_count": null,
   "metadata": {},
   "outputs": [],
   "source": [
    "import sympy as sym\n",
    "sym.init_printing()\n",
    "from IPython.display import display_latex\n",
    "\n",
    "x,n = sym.symbols('x, n')\n",
    "\n",
    "f = sym.Piecewise((1, (x>0)), (-1, (x<=0)))\n",
    "\n",
    "approx_fourier(f, 1, 10)"
   ]
  },
  {
   "cell_type": "markdown",
   "metadata": {
    "deletable": false,
    "editable": false,
    "nbgrader": {
     "cell_type": "markdown",
     "checksum": "198e1b0a26d4cf18b12c67185ca6b348",
     "grade": false,
     "grade_id": "Lab4_S2_02",
     "locked": true,
     "schema_version": 3,
     "solution": false,
     "task": false
    }
   },
   "source": [
    "The [`lamdify` function from SymPy](https://docs.sympy.org/dev/modules/utilities/lambdify.html#sympy.utilities.lambdify.lambdify) can be used to convert a SymPy expression to a function that can be used with NumPy. Here, we use it on the Fourier series for $f$ with just one term:"
   ]
  },
  {
   "cell_type": "code",
   "execution_count": null,
   "metadata": {},
   "outputs": [],
   "source": [
    "approx_fourier(f, 1, 1)"
   ]
  },
  {
   "cell_type": "code",
   "execution_count": null,
   "metadata": {},
   "outputs": [],
   "source": [
    "f_1 = sym.lambdify(x, approx_fourier(f, 1, 1), 'numpy')"
   ]
  },
  {
   "cell_type": "code",
   "execution_count": null,
   "metadata": {},
   "outputs": [],
   "source": [
    "f_1(0.5)"
   ]
  },
  {
   "cell_type": "markdown",
   "metadata": {
    "deletable": false,
    "editable": false,
    "nbgrader": {
     "cell_type": "markdown",
     "checksum": "42342403b2968a08d0baf048c0294785",
     "grade": false,
     "grade_id": "Lab4_S2_task1_A",
     "locked": true,
     "schema_version": 3,
     "solution": false,
     "task": false
    }
   },
   "source": [
    "<span class=\"label label-danger\">Task</span>\n",
    "Does this value for `f_1(0.5)` make sense? What should a plot of the function `f_1` look like?\n",
    "\n",
    "In particular, we can now evaluate `f_1` at an array of different points:"
   ]
  },
  {
   "cell_type": "code",
   "execution_count": null,
   "metadata": {},
   "outputs": [],
   "source": [
    "# Standard setup\n",
    "import numpy as np"
   ]
  },
  {
   "cell_type": "code",
   "execution_count": null,
   "metadata": {
    "deletable": false,
    "nbgrader": {
     "cell_type": "code",
     "checksum": "19af3404e57cbbccb5063ee9152ff4a4",
     "grade": false,
     "grade_id": "Lab4_S2_task1_A_answer",
     "locked": false,
     "schema_version": 3,
     "solution": true,
     "task": false
    }
   },
   "outputs": [],
   "source": [
    "# Your code here\n",
    "\n",
    "# YOUR CODE HERE\n",
    "raise NotImplementedError()"
   ]
  },
  {
   "cell_type": "markdown",
   "metadata": {
    "deletable": false,
    "editable": false,
    "nbgrader": {
     "cell_type": "markdown",
     "checksum": "978ca0c76d83218743967284921ef134",
     "grade": false,
     "grade_id": "Lab4_S2_task1_B",
     "locked": true,
     "schema_version": 3,
     "solution": false,
     "task": false
    }
   },
   "source": [
    "This lets us produce an array of values that can be plotted:"
   ]
  },
  {
   "cell_type": "code",
   "execution_count": null,
   "metadata": {},
   "outputs": [],
   "source": [
    "# Standard setup \n",
    "import matplotlib.pyplot as plt"
   ]
  },
  {
   "cell_type": "code",
   "execution_count": null,
   "metadata": {
    "deletable": false,
    "nbgrader": {
     "cell_type": "code",
     "checksum": "abef7da5bffbcfdf593506ec6d7f2ee4",
     "grade": false,
     "grade_id": "Lab4_S2_task1_B_answer",
     "locked": false,
     "schema_version": 3,
     "solution": true,
     "task": false
    }
   },
   "outputs": [],
   "source": [
    "# Your code here \n",
    "\n",
    "# YOUR CODE HERE\n",
    "raise NotImplementedError()"
   ]
  },
  {
   "cell_type": "markdown",
   "metadata": {
    "deletable": false,
    "editable": false,
    "nbgrader": {
     "cell_type": "markdown",
     "checksum": "873e7a2e17cbf1b2b6190a9fc27fc5f4",
     "grade": false,
     "grade_id": "Lab4_S2_03",
     "locked": true,
     "schema_version": 3,
     "solution": false,
     "task": false
    }
   },
   "source": [
    "### Animating\n",
    "\n",
    "Now we are ready to use the `matplotlib.animation` functionality to animate this plot.\n",
    "\n",
    "We write an `animate` function which updates the plot for a given frame number. Then we use the `FuncAnimation` function to produce an animation from those -- here, we ask for frames numbered 1 to 50, and each frame will be shown for 25 milliseconds."
   ]
  },
  {
   "cell_type": "code",
   "execution_count": null,
   "metadata": {},
   "outputs": [],
   "source": [
    "import matplotlib.animation as animation\n",
    "\n",
    "def animate(i):\n",
    "    f_i = sym.lambdify(x, approx_fourier(f, 1, i), 'numpy')\n",
    "    line.set_ydata(f_i(x_vals))  # update the data.\n",
    "    return line,\n",
    "\n",
    "ani = animation.FuncAnimation(\n",
    "    fig, animate, frames=np.arange(1,50), interval=25)"
   ]
  },
  {
   "cell_type": "markdown",
   "metadata": {
    "deletable": false,
    "editable": false,
    "nbgrader": {
     "cell_type": "markdown",
     "checksum": "de1e48d45d35ca75aceeb5bb76b7ef3e",
     "grade": false,
     "grade_id": "Lab4_S2_04",
     "locked": true,
     "schema_version": 3,
     "solution": false,
     "task": false
    }
   },
   "source": [
    "The following code **will take several seconds to run**, since this is when each frame is actually produced. The resulting animation is shown as an interactive applet -- you can use the controls underneath to pause the animation and to step through the frames manually."
   ]
  },
  {
   "cell_type": "code",
   "execution_count": null,
   "metadata": {
    "deletable": false,
    "editable": false,
    "nbgrader": {
     "cell_type": "code",
     "checksum": "883691cce87a4e8669da7cd0404f6fa7",
     "grade": true,
     "grade_id": "Lab4_S2_suppress_ani",
     "locked": true,
     "points": 0,
     "schema_version": 3,
     "solution": false,
     "task": false
    }
   },
   "outputs": [],
   "source": [
    "# The code in this hidden cell will prevent the autograder having to produce the animations"
   ]
  },
  {
   "cell_type": "code",
   "execution_count": null,
   "metadata": {},
   "outputs": [],
   "source": [
    "from IPython.display import HTML\n",
    "HTML(ani.to_jshtml())"
   ]
  },
  {
   "cell_type": "markdown",
   "metadata": {
    "deletable": false,
    "editable": false,
    "nbgrader": {
     "cell_type": "markdown",
     "checksum": "6f818876a4a930127b3de07d81f7c9e2",
     "grade": false,
     "grade_id": "Lab4_S2_task2",
     "locked": true,
     "schema_version": 3,
     "solution": false,
     "task": false
    }
   },
   "source": [
    "<span class=\"label label-danger\">Task</span>\n",
    "Explore what the controls do. Do you notice that there is only a change in the plot in every 2nd frame? Why is that?"
   ]
  },
  {
   "cell_type": "code",
   "execution_count": null,
   "metadata": {
    "deletable": false,
    "nbgrader": {
     "cell_type": "code",
     "checksum": "b7017f5e2fff01ae1f8b99f8db25a894",
     "grade": false,
     "grade_id": "Lab4_S2_task2_ans",
     "locked": false,
     "schema_version": 3,
     "solution": true,
     "task": false
    }
   },
   "outputs": [],
   "source": [
    "# The -/+ buttons can be used to alter the speed of the animation. |< and >| move one frame back/forward.\n",
    "\n",
    "# There is only a change in every second frame because ...\n",
    "\n",
    "# YOUR CODE HERE\n",
    "raise NotImplementedError()"
   ]
  },
  {
   "cell_type": "markdown",
   "metadata": {
    "deletable": false,
    "editable": false,
    "nbgrader": {
     "cell_type": "markdown",
     "checksum": "1e58802cc64ca01b5d5e3a8c7895fa95",
     "grade": false,
     "grade_id": "Lab4_S2_05",
     "locked": true,
     "schema_version": 3,
     "solution": false,
     "task": false
    }
   },
   "source": [
    "It is also possible to have `matplotlib` produce a video file showing the animation (again, **this will take a few seconds to run!**):"
   ]
  },
  {
   "cell_type": "code",
   "execution_count": null,
   "metadata": {},
   "outputs": [],
   "source": [
    "HTML(ani.to_html5_video())"
   ]
  },
  {
   "cell_type": "markdown",
   "metadata": {
    "deletable": false,
    "editable": false,
    "nbgrader": {
     "cell_type": "markdown",
     "checksum": "f88b67ede3d88ba47aa706b8d5737e0b",
     "grade": false,
     "grade_id": "Lab4_S2_06",
     "locked": true,
     "schema_version": 3,
     "solution": false,
     "task": false
    }
   },
   "source": [
    "The following code brings all of the plotting code together, and makes some tweaks:\n",
    "\n",
    "* adding a plot of the original function. \n",
    "* adding a text annotation showing the number of terms in the Fourier series.\n",
    "* using \"blitting\" to make the animation more efficient (in practice, this just means we need to define a function `init()` which produces a blank frame; you can read more about blitting [in the documentation](https://matplotlib.org/3.1.1/api/animation_api.html#funcanimation)).\n",
    "* slowing down the animation, with `interval=45`."
   ]
  },
  {
   "cell_type": "code",
   "execution_count": null,
   "metadata": {},
   "outputs": [],
   "source": [
    "import numpy as np\n",
    "import matplotlib.pyplot as plt\n",
    "import matplotlib.animation as animation\n",
    "\n",
    "fig, ax = plt.subplots()\n",
    "\n",
    "x_vals = np.arange(-2, 2, 0.01)\n",
    "line, = ax.plot(x_vals, f_1(x_vals))\n",
    "plt.xlabel('x')\n",
    "plt.ylabel('f(x)')\n",
    "plt.close() # this prevents the first frame being displayed as a static plot\n",
    "\n",
    "# add an annotation showing the number of terms (this will be updated in each frame)\n",
    "txt = ax.text(-2, -1, 'terms: 1')\n",
    "\n",
    "# add a plot of the original function\n",
    "x_vals_for_f = np.arange(-1, 1, 0.01)\n",
    "f_num = sym.lambdify(x, f, 'numpy')\n",
    "ax.plot(x_vals_for_f, f_num(x_vals_for_f))\n",
    "\n",
    "# define the background of each frame - a \"blank slate\"\n",
    "def init():\n",
    "    line.set_ydata([np.nan] * len(x_vals))\n",
    "    return line,\n",
    "\n",
    "def animate(i):\n",
    "    f_i = sym.lambdify(x, approx_fourier(f, 1, i), 'numpy')\n",
    "    line.set_ydata(f_i(x_vals))  # update the data.\n",
    "    txt.set_text('terms: '+str(i)) # update the annotation\n",
    "    return line, txt  # return all the updated elements\n",
    "\n",
    "ani = animation.FuncAnimation(\n",
    "    fig, animate, frames=np.arange(1,50), init_func=init, interval=45, blit=True)"
   ]
  },
  {
   "cell_type": "code",
   "execution_count": null,
   "metadata": {
    "deletable": false,
    "editable": false,
    "nbgrader": {
     "cell_type": "code",
     "checksum": "cd9331a42ca022b3287f8e72bf9277b1",
     "grade": true,
     "grade_id": "Lab4_S2_suppress_ani3",
     "locked": true,
     "points": 0,
     "schema_version": 3,
     "solution": false,
     "task": false
    }
   },
   "outputs": [],
   "source": [
    "# The code in this hidden cell will prevent the autograder having to produce the animations"
   ]
  },
  {
   "cell_type": "code",
   "execution_count": null,
   "metadata": {},
   "outputs": [],
   "source": [
    "from IPython.display import HTML\n",
    "HTML(ani.to_jshtml())"
   ]
  },
  {
   "cell_type": "markdown",
   "metadata": {
    "deletable": false,
    "editable": false,
    "nbgrader": {
     "cell_type": "markdown",
     "checksum": "83ea0b3e66191899e21d0544c95aa93d",
     "grade": false,
     "grade_id": "Lab4_S2_E1",
     "locked": true,
     "schema_version": 3,
     "solution": false,
     "task": false
    }
   },
   "source": [
    "<div class=\"alert alert-info\">\n",
    "    <h3>Exercise 2.1</h3>\n",
    "\n",
    "Produce a similar animation showing the convergence of the Fourier series for\n",
    "$$f(x)=\\begin{cases}x^2-x^3 & 0\\leq x<1, \\\\ -x^2+x^3 & -1\\leq x < 0,\\end{cases}$$\n",
    "defined on $[-1,1)$ and extended to be periodic.\n",
    "</div>\n",
    "\n",
    "_Note:_ The example above has 50 frames - you'll likely find that's far too many for this problem, as it will be very slow to run the code. Try doing it with 10 frames, which at least gives the idea of what's going on."
   ]
  },
  {
   "cell_type": "code",
   "execution_count": null,
   "metadata": {
    "deletable": false,
    "nbgrader": {
     "cell_type": "code",
     "checksum": "28730e7902fb5932c916bd2c3af8606e",
     "grade": false,
     "grade_id": "Lab4_S2_E1_answer",
     "locked": false,
     "schema_version": 3,
     "solution": true,
     "task": false
    }
   },
   "outputs": [],
   "source": [
    "# Standard setup\n",
    "import numpy as np\n",
    "import matplotlib.pyplot as plt\n",
    "import matplotlib.animation as animation\n",
    "\n",
    "# Use the name f for the function definition\n",
    "\n",
    "# YOUR CODE HERE\n",
    "raise NotImplementedError()"
   ]
  },
  {
   "cell_type": "code",
   "execution_count": null,
   "metadata": {
    "deletable": false,
    "editable": false,
    "nbgrader": {
     "cell_type": "code",
     "checksum": "b1c2a707dc060baaa61f9a1dd56fe91f",
     "grade": true,
     "grade_id": "Lab4_S2_E1_test",
     "locked": true,
     "points": 1,
     "schema_version": 3,
     "solution": false,
     "task": false
    }
   },
   "outputs": [],
   "source": [
    "# Autograder Test: definition of f (1 mark)\n",
    "\n",
    "assert isinstance(f, sym.Piecewise)\n",
    "print(\" ✔ f definition is of the correct type\")\n",
    "# Hidden tests  (1 mark)"
   ]
  },
  {
   "cell_type": "code",
   "execution_count": null,
   "metadata": {
    "deletable": false,
    "nbgrader": {
     "cell_type": "code",
     "checksum": "f661f8ee6dee737b522b2630e69a165b",
     "grade": false,
     "grade_id": "Lab4_S2_E1_plot",
     "locked": false,
     "schema_version": 3,
     "solution": true,
     "task": false
    }
   },
   "outputs": [],
   "source": [
    "# YOUR CODE HERE\n",
    "raise NotImplementedError()"
   ]
  },
  {
   "cell_type": "markdown",
   "metadata": {
    "deletable": false,
    "editable": false,
    "nbgrader": {
     "cell_type": "markdown",
     "checksum": "ec8011b92e3cd7247f00e4b635cc4971",
     "grade": false,
     "grade_id": "Lab4_S3_title",
     "locked": true,
     "schema_version": 3,
     "solution": false,
     "task": false
    }
   },
   "source": [
    "## 3. Solving PDEs"
   ]
  },
  {
   "cell_type": "markdown",
   "metadata": {
    "deletable": false,
    "editable": false,
    "nbgrader": {
     "cell_type": "markdown",
     "checksum": "527ea46be5feee505cffb6f14100853b",
     "grade": false,
     "grade_id": "Lab4_S3_01",
     "locked": true,
     "schema_version": 3,
     "solution": false,
     "task": false
    }
   },
   "source": [
    "Recall from Boyce & DiPrima (p504 in the ebook) that the solution of the wave equation $a^2u_{xx}=u_{tt}$ describing the motion of a string of length $L$ with fixed ends given by the boundary conditions $$u(0,t)=0, \\quad u(L,t)=0$$ and nonzero initial displacement given by $$u(x,0)=f(x), \\quad u_t(x,0)=0$$ is given by\n",
    "\n",
    "$$u(x,t)=\\sum_{n=1}^\\infty c_nu_n(x,t)=\\sum_{n=1}^\\infty c_n\\sin\\frac{n\\pi x}{L}\\cos\\frac{n\\pi at}{L}$$\n",
    "\n",
    "where\n",
    "\n",
    "$$c_n=\\frac{2}{L}\\int_{0}^{L}f(x)\\sin\\frac{n\\pi x}{L}\\,dx$$\n",
    "\n",
    "Again, we can use SymPy to do some of these calculations. We can also use our new animation skills to show the solution evolving over time."
   ]
  },
  {
   "cell_type": "markdown",
   "metadata": {
    "deletable": false,
    "editable": false,
    "nbgrader": {
     "cell_type": "markdown",
     "checksum": "1237c0a8e577dec5fc2cc9b98f8de74d",
     "grade": false,
     "grade_id": "Lab4_S3_02",
     "locked": true,
     "schema_version": 3,
     "solution": false,
     "task": false
    }
   },
   "source": [
    "---\n",
    "**Example**\n",
    "\n",
    "Problem 2 from section 10.7 of Boyce & DiPrima: \n",
    "an elastic string of length $L=20$ and with $a=1$ has fixed ends. It is set in motion with no initial velocity from the position $$u(x,0)=f(x)=\\begin{cases}2x/L & 0\\leq x \\leq L/2 \\\\ 2(L-x)/L & L/2<x\\leq L\\end{cases}$$\n",
    "\n",
    "---"
   ]
  },
  {
   "cell_type": "markdown",
   "metadata": {
    "deletable": false,
    "editable": false,
    "nbgrader": {
     "cell_type": "markdown",
     "checksum": "1c48ba7108d94cace287c23b9f36eb6c",
     "grade": false,
     "grade_id": "Lab4_S3_03",
     "locked": true,
     "schema_version": 3,
     "solution": false,
     "task": false
    }
   },
   "source": [
    "First we set up the given parameters and initial conditions, then compute the coefficients $c_n$:"
   ]
  },
  {
   "cell_type": "code",
   "execution_count": null,
   "metadata": {},
   "outputs": [],
   "source": [
    "L = 20\n",
    "a = 1\n",
    "f = sym.Piecewise((2*x/L, (x<=L/2)), (2*(L-x)/L, (x>L/2)))\n",
    "\n",
    "cn = sym.Rational(2,L)*sym.integrate(f*sym.sin(n*sym.pi*x/L), (x, 0, L))"
   ]
  },
  {
   "cell_type": "code",
   "execution_count": null,
   "metadata": {},
   "outputs": [],
   "source": [
    "cn.simplify()"
   ]
  },
  {
   "cell_type": "markdown",
   "metadata": {
    "deletable": false,
    "editable": false,
    "nbgrader": {
     "cell_type": "markdown",
     "checksum": "7d97b25922cb5f95b26b5e3b7f447a6f",
     "grade": false,
     "grade_id": "Lab4_S3_04",
     "locked": true,
     "schema_version": 3,
     "solution": false,
     "task": false
    }
   },
   "source": [
    "Now, the overall solution for $u(x,t)$ is approximated by taking just the first 10 terms of the sum:"
   ]
  },
  {
   "cell_type": "code",
   "execution_count": null,
   "metadata": {},
   "outputs": [],
   "source": [
    "t = sym.symbols('t')\n",
    "u_symbolic = sym.Sum(cn.simplify()*sym.sin(n*sym.pi*x/L)*sym.cos(n*sym.pi*a*t/L), (n,1,10))"
   ]
  },
  {
   "cell_type": "code",
   "execution_count": null,
   "metadata": {},
   "outputs": [],
   "source": [
    "u_symbolic.doit()"
   ]
  },
  {
   "cell_type": "markdown",
   "metadata": {
    "deletable": false,
    "editable": false,
    "nbgrader": {
     "cell_type": "markdown",
     "checksum": "8d984c99daf9c69cd0392b074a6869f8",
     "grade": false,
     "grade_id": "Lab4_S3_task1",
     "locked": true,
     "schema_version": 3,
     "solution": false,
     "task": false
    }
   },
   "source": [
    "We are ready to animate now, using the method from the previous section. To get a bit more detail in the animation, we introduce the idea of having multiple frames per second.\n",
    "\n",
    "<span class=\"label label-danger\">Task</span>\n",
    "In the following code, find all the instances of `fps` and make sure you understand why they are there."
   ]
  },
  {
   "cell_type": "code",
   "execution_count": null,
   "metadata": {},
   "outputs": [],
   "source": [
    "fps = 10 # number of frames per second\n",
    "\n",
    "fig, ax = plt.subplots()\n",
    "\n",
    "x_vals = np.linspace(0,L,200)\n",
    "\n",
    "u = sym.lambdify([x, t], u_symbolic, modules='numpy')\n",
    "\n",
    "# set up the initial frame\n",
    "line, = ax.plot(x_vals, u(x_vals,0), 'k-')\n",
    "plt.plot(x_vals,u(x_vals,0),'r:')\n",
    "plt.xlabel('x')\n",
    "plt.ylabel('u')\n",
    "plt.ylim(-1,1)\n",
    "plt.close()\n",
    "\n",
    "# add an annotation showing the time (this will be updated in each frame)\n",
    "txt = ax.text(0, 0.9, 't=0')\n",
    "\n",
    "def init():\n",
    "    line.set_ydata(u(x_vals,0))\n",
    "    return line,\n",
    "\n",
    "def animate(i):\n",
    "    line.set_ydata(u(x_vals,i/fps))  # update the data\n",
    "    txt.set_text('t='+str(i/fps)) # update the annotation\n",
    "    return line, txt\n",
    "\n",
    "\n",
    "ani = animation.FuncAnimation(fig, animate, np.arange(1, fps*10), init_func=init,\n",
    "                              interval=10, blit=True, repeat=False)"
   ]
  },
  {
   "cell_type": "code",
   "execution_count": null,
   "metadata": {
    "deletable": false,
    "editable": false,
    "nbgrader": {
     "cell_type": "code",
     "checksum": "bdbb7c9e6e345c881f92f160d44e6813",
     "grade": true,
     "grade_id": "Lab4_S2_suppress_ani2",
     "locked": true,
     "points": 0,
     "schema_version": 3,
     "solution": false,
     "task": false
    }
   },
   "outputs": [],
   "source": [
    "# The code in this hidden cell will prevent the autograder having to produce the animations"
   ]
  },
  {
   "cell_type": "code",
   "execution_count": null,
   "metadata": {},
   "outputs": [],
   "source": [
    "HTML(ani.to_jshtml())"
   ]
  },
  {
   "cell_type": "markdown",
   "metadata": {
    "deletable": false,
    "editable": false,
    "nbgrader": {
     "cell_type": "markdown",
     "checksum": "07681ce129a06b571207e05127136207",
     "grade": false,
     "grade_id": "Lab4_S3_task2",
     "locked": true,
     "schema_version": 3,
     "solution": false,
     "task": false
    }
   },
   "source": [
    "<span class=\"label label-danger\">Task</span>\n",
    "The problem in Boyce & DiPrima asks for the animation to run from $t=0$ to $t=40$ - update the code to make it do that, and write a few sentences describing the motion of the string."
   ]
  },
  {
   "cell_type": "markdown",
   "metadata": {
    "deletable": false,
    "nbgrader": {
     "cell_type": "markdown",
     "checksum": "f0c278d267fc2a0419fb9f0f5e05738f",
     "grade": true,
     "grade_id": "Lab4_S3_task2_ans",
     "locked": false,
     "points": 0,
     "schema_version": 3,
     "solution": true,
     "task": false
    }
   },
   "source": [
    "YOUR ANSWER HERE"
   ]
  },
  {
   "cell_type": "markdown",
   "metadata": {
    "deletable": false,
    "editable": false,
    "nbgrader": {
     "cell_type": "markdown",
     "checksum": "e304a5f895afce26e3bb91c46d02d451",
     "grade": false,
     "grade_id": "Lab4_S3_E1",
     "locked": true,
     "schema_version": 3,
     "solution": false,
     "task": false
    }
   },
   "source": [
    "<div class=\"alert alert-info\">\n",
    "    <h3>Exercise 3.1</h3>\n",
    "\n",
    "Apply a similar method to problems 1 and 3 from Boyce & DiPrima section 10.7, which have the same setup but different initial conditions:\n",
    "\n",
    "**(a)** $f(x)=\\begin{cases}4x/L & 0\\leq x \\leq L/4 \\\\ 1 & L/4< x<3L/4 \\\\ 4(L-x)/L & 3L/4\\leq x\\leq L\\end{cases}$\n",
    "\n",
    "**(b)** $f(x)=8x(L-x)^2/L^3$\n",
    "    \n",
    "</div>"
   ]
  },
  {
   "cell_type": "code",
   "execution_count": null,
   "metadata": {
    "deletable": false,
    "nbgrader": {
     "cell_type": "code",
     "checksum": "8348dce10fb301bdf0e3dee56fa31752",
     "grade": false,
     "grade_id": "Lab4_S3_E1_A",
     "locked": false,
     "schema_version": 3,
     "solution": true,
     "task": false
    }
   },
   "outputs": [],
   "source": [
    "# Your code here for (a)\n",
    "\n",
    "# YOUR CODE HERE\n",
    "raise NotImplementedError()"
   ]
  },
  {
   "cell_type": "code",
   "execution_count": null,
   "metadata": {},
   "outputs": [],
   "source": [
    "HTML(ani.to_jshtml())"
   ]
  },
  {
   "cell_type": "code",
   "execution_count": null,
   "metadata": {
    "deletable": false,
    "nbgrader": {
     "cell_type": "code",
     "checksum": "24797921a8f53533f059598c8ecb650e",
     "grade": false,
     "grade_id": "Lab4_S3_E1_B",
     "locked": false,
     "schema_version": 3,
     "solution": true,
     "task": false
    }
   },
   "outputs": [],
   "source": [
    "# Your code here for (b) \n",
    "\n",
    "# YOUR CODE HERE\n",
    "raise NotImplementedError()"
   ]
  },
  {
   "cell_type": "code",
   "execution_count": null,
   "metadata": {},
   "outputs": [],
   "source": [
    "HTML(ani.to_jshtml())"
   ]
  },
  {
   "cell_type": "code",
   "execution_count": null,
   "metadata": {},
   "outputs": [],
   "source": []
  }
 ],
 "metadata": {
  "kernelspec": {
   "display_name": "Python 3",
   "language": "python",
   "name": "python3"
  },
  "language_info": {
   "codemirror_mode": {
    "name": "ipython",
    "version": 3
   },
   "file_extension": ".py",
   "mimetype": "text/x-python",
   "name": "python",
   "nbconvert_exporter": "python",
   "pygments_lexer": "ipython3",
   "version": "3.8.3"
  }
 },
 "nbformat": 4,
 "nbformat_minor": 2
}
