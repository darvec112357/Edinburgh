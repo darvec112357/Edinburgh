{
 "cells": [
  {
   "cell_type": "markdown",
   "metadata": {},
   "source": [
    "# Lab Assignment 2\n",
    "\n"
   ]
  },
  {
   "cell_type": "markdown",
   "metadata": {},
   "source": [
    "### Liu Rongxing, s1810054"
   ]
  },
  {
   "cell_type": "markdown",
   "metadata": {},
   "source": [
    "## Presentation and coding style (3 marks)\n",
    "\n",
    "In this assignment, some marks are allocated to your coding style and presentation. Try to make your code more readable using the tips given in your computer lab 2. Make sure your figures have good quality, right size, good range and proper labels."
   ]
  },
  {
   "cell_type": "markdown",
   "metadata": {},
   "source": [
    "## Task 1 (4 marks)\n",
    "\n",
    "In this task we try to use several method from Lab 2 to solve the initial value problem \n",
    "\n",
    "\\begin{equation}\n",
    "y' = 3y-4t, \\quad y(0)=1,\n",
    "\\end{equation}\n",
    "\n",
    "Set the step size to $h = 0.05$ and numerically solve this ODE from $t=0$ to $0.5$ using the following methods:\n",
    "\n",
    "- Forward Euler \n",
    "\n",
    "- Adams–Bashforth order 2\n",
    "\n",
    "- Adams–Bashforth order 3 (we did not code this method in the computer lab, but you can find the formula on [this wikipedia page](https://en.wikipedia.org/wiki/Linear_multistep_method)). For this method, you need to build the very first two steps using other methods. For the first step, use the Euler scheme. For the second step, use Adams–Bashforth order 2. \n",
    "\n",
    "\n",
    "Plot the three different approximations, and display the values in a table."
   ]
  },
  {
   "cell_type": "code",
   "execution_count": 12,
   "metadata": {},
   "outputs": [],
   "source": [
    "# Import packages\n",
    "import math\n",
    "import numpy as np\n",
    "import matplotlib.pyplot as plt\n"
   ]
  },
  {
   "cell_type": "code",
   "execution_count": 36,
   "metadata": {},
   "outputs": [],
   "source": [
    "#  defining the function in the RHS of the ODE given in the question\n",
    "\n",
    "def timesteps(start, stop, h):\n",
    "    num_steps = math.ceil((stop - start)/h)\n",
    "    return np.linspace(start, start+num_steps*h, num_steps+1)\n",
    "\n",
    "# Euler scheme\n",
    "def ode_Euler(func, times, y0):\n",
    "    '''\n",
    "    integrates the system of y' = func(y, t) using forward Euler method\n",
    "    for the time steps in times and given initial condition y0\n",
    "    ----------------------------------------------------------\n",
    "    inputs:\n",
    "        func: the RHS function in the system of ODE\n",
    "        times: the points in time (or the span of independent variable in ODE)\n",
    "        y0: initial condition (make sure the dimension of y0 and func are the same)\n",
    "    output:\n",
    "        y: the solution of ODE. \n",
    "        Each row in the solution array y corresponds to a value returned in column vector t\n",
    "    '''\n",
    "    # guess why I put these two lines here?\n",
    "    times = np.array(times)\n",
    "    y0 = np.array(y0)\n",
    "    n = y0.size       # the dimension of ODE \n",
    "    nT = times.size   # the number of time steps \n",
    "    y = np.zeros([nT,n])\n",
    "    y[0, :] = y0\n",
    "    # loop for timesteps\n",
    "    for k in range(nT-1):\n",
    "        y[k+1, :] = y[k, :] + (times[k+1]-times[k])*func(y[k, :], times[k])\n",
    "    return y\n",
    "\n",
    "# Adams-Bashforth 2 (here needing a fixed timestep)\n",
    "def ode_AB2(func, initialTime, finalTime, nSteps, y0):\n",
    "    y0 = np.array(y0)\n",
    "    n = y0.size       # the dimension of ODE \n",
    "    dt = (finalTime - initialTime)/nSteps\n",
    "    times = np.linspace(initialTime, finalTime, nSteps + 1)\n",
    "    y = np.zeros([nSteps + 1, n])\n",
    "    y[0,:] = y0\n",
    "    # First step using Euler\n",
    "    y[1,:] = y[0,:] + dt*func(y[0, :], times[0])\n",
    "    # Other steps\n",
    "    for k in range(1, nSteps):\n",
    "        y[k+1,:] = y[k,:] + (1.5*func(y[k, :], times[k])-0.5*func(y[k-1, :], times[k-1]))*dt\n",
    "       \n",
    "    return y, times    \n",
    "\n",
    "def ode_AB3(func,initialTime,finalTime,nSteps,y0):\n",
    "    y0 = np.array(y0)\n",
    "    n = y0.size       # the dimension of ODE \n",
    "    dt = (finalTime - initialTime)/nSteps\n",
    "    times = np.linspace(initialTime, finalTime, nSteps + 1)\n",
    "    y = np.zeros([nSteps + 1, n])\n",
    "    y[0,:] = y0\n",
    "    # First step using Euler\n",
    "    y[1,:] = y[0,:] + dt*func(y[0, :], times[0])\n",
    "    #Second Step using AB2\n",
    "    y[2,:]=y[1,:]+(1.5*func(y[1, :], times[1])-0.5*func(y[0, :], times[0]))*dt\n",
    "    #Other steps\n",
    "    for k in range (2,nSteps):\n",
    "        y[k+1,:]=y[k,:]+((23/12)*func(y[k,:],times[k])-(16/12)*func(y[k-1,:],times[k-1])+(5/12)*func(y[k-2,:],times[k-2]))*dt\n",
    "    return y,times"
   ]
  },
  {
   "cell_type": "code",
   "execution_count": 37,
   "metadata": {},
   "outputs": [
    {
     "data": {
      "text/plain": [
       "<matplotlib.axes._subplots.AxesSubplot at 0x28adcb1a9a0>"
      ]
     },
     "execution_count": 37,
     "metadata": {},
     "output_type": "execute_result"
    },
    {
     "data": {
      "image/png": "[encoded data removed]",
      "text/plain": [
       "<Figure size 432x288 with 1 Axes>"
      ]
     },
     "metadata": {
      "needs_background": "light"
     },
     "output_type": "display_data"
    }
   ],
   "source": [
    "from pandas import DataFrame\n",
    "\n",
    "def eq1(y,t):\n",
    "    return 3*y-4*t\n",
    "\n",
    "#Use timesteps to create new versions of functions\n",
    "def Euler_step(func,start,stop,h,ics):\n",
    "    times=timesteps(start,stop,h)\n",
    "    return ode_Euler(func,times,ics),times\n",
    "\n",
    "def AB2_step(func,start,stop,h,ics):\n",
    "    n=int((stop-start)/h)\n",
    "    return ode_AB2(func,start,stop,n,ics)\n",
    "\n",
    "def AB3_step(func,start,stop,h,ics):\n",
    "    n=int((stop-start)/h)\n",
    "    return ode_AB3(func,start,stop,n,ics)\n",
    "\n",
    "def produce_df(method, vectorField, start, stop, h, ics):\n",
    "    values, times = method(vectorField, start, stop, h, ics)\n",
    "    return DataFrame(data = values, index = np.round(times, 3), columns = [\"h=\"+str(h)])\n",
    "\n",
    "# plot the results\n",
    "df1=produce_df(Euler_step, eq1, 0, 0.5, 0.05, 1)\n",
    "df1=df1.set_axis(['Euler, h=0.05'],axis=1)\n",
    "df2=produce_df(AB2_step, eq1, 0, 0.5, 0.05, 1)\n",
    "df2=df2.set_axis(['AB2, h=0.05'],axis=1)\n",
    "df3=produce_df(AB3_step, eq1, 0, 0.5, 0.05, 1)\n",
    "df3=df3.set_axis(['AB3, h=0.05'],axis=1)\n",
    "df=df1.join(df2).join(df3)\n",
    "df.plot()"
   ]
  },
  {
   "cell_type": "code",
   "execution_count": 34,
   "metadata": {},
   "outputs": [
    {
     "data": {
      "text/html": [
       "<div>\n",
       "<style scoped>\n",
       "    .dataframe tbody tr th:only-of-type {\n",
       "        vertical-align: middle;\n",
       "    }\n",
       "\n",
       "    .dataframe tbody tr th {\n",
       "        vertical-align: top;\n",
       "    }\n",
       "\n",
       "    .dataframe thead th {\n",
       "        text-align: right;\n",
       "    }\n",
       "</style>\n",
       "<table border=\"1\" class=\"dataframe\">\n",
       "  <thead>\n",
       "    <tr style=\"text-align: right;\">\n",
       "      <th></th>\n",
       "      <th>Euler, h=0.05</th>\n",
       "      <th>AB2, h=0.05</th>\n",
       "      <th>AB3, h=0.05</th>\n",
       "    </tr>\n",
       "  </thead>\n",
       "  <tbody>\n",
       "    <tr>\n",
       "      <th>0.00</th>\n",
       "      <td>1.000000</td>\n",
       "      <td>1.000000</td>\n",
       "      <td>1.000000</td>\n",
       "    </tr>\n",
       "    <tr>\n",
       "      <th>0.05</th>\n",
       "      <td>1.150000</td>\n",
       "      <td>1.150000</td>\n",
       "      <td>1.150000</td>\n",
       "    </tr>\n",
       "    <tr>\n",
       "      <th>0.10</th>\n",
       "      <td>1.312500</td>\n",
       "      <td>1.318750</td>\n",
       "      <td>1.318750</td>\n",
       "    </tr>\n",
       "    <tr>\n",
       "      <th>0.15</th>\n",
       "      <td>1.489375</td>\n",
       "      <td>1.504219</td>\n",
       "      <td>1.593389</td>\n",
       "    </tr>\n",
       "    <tr>\n",
       "      <th>0.20</th>\n",
       "      <td>1.682781</td>\n",
       "      <td>1.708762</td>\n",
       "      <td>1.921074</td>\n",
       "    </tr>\n",
       "    <tr>\n",
       "      <th>0.25</th>\n",
       "      <td>1.895198</td>\n",
       "      <td>1.935417</td>\n",
       "      <td>2.306885</td>\n",
       "    </tr>\n",
       "    <tr>\n",
       "      <th>0.30</th>\n",
       "      <td>2.129478</td>\n",
       "      <td>2.187728</td>\n",
       "      <td>2.766962</td>\n",
       "    </tr>\n",
       "    <tr>\n",
       "      <th>0.35</th>\n",
       "      <td>2.388900</td>\n",
       "      <td>2.469811</td>\n",
       "      <td>3.319079</td>\n",
       "    </tr>\n",
       "    <tr>\n",
       "      <th>0.40</th>\n",
       "      <td>2.677235</td>\n",
       "      <td>2.786439</td>\n",
       "      <td>3.984670</td>\n",
       "    </tr>\n",
       "    <tr>\n",
       "      <th>0.45</th>\n",
       "      <td>2.998820</td>\n",
       "      <td>3.143152</td>\n",
       "      <td>4.790238</td>\n",
       "    </tr>\n",
       "    <tr>\n",
       "      <th>0.50</th>\n",
       "      <td>3.358643</td>\n",
       "      <td>3.546378</td>\n",
       "      <td>5.768498</td>\n",
       "    </tr>\n",
       "  </tbody>\n",
       "</table>\n",
       "</div>"
      ],
      "text/plain": [
       "      Euler, h=0.05  AB2, h=0.05  AB3, h=0.05\n",
       "0.00       1.000000     1.000000     1.000000\n",
       "0.05       1.150000     1.150000     1.150000\n",
       "0.10       1.312500     1.318750     1.318750\n",
       "0.15       1.489375     1.504219     1.593389\n",
       "0.20       1.682781     1.708762     1.921074\n",
       "0.25       1.895198     1.935417     2.306885\n",
       "0.30       2.129478     2.187728     2.766962\n",
       "0.35       2.388900     2.469811     3.319079\n",
       "0.40       2.677235     2.786439     3.984670\n",
       "0.45       2.998820     3.143152     4.790238\n",
       "0.50       3.358643     3.546378     5.768498"
      ]
     },
     "execution_count": 34,
     "metadata": {},
     "output_type": "execute_result"
    }
   ],
   "source": [
    "# printing the solution in a table\n",
    "df"
   ]
  },
  {
   "cell_type": "markdown",
   "metadata": {},
   "source": [
    "## Task 2 (3 marks)\n",
    "\n",
    "Use `SymPy` to solve the differential equation $y' = 3y-4t$, with $y(0)=1$, present the analytical solution, and check the exact value of $y(0.5)$.\n",
    "\n",
    "Compare the result with the approximations from the three methods in Task 1. You may use a table to show the results of each method at $y(0.5)$. Which method is the most/least accurate? Why?"
   ]
  },
  {
   "cell_type": "code",
   "execution_count": 9,
   "metadata": {},
   "outputs": [],
   "source": [
    "# standard setup\n",
    "import sympy as sym\n",
    "sym.init_printing()\n",
    "from IPython.display import display_latex\n",
    "import sympy.plotting as sym_plot"
   ]
  },
  {
   "cell_type": "code",
   "execution_count": 10,
   "metadata": {},
   "outputs": [
    {
     "data": {
      "text/latex": [
       "$\\displaystyle y{\\left(t \\right)} = \\left(\\frac{4 \\left(3 t + 1\\right) e^{- 3 t}}{9} + \\frac{5}{9}\\right) e^{3 t}$"
      ]
     },
     "metadata": {},
     "output_type": "display_data"
    }
   ],
   "source": [
    "#Write you answer here!\n",
    "t = sym.symbols('t')\n",
    "y = sym.Function('y')\n",
    "eq1 = sym.Eq(y(t).diff(t)-3*y(t),-4*t)\n",
    "eq1sol = sym.dsolve(eq1, y(t),ics={y(0):1})\n",
    "display_latex(eq1sol)"
   ]
  },
  {
   "cell_type": "code",
   "execution_count": 38,
   "metadata": {},
   "outputs": [
    {
     "data": {
      "text/html": [
       "<div>\n",
       "<style scoped>\n",
       "    .dataframe tbody tr th:only-of-type {\n",
       "        vertical-align: middle;\n",
       "    }\n",
       "\n",
       "    .dataframe tbody tr th {\n",
       "        vertical-align: top;\n",
       "    }\n",
       "\n",
       "    .dataframe thead th {\n",
       "        text-align: right;\n",
       "    }\n",
       "</style>\n",
       "<table border=\"1\" class=\"dataframe\">\n",
       "  <thead>\n",
       "    <tr style=\"text-align: right;\">\n",
       "      <th></th>\n",
       "      <th>Euler, h=0.05</th>\n",
       "      <th>AB2, h=0.05</th>\n",
       "      <th>AB3, h=0.05</th>\n",
       "      <th>Exact</th>\n",
       "    </tr>\n",
       "  </thead>\n",
       "  <tbody>\n",
       "    <tr>\n",
       "      <th>0.00</th>\n",
       "      <td>1.000000</td>\n",
       "      <td>1.000000</td>\n",
       "      <td>1.000000</td>\n",
       "      <td>1.000000</td>\n",
       "    </tr>\n",
       "    <tr>\n",
       "      <th>0.05</th>\n",
       "      <td>1.150000</td>\n",
       "      <td>1.150000</td>\n",
       "      <td>1.150000</td>\n",
       "      <td>1.156575</td>\n",
       "    </tr>\n",
       "    <tr>\n",
       "      <th>0.10</th>\n",
       "      <td>1.312500</td>\n",
       "      <td>1.318750</td>\n",
       "      <td>1.318750</td>\n",
       "      <td>1.327699</td>\n",
       "    </tr>\n",
       "    <tr>\n",
       "      <th>0.15</th>\n",
       "      <td>1.489375</td>\n",
       "      <td>1.504219</td>\n",
       "      <td>1.505391</td>\n",
       "      <td>1.515729</td>\n",
       "    </tr>\n",
       "    <tr>\n",
       "      <th>0.20</th>\n",
       "      <td>1.682781</td>\n",
       "      <td>1.708762</td>\n",
       "      <td>1.711315</td>\n",
       "      <td>1.723399</td>\n",
       "    </tr>\n",
       "    <tr>\n",
       "      <th>0.25</th>\n",
       "      <td>1.895198</td>\n",
       "      <td>1.935417</td>\n",
       "      <td>1.939662</td>\n",
       "      <td>1.953889</td>\n",
       "    </tr>\n",
       "    <tr>\n",
       "      <th>0.30</th>\n",
       "      <td>2.129478</td>\n",
       "      <td>2.187728</td>\n",
       "      <td>2.194139</td>\n",
       "      <td>2.210891</td>\n",
       "    </tr>\n",
       "    <tr>\n",
       "      <th>0.35</th>\n",
       "      <td>2.388900</td>\n",
       "      <td>2.469811</td>\n",
       "      <td>2.478979</td>\n",
       "      <td>2.498695</td>\n",
       "    </tr>\n",
       "    <tr>\n",
       "      <th>0.40</th>\n",
       "      <td>2.677235</td>\n",
       "      <td>2.786439</td>\n",
       "      <td>2.799086</td>\n",
       "      <td>2.822287</td>\n",
       "    </tr>\n",
       "    <tr>\n",
       "      <th>0.45</th>\n",
       "      <td>2.998820</td>\n",
       "      <td>3.143152</td>\n",
       "      <td>3.160162</td>\n",
       "      <td>3.187459</td>\n",
       "    </tr>\n",
       "    <tr>\n",
       "      <th>0.50</th>\n",
       "      <td>3.358643</td>\n",
       "      <td>3.546378</td>\n",
       "      <td>3.568827</td>\n",
       "      <td>3.600938</td>\n",
       "    </tr>\n",
       "  </tbody>\n",
       "</table>\n",
       "</div>"
      ],
      "text/plain": [
       "      Euler, h=0.05  AB2, h=0.05  AB3, h=0.05     Exact\n",
       "0.00       1.000000     1.000000     1.000000  1.000000\n",
       "0.05       1.150000     1.150000     1.150000  1.156575\n",
       "0.10       1.312500     1.318750     1.318750  1.327699\n",
       "0.15       1.489375     1.504219     1.505391  1.515729\n",
       "0.20       1.682781     1.708762     1.711315  1.723399\n",
       "0.25       1.895198     1.935417     1.939662  1.953889\n",
       "0.30       2.129478     2.187728     2.194139  2.210891\n",
       "0.35       2.388900     2.469811     2.478979  2.498695\n",
       "0.40       2.677235     2.786439     2.799086  2.822287\n",
       "0.45       2.998820     3.143152     3.160162  3.187459\n",
       "0.50       3.358643     3.546378     3.568827  3.600938"
      ]
     },
     "execution_count": 38,
     "metadata": {},
     "output_type": "execute_result"
    }
   ],
   "source": [
    "def eq2(tt):\n",
    "    return (12*tt+4)/9+5*(np.exp(3*tt))/9\n",
    "\n",
    "t=timesteps(0,0.5,0.05)\n",
    "exact=eq2(t)\n",
    "df4=DataFrame(data=exact,index = np.round(t, 3),columns=['Exact'])\n",
    "df=df.join(df4)\n",
    "df"
   ]
  },
  {
   "cell_type": "markdown",
   "metadata": {},
   "source": [
    "From the table, **Adams–Bashforth order 3** gives the most accurate result while **Euler's method** (which is **Adams–Bashforth order 1**) gives the least accurate result. This is because from question 3c in week 3's workshop, higher order numerical method can be derived by Taylor Expansion of $x(t_{n+1})=x(t_n+h)$ with local error proportional to $h^{N+1}$. Given that $h$ is sufficiently small, higher order will lead to smaller error."
   ]
  },
  {
   "cell_type": "code",
   "execution_count": null,
   "metadata": {},
   "outputs": [],
   "source": []
  },
  {
   "cell_type": "code",
   "execution_count": null,
   "metadata": {},
   "outputs": [],
   "source": []
  }
 ],
 "metadata": {
  "kernelspec": {
   "display_name": "Python 3",
   "language": "python",
   "name": "python3"
  },
  "language_info": {
   "codemirror_mode": {
    "name": "ipython",
    "version": 3
   },
   "file_extension": ".py",
   "mimetype": "text/x-python",
   "name": "python",
   "nbconvert_exporter": "python",
   "pygments_lexer": "ipython3",
   "version": "3.8.3"
  }
 },
 "nbformat": 4,
 "nbformat_minor": 2
}
