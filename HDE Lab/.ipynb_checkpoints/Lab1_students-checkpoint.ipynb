{
 "cells": [
  {
   "cell_type": "markdown",
   "metadata": {
    "deletable": false,
    "editable": false,
    "nbgrader": {
     "cell_type": "markdown",
     "checksum": "cedba7e2fc35481c4040d07a3e740fcf",
     "grade": false,
     "grade_id": "Lab1_title",
     "locked": true,
     "schema_version": 3,
     "solution": false,
     "task": false
    }
   },
   "source": [
    "# Lab 1: Python and differential equations\n",
    "\n",
    "In this notebook we will use Python to solve some differential equations, and to visualise the solutions. We will build on this work in later labs to do more sophisticated analyses, and to consider more complicated differential equations.\n",
    "\n",
    "For now, we will see how to use Python in 4 ways:\n",
    "\n",
    "|                Method of solution: | Symbolic | Numerical |\n",
    "|-----------------------------------:|----------|-----------|\n",
    "| First order ODEs                   |    §1    |     §3    |\n",
    "| Systems of first order ODEs        |    §2    |     §4    |\n",
    "\n",
    "### How to use this notebook\n",
    "The notebook is made up of various \"cells\" which either contain Python code or formatted text.\n",
    "\n",
    "To execute the code blocks, click on them and press <kbd>>| Run</kbd> on the toolbar above, or type <kbd>Shift</kbd>+<kbd>Enter</kbd>.\n",
    "\n",
    "[Further help on editing notebooks](https://nbviewer.jupyter.org/github/jupyter/notebook/blob/master/docs/source/examples/Notebook/Notebook%20Basics.ipynb#Overview-of-the-Notebook-UI)"
   ]
  },
  {
   "cell_type": "markdown",
   "metadata": {
    "deletable": false,
    "editable": false,
    "nbgrader": {
     "cell_type": "markdown",
     "checksum": "eb0a524976d8e99001ce45da1b3d7e89",
     "grade": false,
     "grade_id": "Lab1_S1_title",
     "locked": true,
     "schema_version": 3,
     "solution": false,
     "task": false
    }
   },
   "source": [
    "# 1. Symbolic solution of ODEs"
   ]
  },
  {
   "cell_type": "markdown",
   "metadata": {
    "deletable": false,
    "editable": false,
    "nbgrader": {
     "cell_type": "markdown",
     "checksum": "9d3aa11d7837eb19d950cc83446074e5",
     "grade": false,
     "grade_id": "Lab1_S1_01",
     "locked": true,
     "schema_version": 3,
     "solution": false,
     "task": false
    }
   },
   "source": [
    "We can use Python to find the exact symbolic solution to ODEs that we might otherwise solve by hand.\n",
    "\n",
    "To show this in action, we will solve a simple example from the textbook, of a first-order linear ODE. The following is Example 3 on p35 of Boyce and DiPrima (10th Edition).\n",
    "\n",
    "***\n",
    "### Example\n",
    "Find the general solution of the first-order differential equation $$\\frac{dy}{dt}-2y=4-t$$ and plot the graphs of several solutions.\n",
    "***"
   ]
  },
  {
   "cell_type": "markdown",
   "metadata": {
    "deletable": false,
    "editable": false,
    "nbgrader": {
     "cell_type": "markdown",
     "checksum": "e952672d2c5a053763e97c008047baf1",
     "grade": false,
     "grade_id": "Lab1_S1_02",
     "locked": true,
     "schema_version": 3,
     "solution": false,
     "task": false
    }
   },
   "source": [
    "We will use the [SymPy package](https://www.sympy.org/en/index.html) to do the calculations. The first step is to solve the equation -- we do that in the following block of code. Read the code carefully and see if you can make sense of it, then see below for a detailed walk through the code."
   ]
  },
  {
   "cell_type": "code",
   "execution_count": null,
   "metadata": {},
   "outputs": [],
   "source": [
    "import sympy as sym\n",
    "sym.init_printing()\n",
    "from IPython.display import display_latex\n",
    "\n",
    "# Define the equation\n",
    "t = sym.symbols('t')\n",
    "y = sym.Function('y')\n",
    "eq1 = sym.Eq(y(t).diff(t)-2*y(t), 4-t)\n",
    "print(\"The equation\")\n",
    "display_latex(eq1)\n",
    "\n",
    "# Solve the equation\n",
    "eq1sol = sym.dsolve(eq1, y(t))\n",
    "print(\"has solutions\")\n",
    "display_latex(eq1sol)\n",
    "print(\"or equivalently\")\n",
    "display_latex(sym.simplify(eq1sol))"
   ]
  },
  {
   "cell_type": "markdown",
   "metadata": {
    "deletable": false,
    "editable": false,
    "nbgrader": {
     "cell_type": "markdown",
     "checksum": "116aca357f0a46c7d0adc35f52a9baff",
     "grade": false,
     "grade_id": "Lab1_S1_03",
     "locked": true,
     "schema_version": 3,
     "solution": false,
     "task": false
    }
   },
   "source": [
    "#### Detailed explanation\n",
    "\n",
    "First, we load up the package and adjust some settings so that the output prints nicely (e.g. like $x^2$ rather than `x ** 2`):"
   ]
  },
  {
   "cell_type": "code",
   "execution_count": null,
   "metadata": {},
   "outputs": [],
   "source": [
    "import sympy as sym\n",
    "sym.init_printing()\n",
    "from IPython.display import display_latex"
   ]
  },
  {
   "cell_type": "markdown",
   "metadata": {
    "deletable": false,
    "editable": false,
    "nbgrader": {
     "cell_type": "markdown",
     "checksum": "dab2b0f1de3b6fc1906be44ba01d5723",
     "grade": false,
     "grade_id": "Lab1_S1_04",
     "locked": true,
     "schema_version": 3,
     "solution": false,
     "task": false
    }
   },
   "source": [
    "Now that we have imported the SymPy package, we can make use of its functions to do things. An example of that was `sym.init_printing()` which called the [init_printing](https://docs.sympy.org/latest/tutorial/printing.html) function to set up the way output is printed.\n",
    "\n",
    "Conveniently, SymPy has the function [dsolve](https://docs.sympy.org/latest/modules/solvers/ode.html) which can be used to solve ODEs -- but first, we need to set up the ODE as an object that SymPy can understand."
   ]
  },
  {
   "cell_type": "code",
   "execution_count": null,
   "metadata": {},
   "outputs": [],
   "source": [
    "t = sym.symbols('t')\n",
    "y = sym.Function('y')\n",
    "eq1 = sym.Eq(y(t).diff(t)-2*y(t), 4-t)\n",
    "eq1"
   ]
  },
  {
   "cell_type": "markdown",
   "metadata": {
    "deletable": false,
    "editable": false,
    "nbgrader": {
     "cell_type": "markdown",
     "checksum": "97469c4d29dd53d58a77d902e5948bac",
     "grade": false,
     "grade_id": "Lab1_S1_05",
     "locked": true,
     "schema_version": 3,
     "solution": false,
     "task": false
    }
   },
   "source": [
    "There are some important things going on here:\n",
    "\n",
    "* to use variables like $x$, $y$ and $t$ with SymPy, you need to first define these as symbols (for variables like $t$) or Functions (like $y$ here, which is a function of $t$).\n",
    "\n",
    "* to write the equation, we use `sym.Eq(A,B)` to stand for $A=B$.\n",
    "\n",
    "* the derivative $\\frac{dy}{dt}$ is expressed as `y(t).diff(t)`, which you can think of as saying \"take `y(t)` and then `diff`erentiate with respect to `t`\". This is actually just a shorter way of using SymPy's `diff` function -- either way works:"
   ]
  },
  {
   "cell_type": "code",
   "execution_count": null,
   "metadata": {},
   "outputs": [],
   "source": [
    "y(t).diff(t) == sym.diff(y(t), t)"
   ]
  },
  {
   "cell_type": "markdown",
   "metadata": {
    "deletable": false,
    "editable": false,
    "nbgrader": {
     "cell_type": "markdown",
     "checksum": "d71b30cbba8c3adb35fba45690b668e4",
     "grade": false,
     "grade_id": "Lab1_S1_06",
     "locked": true,
     "schema_version": 3,
     "solution": false,
     "task": false
    }
   },
   "source": [
    "We're now ready to use `dsolve`:"
   ]
  },
  {
   "cell_type": "code",
   "execution_count": null,
   "metadata": {},
   "outputs": [],
   "source": [
    "eq1sol = sym.dsolve(eq1, y(t))\n",
    "eq1sol"
   ]
  },
  {
   "cell_type": "markdown",
   "metadata": {
    "deletable": false,
    "editable": false,
    "nbgrader": {
     "cell_type": "markdown",
     "checksum": "b1bb7a7bf6c8cda1834d055e9baaea5e",
     "grade": false,
     "grade_id": "Lab1_S1_07",
     "locked": true,
     "schema_version": 3,
     "solution": false,
     "task": false
    }
   },
   "source": [
    "This does not quite look like the solution shown in Boyce & DiPrima, but that's only because the solution has been factorised in a strange way. We can use SymPy's [simplify](https://docs.sympy.org/latest/tutorial/simplification.html) function to sort this out:"
   ]
  },
  {
   "cell_type": "code",
   "execution_count": null,
   "metadata": {},
   "outputs": [],
   "source": [
    "sym.simplify(eq1sol)"
   ]
  },
  {
   "cell_type": "markdown",
   "metadata": {
    "deletable": false,
    "editable": false,
    "nbgrader": {
     "cell_type": "markdown",
     "checksum": "fc2e7eeb004a127b9c80e0380bf6ec39",
     "grade": false,
     "grade_id": "Lab1_S1_08",
     "locked": true,
     "schema_version": 3,
     "solution": false,
     "task": false
    }
   },
   "source": [
    "This looks more like it.\n",
    "\n",
    "### Plotting solutions\n",
    "\n",
    "Now, we plot one possible solution, with the initial condition $y(0)=0$:"
   ]
  },
  {
   "cell_type": "code",
   "execution_count": null,
   "metadata": {},
   "outputs": [],
   "source": [
    "import sympy.plotting as sym_plot\n",
    "eq1sol0 = sym.dsolve(eq1, y(t), ics={y(0):0})\n",
    "display_latex(sym.simplify(eq1sol0))\n",
    "sym_plot.plot(eq1sol0.rhs, (t,0,2), xlabel = 't', ylabel = 'y')"
   ]
  },
  {
   "cell_type": "markdown",
   "metadata": {
    "deletable": false,
    "editable": false,
    "nbgrader": {
     "cell_type": "markdown",
     "checksum": "34612fbd22e02769b64b944af15440cd",
     "grade": false,
     "grade_id": "Lab1_S1_task1",
     "locked": true,
     "schema_version": 3,
     "solution": false,
     "task": false
    }
   },
   "source": [
    "<span class=\"label label-danger\">Task</span>\n",
    "Copy the plotting code into the box below, and modify it to produce a plot of the solution with $y(0)=-1$."
   ]
  },
  {
   "cell_type": "code",
   "execution_count": null,
   "metadata": {
    "deletable": false,
    "nbgrader": {
     "cell_type": "code",
     "checksum": "94071630cb3758da59b7a80e7979cb2d",
     "grade": false,
     "grade_id": "Lab1_S1_task1_answer",
     "locked": false,
     "schema_version": 3,
     "solution": true,
     "task": false
    }
   },
   "outputs": [],
   "source": [
    "# Your code here\n",
    "\n",
    "# YOUR CODE HERE\n",
    "raise NotImplementedError()"
   ]
  },
  {
   "cell_type": "markdown",
   "metadata": {
    "deletable": false,
    "editable": false,
    "nbgrader": {
     "cell_type": "markdown",
     "checksum": "867dff860e36b27bbea75c1ae513fd03",
     "grade": false,
     "grade_id": "Lab1_S1_09",
     "locked": true,
     "schema_version": 3,
     "solution": false,
     "task": false
    }
   },
   "source": [
    "To plot several solutions, we need to pick different choices of initial condition."
   ]
  },
  {
   "cell_type": "code",
   "execution_count": null,
   "metadata": {},
   "outputs": [],
   "source": [
    "eq1sol1 = sym.dsolve(eq1, y(t), ics={y(0):-1})\n",
    "eq1sol2 = sym.dsolve(eq1, y(t), ics={y(0):-2})\n",
    "eq1sol3 = sym.dsolve(eq1, y(t), ics={y(0):-3})\n",
    "\n",
    "sym_plot.plot(eq1sol0.rhs, eq1sol1.rhs, eq1sol2.rhs, eq1sol3.rhs, (t,0,2), xlabel = 't', ylabel = 'y')"
   ]
  },
  {
   "attachments": {
    "image.png": {
     "image/png": "[encoded data removed]"
    }
   },
   "cell_type": "markdown",
   "metadata": {
    "deletable": false,
    "editable": false,
    "nbgrader": {
     "cell_type": "markdown",
     "checksum": "0fdfa2c7d93266ff7ace0d0d5125c0bb",
     "grade": false,
     "grade_id": "Lab1_S1_task2",
     "locked": true,
     "schema_version": 3,
     "solution": false,
     "task": false
    }
   },
   "source": [
    "<span class=\"label label-danger\">Task</span>\n",
    "\n",
    "**(a)** Change the plotting region to $0\\leq t\\leq1$ to get a better look at the behaviour near $t=0$.\n",
    "\n",
    "**(b)** Add the optional argument `legend = True` to the `plot` function to show which curves are being plotted.\n",
    "\n",
    "**(c)** (Challenge) See if you can find how to give each curve a different colour, something like this:\n",
    "\n",
    "![image.png](attachment:image.png)"
   ]
  },
  {
   "cell_type": "code",
   "execution_count": null,
   "metadata": {
    "deletable": false,
    "nbgrader": {
     "cell_type": "code",
     "checksum": "b292ecdc33d8c9ad3e9ac4370de6a7a7",
     "grade": false,
     "grade_id": "Lab1_S1_task2_A",
     "locked": false,
     "schema_version": 3,
     "solution": true,
     "task": false
    }
   },
   "outputs": [],
   "source": [
    "# Your code here for (a)\n",
    "\n",
    "# YOUR CODE HERE\n",
    "raise NotImplementedError()"
   ]
  },
  {
   "cell_type": "code",
   "execution_count": null,
   "metadata": {
    "deletable": false,
    "nbgrader": {
     "cell_type": "code",
     "checksum": "96d3afe1d8602c83b5e43300dda23247",
     "grade": false,
     "grade_id": "Lab1_S1_task2_B",
     "locked": false,
     "schema_version": 3,
     "solution": true,
     "task": false
    }
   },
   "outputs": [],
   "source": [
    "# Your code here for (b)\n",
    "\n",
    "# YOUR CODE HERE\n",
    "raise NotImplementedError()"
   ]
  },
  {
   "cell_type": "code",
   "execution_count": null,
   "metadata": {
    "deletable": false,
    "nbgrader": {
     "cell_type": "code",
     "checksum": "af20cc7462a0aea5cac97023a8f2befa",
     "grade": false,
     "grade_id": "Lab1_S1_task2_C",
     "locked": false,
     "schema_version": 3,
     "solution": true,
     "task": false
    }
   },
   "outputs": [],
   "source": [
    "# Your code here for (c)\n",
    "\n",
    "# YOUR CODE HERE\n",
    "raise NotImplementedError()"
   ]
  },
  {
   "cell_type": "markdown",
   "metadata": {
    "deletable": false,
    "editable": false,
    "nbgrader": {
     "cell_type": "markdown",
     "checksum": "8bae6904c335b8f5c314186db6d740f0",
     "grade": false,
     "grade_id": "Lab1_S1_E1",
     "locked": true,
     "schema_version": 3,
     "solution": false,
     "task": false
    }
   },
   "source": [
    "<div class=\"alert alert-info\">\n",
    "    <h3>Exercise 1.1</h3>\n",
    "    <p>Solve the ODEs in Q1 of the Refresher problems worksheet, and plot the solutions over sensible ranges.</p>\n",
    "\n",
    "<p><span class=\"label label-primary\">a</span> $y'=(3x^2-e^x)/(2y-4)$, $y(0)=1$,\n",
    "\n",
    "<p><span class=\"label label-primary\">b</span> $y'= 4(1+x)(1+y^2)$, $y(0)=0$,\n",
    "\n",
    "<p><span class=\"label label-primary\">c</span> $y'= y(1-y)$, $y(0)=1/2$.\n",
    "\n",
    "</div>\n",
    "\n",
    "_Hints: For (a) you will need to use the line `from sympy import exp` to make the `exp` function available, and for (b) you may find it helpful to set the `ylim` of the plot._"
   ]
  },
  {
   "cell_type": "code",
   "execution_count": null,
   "metadata": {},
   "outputs": [],
   "source": [
    "# Standard setup\n",
    "import sympy as sym\n",
    "sym.init_printing()\n",
    "from IPython.display import display_latex\n",
    "import sympy.plotting as sym_plot"
   ]
  },
  {
   "cell_type": "code",
   "execution_count": null,
   "metadata": {
    "deletable": false,
    "nbgrader": {
     "cell_type": "code",
     "checksum": "43b21e84a3ebe5bb2ec2cabfc624b0d7",
     "grade": false,
     "grade_id": "Lab1_S1_E1_A",
     "locked": false,
     "schema_version": 3,
     "solution": true,
     "task": false
    }
   },
   "outputs": [],
   "source": [
    "# Your code here for (a)\n",
    "# Note: use the variable name eq1a_sol for the solution to the system\n",
    "\n",
    "\n",
    "# YOUR CODE HERE\n",
    "raise NotImplementedError()"
   ]
  },
  {
   "cell_type": "code",
   "execution_count": null,
   "metadata": {
    "deletable": false,
    "editable": false,
    "nbgrader": {
     "cell_type": "code",
     "checksum": "6b34ab871afc14a711ddb6dfc0d2e49c",
     "grade": true,
     "grade_id": "Lab1_S1_E1_A_test",
     "locked": true,
     "points": 0.5,
     "schema_version": 3,
     "solution": false,
     "task": false
    }
   },
   "outputs": [],
   "source": [
    "# Autograder tests\n",
    "\n",
    "f = sym.Lambda(x,eq1a_sol.rhs)\n",
    "assert f(0) == 1\n",
    "print(\"Success: your solution satisfies the initial condition!\")\n"
   ]
  },
  {
   "cell_type": "code",
   "execution_count": null,
   "metadata": {
    "deletable": false,
    "nbgrader": {
     "cell_type": "code",
     "checksum": "7978a8ab7de991a21c0e191756291980",
     "grade": false,
     "grade_id": "Lab1_S1_E1_B",
     "locked": false,
     "schema_version": 3,
     "solution": true,
     "task": false
    }
   },
   "outputs": [],
   "source": [
    "# Your code here for (b)\n",
    "\n",
    "# YOUR CODE HERE\n",
    "raise NotImplementedError()"
   ]
  },
  {
   "cell_type": "code",
   "execution_count": null,
   "metadata": {
    "deletable": false,
    "editable": false,
    "nbgrader": {
     "cell_type": "code",
     "checksum": "a30905019be54bbe2b0f4468741f8aaf",
     "grade": true,
     "grade_id": "Lab1_S1_E1_B_test",
     "locked": true,
     "points": 0.5,
     "schema_version": 3,
     "solution": false,
     "task": false
    }
   },
   "outputs": [],
   "source": [
    "# Autograder test\n",
    "\n",
    "f = sym.Lambda(x,eq1b_sol.rhs)\n",
    "assert f(0) == 0\n",
    "print(\"Success: your solution satisfies the initial condition!\")\n"
   ]
  },
  {
   "cell_type": "code",
   "execution_count": null,
   "metadata": {
    "deletable": false,
    "nbgrader": {
     "cell_type": "code",
     "checksum": "a8a4048237845360bb141ff86807839d",
     "grade": false,
     "grade_id": "Lab1_S1_E1_C",
     "locked": false,
     "schema_version": 3,
     "solution": true,
     "task": false
    }
   },
   "outputs": [],
   "source": [
    "# Your code here for (c)\n",
    "\n",
    "# YOUR CODE HERE\n",
    "raise NotImplementedError()"
   ]
  },
  {
   "cell_type": "code",
   "execution_count": null,
   "metadata": {
    "deletable": false,
    "editable": false,
    "nbgrader": {
     "cell_type": "code",
     "checksum": "701e9343e581911ed249ce6522ef50a4",
     "grade": true,
     "grade_id": "Lab1_S1_E1_C_test",
     "locked": true,
     "points": 0.5,
     "schema_version": 3,
     "solution": false,
     "task": false
    }
   },
   "outputs": [],
   "source": [
    "# Autograder test\n",
    "f = sym.Lambda(x,eq1c_sol.rhs)\n",
    "assert f(0) == 1/2\n",
    "print(\"Success: your solution satisfies the initial condition!\")\n"
   ]
  },
  {
   "cell_type": "markdown",
   "metadata": {
    "deletable": false,
    "editable": false,
    "nbgrader": {
     "cell_type": "markdown",
     "checksum": "aaa9755f43e1208803d20830fa555133",
     "grade": false,
     "grade_id": "Lab1_S2_title",
     "locked": true,
     "schema_version": 3,
     "solution": false,
     "task": false
    }
   },
   "source": [
    "# 2. Symbolic solution of systems\n",
    "\n",
    "\n"
   ]
  },
  {
   "cell_type": "markdown",
   "metadata": {
    "deletable": false,
    "editable": false,
    "nbgrader": {
     "cell_type": "markdown",
     "checksum": "5604a67727146d8761d5fef9ae3a7c30",
     "grade": false,
     "grade_id": "Lab1_S2_01",
     "locked": true,
     "schema_version": 3,
     "solution": false,
     "task": false
    }
   },
   "source": [
    "We would also like to be able to solve systems of equations, for instance $$\\mathbf{x}'=\\begin{pmatrix}1 & 1\\\\ 4 & 1\\end{pmatrix}\\mathbf{x},$$\n",
    "which appears as Example 2 in §7.5 of Boyce & DiPrima.\n",
    "\n",
    "SymPy can handle this with just a simple modification of the code we've been using so far, if we rewrite the matrix equation as two equations in $x_1(t)$ and $x_2(t)$, where $\\mathbf{x}(t)=\\begin{pmatrix}x_1(t) \\\\ x_2(t)\\end{pmatrix}$."
   ]
  },
  {
   "cell_type": "code",
   "execution_count": null,
   "metadata": {},
   "outputs": [],
   "source": [
    "t = sym.symbols('t')\n",
    "x1 = sym.Function('x1')\n",
    "x2 = sym.Function('x2')\n",
    "system = [sym.Eq(x1(t).diff(t), x1(t)+x2(t)),\n",
    "          sym.Eq(x2(t).diff(t), 4*x1(t)+x2(t))]\n",
    "print(\"The system\")\n",
    "display_latex(system)\n",
    "system_sol = sym.dsolve(system)\n",
    "print(\"has solution\")\n",
    "display_latex(system_sol)"
   ]
  },
  {
   "cell_type": "markdown",
   "metadata": {
    "deletable": false,
    "editable": false,
    "nbgrader": {
     "cell_type": "markdown",
     "checksum": "728736999bfd4694c70ba5783eb59432",
     "grade": false,
     "grade_id": "Lab1_S2_task1",
     "locked": true,
     "schema_version": 3,
     "solution": false,
     "task": false
    }
   },
   "source": [
    "<span class=\"label label-danger\">Task</span>\n",
    "Check that this agrees with the solution given in the book: $$\\mathbf{x}=c_1\\begin{pmatrix}1\\\\2\\end{pmatrix}e^{3t}+c_2\\begin{pmatrix}1\\\\-2\\end{pmatrix}e^{-t}$$"
   ]
  },
  {
   "cell_type": "markdown",
   "metadata": {
    "deletable": false,
    "editable": false,
    "nbgrader": {
     "cell_type": "markdown",
     "checksum": "eb7de0959abc58f3de49c538e0f5c68d",
     "grade": false,
     "grade_id": "Lab1_S2_02",
     "locked": true,
     "schema_version": 3,
     "solution": false,
     "task": false
    }
   },
   "source": [
    "It's also worth noting that SymPy can give us the eigenvalues and eigenvectors for the matrix, which gives another way to find the solution of the system:"
   ]
  },
  {
   "cell_type": "code",
   "execution_count": null,
   "metadata": {},
   "outputs": [],
   "source": [
    "M = sym.Matrix([[1,1],[4,1]])\n",
    "M.eigenvects()"
   ]
  },
  {
   "cell_type": "markdown",
   "metadata": {
    "deletable": false,
    "editable": false,
    "nbgrader": {
     "cell_type": "markdown",
     "checksum": "f5a5c237b12bcf7023793d2b8c04c33e",
     "grade": false,
     "grade_id": "Lab1_S2_task2",
     "locked": true,
     "schema_version": 3,
     "solution": false,
     "task": false
    }
   },
   "source": [
    "<span class=\"label label-danger\">Task</span>\n",
    "What does this output tell us? (You may want to [check the documentation on eigenvects()](https://docs.sympy.org/latest/tutorial/matrices.html#eigenvalues-eigenvectors-and-diagonalization)) How does this relate to the solution given in the book?"
   ]
  },
  {
   "cell_type": "markdown",
   "metadata": {
    "deletable": false,
    "editable": false,
    "nbgrader": {
     "cell_type": "markdown",
     "checksum": "a832c7948adb4c181c9fe71bba228f31",
     "grade": false,
     "grade_id": "Lab1_S2_03",
     "locked": true,
     "schema_version": 3,
     "solution": false,
     "task": false
    }
   },
   "source": [
    "To make it easier to solve 2x2 systems like this, we can define a **function** that will take in a matrix defining the system, and give us back the corresponding system of equations."
   ]
  },
  {
   "cell_type": "code",
   "execution_count": null,
   "metadata": {},
   "outputs": [],
   "source": [
    "#\n",
    "# Produce a function that takes in a 2x2 matrix,\n",
    "# and returns the system of ODEs\n",
    "#\n",
    "def lin_system(M):\n",
    "    '''\n",
    "    Given a 2x2 SymPy Matrix, return the corresponding system of equations\n",
    "    '''\n",
    "    t = sym.symbols('t')\n",
    "    x1 = sym.Function('x1')\n",
    "    x2 = sym.Function('x2')\n",
    "    system = [sym.Eq(x1(t).diff(t), M[0,0]*x1(t)+M[0,1]*x2(t)),\n",
    "            sym.Eq(x2(t).diff(t), M[1,0]*x1(t)+M[1,1]*x2(t))]\n",
    "    return(system)\n",
    "\n",
    "sym.dsolve(lin_system(sym.Matrix([[1,1],[4,1]])))"
   ]
  },
  {
   "cell_type": "markdown",
   "metadata": {
    "deletable": false,
    "editable": false,
    "nbgrader": {
     "cell_type": "markdown",
     "checksum": "4bb6fc88f0a102319fe39e001f20b9ed",
     "grade": false,
     "grade_id": "Lab1_S2_04",
     "locked": true,
     "schema_version": 3,
     "solution": false,
     "task": false
    }
   },
   "source": [
    "This gives the same result as above, as expected.\n",
    "\n",
    "Let's now use this method to investigate the systems in the Week 2 Tutorial sheet."
   ]
  },
  {
   "cell_type": "code",
   "execution_count": null,
   "metadata": {},
   "outputs": [],
   "source": [
    "# 2(a)(i)\n",
    "sym.dsolve(lin_system(sym.Matrix([[2,-1],[3,-2]])))"
   ]
  },
  {
   "cell_type": "markdown",
   "metadata": {
    "deletable": false,
    "editable": false,
    "nbgrader": {
     "cell_type": "markdown",
     "checksum": "f0ccdd28a2c3a484425cfe3e2f57a92f",
     "grade": false,
     "grade_id": "Lab1_S2_task3",
     "locked": true,
     "schema_version": 3,
     "solution": false,
     "task": false
    }
   },
   "source": [
    "<span class=\"label label-danger\">Task</span> Does this agree with what you found in the Tutorial?"
   ]
  },
  {
   "cell_type": "markdown",
   "metadata": {
    "nbgrader": {
     "grade": false,
     "grade_id": "cell-f5136e11aee8e74e",
     "locked": false,
     "schema_version": 3,
     "solution": false,
     "task": false
    }
   },
   "source": []
  },
  {
   "cell_type": "markdown",
   "metadata": {
    "deletable": false,
    "editable": false,
    "nbgrader": {
     "cell_type": "markdown",
     "checksum": "aa94dc5e16c079e6bed1b242f1edc8b4",
     "grade": false,
     "grade_id": "Lab1_S2_plotting",
     "locked": true,
     "schema_version": 3,
     "solution": false,
     "task": false
    }
   },
   "source": [
    "### Plotting solutions\n",
    "\n",
    "We can also use SymPy to plot particular solutions. Here, we specifcy some initial conditions and use the [plot_parametric](https://docs.sympy.org/latest/modules/plotting.html#sympy.plotting.plot.plot_parametric) function to plot the resulting solution for $-2\\leq t\\leq2$."
   ]
  },
  {
   "cell_type": "code",
   "execution_count": null,
   "metadata": {},
   "outputs": [],
   "source": [
    "sol_2ai = sym.dsolve(lin_system(sym.Matrix([[2,-1],[3,-2]])),\n",
    "                     ics={x1(0):0, x2(0):1})\n",
    "display_latex((sol_2ai[0].rhs, sol_2ai[1].rhs))\n",
    "import sympy.plotting as sym_plot\n",
    "sym_plot.plot_parametric(sol_2ai[0].rhs, sol_2ai[1].rhs, (t,-2,2))"
   ]
  },
  {
   "cell_type": "markdown",
   "metadata": {
    "deletable": false,
    "editable": false,
    "nbgrader": {
     "cell_type": "markdown",
     "checksum": "174838bfd4f8b3a32449b266cdcf092f",
     "grade": false,
     "grade_id": "Lab1_S2_task4",
     "locked": true,
     "schema_version": 3,
     "solution": false,
     "task": false
    }
   },
   "source": [
    "<span class=\"label label-danger\">Task</span> Try adjusting the code above so that the solution is plotted over different ranges of $t$. Can you explain what you see, based on the form of the solution?"
   ]
  },
  {
   "cell_type": "markdown",
   "metadata": {
    "deletable": false,
    "editable": false,
    "nbgrader": {
     "cell_type": "markdown",
     "checksum": "8758733664d897da6b5f28b568030dee",
     "grade": false,
     "grade_id": "Lab1_S2_E1",
     "locked": true,
     "schema_version": 3,
     "solution": false,
     "task": false
    }
   },
   "source": [
    "<div class=\"alert alert-info\">\n",
    "    <h3>Exercise 2.1</h3>\n",
    "    <p>The goal of this exercise is to solve some linear systems. But to do that efficiently, we will first create a function.</p>\n",
    "    <p><span class=\"label label-primary\">a</span> Complete the definition below of the function <code>solve_lin_system</code>. This function should take two arguments - a 2x2 matrix for a linear system, a list specifying initial conditions. It should return the particular solution associated with that system with those initial conditions. </p>\n",
    "    <p><span class=\"label label-primary\">b</span> Use your function, <code>solve_lin_system(sym.Matrix([[2,-1],[3,-2]]), [0,1])</code>, to replicate the results above and produce output like the following:</p>\n",
    "    <p><img src=\"http://www.maths.ed.ac.uk/gkinnear/img/lin_system.png\" width=\"300px\"/></p> \n",
    "    <p><span class=\"label label-primary\">c</span> Use the <code>solve_lin_system</code> function to solve these other systems from Tutorial 2, Q2(a):</p>\n",
    "\n",
    "**i.** $\\mathbf{x}'=\\begin{pmatrix}-2 & 1\\\\ 1 & -2\\end{pmatrix}\\mathbf{x}$,\n",
    "\n",
    "**ii.** $\\mathbf{x}'=\\begin{pmatrix}4 & -3\\\\ 8 & -6\\end{pmatrix}\\mathbf{x}$.\n",
    "\n",
    "   <p>Make some plots trying different initial conditions and time ranges, and make sure the output makes sense to you.</p>\n",
    "</div>"
   ]
  },
  {
   "cell_type": "code",
   "execution_count": null,
   "metadata": {
    "deletable": false,
    "nbgrader": {
     "cell_type": "code",
     "checksum": "d3554633aa1daee5e1e8275511aa1756",
     "grade": false,
     "grade_id": "Lab1_S2_E1_A",
     "locked": false,
     "schema_version": 3,
     "solution": true,
     "task": false
    }
   },
   "outputs": [],
   "source": [
    "# Your code here for (a)\n",
    "\n",
    "def solve_lin_system(M, ics):\n",
    "    '''\n",
    "    This function should take two arguments - a 2x2 matrix for a linear system\n",
    "    and a list specifying initial conditions It should return the particular\n",
    "    solution for that system with those ICs.\n",
    "    '''\n",
    "    # YOUR CODE HERE\n",
    "    raise NotImplementedError()\n",
    "\n",
    "solve_lin_system(sym.Matrix([[2,-1],[3,-2]]), [0,1])"
   ]
  },
  {
   "cell_type": "code",
   "execution_count": null,
   "metadata": {
    "deletable": false,
    "editable": false,
    "nbgrader": {
     "cell_type": "code",
     "checksum": "6de487a9c26788158e5f23812e0a8e4b",
     "grade": true,
     "grade_id": "Lab1_S2_E1_A_test",
     "locked": true,
     "points": 1.5,
     "schema_version": 3,
     "solution": false,
     "task": false
    }
   },
   "outputs": [],
   "source": [
    "# Autograder test\n",
    "sls = solve_lin_system(sym.Matrix([[2,-1],[3,-2]]), [0,1])\n",
    "psol1 = sym.Lambda(t,sls[0].rhs)\n",
    "psol2 = sym.Lambda(t,sls[1].rhs)\n",
    "assert (psol1(0), psol2(0)) == (0, 1)\n",
    "print(\"Success: the solution from your function satisfies the ICs!\")\n"
   ]
  },
  {
   "cell_type": "code",
   "execution_count": null,
   "metadata": {
    "deletable": false,
    "nbgrader": {
     "cell_type": "code",
     "checksum": "9e940e7d1e4b86e707eda5d5f577914b",
     "grade": false,
     "grade_id": "Lab1_S2_E1_B",
     "locked": false,
     "schema_version": 3,
     "solution": true,
     "task": false
    }
   },
   "outputs": [],
   "source": [
    "# Your code here for (b)\n",
    "\n",
    "# YOUR CODE HERE\n",
    "raise NotImplementedError()"
   ]
  },
  {
   "cell_type": "code",
   "execution_count": null,
   "metadata": {
    "deletable": false,
    "nbgrader": {
     "cell_type": "code",
     "checksum": "6c8dbcc6525b8d4b43e25b224999d998",
     "grade": false,
     "grade_id": "Lab1_S2_E1_C_i",
     "locked": false,
     "schema_version": 3,
     "solution": true,
     "task": false
    }
   },
   "outputs": [],
   "source": [
    "# Your code here for (c)(i)\n",
    "\n",
    "# YOUR CODE HERE\n",
    "raise NotImplementedError()"
   ]
  },
  {
   "cell_type": "code",
   "execution_count": null,
   "metadata": {
    "deletable": false,
    "nbgrader": {
     "cell_type": "code",
     "checksum": "fbe35231b6452beb7c69ea4cfefc176b",
     "grade": false,
     "grade_id": "Lab1_S2_E1_C_ii",
     "locked": false,
     "schema_version": 3,
     "solution": true,
     "task": false
    }
   },
   "outputs": [],
   "source": [
    "# Your code here for (c)(ii)\n",
    "\n",
    "# YOUR CODE HERE\n",
    "raise NotImplementedError()"
   ]
  },
  {
   "cell_type": "markdown",
   "metadata": {
    "deletable": false,
    "editable": false,
    "nbgrader": {
     "cell_type": "markdown",
     "checksum": "ae36a70ddb13abd043fbc1d940c1ad53",
     "grade": false,
     "grade_id": "Lab1_S2_05",
     "locked": true,
     "schema_version": 3,
     "solution": false,
     "task": false
    }
   },
   "source": [
    "### Challenge: simplifying complex expressions using `map`\n",
    "\n",
    "In Workshop 2, the final part of Q2(a) has a system with complex coefficients:\n",
    "\n",
    "$$\\mathbf{x}'=\\begin{pmatrix}2 & 2+i\\\\ -1 & -1-i\\end{pmatrix}\\mathbf{x}.$$\n",
    "\n",
    "To deal with complex numbers, we need to enter $i$ as `sym.I`. The solution provided by `sym.dsolve` looks surprisingly complicated!"
   ]
  },
  {
   "cell_type": "code",
   "execution_count": null,
   "metadata": {},
   "outputs": [],
   "source": [
    "M_2aiv = sym.Matrix([[2, 2+sym.I],[-1, -1-sym.I]])\n",
    "sym.dsolve(lin_system(M_2aiv))"
   ]
  },
  {
   "cell_type": "markdown",
   "metadata": {
    "deletable": false,
    "editable": false,
    "nbgrader": {
     "cell_type": "markdown",
     "checksum": "8d4964ae5b9ee69e7fdb1fc6f1bba60d",
     "grade": false,
     "grade_id": "Lab1_S2_06",
     "locked": true,
     "schema_version": 3,
     "solution": false,
     "task": false
    }
   },
   "source": [
    "This is because there are expressions involving $i$ which need to be expanded and simplified. To see how to do that, notice that in this simpler example, the first entry of `exprs` is not automatically expanded and simplified:"
   ]
  },
  {
   "cell_type": "code",
   "execution_count": null,
   "metadata": {},
   "outputs": [],
   "source": [
    "exprs = [(sym.I+3)**2, sym.I]\n",
    "exprs"
   ]
  },
  {
   "cell_type": "markdown",
   "metadata": {
    "deletable": false,
    "editable": false,
    "nbgrader": {
     "cell_type": "markdown",
     "checksum": "5a022b7b566069a740aaaddfbef00d3c",
     "grade": false,
     "grade_id": "Lab1_S2_07",
     "locked": true,
     "schema_version": 3,
     "solution": false,
     "task": false
    }
   },
   "source": [
    "We can use the `expand` function to get SymPy to expand out the brackets and simplify:"
   ]
  },
  {
   "cell_type": "code",
   "execution_count": null,
   "metadata": {},
   "outputs": [],
   "source": [
    "exprs[0].expand()"
   ]
  },
  {
   "cell_type": "markdown",
   "metadata": {
    "deletable": false,
    "editable": false,
    "nbgrader": {
     "cell_type": "markdown",
     "checksum": "2c026a95959c0ea93f0ee52f1c316e61",
     "grade": false,
     "grade_id": "Lab1_S2_08",
     "locked": true,
     "schema_version": 3,
     "solution": false,
     "task": false
    }
   },
   "source": [
    "To do this to all entries of exprs at once, we can use the `map` function:"
   ]
  },
  {
   "cell_type": "code",
   "execution_count": null,
   "metadata": {},
   "outputs": [],
   "source": [
    "list(map(sym.expand, exprs))"
   ]
  },
  {
   "cell_type": "markdown",
   "metadata": {
    "deletable": false,
    "editable": false,
    "nbgrader": {
     "cell_type": "markdown",
     "checksum": "c52dfd20220620a066285173be05c1ae",
     "grade": false,
     "grade_id": "Lab1_S2_09",
     "locked": true,
     "schema_version": 3,
     "solution": false,
     "task": false
    }
   },
   "source": [
    "This takes the `sym.expand` function and applies it to each entry in `exprs`."
   ]
  },
  {
   "cell_type": "markdown",
   "metadata": {
    "deletable": false,
    "editable": false,
    "nbgrader": {
     "cell_type": "markdown",
     "checksum": "902bfc8c363a18ff3d652379264dded9",
     "grade": false,
     "grade_id": "Lab1_S2_E2",
     "locked": true,
     "schema_version": 3,
     "solution": false,
     "task": false
    }
   },
   "source": [
    "<div class=\"alert alert-info\">\n",
    "    <h3>Exercise 2.2</h3>\n",
    "    <p>Make use of <code>map</code> to find the general solution to the system above (Q2(a)(iv) from Tutorial 2).</p>\n",
    "    <p>Compare your results with the solution you computed by hand. <i>Hint:</i> recall from above that the <code>eigenvects()</code> function can give another way to see the solutions.</p>\n",
    "</div>"
   ]
  },
  {
   "cell_type": "code",
   "execution_count": null,
   "metadata": {
    "deletable": false,
    "nbgrader": {
     "cell_type": "code",
     "checksum": "b8fc8141829df9d6d8a78a0da1cfa98b",
     "grade": false,
     "grade_id": "Lab1_S2_E2_answer",
     "locked": false,
     "schema_version": 3,
     "solution": true,
     "task": false
    }
   },
   "outputs": [],
   "source": [
    "# Your code here\n",
    "# Use the variable name sol_2aiv for the list\n",
    "\n",
    "# YOUR CODE HERE\n",
    "raise NotImplementedError()"
   ]
  },
  {
   "cell_type": "code",
   "execution_count": null,
   "metadata": {
    "deletable": false,
    "editable": false,
    "nbgrader": {
     "cell_type": "code",
     "checksum": "614f8ebb099117d3cbefe61270710866",
     "grade": true,
     "grade_id": "Lab1_S2_E2_test",
     "locked": true,
     "points": 1,
     "schema_version": 3,
     "solution": false,
     "task": false
    }
   },
   "outputs": [],
   "source": [
    "# Autograder test\n",
    "assert len(sol_2aiv) == 2\n",
    "print(\"Success: the list has the right dimensions!\")\n"
   ]
  },
  {
   "cell_type": "markdown",
   "metadata": {
    "deletable": false,
    "editable": false,
    "nbgrader": {
     "cell_type": "markdown",
     "checksum": "217538b7a548b6de6c2d49cd3976b47e",
     "grade": false,
     "grade_id": "Lab1_S3_title",
     "locked": true,
     "schema_version": 3,
     "solution": false,
     "task": false
    }
   },
   "source": [
    "# 3. Numerical solution of ODEs"
   ]
  },
  {
   "cell_type": "markdown",
   "metadata": {
    "deletable": false,
    "editable": false,
    "nbgrader": {
     "cell_type": "markdown",
     "checksum": "c35b65df906e78f5252777827035f89a",
     "grade": false,
     "grade_id": "Lab1_S3_01",
     "locked": true,
     "schema_version": 3,
     "solution": false,
     "task": false
    }
   },
   "source": [
    "Solving ODEs symbolically is not always possible, but we can use numerical methods to compute approximate solutions.\n",
    "\n",
    "We will make use of several pacakges to do this:\n",
    "\n",
    "* [SciPy](https://docs.scipy.org/doc/scipy/reference/index.html) provides numerical methods for solving ODEs, in particular the [odeint](https://docs.scipy.org/doc/scipy/reference/generated/scipy.integrate.odeint.html) function.\n",
    "\n",
    "* [NumPy](https://www.numpy.org/) provides useful tools for doing numerical calculations.\n",
    "\n",
    "* [Matplotlib](https://matplotlib.org/) is a widely-used library that produces plots from numerical data.\n",
    "\n",
    "The following chunk of code gets all of this set up:"
   ]
  },
  {
   "cell_type": "code",
   "execution_count": null,
   "metadata": {},
   "outputs": [],
   "source": [
    "import numpy as np\n",
    "import matplotlib.pyplot as plt\n",
    "from scipy.integrate import odeint\n",
    "%matplotlib notebook"
   ]
  },
  {
   "cell_type": "markdown",
   "metadata": {
    "deletable": false,
    "editable": false,
    "nbgrader": {
     "cell_type": "markdown",
     "checksum": "4d347957603629a08fc3fa86abbc6384",
     "grade": false,
     "grade_id": "Lab1_S3_02",
     "locked": true,
     "schema_version": 3,
     "solution": false,
     "task": false
    }
   },
   "source": [
    "Note that `%matplotlib notebook` makes the plots appear in an interactive window, with controls for zooming. Before moving on to the next plot, you should click the \"power\" icon in the top right of the plot, to close the interactive interface (if you don't do this, then the next plot will overwrite this one)."
   ]
  },
  {
   "cell_type": "markdown",
   "metadata": {
    "deletable": false,
    "editable": false,
    "nbgrader": {
     "cell_type": "markdown",
     "checksum": "9f738b534c7f00802e7e00e7a1197058",
     "grade": false,
     "grade_id": "Lab1_S3_03",
     "locked": true,
     "schema_version": 3,
     "solution": false,
     "task": false
    }
   },
   "source": [
    "***\n",
    "### Example\n",
    "To illustrate the method, let's return to the ODE we considered right at the start: $$\\frac{dy}{dt}-2y=4-t.$$\n",
    "***\n",
    "\n",
    "To use [odeint](https://docs.scipy.org/doc/scipy/reference/generated/scipy.integrate.odeint.html), we need to write a Python function that takes in $y$ and $t$ and returns $\\frac{dy}{dt}$. Rearranging the ODE, we have $$\\frac{dy}{dt}=4-t+2y$$ which we implement as follows:"
   ]
  },
  {
   "cell_type": "code",
   "execution_count": null,
   "metadata": {},
   "outputs": [],
   "source": [
    "def dy_dt(y, t):\n",
    "    return(4-t+2*y)"
   ]
  },
  {
   "cell_type": "markdown",
   "metadata": {
    "deletable": false,
    "editable": false,
    "nbgrader": {
     "cell_type": "markdown",
     "checksum": "a74660ff26e856edac7a758a8681b118",
     "grade": false,
     "grade_id": "Lab1_S3_04",
     "locked": true,
     "schema_version": 3,
     "solution": false,
     "task": false
    }
   },
   "source": [
    "Next we define the initial condition `y0` and set up an array of equally-spaced points between 0 and 2 (which we call `t`). We then pass all of these ingredients to the `odeint` function, which returns the solution."
   ]
  },
  {
   "cell_type": "code",
   "execution_count": null,
   "metadata": {},
   "outputs": [],
   "source": [
    "y0 = 0\n",
    "t = np.linspace(0, 2, 50)\n",
    "sol = odeint(dy_dt, y0, t)"
   ]
  },
  {
   "cell_type": "markdown",
   "metadata": {
    "deletable": false,
    "editable": false,
    "nbgrader": {
     "cell_type": "markdown",
     "checksum": "2d4fd082564ece8adadfa44c7561ca8f",
     "grade": false,
     "grade_id": "Lab1_S3_task1",
     "locked": true,
     "schema_version": 3,
     "solution": false,
     "task": false
    }
   },
   "source": [
    "<span class=\"label label-danger\">Task</span> Using either a new notebook cell or just adding an extra line to the one above, print out the value of `sol` so you can see what form it takes.\n",
    "\n",
    "We can then use the [Matplotlib plot function](https://matplotlib.org/3.1.1/api/_as_gen/matplotlib.pyplot.plot.html) to produce a plot of the solution:"
   ]
  },
  {
   "cell_type": "code",
   "execution_count": null,
   "metadata": {},
   "outputs": [],
   "source": [
    "plt.plot(t, sol, 'b', label='y(t)') # 'b' is a way of specifying the line colour\n",
    "plt.legend(loc='best')\n",
    "plt.xlabel('t')\n",
    "plt.show()"
   ]
  },
  {
   "cell_type": "markdown",
   "metadata": {
    "deletable": false,
    "editable": false,
    "nbgrader": {
     "cell_type": "markdown",
     "checksum": "00472b4d0862092c38c1b913dbb8eba9",
     "grade": false,
     "grade_id": "Lab1_S3_05",
     "locked": true,
     "schema_version": 3,
     "solution": false,
     "task": false
    }
   },
   "source": [
    "***\n",
    "### Example\n",
    "$$2y'+ty=2$$\n",
    "\n",
    "This is Example 5 in §2.1 of Boyce & DiPrima (pp38-39).\n",
    "***\n",
    "It turns out that SymPy _can_ solve this system, though it requires the use of a \"special function\", i.e. not one of the standard functions like $\\exp$, $\\sin$, $\\cos$."
   ]
  },
  {
   "cell_type": "code",
   "execution_count": null,
   "metadata": {},
   "outputs": [],
   "source": [
    "t = sym.symbols('t')\n",
    "y = sym.Function('y')\n",
    "sym.dsolve(sym.Eq(2*y(t).diff(t)+t*y(t),2))"
   ]
  },
  {
   "cell_type": "markdown",
   "metadata": {
    "deletable": false,
    "editable": false,
    "nbgrader": {
     "cell_type": "markdown",
     "checksum": "02fcd6497cd975a789bd73b2fafac2ac",
     "grade": false,
     "grade_id": "Lab1_S3_06",
     "locked": true,
     "schema_version": 3,
     "solution": false,
     "task": false
    }
   },
   "source": [
    "We can use the `odeint` numerical solver to produce graphs of several different particular solutions – this replicates Figure 2.1.4 from Boyce & DiPrima:"
   ]
  },
  {
   "cell_type": "code",
   "execution_count": null,
   "metadata": {},
   "outputs": [],
   "source": [
    "def dy_dt(y, t):\n",
    "    return(1-t*y/2)\n",
    "\n",
    "t = np.linspace(0, 6, 50)\n",
    "\n",
    "for y0 in np.arange(-6, 6)/2:\n",
    "    sol = odeint(dy_dt, y0, t)\n",
    "    plt.plot(t, sol)\n",
    "\n",
    "plt.xlabel('t')\n",
    "plt.show()"
   ]
  },
  {
   "cell_type": "markdown",
   "metadata": {
    "deletable": false,
    "editable": false,
    "nbgrader": {
     "cell_type": "markdown",
     "checksum": "849940aac29d868648d2f621a0bd4cd2",
     "grade": false,
     "grade_id": "Lab1_S3_task2",
     "locked": true,
     "schema_version": 3,
     "solution": false,
     "task": false
    }
   },
   "source": [
    "<span class=\"label label-danger\">Task</span> In the code above, do you understand `np.arange(-6, 6)/2`? Check what happens if you remove the `/2`."
   ]
  },
  {
   "cell_type": "markdown",
   "metadata": {
    "deletable": false,
    "editable": false,
    "nbgrader": {
     "cell_type": "markdown",
     "checksum": "8ad70a2fd59cfc3aaaadbbed98854862",
     "grade": false,
     "grade_id": "Lab1_S3_E1",
     "locked": true,
     "schema_version": 3,
     "solution": false,
     "task": false
    }
   },
   "source": [
    "<div class=\"alert alert-info\">\n",
    "    <h3>Exercise 3.1</h3>\n",
    "    <p>Use the <code>odeint</code> numerical solver to show particular solutions of $$y'+\\tfrac12y=\\tfrac12 e^{t/3},$$ with $y(0)\\in\\left\\{-2,-1,0,1,2,3,4\\right\\}$. (Note: this is replicating Figure 2.1.1 from p34 of Boyce &amp; DiPrima.)</p>\n",
    "</div>"
   ]
  },
  {
   "cell_type": "code",
   "execution_count": null,
   "metadata": {
    "deletable": false,
    "nbgrader": {
     "cell_type": "code",
     "checksum": "2610fea4fa857c6413e7890645a2ebce",
     "grade": false,
     "grade_id": "Lab1_S3_E1_answer",
     "locked": false,
     "schema_version": 3,
     "solution": true,
     "task": false
    }
   },
   "outputs": [],
   "source": [
    "# YOUR CODE HERE\n",
    "raise NotImplementedError()"
   ]
  },
  {
   "cell_type": "markdown",
   "metadata": {
    "deletable": false,
    "editable": false,
    "nbgrader": {
     "cell_type": "markdown",
     "checksum": "e7c5abe235ea2f0a50e2bb8440ed8f2b",
     "grade": false,
     "grade_id": "Lab1_S4_title",
     "locked": true,
     "schema_version": 3,
     "solution": false,
     "task": false
    }
   },
   "source": [
    "# 4. Numerical solution of systems of ODEs"
   ]
  },
  {
   "cell_type": "markdown",
   "metadata": {
    "deletable": false,
    "editable": false,
    "nbgrader": {
     "cell_type": "markdown",
     "checksum": "ab7c3fac6e78721e01bb926cd7a4d56c",
     "grade": false,
     "grade_id": "Lab1_S4_01",
     "locked": true,
     "schema_version": 3,
     "solution": false,
     "task": false
    }
   },
   "source": [
    "We will return to this in later labs, once we start studying nonlinear systems. For those, numerical methods are particularly important because the symbolic solutions are either complicated or impossible to compute.\n",
    "\n",
    "For now, we will look at a linear system, just to demonstrate the method:\n",
    "\n",
    "***\n",
    "### Example\n",
    "Plot the solution of the system $$\\mathbf{x}'=\\begin{pmatrix}-\\frac12 & 1\\\\ -1 & -\\frac12\\end{pmatrix}\\mathbf{x},$$\n",
    "with initial condition $(-2, -3)$. This appears as Example 1 in §7.6 of Boyce & DiPrima.\n",
    "***\n",
    "\n",
    "Translating the notation into something sensible in Python is the hard part here. We will use `X = [x1,x2]` to represent the vector $\\mathbf{x}$, so `dX_dt` represents $\\mathbf{x}'$. This is a function of `X` and the underlying time parameter `t`, which we encode in Python as follows:"
   ]
  },
  {
   "cell_type": "code",
   "execution_count": null,
   "metadata": {},
   "outputs": [],
   "source": [
    "# Define the equation\n",
    "def dX_dt(X, t):\n",
    "    x1, x2 = X\n",
    "    return [-0.5*x1+x2, -x1-0.5*x2]\n",
    "\n",
    "# Initial conditions\n",
    "X0 = [-2, -3]\n",
    "\n",
    "# Set up the time samples\n",
    "t = np.linspace(0, 5, 100)\n",
    "\n",
    "# Solve\n",
    "Xsol = odeint(dX_dt, X0, t)\n",
    "\n",
    "# Plot the (x1, x2) coordinates of the solution\n",
    "plt.plot(Xsol[:, 0], Xsol[:, 1], 'b', label='X(t)')\n",
    "plt.legend(loc='best')\n",
    "plt.xlabel('x1')\n",
    "plt.ylabel('x2')\n",
    "plt.grid()"
   ]
  },
  {
   "cell_type": "markdown",
   "metadata": {
    "deletable": false,
    "editable": false,
    "nbgrader": {
     "cell_type": "markdown",
     "checksum": "187bd1e313c27e7c8e6f94b33d730306",
     "grade": false,
     "grade_id": "Lab1_S4_task1",
     "locked": true,
     "schema_version": 3,
     "solution": false,
     "task": false
    }
   },
   "source": [
    "<span class=\"label label-danger\">Task</span> Try adjusting the values in `np.linspace(0, 5, 100)` to see the effect on the plot. First try `np.linspace(0, 50, 100)`, then see if you can find a good choice of time interval and number of steps so that the plot gives a good representation of the behaviour."
   ]
  },
  {
   "cell_type": "markdown",
   "metadata": {
    "deletable": false,
    "editable": false,
    "nbgrader": {
     "cell_type": "markdown",
     "checksum": "ea88d7212fe0218a1b7c751ff344ccd2",
     "grade": false,
     "grade_id": "Lab1_S4_02",
     "locked": true,
     "schema_version": 3,
     "solution": false,
     "task": false
    }
   },
   "source": [
    "Here we add several different trajectories to the plot, each with a different initial condition:"
   ]
  },
  {
   "cell_type": "code",
   "execution_count": null,
   "metadata": {},
   "outputs": [],
   "source": [
    "# Define the equation\n",
    "def dX_dt(X, t):\n",
    "    x1, x2 = X\n",
    "    return [-0.5*x1+x2, -x1-0.5*x2]\n",
    "\n",
    "# Set up the time samples\n",
    "t = np.linspace(0, 50, 1000)\n",
    "\n",
    "for x0 in np.arange(-2,3):\n",
    "    # Initial conditions\n",
    "    X0 = [x0, -3]\n",
    "    \n",
    "    # Solve\n",
    "    Xsol = odeint(dX_dt, X0, t)\n",
    "    \n",
    "    # Plot the (x1, x2) coordinates of the solution\n",
    "    plt.plot(Xsol[:, 0], Xsol[:, 1])\n",
    "\n",
    "plt.xlabel('x1')\n",
    "plt.ylabel('x2')\n",
    "plt.grid()"
   ]
  },
  {
   "cell_type": "markdown",
   "metadata": {
    "deletable": false,
    "editable": false,
    "nbgrader": {
     "cell_type": "markdown",
     "checksum": "4bef33e4d0c94d0aeb7d396be03d26a3",
     "grade": false,
     "grade_id": "Lab1_S4_E1",
     "locked": true,
     "schema_version": 3,
     "solution": false,
     "task": false
    }
   },
   "source": [
    "<div class=\"alert alert-info\">\n",
    "    <h3>Exercise 4.1</h3>\n",
    "    <p>Use a similar method to show particular solutions of $$\\mathbf{x}'=\\begin{pmatrix}-3 & \\sqrt{2}\\\\ \\sqrt{2} & -2\\end{pmatrix}\\mathbf{x},$$ with initial conditions $x_1=2$ and $x_2\\in\\{-3, -2.5, \\ldots, 1.5, 2\\}$. (Note: this is replicating some features of Figure 7.5.4 from p402 of Boyce &amp; DiPrima.)</p>\n",
    "</div>"
   ]
  },
  {
   "cell_type": "code",
   "execution_count": null,
   "metadata": {
    "deletable": false,
    "nbgrader": {
     "cell_type": "code",
     "checksum": "88e6853439c5a4b5f05f7a3aa377c2d4",
     "grade": false,
     "grade_id": "Lab1_S4_E1_answer",
     "locked": false,
     "schema_version": 3,
     "solution": true,
     "task": false
    }
   },
   "outputs": [],
   "source": [
    "# Your code here.\n",
    "#To pass the autograding, you should define the equation in a function called dX_dt (as above).\n",
    "\n",
    "\n",
    "# YOUR CODE HERE\n",
    "raise NotImplementedError()"
   ]
  },
  {
   "cell_type": "code",
   "execution_count": null,
   "metadata": {
    "deletable": false,
    "editable": false,
    "nbgrader": {
     "cell_type": "code",
     "checksum": "9b26d5f0d44adbd4cda27c6966885ecc",
     "grade": true,
     "grade_id": "Lab1_S4_E1_test",
     "locked": true,
     "points": 1,
     "schema_version": 3,
     "solution": false,
     "task": false
    }
   },
   "outputs": [],
   "source": [
    "# Autograder test\n",
    "assert dX_dt([0,0],0) == [0,0]\n",
    "assert list(map(lambda x: np.round(x,3), dX_dt([2,2],0))) == [-3.172, -1.172]\n",
    "print(\"Success: your ODE function seems to match!\")\n"
   ]
  },
  {
   "cell_type": "markdown",
   "metadata": {
    "deletable": false,
    "editable": false,
    "nbgrader": {
     "cell_type": "markdown",
     "checksum": "ccfa94d7cb3026df262420989e5d8196",
     "grade": false,
     "grade_id": "Lab1_S4_03",
     "locked": true,
     "schema_version": 3,
     "solution": false,
     "task": false
    }
   },
   "source": [
    "We will continue to develop these methods in the next couple of labs, so that ultimately we can produce informative phase portraits to help our understanding of the differential equations in the course."
   ]
  }
 ],
 "metadata": {
  "kernelspec": {
   "display_name": "Python 3",
   "language": "python",
   "name": "python3"
  },
  "language_info": {
   "codemirror_mode": {
    "name": "ipython",
    "version": 3
   },
   "file_extension": ".py",
   "mimetype": "text/x-python",
   "name": "python",
   "nbconvert_exporter": "python",
   "pygments_lexer": "ipython3",
   "version": "3.8.3"
  }
 },
 "nbformat": 4,
 "nbformat_minor": 2
}
