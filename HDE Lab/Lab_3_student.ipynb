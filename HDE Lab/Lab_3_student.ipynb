{
 "cells": [
  {
   "cell_type": "markdown",
   "metadata": {
    "deletable": false,
    "editable": false,
    "nbgrader": {
     "cell_type": "markdown",
     "checksum": "f5e1b4fe0790247b9d0e3864c9f85b8a",
     "grade": false,
     "grade_id": "Lab3_title",
     "locked": true,
     "schema_version": 3,
     "solution": false,
     "task": false
    }
   },
   "source": [
    "# Lab 3: Linearisation and phase portraits"
   ]
  },
  {
   "cell_type": "markdown",
   "metadata": {
    "deletable": false,
    "editable": false,
    "nbgrader": {
     "cell_type": "markdown",
     "checksum": "5a52a97ed659d2466c83024d6f9a1ff2",
     "grade": false,
     "grade_id": "Lab3_S1_01",
     "locked": true,
     "schema_version": 3,
     "solution": false,
     "task": false
    }
   },
   "source": [
    "By the end of this Lab, we will be using Python to produce phase portraits for different $2\\times2$ systems of ODEs. This will be a good opportunity for you to review theory from the lectures, and to revisit some of the tutorial problems.\n",
    "\n",
    "Before producing phase portraits, we will recap some of the theory from earlier in the course, about producing solutions for systems of ODEs defined by a matrix equation, and about linearising nonlinear equations.\n",
    "\n",
    "## 1. Matrix solutions \n",
    "\n",
    "To get started, we will revisit Q1 from the Week 3 tutorial sheet, and use Python to find the general solution for the system. (You may also want to open the model solutions for the tutorial sheet, to follow the method.) \n",
    "\n",
    "***\n",
    "### Example\n",
    "Find the general solution of the system of ODEs given by the matrix equation:\n",
    "\n",
    "$$\\mathbf{x}'=\\begin{bmatrix}3 & -4 \\\\ 1 & -1\\end{bmatrix}\\mathbf{x}.$$\n",
    "***\n",
    "\n",
    "Recall from Lab 1 that we can use SymPy to find the eigenvalues and eigenvectors:"
   ]
  },
  {
   "cell_type": "code",
   "execution_count": 1,
   "metadata": {},
   "outputs": [
    {
     "data": {
      "text/latex": [
       "$\\displaystyle \\left[ \\left( 1, \\  2, \\  \\left[ \\left[\\begin{matrix}2\\\\1\\end{matrix}\\right]\\right]\\right)\\right]$"
      ],
      "text/plain": [
       "⎡⎛      ⎡⎡2⎤⎤⎞⎤\n",
       "⎢⎜1, 2, ⎢⎢ ⎥⎥⎟⎥\n",
       "⎣⎝      ⎣⎣1⎦⎦⎠⎦"
      ]
     },
     "execution_count": 1,
     "metadata": {},
     "output_type": "execute_result"
    }
   ],
   "source": [
    "import sympy as sym\n",
    "sym.init_printing()\n",
    "from IPython.display import display_latex\n",
    "\n",
    "M = sym.Matrix([[3,-4],[1,-1]])\n",
    "evs = M.eigenvects()\n",
    "evs"
   ]
  },
  {
   "cell_type": "markdown",
   "metadata": {
    "deletable": false,
    "editable": false,
    "nbgrader": {
     "cell_type": "markdown",
     "checksum": "de399fbd42a19394a0f706e0584878d9",
     "grade": false,
     "grade_id": "Lab3_S1_02",
     "locked": true,
     "schema_version": 3,
     "solution": false,
     "task": false
    }
   },
   "source": [
    "This shows that $\\lambda=1$ is the only eigenvalue, with algebraic multiplicity $2$, and corresponding eigenspace spanned by the eigenvector $\\begin{bmatrix}2\\\\1\\end{bmatrix}$.\n",
    "\n",
    "For reference, note that we can also use `numpy` to do this numerically:"
   ]
  },
  {
   "cell_type": "code",
   "execution_count": 4,
   "metadata": {},
   "outputs": [
    {
     "data": {
      "text/plain": [
       "(array([1., 1.]),\n",
       " array([[0.89442719, 0.89442719],\n",
       "        [0.4472136 , 0.4472136 ]]))"
      ]
     },
     "execution_count": 4,
     "metadata": {},
     "output_type": "execute_result"
    }
   ],
   "source": [
    "import numpy as np\n",
    "from numpy import linalg as LA\n",
    "w, v = LA.eig(np.array([[3,-4], [1,-1]]))\n",
    "w, v"
   ]
  },
  {
   "cell_type": "markdown",
   "metadata": {
    "deletable": false,
    "editable": false,
    "nbgrader": {
     "cell_type": "markdown",
     "checksum": "aba0940c803e071ff7653ce76a56a0b1",
     "grade": false,
     "grade_id": "Lab3_S1_task1",
     "locked": true,
     "schema_version": 3,
     "solution": false,
     "task": false
    }
   },
   "source": [
    "<span class=\"label label-danger\">Task</span>\n",
    "The two approaches seem to give quite different-looking answers. Do you understand how they actually agree? Can you reason why numpy picked these values (what's special about them)?"
   ]
  },
  {
   "cell_type": "markdown",
   "metadata": {
    "deletable": false,
    "nbgrader": {
     "cell_type": "markdown",
     "checksum": "fef8d495966a5af96b0aa65750809a74",
     "grade": true,
     "grade_id": "Lab3_S1_task1_ans",
     "locked": false,
     "points": 0,
     "schema_version": 3,
     "solution": true,
     "task": false
    }
   },
   "source": [
    "YOUR ANSWER HERE"
   ]
  },
  {
   "cell_type": "markdown",
   "metadata": {
    "deletable": false,
    "editable": false,
    "nbgrader": {
     "cell_type": "markdown",
     "checksum": "6ec9e14095570bad8243e5a7531bbed1",
     "grade": false,
     "grade_id": "Lab3_S1_03",
     "locked": true,
     "schema_version": 3,
     "solution": false,
     "task": false
    }
   },
   "source": [
    "Returning to our symbolic solution, let's extract the eigenvector:"
   ]
  },
  {
   "cell_type": "code",
   "execution_count": null,
   "metadata": {},
   "outputs": [],
   "source": [
    "xi1 = evs[0][2][0]\n",
    "xi1"
   ]
  },
  {
   "cell_type": "markdown",
   "metadata": {
    "deletable": false,
    "editable": false,
    "nbgrader": {
     "cell_type": "markdown",
     "checksum": "4e9b7615045d7cd005069e2cc35c50e2",
     "grade": false,
     "grade_id": "Lab3_S1_task2",
     "locked": true,
     "schema_version": 3,
     "solution": false,
     "task": false
    }
   },
   "source": [
    "<span class=\"label label-danger\">Task</span>\n",
    "In a similar way, extract the eigenvalue and store it in a variable called `e_val`."
   ]
  },
  {
   "cell_type": "code",
   "execution_count": null,
   "metadata": {
    "deletable": false,
    "nbgrader": {
     "cell_type": "code",
     "checksum": "a6f289f5791a7b8daab242b75fe02739",
     "grade": false,
     "grade_id": "Lab3_S1_task2_ans",
     "locked": false,
     "schema_version": 3,
     "solution": true,
     "task": false
    }
   },
   "outputs": [],
   "source": [
    "# your code here\n",
    "\n",
    "# YOUR CODE HERE\n",
    "raise NotImplementedError()"
   ]
  },
  {
   "cell_type": "markdown",
   "metadata": {
    "deletable": false,
    "editable": false,
    "nbgrader": {
     "cell_type": "markdown",
     "checksum": "7c348de42ee0ed9610eec07518a072a0",
     "grade": false,
     "grade_id": "Lab3_S1_04",
     "locked": true,
     "schema_version": 3,
     "solution": false,
     "task": false
    }
   },
   "source": [
    "We can then used the `sympy` function `linsolve` to solve the system $(A-\\lambda\\mathbb{I})\\mathbf{\\eta} = \\mathbf{\\xi}_1$:"
   ]
  },
  {
   "cell_type": "code",
   "execution_count": null,
   "metadata": {},
   "outputs": [],
   "source": [
    "eta1, eta2 = sym.symbols('eta1, eta2')\n",
    "eta_sol = sym.linsolve((M-e_val*sym.eye(2), xi1), eta1, eta2)\n",
    "eta_sol"
   ]
  },
  {
   "cell_type": "markdown",
   "metadata": {
    "deletable": false,
    "editable": false,
    "nbgrader": {
     "cell_type": "markdown",
     "checksum": "0567f7b040de2269583e738fe71992b8",
     "grade": false,
     "grade_id": "Lab3_S1_05",
     "locked": true,
     "schema_version": 3,
     "solution": false,
     "task": false
    }
   },
   "source": [
    "In general, `linsolve((A,b), x, y)` will solve the system $A\\begin{bmatrix}x\\\\y\\end{bmatrix}=\\mathbf{b}$ (you can see more in [the documentation](https://docs.sympy.org/latest/modules/solvers/solveset.html#linsolve)).\n",
    "\n",
    "The solution we get here is a general solution with a free parameter, so we can simply choose one by substituting $\\eta_2=0$. Let's do that and then turn the result into a vector:"
   ]
  },
  {
   "cell_type": "code",
   "execution_count": null,
   "metadata": {},
   "outputs": [],
   "source": [
    "eta_soln = list(eta_sol)[0].subs(eta2, 0)\n",
    "eta_vect = sym.Matrix(eta_soln)\n",
    "eta_vect"
   ]
  },
  {
   "cell_type": "markdown",
   "metadata": {
    "deletable": false,
    "editable": false,
    "nbgrader": {
     "cell_type": "markdown",
     "checksum": "987abdb5d0f0de15053097ea783f603b",
     "grade": false,
     "grade_id": "Lab3_S1_06",
     "locked": true,
     "schema_version": 3,
     "solution": false,
     "task": false
    }
   },
   "source": [
    "Now we're ready to build the general solution, which will be in the form $$C_1\\mathbf{\\xi}_1e^{r_1t} + C_2\\left(\\mathbf{\\xi}_1 te^{r_1t}+\\mathbf{\\eta}e^{r_1t}\\right),$$\n",
    "where $r_1$ was our eigenvalue.\n",
    "\n",
    "In our notation so far, this is:"
   ]
  },
  {
   "cell_type": "code",
   "execution_count": null,
   "metadata": {},
   "outputs": [],
   "source": [
    "C1, C2, t = sym.symbols('C1, C2, t')\n",
    "gen_soln = C1*xi1*sym.exp(e_val*t) + C2*(xi1*t*sym.exp(e_val*t) + eta_vect*sym.exp(e_val*t))\n",
    "gen_soln"
   ]
  },
  {
   "cell_type": "markdown",
   "metadata": {
    "deletable": false,
    "editable": false,
    "nbgrader": {
     "cell_type": "markdown",
     "checksum": "b56c1ae4ce98b0df4b02c968e447a63c",
     "grade": false,
     "grade_id": "Lab3_S1_07",
     "locked": true,
     "schema_version": 3,
     "solution": false,
     "task": false
    }
   },
   "source": [
    "This doesn't look quite like we'd expect. This is because SymPy automatically adds everything together in order to simplify, rather than keeping the terms separate as we would tend to do when writing it by hand.\n",
    "\n",
    "There are [a couple of ways](https://docs.sympy.org/latest/tutorial/manipulation.html#prevent-expression-evaluation) to force SymPy to keep the terms separate. The first is to use explicit `MatAdd` and `MatMul` commands to do the additions and multiplications, with `evaluate = False` to keep SymPy from simplifying:"
   ]
  },
  {
   "cell_type": "code",
   "execution_count": null,
   "metadata": {},
   "outputs": [],
   "source": [
    "gen_sol = sym.MatAdd(sym.MatMul(C1, xi1, sym.exp(e_val*t)),\n",
    "           sym.MatMul(C2,\n",
    "                      sym.MatAdd(sym.MatMul(xi1,t,sym.exp(e_val*t)),\n",
    "                                sym.MatMul(eta_vect, sym.exp(e_val*t)))), evaluate = False)\n",
    "gen_sol"
   ]
  },
  {
   "cell_type": "markdown",
   "metadata": {
    "deletable": false,
    "editable": false,
    "nbgrader": {
     "cell_type": "markdown",
     "checksum": "0b6ffda8ad11f8c6c2aa943123e340ed",
     "grade": false,
     "grade_id": "Lab3_S1_08",
     "locked": true,
     "schema_version": 3,
     "solution": false,
     "task": false
    }
   },
   "source": [
    "The second way is to use `UnevaluatedExpr` to keep the vectors from being evaluated (i.e. simplified):"
   ]
  },
  {
   "cell_type": "code",
   "execution_count": 3,
   "metadata": {},
   "outputs": [
    {
     "ename": "NameError",
     "evalue": "name 'xi1' is not defined",
     "output_type": "error",
     "traceback": [
      "\u001b[1;31m---------------------------------------------------------------------------\u001b[0m",
      "\u001b[1;31mNameError\u001b[0m                                 Traceback (most recent call last)",
      "\u001b[1;32m<ipython-input-3-b0271af1d4da>\u001b[0m in \u001b[0;36m<module>\u001b[1;34m\u001b[0m\n\u001b[0;32m      1\u001b[0m \u001b[1;32mfrom\u001b[0m \u001b[0msympy\u001b[0m \u001b[1;32mimport\u001b[0m \u001b[0mUnevaluatedExpr\u001b[0m\u001b[1;33m\u001b[0m\u001b[1;33m\u001b[0m\u001b[0m\n\u001b[1;32m----> 2\u001b[1;33m \u001b[0mxi1_vect\u001b[0m \u001b[1;33m=\u001b[0m \u001b[0mUnevaluatedExpr\u001b[0m\u001b[1;33m(\u001b[0m\u001b[0mxi1\u001b[0m\u001b[1;33m)\u001b[0m\u001b[1;33m\u001b[0m\u001b[1;33m\u001b[0m\u001b[0m\n\u001b[0m\u001b[0;32m      3\u001b[0m \u001b[0mgen_sol2\u001b[0m \u001b[1;33m=\u001b[0m \u001b[0mC1\u001b[0m\u001b[1;33m*\u001b[0m\u001b[0mxi1_vect\u001b[0m\u001b[1;33m*\u001b[0m\u001b[0msym\u001b[0m\u001b[1;33m.\u001b[0m\u001b[0mexp\u001b[0m\u001b[1;33m(\u001b[0m\u001b[0me_val\u001b[0m\u001b[1;33m*\u001b[0m\u001b[0mt\u001b[0m\u001b[1;33m)\u001b[0m \u001b[1;33m+\u001b[0m \u001b[0mC2\u001b[0m\u001b[1;33m*\u001b[0m\u001b[1;33m(\u001b[0m\u001b[0mxi1_vect\u001b[0m\u001b[1;33m*\u001b[0m\u001b[0mt\u001b[0m\u001b[1;33m*\u001b[0m\u001b[0msym\u001b[0m\u001b[1;33m.\u001b[0m\u001b[0mexp\u001b[0m\u001b[1;33m(\u001b[0m\u001b[0me_val\u001b[0m\u001b[1;33m*\u001b[0m\u001b[0mt\u001b[0m\u001b[1;33m)\u001b[0m \u001b[1;33m+\u001b[0m \u001b[0mUnevaluatedExpr\u001b[0m\u001b[1;33m(\u001b[0m\u001b[0meta_vect\u001b[0m\u001b[1;33m)\u001b[0m\u001b[1;33m*\u001b[0m\u001b[0msym\u001b[0m\u001b[1;33m.\u001b[0m\u001b[0mexp\u001b[0m\u001b[1;33m(\u001b[0m\u001b[0me_val\u001b[0m\u001b[1;33m*\u001b[0m\u001b[0mt\u001b[0m\u001b[1;33m)\u001b[0m\u001b[1;33m)\u001b[0m\u001b[1;33m\u001b[0m\u001b[1;33m\u001b[0m\u001b[0m\n\u001b[0;32m      4\u001b[0m \u001b[0mgen_sol2\u001b[0m\u001b[1;33m\u001b[0m\u001b[1;33m\u001b[0m\u001b[0m\n",
      "\u001b[1;31mNameError\u001b[0m: name 'xi1' is not defined"
     ]
    }
   ],
   "source": [
    "from sympy import UnevaluatedExpr\n",
    "xi1_vect = UnevaluatedExpr(xi1)\n",
    "gen_sol2 = C1*xi1_vect*sym.exp(e_val*t) + C2*(xi1_vect*t*sym.exp(e_val*t) + UnevaluatedExpr(eta_vect)*sym.exp(e_val*t))\n",
    "gen_sol2"
   ]
  },
  {
   "cell_type": "markdown",
   "metadata": {
    "deletable": false,
    "editable": false,
    "nbgrader": {
     "cell_type": "markdown",
     "checksum": "c7f40512dce51e23484a875df3322249",
     "grade": false,
     "grade_id": "Lab3_S1_E1",
     "locked": true,
     "schema_version": 3,
     "solution": false,
     "task": false
    }
   },
   "source": [
    "<div class=\"alert alert-info\">\n",
    "    <h3>Exercise 1.1</h3>\n",
    "\n",
    "**(a)** Create a function `pretty_solution` which carries out the process above for any given system. It should take in a single Matrix (which you can assume is $2\\times2$ and has a single repeated eigenvalue) and return the corresponding general solution. \n",
    "\n",
    "**(b)** Use your function to find the general solutions for these problems, some of which appear in Section 7.8 of Boyce & DiPrima:\n",
    "\n",
    "1. $\\mathbf{x}'=\\begin{bmatrix}3 & 1 \\\\ -4 & -1\\end{bmatrix}\\mathbf{x}$,\n",
    "2. $\\mathbf{x}'=\\begin{bmatrix}4 & 8 \\\\ -2 & -4\\end{bmatrix}\\mathbf{x}$,\n",
    "3. $\\mathbf{x}'=\\begin{bmatrix}-\\frac32 & -\\frac14 \\\\ 1 & -\\frac12\\end{bmatrix}\\mathbf{x}$,\n",
    "4. $\\mathbf{x}'=\\begin{bmatrix}-3 & -\\frac52 \\\\ \\frac52 & 2\\end{bmatrix}\\mathbf{x}$.\n",
    "\n",
    "    \n",
    "</div>\n",
    "\n",
    "_Tip:_ For 3 and 4, you will find that if you just type the fractions then SymPy will return solutions which have decimals in them. To make sure the calculations are done exactly, you should enter the fractions using the [Rational](https://docs.sympy.org/latest/modules/core.html#rational) function.\n",
    "\n",
    "_Note:_ You can check your answers against those given in the back of Boyce & DiPrima, and also against the result of applying SymPy's `dsolve` function."
   ]
  },
  {
   "cell_type": "code",
   "execution_count": null,
   "metadata": {
    "deletable": false,
    "nbgrader": {
     "cell_type": "code",
     "checksum": "f9d8ecb376e6620071eec89778b807bc",
     "grade": false,
     "grade_id": "Lab3_S1_E1func_ans",
     "locked": false,
     "schema_version": 3,
     "solution": true,
     "task": false
    }
   },
   "outputs": [],
   "source": [
    "# Your code here for pretty_solution()\n",
    "\n",
    "def pretty_solution(M):\n",
    "    # YOUR CODE HERE\n",
    "    raise NotImplementedError()"
   ]
  },
  {
   "cell_type": "code",
   "execution_count": null,
   "metadata": {
    "deletable": false,
    "editable": false,
    "nbgrader": {
     "cell_type": "code",
     "checksum": "2cef85bfcce2bb7161df555b52217146",
     "grade": true,
     "grade_id": "Lab3_S1_E1func_test",
     "locked": true,
     "points": 0.2,
     "schema_version": 3,
     "solution": false,
     "task": false
    }
   },
   "outputs": [],
   "source": [
    "# Autograder test\n",
    "def check_solution(student_answer, expected_answer, message):\n",
    "    print(\"Testing \"+message)\n",
    "    # Check the constants\n",
    "    const = list(student_answer.atoms(sym.Symbol))\n",
    "    assert t in const\n",
    "    assert len(const) == 3\n",
    "    print(\" ✔ output contains the correct number of symbols\")\n",
    "    assert isinstance(student_answer,type(gen_sol))\n",
    "    print(\" ✔ output is of the correct type\")\n",
    "    # Student answer should use C1 and C2 as the constants, but here we replace them just in case\n",
    "    const.remove(t)\n",
    "    test1 = student_answer.subs([(const[0], C1),(const[1], C2)])\n",
    "    test2 = student_answer.subs([(const[1], C1),(const[0], C2)])\n",
    "    # Does the answer match the model answer?\n",
    "    assert test1 - expected_answer == sym.Matrix(2,1,[0,0]) or test2 - expected_answer == sym.Matrix(2,1,[0,0])\n",
    "    print(\" ✔ general solution matches model answer\")\n",
    "\n",
    "check_solution(pretty_solution(sym.Matrix(2,2,[3,-4,1,-1])), gen_sol, \"gen_sol example\")"
   ]
  },
  {
   "cell_type": "code",
   "execution_count": null,
   "metadata": {
    "deletable": false,
    "nbgrader": {
     "cell_type": "code",
     "checksum": "bc9f942fade09890476e7c8d6c71e9c5",
     "grade": false,
     "grade_id": "Lab3_S1_E1i_ans",
     "locked": false,
     "schema_version": 3,
     "solution": true,
     "task": false
    }
   },
   "outputs": [],
   "source": [
    "# Your code here for problem 1\n",
    "\n",
    "# YOUR CODE HERE\n",
    "raise NotImplementedError()"
   ]
  },
  {
   "cell_type": "code",
   "execution_count": null,
   "metadata": {
    "deletable": false,
    "nbgrader": {
     "cell_type": "code",
     "checksum": "b7fe000759098dcbcbef4642dd810982",
     "grade": false,
     "grade_id": "Lab3_S1_E1ii_ans",
     "locked": false,
     "schema_version": 3,
     "solution": true,
     "task": false
    }
   },
   "outputs": [],
   "source": [
    "# Your code here for problem 2\n",
    "\n",
    "# YOUR CODE HERE\n",
    "raise NotImplementedError()"
   ]
  },
  {
   "cell_type": "code",
   "execution_count": null,
   "metadata": {
    "deletable": false,
    "nbgrader": {
     "cell_type": "code",
     "checksum": "ab7d7dfc83c9ff3923c6684aedd75a09",
     "grade": false,
     "grade_id": "Lab3_S1_E1iii_ans",
     "locked": false,
     "schema_version": 3,
     "solution": true,
     "task": false
    }
   },
   "outputs": [],
   "source": [
    "# Your code here for problem 3\n",
    "\n",
    "# YOUR CODE HERE\n",
    "raise NotImplementedError()"
   ]
  },
  {
   "cell_type": "code",
   "execution_count": null,
   "metadata": {
    "deletable": false,
    "nbgrader": {
     "cell_type": "code",
     "checksum": "48bef50696f5880dbab8c29ebbe2e279",
     "grade": false,
     "grade_id": "Lab3_S1_E1iv_ans",
     "locked": false,
     "schema_version": 3,
     "solution": true,
     "task": false
    }
   },
   "outputs": [],
   "source": [
    "# Your code here for problem 4\n",
    "\n",
    "# YOUR CODE HERE\n",
    "raise NotImplementedError()"
   ]
  },
  {
   "cell_type": "markdown",
   "metadata": {
    "deletable": false,
    "editable": false,
    "nbgrader": {
     "cell_type": "markdown",
     "checksum": "440e51b04bdadfd0ea042acf571d789e",
     "grade": false,
     "grade_id": "Lab3_S2_01",
     "locked": true,
     "schema_version": 3,
     "solution": false,
     "task": false
    }
   },
   "source": [
    "## 2. Critical points and linearisation\n",
    "\n",
    "Another important step towards producing phase portraits is to identify the critical point(s) of the system, and to consider the behaviour of the linearised system around those points.\n",
    "\n",
    "In this section of the Lab, we will use SymPy to do some of this work.\n",
    "\n",
    "***\n",
    "### Example\n",
    "As in Examples 2-3 of Boyce & DiPrima Section 9.3, the motion of a pendulum is described by the system $$\\frac{dx}{dt}=y, \\quad \\frac{dy}{dt}=-\\omega^2 \\sin x - \\gamma y.$$\n",
    "We will use SymPy to find the linear approximation of the system about the critical points $(0,0)$ and $(\\pi,0)$.\n",
    "***"
   ]
  },
  {
   "cell_type": "markdown",
   "metadata": {
    "deletable": false,
    "editable": false,
    "nbgrader": {
     "cell_type": "markdown",
     "checksum": "a9f20c2697f6f0119b125462745cf9bc",
     "grade": false,
     "grade_id": "Lab3_S2_02",
     "locked": true,
     "schema_version": 3,
     "solution": false,
     "task": false
    }
   },
   "source": [
    "First, we create expressions to represent the equations. Note that we use the names `Fxy` and `Gxy` to echo the notation used in equation 15 in Boyce & DiPrima."
   ]
  },
  {
   "cell_type": "code",
   "execution_count": null,
   "metadata": {},
   "outputs": [],
   "source": [
    "x = sym.Function('x')\n",
    "y = sym.Function('y')\n",
    "omega, gamma = sym.symbols('omega, gamma')\n",
    "Fxy = y(t)\n",
    "Gxy = -omega**2*sym.sin(x(t))-gamma*y(t)"
   ]
  },
  {
   "cell_type": "markdown",
   "metadata": {
    "deletable": false,
    "editable": false,
    "nbgrader": {
     "cell_type": "markdown",
     "checksum": "d91c73c60cf89cb1f22dfb4f641e9bde",
     "grade": false,
     "grade_id": "Lab3_S2_03",
     "locked": true,
     "schema_version": 3,
     "solution": false,
     "task": false
    }
   },
   "source": [
    "To compute the linearisation, we can find the Jacobian $\\begin{pmatrix}F_x & F_y \\\\ G_x & G_y\\end{pmatrix}$. This can be done in SymPy using the [`jacobian` function](https://docs.sympy.org/0.6.7/modules/matrices.html#sympy.matrices.matrices.Matrix.jacobian) -- to use this, we first put our two functions into a SymPy Matrix; then we can apply the `jacobian` function and substitute the values from our critical points."
   ]
  },
  {
   "cell_type": "code",
   "execution_count": null,
   "metadata": {},
   "outputs": [],
   "source": [
    "FGmat = sym.Matrix([Fxy,Gxy])\n",
    "FGmat"
   ]
  },
  {
   "cell_type": "code",
   "execution_count": null,
   "metadata": {},
   "outputs": [],
   "source": [
    "matJ = FGmat.jacobian([x(t), y(t)])\n",
    "matJ"
   ]
  },
  {
   "cell_type": "code",
   "execution_count": null,
   "metadata": {},
   "outputs": [],
   "source": [
    "matJatCP = matJ.subs(x(t),0).subs(y(t),0)\n",
    "matJatCP"
   ]
  },
  {
   "cell_type": "markdown",
   "metadata": {
    "deletable": false,
    "editable": false,
    "nbgrader": {
     "cell_type": "markdown",
     "checksum": "12d2794f60e2c4444213a2d9f458a821",
     "grade": false,
     "grade_id": "Lab3_S2_04",
     "locked": true,
     "schema_version": 3,
     "solution": false,
     "task": false
    }
   },
   "source": [
    "We can then form the linear system (like equation 17 in Boyce & DiPrima):"
   ]
  },
  {
   "cell_type": "code",
   "execution_count": null,
   "metadata": {},
   "outputs": [],
   "source": [
    "linsys_atCP = sym.Eq(sym.Matrix([x(t), y(t)]).diff(t), sym.MatMul(matJatCP, sym.Matrix([x(t), y(t)])))\n",
    "linsys_atCP"
   ]
  },
  {
   "cell_type": "markdown",
   "metadata": {
    "deletable": false,
    "editable": false,
    "nbgrader": {
     "cell_type": "markdown",
     "checksum": "b2e845eeaacb81c04382b4b3dfea6b0f",
     "grade": false,
     "grade_id": "Lab3_S2_05",
     "locked": true,
     "schema_version": 3,
     "solution": false,
     "task": false
    }
   },
   "source": [
    "Similarly, we can find the linearisation around $(\\pi,0)$:"
   ]
  },
  {
   "cell_type": "code",
   "execution_count": null,
   "metadata": {},
   "outputs": [],
   "source": [
    "matJatCP2 = matJ.subs(x(t),sym.pi).subs(y(t),0)\n",
    "matJatCP2"
   ]
  },
  {
   "cell_type": "code",
   "execution_count": null,
   "metadata": {},
   "outputs": [],
   "source": [
    "u = sym.Function('u')\n",
    "v = sym.Function('v')\n",
    "linsys_atCP2 = sym.Eq(sym.Matrix([u(t), v(t)]).diff(t), sym.MatMul(matJatCP2, sym.Matrix([u(t), v(t)])))\n",
    "linsys_atCP2"
   ]
  },
  {
   "cell_type": "markdown",
   "metadata": {
    "deletable": false,
    "editable": false,
    "nbgrader": {
     "cell_type": "markdown",
     "checksum": "b3914c1942272ffcab01aa86fc731bad",
     "grade": false,
     "grade_id": "Lab3_S2_06",
     "locked": true,
     "schema_version": 3,
     "solution": false,
     "task": false
    }
   },
   "source": [
    "Note that this time, the equation is expressed in terms of $u=x-\\pi$ and $v=y$ -- recall that, in general, the linearised system about $(x_0,y_0)$ is given by $$\\frac{d\\mathbf{u}}{dt}=\\mathbf{J}(x_0,y_0)\\mathbf{u},$$ where $\\mathbf{J}(x_0,y_0)$ is the Jacobian matrix evaluated at $(x_0,y_0)$ and $\\mathbf{u}=\\begin{pmatrix}u_1\\\\u_2\\end{pmatrix}=\\begin{pmatrix}x-x_0\\\\y-y_0\\end{pmatrix}$"
   ]
  },
  {
   "cell_type": "markdown",
   "metadata": {
    "deletable": false,
    "editable": false,
    "nbgrader": {
     "cell_type": "markdown",
     "checksum": "97728fb0b67caa18d78c7cc37253a751",
     "grade": false,
     "grade_id": "Lab3_S2_07",
     "locked": true,
     "schema_version": 3,
     "solution": false,
     "task": false
    }
   },
   "source": [
    "***\n",
    "### Example\n",
    "\n",
    "We can use a similar approach to solve Tutorial 5, Q1i: finding the linearisation of $$x'=(2+x)(y-x),\\quad y'=(4-x)(y+x)$$ about the critical points.\n",
    "***\n",
    "\n",
    "We start by defining the equations:"
   ]
  },
  {
   "cell_type": "code",
   "execution_count": null,
   "metadata": {},
   "outputs": [],
   "source": [
    "x = sym.Function('x')\n",
    "y = sym.Function('y')\n",
    "eq1 = sym.Eq(x(t).diff(t),(2+x(t))*(y(t)-x(t)))\n",
    "eq2 = sym.Eq(y(t).diff(t),(4-x(t))*(y(t)+x(t)))\n",
    "[eq1, eq2]"
   ]
  },
  {
   "cell_type": "markdown",
   "metadata": {
    "deletable": false,
    "editable": false,
    "nbgrader": {
     "cell_type": "markdown",
     "checksum": "e1babaf96077d60554e0632b79fb4dae",
     "grade": false,
     "grade_id": "Lab3_S2_08",
     "locked": true,
     "schema_version": 3,
     "solution": false,
     "task": false
    }
   },
   "source": [
    "Like before, we form a Matrix ready to compute the Jacobian:"
   ]
  },
  {
   "cell_type": "code",
   "execution_count": null,
   "metadata": {},
   "outputs": [],
   "source": [
    "FG = sym.Matrix([eq1.rhs, eq2.rhs])\n",
    "FG"
   ]
  },
  {
   "cell_type": "markdown",
   "metadata": {
    "deletable": false,
    "editable": false,
    "nbgrader": {
     "cell_type": "markdown",
     "checksum": "30e959a643e3660e9d53853ddd443528",
     "grade": false,
     "grade_id": "Lab3_S2_09",
     "locked": true,
     "schema_version": 3,
     "solution": false,
     "task": false
    }
   },
   "source": [
    "But first, we can use SymPy's `solve` function to find the critical points -- here, we find where `FG` is zero, which is equivalent to solving $x'=0, y'=0$:"
   ]
  },
  {
   "cell_type": "code",
   "execution_count": null,
   "metadata": {},
   "outputs": [],
   "source": [
    "sym.solve(FG)"
   ]
  },
  {
   "cell_type": "markdown",
   "metadata": {
    "deletable": false,
    "editable": false,
    "nbgrader": {
     "cell_type": "markdown",
     "checksum": "99aa37dc2020c6801ea9d44a85ef213e",
     "grade": false,
     "grade_id": "Lab3_S2_10",
     "locked": true,
     "schema_version": 3,
     "solution": false,
     "task": false
    }
   },
   "source": [
    "Now we compute the Jacobian:"
   ]
  },
  {
   "cell_type": "code",
   "execution_count": null,
   "metadata": {},
   "outputs": [],
   "source": [
    "matJ = FG.jacobian([x(t), y(t)])\n",
    "matJ"
   ]
  },
  {
   "cell_type": "markdown",
   "metadata": {
    "deletable": false,
    "editable": false,
    "nbgrader": {
     "cell_type": "markdown",
     "checksum": "ac2ef144031c60d71280483f53e7bffc",
     "grade": false,
     "grade_id": "Lab3_S2_11",
     "locked": true,
     "schema_version": 3,
     "solution": false,
     "task": false
    }
   },
   "source": [
    "The linearisation about the critical point $(0,0)$ is then:"
   ]
  },
  {
   "cell_type": "code",
   "execution_count": null,
   "metadata": {},
   "outputs": [],
   "source": [
    "lin_mat = matJ.subs({x(t):0, y(t):0})\n",
    "lin_mat"
   ]
  },
  {
   "cell_type": "code",
   "execution_count": null,
   "metadata": {},
   "outputs": [],
   "source": [
    "lin_mat * sym.Matrix([u(t),v(t)])"
   ]
  },
  {
   "cell_type": "markdown",
   "metadata": {
    "deletable": false,
    "editable": false,
    "nbgrader": {
     "cell_type": "markdown",
     "checksum": "0a8cc5ad994bcc376115e2db1305bd39",
     "grade": false,
     "grade_id": "Lab3_S2_12",
     "locked": true,
     "schema_version": 3,
     "solution": false,
     "task": false
    }
   },
   "source": [
    "Note that we can also use SymPy to help us determine the behaviour around this critical point, by computing the eigenvalues and eigenvectors:"
   ]
  },
  {
   "cell_type": "code",
   "execution_count": null,
   "metadata": {},
   "outputs": [],
   "source": [
    "lin_mat.eigenvects()"
   ]
  },
  {
   "cell_type": "markdown",
   "metadata": {
    "deletable": false,
    "editable": false,
    "nbgrader": {
     "cell_type": "markdown",
     "checksum": "c7df6588f441840405aed81274b26844",
     "grade": false,
     "grade_id": "Lab3_S2_13",
     "locked": true,
     "schema_version": 3,
     "solution": false,
     "task": false
    }
   },
   "source": [
    "If we just want the eigenvalues, we can extract them more simply as:"
   ]
  },
  {
   "cell_type": "code",
   "execution_count": null,
   "metadata": {},
   "outputs": [],
   "source": [
    "evals = list(lin_mat.eigenvals().keys())\n",
    "evals"
   ]
  },
  {
   "cell_type": "code",
   "execution_count": null,
   "metadata": {},
   "outputs": [],
   "source": [
    "list(map(sym.N, evals))"
   ]
  },
  {
   "cell_type": "markdown",
   "metadata": {
    "deletable": false,
    "editable": false,
    "nbgrader": {
     "cell_type": "markdown",
     "checksum": "a6322fb92f004a9b2578052673e27c45",
     "grade": false,
     "grade_id": "Lab3_S2_task1",
     "locked": true,
     "schema_version": 3,
     "solution": false,
     "task": false
    }
   },
   "source": [
    "<span class=\"label label-danger\">Task</span>\n",
    "What is going on in this final line of code?"
   ]
  },
  {
   "cell_type": "markdown",
   "metadata": {},
   "source": []
  },
  {
   "cell_type": "markdown",
   "metadata": {
    "deletable": false,
    "editable": false,
    "nbgrader": {
     "cell_type": "markdown",
     "checksum": "2e37997ab83f532686dce80bcb0c724f",
     "grade": false,
     "grade_id": "Lab3_S2_E1",
     "locked": true,
     "schema_version": 3,
     "solution": false,
     "task": false
    }
   },
   "source": [
    "<div class=\"alert alert-info\">\n",
    "    <h3>Exercise 2.1 </h3>\n",
    "\n",
    "Find the linearisation about each of the other critical points, and compute the eigenvalues for the corresponding linear systems.\n",
    "\n",
    "</div>"
   ]
  },
  {
   "cell_type": "code",
   "execution_count": null,
   "metadata": {
    "deletable": false,
    "nbgrader": {
     "cell_type": "code",
     "checksum": "9a3f806f0c12fbe1cd5d568802bac35b",
     "grade": false,
     "grade_id": "Lab3_S2_E1i_ans",
     "locked": false,
     "schema_version": 3,
     "solution": true,
     "task": false
    }
   },
   "outputs": [],
   "source": [
    "# Your code here for critical point (-2,2)\n",
    "# Use the variable name lin_cp2 for the linearisation\n",
    "# Store the egeinvalues in a list evals_cp2\n",
    "\n",
    "# YOUR CODE HERE\n",
    "raise NotImplementedError()"
   ]
  },
  {
   "cell_type": "code",
   "execution_count": null,
   "metadata": {
    "deletable": false,
    "editable": false,
    "nbgrader": {
     "cell_type": "code",
     "checksum": "7fd70b44f489f64c5aa3d02ed5f3ad01",
     "grade": true,
     "grade_id": "Lab3_S2_E1i_test",
     "locked": true,
     "points": 1,
     "schema_version": 3,
     "solution": false,
     "task": false
    }
   },
   "outputs": [],
   "source": [
    "# Autograded tests\n",
    "\n",
    "assert isinstance(lin_cp2,type(matJ))\n",
    "assert list(lin_cp2) == [4,0,6,6]\n",
    "print(\"✔ Your matrix has the correct entries\")\n",
    "\n",
    "assert isinstance(evals_cp2,list)\n",
    "assert len(evals_cp2) == 2\n",
    "print(\"✔ You have the correct number of eigenvalues\")\n",
    "\n",
    "assert lin_cp2 == matJ.subs({x(t):-2, y(t):2})\n",
    "print(\"✔ The linearisation is correct\")\n",
    "s_evals_cp2 = list(lin_cp2.eigenvals().keys())\n",
    "p_evals_cp2 = list(matJ.subs({x(t):-2, y(t):2}).eigenvals().keys())\n",
    "assert evals_cp2 == s_evals_cp2\n",
    "print(\"✔ The eigenvalues are correctly calculated\")\n",
    "assert evals_cp2 == p_evals_cp2\n",
    "print(\"✔ Your solution agrees with the model answer\")"
   ]
  },
  {
   "cell_type": "code",
   "execution_count": null,
   "metadata": {
    "deletable": false,
    "nbgrader": {
     "cell_type": "code",
     "checksum": "134216bccc5abd397fea4e86fc388070",
     "grade": false,
     "grade_id": "Lab3_S2_E1ii_ans",
     "locked": false,
     "schema_version": 3,
     "solution": true,
     "task": false
    }
   },
   "outputs": [],
   "source": [
    "# Your code here for critical point (4,4)\n",
    "# Use the variable name lin_cp3 for the linearisation\n",
    "# Store the critical points in a list evals_cp3\n",
    "\n",
    "# YOUR CODE HERE\n",
    "raise NotImplementedError()"
   ]
  },
  {
   "cell_type": "code",
   "execution_count": null,
   "metadata": {
    "deletable": false,
    "editable": false,
    "nbgrader": {
     "cell_type": "code",
     "checksum": "00d452fa7c8c815e27a8f25d3491a7de",
     "grade": true,
     "grade_id": "Lab3_S2_E1ii_test",
     "locked": true,
     "points": 1,
     "schema_version": 3,
     "solution": false,
     "task": false
    }
   },
   "outputs": [],
   "source": [
    "# Autograded tests\n",
    "\n",
    "assert isinstance(lin_cp3,type(matJ))\n",
    "assert list(lin_cp3) == [-6,6,-8,0]\n",
    "print(\"✔ Your matrix has the correct entries\")\n",
    "\n",
    "assert isinstance(evals_cp3,list)\n",
    "assert len(evals_cp3) == 2\n",
    "print(\"✔ You have the correct number of eigenvalues\")\n",
    "\n",
    "assert lin_cp3 == matJ.subs({x(t):4, y(t):4})\n",
    "print(\"✔ The linearisation is correct\")\n",
    "s_evals_cp3 = list(lin_cp3.eigenvals().keys())\n",
    "p_evals_cp3 = list(matJ.subs({x(t):4, y(t):4}).eigenvals().keys())\n",
    "assert evals_cp3 == s_evals_cp3\n",
    "print(\"✔ The eigenvalues are correctly calculated\")\n",
    "assert evals_cp3 == p_evals_cp3\n",
    "print(\"✔ Your solution agrees with the model answer\")"
   ]
  },
  {
   "cell_type": "markdown",
   "metadata": {
    "deletable": false,
    "editable": false,
    "nbgrader": {
     "cell_type": "markdown",
     "checksum": "d99ea347d1b40d76cad60274490efcc9",
     "grade": false,
     "grade_id": "Lab3_S2_E2",
     "locked": true,
     "schema_version": 3,
     "solution": false,
     "task": false
    }
   },
   "source": [
    "<div class=\"alert alert-info\">\n",
    "    <h3>Exercise 2.2</h3>\n",
    "\n",
    "**(a)** Create two functions to carry out this process:\n",
    "\n",
    "* `lin_matrix` which takes in a system of two equations (given as a list of SymPy Equations) and the coordinates of a point (given as a list), and returns the Jacobian matrix of the system evaluated at that point. \n",
    "\n",
    "* `linearise` which takes in the same arguments, and returns a system of linear equations in $u$ and $v$. \n",
    "\n",
    "**(b)** Use your functions to solve problem 11 from section 9.3 of Boyce & DiPrima:\n",
    "\n",
    "Find all the critical points of the system $$x'=x-x^2-xy,\\quad y'=3y-xy-2y^2$$ and find the corresponding linear system near each critical point.\n",
    "\n",
    "</div>\n",
    "\n",
    "As an example, your functions in (a) should produce the following output using the equations defined in the previous example:\n",
    "\n",
    "`lin_matrix([eq1,eq2],[0,0])`\n",
    "\n",
    "$\\displaystyle \\left[\\begin{matrix}-2 & 2\\\\4 & 4\\end{matrix}\\right]$\n",
    "\n",
    "`linearise([eq1,eq2],[0,0])`\n",
    "\n",
    "$\\displaystyle \\left[ \\frac{d}{d t} u{\\left(t \\right)} = - 2 u{\\left(t \\right)} + 2 v{\\left(t \\right)}, \\  \\frac{d}{d t} v{\\left(t \\right)} = 4 u{\\left(t \\right)} + 4 v{\\left(t \\right)}\\right]$\n"
   ]
  },
  {
   "cell_type": "code",
   "execution_count": null,
   "metadata": {
    "deletable": false,
    "nbgrader": {
     "cell_type": "code",
     "checksum": "1d091659cfaf28fe3e92a80439b7309a",
     "grade": false,
     "grade_id": "Lab3_S2_E2ai_ans",
     "locked": false,
     "schema_version": 3,
     "solution": true,
     "task": false
    }
   },
   "outputs": [],
   "source": [
    "# For part (a)\n",
    "# Create the function lin_matrix\n",
    "\n",
    "# YOUR CODE HERE\n",
    "raise NotImplementedError()"
   ]
  },
  {
   "cell_type": "code",
   "execution_count": null,
   "metadata": {
    "deletable": false,
    "editable": false,
    "nbgrader": {
     "cell_type": "code",
     "checksum": "bf88beb29ebc4bf1df122f601b7e91cd",
     "grade": true,
     "grade_id": "Lab3_S2_E2ai_test",
     "locked": true,
     "points": 1,
     "schema_version": 3,
     "solution": false,
     "task": false
    }
   },
   "outputs": [],
   "source": [
    "# Autograder test \n",
    "\n",
    "from inspect import signature\n",
    "function_signature = signature(eval(\"lin_matrix\"))\n",
    "assert len(function_signature.parameters) == 2\n",
    "print(\"✔ lin_matrix has the correct number of arguments\")\n",
    "\n",
    "assert lin_matrix([eq1,eq2],[0,0]) == sym.Matrix(2,2,[-2,2,4,4])\n",
    "print(\"✔ Your solution produces the correct output for eq1 and eq2\")"
   ]
  },
  {
   "cell_type": "code",
   "execution_count": null,
   "metadata": {
    "deletable": false,
    "nbgrader": {
     "cell_type": "code",
     "checksum": "b1c4e0feb89342edd0b7a3eed7206352",
     "grade": false,
     "grade_id": "Lab3_S2_E2aii_ans",
     "locked": false,
     "schema_version": 3,
     "solution": true,
     "task": false
    }
   },
   "outputs": [],
   "source": [
    "# For part (a)\n",
    "# Create the function linearise\n",
    "\n",
    "# YOUR CODE HERE\n",
    "raise NotImplementedError()"
   ]
  },
  {
   "cell_type": "code",
   "execution_count": null,
   "metadata": {
    "deletable": false,
    "editable": false,
    "nbgrader": {
     "cell_type": "code",
     "checksum": "e358ac4aec3a21959beadbd07bdeeb2a",
     "grade": true,
     "grade_id": "Lab3_S2_E2aii_test",
     "locked": true,
     "points": 1,
     "schema_version": 3,
     "solution": false,
     "task": false
    }
   },
   "outputs": [],
   "source": [
    "# Autograder test \n",
    "\n",
    "from inspect import signature\n",
    "function_signature = signature(eval(\"linearise\"))\n",
    "assert len(function_signature.parameters) == 2\n",
    "print(\"✔ lin_matrix has the correct number of arguments\")\n",
    "\n",
    "assert linearise([eq1,eq2],[0,0]) == [sym.Eq(u(t).diff(t),-2*u(t)+2*v(t)),\n",
    "                                     sym.Eq(v(t).diff(t),4*u(t)+4*v(t))]\n",
    "print(\"✔ Your solution produces the correct output for eq1 and eq2\")"
   ]
  },
  {
   "cell_type": "code",
   "execution_count": null,
   "metadata": {
    "deletable": false,
    "nbgrader": {
     "cell_type": "code",
     "checksum": "f3f10322c9b5357c116a3cf4a6ed8634",
     "grade": false,
     "grade_id": "Lab3_S2_E2bi_ans",
     "locked": false,
     "schema_version": 3,
     "solution": true,
     "task": false
    }
   },
   "outputs": [],
   "source": [
    "# For part (b)\n",
    "# Enter the system of equations and display it as a list\n",
    "\n",
    "# YOUR CODE HERE\n",
    "raise NotImplementedError()"
   ]
  },
  {
   "cell_type": "code",
   "execution_count": null,
   "metadata": {
    "deletable": false,
    "editable": false,
    "nbgrader": {
     "cell_type": "code",
     "checksum": "d5519f16485715af92b243aaf146614b",
     "grade": true,
     "grade_id": "Lab3_S2_E2bi_test",
     "locked": true,
     "points": 0,
     "schema_version": 3,
     "solution": false,
     "task": false
    }
   },
   "outputs": [],
   "source": [
    "# Autograder test \n",
    "\n",
    "assert (_ == [sym.Eq(x(t).diff(t), x(t)-x(t)**2-x(t)*y(t)),\n",
    "              sym.Eq(y(t).diff(t), 3*y(t)-x(t)*y(t)-2*y(t)**2)] \n",
    "        or _ == [sym.Eq(y(t).diff(t), 3*y(t)-x(t)*y(t)-2*y(t)**2),\n",
    "                 sym.Eq(x(t).diff(t), x(t)-x(t)**2-x(t)*y(t))])\n",
    "print(\"✔ You correctly displayed the system \")"
   ]
  },
  {
   "cell_type": "code",
   "execution_count": null,
   "metadata": {
    "deletable": false,
    "nbgrader": {
     "cell_type": "code",
     "checksum": "4add6ebab57261ab470752bf1b2d2184",
     "grade": false,
     "grade_id": "Lab3_S2_E2bii_ans",
     "locked": false,
     "schema_version": 3,
     "solution": true,
     "task": false
    }
   },
   "outputs": [],
   "source": [
    "# For part (b)\n",
    "# Find the critical points and display them\n",
    "# Use the variable name CPs for the array of critical points\n",
    "\n",
    "# YOUR CODE HERE\n",
    "raise NotImplementedError()"
   ]
  },
  {
   "cell_type": "code",
   "execution_count": null,
   "metadata": {
    "deletable": false,
    "editable": false,
    "nbgrader": {
     "cell_type": "code",
     "checksum": "e3e8f9f552f2c26d7c35112334026377",
     "grade": true,
     "grade_id": "Lab3_S2_E2bii_test",
     "locked": true,
     "points": 0,
     "schema_version": 3,
     "solution": false,
     "task": false
    }
   },
   "outputs": [],
   "source": [
    "# Autograder test\n",
    "your_output = _\n",
    "type(your_output) == list\n",
    "len(your_output) == 4\n",
    "print(\"✔ You displayed a list of the correct length\")\n"
   ]
  },
  {
   "cell_type": "code",
   "execution_count": null,
   "metadata": {
    "deletable": false,
    "nbgrader": {
     "cell_type": "code",
     "checksum": "a25dda541eced057c5845df240f2bb82",
     "grade": false,
     "grade_id": "Lab3_S2_E2biii_ans",
     "locked": false,
     "schema_version": 3,
     "solution": true,
     "task": false
    }
   },
   "outputs": [],
   "source": [
    "# For part (b)\n",
    "# Find the linearisations and show the details\n",
    "\n",
    "# YOUR CODE HERE\n",
    "raise NotImplementedError()"
   ]
  },
  {
   "cell_type": "markdown",
   "metadata": {
    "deletable": false,
    "editable": false,
    "nbgrader": {
     "cell_type": "markdown",
     "checksum": "4196cae055ca02145ef17e7ed0da82b1",
     "grade": false,
     "grade_id": "Lab3_S3_01",
     "locked": true,
     "schema_version": 3,
     "solution": false,
     "task": false
    }
   },
   "source": [
    "## 3. Phase portraits\n",
    "\n",
    "Plottng phase portraits can help to understand the behaviour of a nonlinear system, by showing what is happening to solution trajectories in the phase space and how this links to the linearised behaviour around the critical points.\n",
    "\n",
    "We will base our approach on the sample code that Jacques provided in the `vectorFields.ipynb` notebook posted on Learn -- the following code comes from there, and shows a phase portrait for the pendulum (which was the first example in section 2, here with $\\gamma=0, \\omega=1$)."
   ]
  },
  {
   "cell_type": "code",
   "execution_count": 8,
   "metadata": {},
   "outputs": [
    {
     "data": {
      "image/png": "[encoded data removed]",
      "text/plain": [
       "<Figure size 720x504 with 1 Axes>"
      ]
     },
     "metadata": {
      "needs_background": "light"
     },
     "output_type": "display_data"
    }
   ],
   "source": [
    "# Import packages\n",
    "\n",
    "import numpy as np\n",
    "from matplotlib import pyplot as plt\n",
    "from scipy.integrate import odeint\n",
    "%matplotlib inline\n",
    "\n",
    "# Define vector field\n",
    "\n",
    "def vField(x,t):\n",
    "    u = x[1]\n",
    "    v = -np.sin(x[0])\n",
    "    return [u,v]\n",
    "\n",
    "# Plot vector field\n",
    "\n",
    "X, Y = np.mgrid[-np.pi:np.pi:10j,-7:7:10j]\n",
    "U, V = vField([X,Y],0)\n",
    "\n",
    "fig, ax = plt.subplots(figsize=(10, 7))\n",
    "ax.quiver(X, Y, U, V)\n",
    "\n",
    "# Compute and plot 4 trajectories\n",
    "\n",
    "t=np.linspace(0,2,100)\n",
    "x0, y0 = -3,4\n",
    "x = odeint(vField,[x0,y0],t)\n",
    "ax.plot(x[:,0],x[:,1]);\n",
    "\n",
    "t=np.linspace(0,8,100)\n",
    "x0, y0 = 0,1\n",
    "x = odeint(vField,[x0,y0],t)\n",
    "ax.plot(x[:,0],x[:,1]);\n",
    "\n",
    "t=np.linspace(0,12,100)\n",
    "x0, y0 = -2,1\n",
    "x = odeint(vField,[x0,y0],t)\n",
    "ax.plot(x[:,0],x[:,1]);\n",
    "\n",
    "t=np.linspace(0,2,100)\n",
    "x0, y0 = 3,-4\n",
    "x = odeint(vField,[x0,y0],t)\n",
    "ax.plot(x[:,0],x[:,1]);\n",
    "\n",
    "# \n",
    "\n",
    "plt.xlabel('x')\n",
    "plt.ylabel('y')\n",
    "plt.xlim(-3,3)\n",
    "\n",
    "plt.show()"
   ]
  },
  {
   "cell_type": "markdown",
   "metadata": {
    "deletable": false,
    "editable": false,
    "nbgrader": {
     "cell_type": "markdown",
     "checksum": "a398b46c28ee91fba084faf8f8b9edf4",
     "grade": false,
     "grade_id": "Lab3_S3_task1",
     "locked": true,
     "schema_version": 3,
     "solution": false,
     "task": false
    }
   },
   "source": [
    "Here we make several changes to the plot:\n",
    "\n",
    "* increasing the plot area and using a finer grid,\n",
    "* setting the colours using [colormaps](https://matplotlib.org/examples/color/colormaps_reference.html),\n",
    "* changing some settings on the `quiver` which is used to produce the direction field, e.g. making the arrows centred at the points of the grid,\n",
    "* using a loop to draw the trajectories,\n",
    "* adding a few more trajectories to highlight features,\n",
    "* adding points (in blue) to show where the trajectories started,\n",
    "* adding the legend to the plot.\n",
    "\n",
    "<span class=\"label label-danger\">Task</span>\n",
    "Make sure you can see all of these changes in the code. Play around with them by adjusting the various settings, e.g. make the grid more or less fine, change the scale of the arrows in the direction field, etc."
   ]
  },
  {
   "cell_type": "code",
   "execution_count": 9,
   "metadata": {},
   "outputs": [
    {
     "data": {
      "image/png": "[encoded data removed]",
      "text/plain": [
       "<Figure size 720x504 with 1 Axes>"
      ]
     },
     "metadata": {
      "needs_background": "light"
     },
     "output_type": "display_data"
    }
   ],
   "source": [
    "# Define vector field\n",
    "def vField(x,t):\n",
    "    u = x[1]\n",
    "    v = -np.sin(x[0])\n",
    "    return [u,v]\n",
    "\n",
    "# Plot vector field\n",
    "X, Y = np.mgrid[-2*np.pi:2*np.pi:30j,-7:7:20j]\n",
    "U, V = vField([X,Y],0)\n",
    "\n",
    "# define colours for each vector based on their lengths\n",
    "M = np.hypot(U, V)\n",
    "\n",
    "fig, ax = plt.subplots(figsize=(10, 7))\n",
    "ax.quiver(X, Y, U, V, M, scale=1/0.01, pivot = 'mid', cmap = plt.cm.bone)\n",
    "\n",
    "# Settings for trajectories\n",
    "ics  = [[-6,4], [0,1], [-2,1], [6,-4], [-4,2], [-4, 1], [4, -1], [-5, 1.5], [5, -1.5]]\n",
    "durations = [[0,4], [0,8], [0,12], [0,4], [0,4], [0,8], [0,8], [0,4], [0,4]]\n",
    "vcolors = plt.cm.autumn_r(np.linspace(0.5, 1., len(ics)))  # colors for each trajectory\n",
    "\n",
    "# plot trajectories\n",
    "for i, ic in enumerate(ics):\n",
    "    t = np.linspace(durations[i][0], durations[i][1],100)\n",
    "    x = odeint(vField, ic, t)\n",
    "    ax.plot(x[:,0], x[:,1], color=vcolors[i], label='X0=(%.f, %.f)' % (ic[0], ic[1]) )\n",
    "\n",
    "ic_x = [ic[0] for ic in ics]\n",
    "ic_y = [ic[1] for ic in ics]\n",
    "ax.scatter(ic_x, ic_y, color='blue', s=20)\n",
    "# note: you can replace ic_x, ic_y with *list(zip(*ics)) but this is a bit cryptic!\n",
    "\n",
    "plt.xlabel('x')\n",
    "plt.ylabel('y')\n",
    "plt.xlim(-6,6)\n",
    "plt.legend()\n",
    "\n",
    "plt.show()"
   ]
  },
  {
   "cell_type": "markdown",
   "metadata": {
    "deletable": false,
    "editable": false,
    "nbgrader": {
     "cell_type": "markdown",
     "checksum": "d6fb301b93ebac72432481a00fb10f89",
     "grade": false,
     "grade_id": "Lab3_S3_E1",
     "locked": true,
     "schema_version": 3,
     "solution": false,
     "task": false
    }
   },
   "source": [
    "<div class=\"alert alert-info\">\n",
    "    <h3>Exercise 3.1</h3>\n",
    "\n",
    "Produce phase portraits for the following systems in Tutorial 5 Q2:\n",
    "\n",
    "**(i)** $\\mathbf{x}'=\\begin{pmatrix}3 & -2\\\\2 & -2\\end{pmatrix}\\mathbf{x}$\n",
    "\n",
    "**(iii)** $\\mathbf{x}'=\\begin{pmatrix}1 & -4\\\\4 & -7\\end{pmatrix}\\mathbf{x}$\n",
    "\n",
    "</div>\n",
    "\n",
    "_Note:_ Choosing good starting points for the trajectories is a bit of an art; you will need to adjust the values that you pick to find the best ones. You might also find that plotting the trajectories over a duration which is too long will cause the plot to break -- either you will get an error message saying the execution took too long, or you will find that the trajectory has shot well beyond the grid of arrows -- so you should adjust these values carefully too."
   ]
  },
  {
   "cell_type": "code",
   "execution_count": null,
   "metadata": {
    "deletable": false,
    "nbgrader": {
     "cell_type": "code",
     "checksum": "7b8ec713a8ca1d16f2ecfa1fba1bd61d",
     "grade": false,
     "grade_id": "Lab3_S3_E1i_ans",
     "locked": false,
     "schema_version": 3,
     "solution": true,
     "task": false
    }
   },
   "outputs": [],
   "source": [
    "# your code here for part (i)\n",
    "\n",
    "# YOUR CODE HERE\n",
    "raise NotImplementedError()"
   ]
  },
  {
   "cell_type": "code",
   "execution_count": null,
   "metadata": {
    "deletable": false,
    "nbgrader": {
     "cell_type": "code",
     "checksum": "906d932fb7bb4209800e8546e48a27b1",
     "grade": false,
     "grade_id": "Lab3_S3_E1iii_ans",
     "locked": false,
     "schema_version": 3,
     "solution": true,
     "task": false
    }
   },
   "outputs": [],
   "source": [
    "# your code here for part (iii)\n",
    "\n",
    "# YOUR CODE HERE\n",
    "raise NotImplementedError()"
   ]
  },
  {
   "cell_type": "markdown",
   "metadata": {
    "deletable": false,
    "editable": false,
    "nbgrader": {
     "cell_type": "markdown",
     "checksum": "c069a90895bf124e830217ac91f07cc3",
     "grade": false,
     "grade_id": "Lab3_S3_E2",
     "locked": true,
     "schema_version": 3,
     "solution": false,
     "task": false
    }
   },
   "source": [
    "<div class=\"alert alert-info\">\n",
    "    <h3>Exercise 3.2</h3>\n",
    "\n",
    "Produce a phase portrait for the system we analysed in Exercise 2.2(b). Make sure you show the features around all of the critical points.\n",
    "\n",
    "</div>\n"
   ]
  },
  {
   "cell_type": "code",
   "execution_count": null,
   "metadata": {
    "deletable": false,
    "nbgrader": {
     "cell_type": "code",
     "checksum": "60796951bd7a6141abd889456320cf4a",
     "grade": false,
     "grade_id": "Lab3_S3_E2_ans",
     "locked": false,
     "schema_version": 3,
     "solution": true,
     "task": false
    }
   },
   "outputs": [],
   "source": [
    "# your code here\n",
    "\n",
    "# YOUR CODE HERE\n",
    "raise NotImplementedError()"
   ]
  },
  {
   "cell_type": "code",
   "execution_count": null,
   "metadata": {},
   "outputs": [],
   "source": []
  }
 ],
 "metadata": {
  "kernelspec": {
   "display_name": "Python 3",
   "language": "python",
   "name": "python3"
  },
  "language_info": {
   "codemirror_mode": {
    "name": "ipython",
    "version": 3
   },
   "file_extension": ".py",
   "mimetype": "text/x-python",
   "name": "python",
   "nbconvert_exporter": "python",
   "pygments_lexer": "ipython3",
   "version": "3.8.3"
  }
 },
 "nbformat": 4,
 "nbformat_minor": 2
}
