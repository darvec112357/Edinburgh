{
 "cells": [
  {
   "cell_type": "markdown",
   "metadata": {
    "deletable": false,
    "editable": false,
    "nbgrader": {
     "cell_type": "markdown",
     "checksum": "cedba7e2fc35481c4040d07a3e740fcf",
     "grade": false,
     "grade_id": "Lab1_title",
     "locked": true,
     "schema_version": 3,
     "solution": false,
     "task": false
    }
   },
   "source": [
    "# Lab 1: Python and differential equations\n",
    "\n",
    "In this notebook we will use Python to solve some differential equations, and to visualise the solutions. We will build on this work in later labs to do more sophisticated analyses, and to consider more complicated differential equations.\n",
    "\n",
    "For now, we will see how to use Python in 4 ways:\n",
    "\n",
    "|                Method of solution: | Symbolic | Numerical |\n",
    "|-----------------------------------:|----------|-----------|\n",
    "| First order ODEs                   |    §1    |     §3    |\n",
    "| Systems of first order ODEs        |    §2    |     §4    |\n",
    "\n",
    "### How to use this notebook\n",
    "The notebook is made up of various \"cells\" which either contain Python code or formatted text.\n",
    "\n",
    "To execute the code blocks, click on them and press <kbd>>| Run</kbd> on the toolbar above, or type <kbd>Shift</kbd>+<kbd>Enter</kbd>.\n",
    "\n",
    "[Further help on editing notebooks](https://nbviewer.jupyter.org/github/jupyter/notebook/blob/master/docs/source/examples/Notebook/Notebook%20Basics.ipynb#Overview-of-the-Notebook-UI)"
   ]
  },
  {
   "cell_type": "markdown",
   "metadata": {
    "deletable": false,
    "editable": false,
    "nbgrader": {
     "cell_type": "markdown",
     "checksum": "eb0a524976d8e99001ce45da1b3d7e89",
     "grade": false,
     "grade_id": "Lab1_S1_title",
     "locked": true,
     "schema_version": 3,
     "solution": false,
     "task": false
    }
   },
   "source": [
    "# 1. Symbolic solution of ODEs"
   ]
  },
  {
   "cell_type": "markdown",
   "metadata": {
    "deletable": false,
    "editable": false,
    "nbgrader": {
     "cell_type": "markdown",
     "checksum": "9d3aa11d7837eb19d950cc83446074e5",
     "grade": false,
     "grade_id": "Lab1_S1_01",
     "locked": true,
     "schema_version": 3,
     "solution": false,
     "task": false
    }
   },
   "source": [
    "We can use Python to find the exact symbolic solution to ODEs that we might otherwise solve by hand.\n",
    "\n",
    "To show this in action, we will solve a simple example from the textbook, of a first-order linear ODE. The following is Example 3 on p35 of Boyce and DiPrima (10th Edition).\n",
    "\n",
    "***\n",
    "### Example\n",
    "Find the general solution of the first-order differential equation $$\\frac{dy}{dt}-2y=4-t$$ and plot the graphs of several solutions.\n",
    "***"
   ]
  },
  {
   "cell_type": "markdown",
   "metadata": {
    "deletable": false,
    "editable": false,
    "nbgrader": {
     "cell_type": "markdown",
     "checksum": "e952672d2c5a053763e97c008047baf1",
     "grade": false,
     "grade_id": "Lab1_S1_02",
     "locked": true,
     "schema_version": 3,
     "solution": false,
     "task": false
    }
   },
   "source": [
    "We will use the [SymPy package](https://www.sympy.org/en/index.html) to do the calculations. The first step is to solve the equation -- we do that in the following block of code. Read the code carefully and see if you can make sense of it, then see below for a detailed walk through the code."
   ]
  },
  {
   "cell_type": "code",
   "execution_count": 4,
   "metadata": {},
   "outputs": [
    {
     "name": "stdout",
     "output_type": "stream",
     "text": [
      "The equation\n"
     ]
    },
    {
     "data": {
      "text/latex": [
       "$\\displaystyle - 2 y{\\left(t \\right)} + \\frac{d}{d t} y{\\left(t \\right)} = 4 - t$"
      ]
     },
     "metadata": {},
     "output_type": "display_data"
    },
    {
     "name": "stdout",
     "output_type": "stream",
     "text": [
      "has solutions\n"
     ]
    },
    {
     "data": {
      "text/latex": [
       "$\\displaystyle y{\\left(t \\right)} = \\left(C_{1} + \\frac{\\left(2 t - 7\\right) e^{- 2 t}}{4}\\right) e^{2 t}$"
      ]
     },
     "metadata": {},
     "output_type": "display_data"
    },
    {
     "name": "stdout",
     "output_type": "stream",
     "text": [
      "or equivalently\n"
     ]
    },
    {
     "data": {
      "text/latex": [
       "$\\displaystyle y{\\left(t \\right)} = C_{1} e^{2 t} + \\frac{t}{2} - \\frac{7}{4}$"
      ]
     },
     "metadata": {},
     "output_type": "display_data"
    }
   ],
   "source": [
    "import sympy as sym\n",
    "sym.init_printing()\n",
    "from IPython.display import display_latex\n",
    "\n",
    "# Define the equation\n",
    "t = sym.symbols('t')\n",
    "y = sym.Function('y')\n",
    "eq1 = sym.Eq(y(t).diff(t)-2*y(t), 4-t)\n",
    "print(\"The equation\")\n",
    "display_latex(eq1)\n",
    "\n",
    "# Solve the equation\n",
    "eq1sol = sym.dsolve(eq1, y(t))\n",
    "print(\"has solutions\")\n",
    "display_latex(eq1sol)\n",
    "print(\"or equivalently\")\n",
    "display_latex(sym.simplify(eq1sol))"
   ]
  },
  {
   "cell_type": "markdown",
   "metadata": {
    "deletable": false,
    "editable": false,
    "nbgrader": {
     "cell_type": "markdown",
     "checksum": "116aca357f0a46c7d0adc35f52a9baff",
     "grade": false,
     "grade_id": "Lab1_S1_03",
     "locked": true,
     "schema_version": 3,
     "solution": false,
     "task": false
    }
   },
   "source": [
    "#### Detailed explanation\n",
    "\n",
    "First, we load up the package and adjust some settings so that the output prints nicely (e.g. like $x^2$ rather than `x ** 2`):"
   ]
  },
  {
   "cell_type": "code",
   "execution_count": 5,
   "metadata": {},
   "outputs": [],
   "source": [
    "import sympy as sym\n",
    "sym.init_printing()\n",
    "from IPython.display import display_latex"
   ]
  },
  {
   "cell_type": "markdown",
   "metadata": {
    "deletable": false,
    "editable": false,
    "nbgrader": {
     "cell_type": "markdown",
     "checksum": "dab2b0f1de3b6fc1906be44ba01d5723",
     "grade": false,
     "grade_id": "Lab1_S1_04",
     "locked": true,
     "schema_version": 3,
     "solution": false,
     "task": false
    }
   },
   "source": [
    "Now that we have imported the SymPy package, we can make use of its functions to do things. An example of that was `sym.init_printing()` which called the [init_printing](https://docs.sympy.org/latest/tutorial/printing.html) function to set up the way output is printed.\n",
    "\n",
    "Conveniently, SymPy has the function [dsolve](https://docs.sympy.org/latest/modules/solvers/ode.html) which can be used to solve ODEs -- but first, we need to set up the ODE as an object that SymPy can understand."
   ]
  },
  {
   "cell_type": "code",
   "execution_count": 6,
   "metadata": {},
   "outputs": [
    {
     "data": {
      "image/png": "[encoded data removed]",
      "text/latex": [
       "$\\displaystyle - 2 y{\\left(t \\right)} + \\frac{d}{d t} y{\\left(t \\right)} = 4 - t$"
      ],
      "text/plain": [
       "          d               \n",
       "-2⋅y(t) + ──(y(t)) = 4 - t\n",
       "          dt              "
      ]
     },
     "execution_count": 6,
     "metadata": {},
     "output_type": "execute_result"
    }
   ],
   "source": [
    "t = sym.symbols('t')\n",
    "y = sym.Function('y')\n",
    "eq1 = sym.Eq(y(t).diff(t)-2*y(t), 4-t)\n",
    "eq1"
   ]
  },
  {
   "cell_type": "markdown",
   "metadata": {
    "deletable": false,
    "editable": false,
    "nbgrader": {
     "cell_type": "markdown",
     "checksum": "97469c4d29dd53d58a77d902e5948bac",
     "grade": false,
     "grade_id": "Lab1_S1_05",
     "locked": true,
     "schema_version": 3,
     "solution": false,
     "task": false
    }
   },
   "source": [
    "There are some important things going on here:\n",
    "\n",
    "* to use variables like $x$, $y$ and $t$ with SymPy, you need to first define these as symbols (for variables like $t$) or Functions (like $y$ here, which is a function of $t$).\n",
    "\n",
    "* to write the equation, we use `sym.Eq(A,B)` to stand for $A=B$.\n",
    "\n",
    "* the derivative $\\frac{dy}{dt}$ is expressed as `y(t).diff(t)`, which you can think of as saying \"take `y(t)` and then `diff`erentiate with respect to `t`\". This is actually just a shorter way of using SymPy's `diff` function -- either way works:"
   ]
  },
  {
   "cell_type": "code",
   "execution_count": 7,
   "metadata": {},
   "outputs": [
    {
     "data": {
      "text/plain": [
       "True"
      ]
     },
     "execution_count": 7,
     "metadata": {},
     "output_type": "execute_result"
    }
   ],
   "source": [
    "y(t).diff(t) == sym.diff(y(t), t)"
   ]
  },
  {
   "cell_type": "markdown",
   "metadata": {
    "deletable": false,
    "editable": false,
    "nbgrader": {
     "cell_type": "markdown",
     "checksum": "d71b30cbba8c3adb35fba45690b668e4",
     "grade": false,
     "grade_id": "Lab1_S1_06",
     "locked": true,
     "schema_version": 3,
     "solution": false,
     "task": false
    }
   },
   "source": [
    "We're now ready to use `dsolve`:"
   ]
  },
  {
   "cell_type": "code",
   "execution_count": 8,
   "metadata": {},
   "outputs": [
    {
     "data": {
      "image/png": "[encoded data removed]",
      "text/latex": [
       "$\\displaystyle y{\\left(t \\right)} = \\left(C_{1} + \\frac{\\left(2 t - 7\\right) e^{- 2 t}}{4}\\right) e^{2 t}$"
      ],
      "text/plain": [
       "       ⎛                -2⋅t⎞     \n",
       "       ⎜     (2⋅t - 7)⋅ℯ    ⎟  2⋅t\n",
       "y(t) = ⎜C₁ + ───────────────⎟⋅ℯ   \n",
       "       ⎝            4       ⎠     "
      ]
     },
     "execution_count": 8,
     "metadata": {},
     "output_type": "execute_result"
    }
   ],
   "source": [
    "eq1sol = sym.dsolve(eq1, y(t))\n",
    "eq1sol"
   ]
  },
  {
   "cell_type": "markdown",
   "metadata": {
    "deletable": false,
    "editable": false,
    "nbgrader": {
     "cell_type": "markdown",
     "checksum": "b1bb7a7bf6c8cda1834d055e9baaea5e",
     "grade": false,
     "grade_id": "Lab1_S1_07",
     "locked": true,
     "schema_version": 3,
     "solution": false,
     "task": false
    }
   },
   "source": [
    "This does not quite look like the solution shown in Boyce & DiPrima, but that's only because the solution has been factorised in a strange way. We can use SymPy's [simplify](https://docs.sympy.org/latest/tutorial/simplification.html) function to sort this out:"
   ]
  },
  {
   "cell_type": "code",
   "execution_count": 9,
   "metadata": {},
   "outputs": [
    {
     "data": {
      "image/png": "[encoded data removed]",
      "text/latex": [
       "$\\displaystyle y{\\left(t \\right)} = C_{1} e^{2 t} + \\frac{t}{2} - \\frac{7}{4}$"
      ],
      "text/plain": [
       "           2⋅t   t   7\n",
       "y(t) = C₁⋅ℯ    + ─ - ─\n",
       "                 2   4"
      ]
     },
     "execution_count": 9,
     "metadata": {},
     "output_type": "execute_result"
    }
   ],
   "source": [
    "sym.simplify(eq1sol)"
   ]
  },
  {
   "cell_type": "markdown",
   "metadata": {
    "deletable": false,
    "editable": false,
    "nbgrader": {
     "cell_type": "markdown",
     "checksum": "fc2e7eeb004a127b9c80e0380bf6ec39",
     "grade": false,
     "grade_id": "Lab1_S1_08",
     "locked": true,
     "schema_version": 3,
     "solution": false,
     "task": false
    }
   },
   "source": [
    "This looks more like it.\n",
    "\n",
    "### Plotting solutions\n",
    "\n",
    "Now, we plot one possible solution, with the initial condition $y(0)=0$:"
   ]
  },
  {
   "cell_type": "code",
   "execution_count": 10,
   "metadata": {},
   "outputs": [
    {
     "data": {
      "text/latex": [
       "$\\displaystyle y{\\left(t \\right)} = \\frac{t}{2} + \\frac{7 e^{2 t}}{4} - \\frac{7}{4}$"
      ]
     },
     "metadata": {},
     "output_type": "display_data"
    },
    {
     "data": {
      "image/png": "[encoded data removed]",
      "text/plain": [
       "<Figure size 432x288 with 1 Axes>"
      ]
     },
     "metadata": {
      "needs_background": "light"
     },
     "output_type": "display_data"
    },
    {
     "data": {
      "text/plain": [
       "<sympy.plotting.plot.Plot at 0x1e412087610>"
      ]
     },
     "execution_count": 10,
     "metadata": {},
     "output_type": "execute_result"
    }
   ],
   "source": [
    "import sympy.plotting as sym_plot\n",
    "eq1sol0 = sym.dsolve(eq1, y(t), ics={y(0):0})\n",
    "display_latex(sym.simplify(eq1sol0))\n",
    "sym_plot.plot(eq1sol0.rhs, (t,0,2), xlabel = 't', ylabel = 'y')"
   ]
  },
  {
   "cell_type": "markdown",
   "metadata": {
    "deletable": false,
    "editable": false,
    "nbgrader": {
     "cell_type": "markdown",
     "checksum": "34612fbd22e02769b64b944af15440cd",
     "grade": false,
     "grade_id": "Lab1_S1_task1",
     "locked": true,
     "schema_version": 3,
     "solution": false,
     "task": false
    }
   },
   "source": [
    "<span class=\"label label-danger\">Task</span>\n",
    "Copy the plotting code into the box below, and modify it to produce a plot of the solution with $y(0)=-1$."
   ]
  },
  {
   "cell_type": "code",
   "execution_count": 11,
   "metadata": {
    "deletable": false,
    "nbgrader": {
     "cell_type": "code",
     "checksum": "94071630cb3758da59b7a80e7979cb2d",
     "grade": false,
     "grade_id": "Lab1_S1_task1_answer",
     "locked": false,
     "schema_version": 3,
     "solution": true,
     "task": false
    }
   },
   "outputs": [
    {
     "data": {
      "text/latex": [
       "$\\displaystyle y{\\left(t \\right)} = \\frac{t}{2} + \\frac{3 e^{2 t}}{4} - \\frac{7}{4}$"
      ]
     },
     "metadata": {},
     "output_type": "display_data"
    },
    {
     "data": {
      "image/png": "[encoded data removed]",
      "text/plain": [
       "<Figure size 432x288 with 1 Axes>"
      ]
     },
     "metadata": {
      "needs_background": "light"
     },
     "output_type": "display_data"
    },
    {
     "data": {
      "text/plain": [
       "<sympy.plotting.plot.Plot at 0x1e413bffe50>"
      ]
     },
     "execution_count": 11,
     "metadata": {},
     "output_type": "execute_result"
    }
   ],
   "source": [
    "# Your code here\n",
    "eq1sol1 = sym.dsolve(eq1, y(t), ics={y(0):-1})\n",
    "display_latex(sym.simplify(eq1sol1))\n",
    "sym_plot.plot(eq1sol1.rhs, (t,0,2), xlabel = 't', ylabel = 'y')"
   ]
  },
  {
   "cell_type": "markdown",
   "metadata": {
    "deletable": false,
    "editable": false,
    "nbgrader": {
     "cell_type": "markdown",
     "checksum": "867dff860e36b27bbea75c1ae513fd03",
     "grade": false,
     "grade_id": "Lab1_S1_09",
     "locked": true,
     "schema_version": 3,
     "solution": false,
     "task": false
    }
   },
   "source": [
    "To plot several solutions, we need to pick different choices of initial condition."
   ]
  },
  {
   "cell_type": "code",
   "execution_count": 12,
   "metadata": {},
   "outputs": [
    {
     "data": {
      "image/png": "[encoded data removed]",
      "text/plain": [
       "<Figure size 432x288 with 1 Axes>"
      ]
     },
     "metadata": {
      "needs_background": "light"
     },
     "output_type": "display_data"
    },
    {
     "data": {
      "text/plain": [
       "<sympy.plotting.plot.Plot at 0x1e4120b0d60>"
      ]
     },
     "execution_count": 12,
     "metadata": {},
     "output_type": "execute_result"
    }
   ],
   "source": [
    "eq1sol1 = sym.dsolve(eq1, y(t), ics={y(0):-1})\n",
    "eq1sol2 = sym.dsolve(eq1, y(t), ics={y(0):-2})\n",
    "eq1sol3 = sym.dsolve(eq1, y(t), ics={y(0):-3})\n",
    "\n",
    "sym_plot.plot(eq1sol0.rhs, eq1sol1.rhs, eq1sol2.rhs, eq1sol3.rhs, (t,0,2), xlabel = 't', ylabel = 'y')"
   ]
  },
  {
   "attachments": {
    "image.png": {
     "image/png": "[encoded data removed]"
    }
   },
   "cell_type": "markdown",
   "metadata": {
    "deletable": false,
    "editable": false,
    "nbgrader": {
     "cell_type": "markdown",
     "checksum": "0fdfa2c7d93266ff7ace0d0d5125c0bb",
     "grade": false,
     "grade_id": "Lab1_S1_task2",
     "locked": true,
     "schema_version": 3,
     "solution": false,
     "task": false
    }
   },
   "source": [
    "<span class=\"label label-danger\">Task</span>\n",
    "\n",
    "**(a)** Change the plotting region to $0\\leq t\\leq1$ to get a better look at the behaviour near $t=0$.\n",
    "\n",
    "**(b)** Add the optional argument `legend = True` to the `plot` function to show which curves are being plotted.\n",
    "\n",
    "**(c)** (Challenge) See if you can find how to give each curve a different colour, something like this:\n",
    "\n",
    "![image.png](attachment:image.png)"
   ]
  },
  {
   "cell_type": "code",
   "execution_count": 28,
   "metadata": {
    "deletable": false,
    "nbgrader": {
     "cell_type": "code",
     "checksum": "b292ecdc33d8c9ad3e9ac4370de6a7a7",
     "grade": false,
     "grade_id": "Lab1_S1_task2_A",
     "locked": false,
     "schema_version": 3,
     "solution": true,
     "task": false
    }
   },
   "outputs": [
    {
     "data": {
      "image/png": "[encoded data removed]",
      "text/plain": [
       "<Figure size 432x288 with 1 Axes>"
      ]
     },
     "metadata": {
      "needs_background": "light"
     },
     "output_type": "display_data"
    }
   ],
   "source": [
    "# Your code here\n",
    "\n",
    "eq1sol1 = sym.dsolve(eq1, y(t), ics={y(0):-1})\n",
    "eq1sol2 = sym.dsolve(eq1, y(t), ics={y(0):-2})\n",
    "eq1sol3 = sym.dsolve(eq1, y(t), ics={y(0):-3})\n",
    "\n",
    "p=sym_plot.plot(eq1sol0.rhs, eq1sol1.rhs, eq1sol2.rhs, eq1sol3.rhs, (t,0,1), xlabel = 't', ylabel = 'y',legend=True,show=False)\n",
    "p[0].line_color='black'\n",
    "p[1].line_color='red'\n",
    "p[2].line_color='green'\n",
    "p[3].line_color='blue'\n",
    "p.show()"
   ]
  },
  {
   "cell_type": "code",
   "execution_count": null,
   "metadata": {
    "deletable": false,
    "nbgrader": {
     "cell_type": "code",
     "checksum": "96d3afe1d8602c83b5e43300dda23247",
     "grade": false,
     "grade_id": "Lab1_S1_task2_B",
     "locked": false,
     "schema_version": 3,
     "solution": true,
     "task": false
    }
   },
   "outputs": [],
   "source": []
  },
  {
   "cell_type": "code",
   "execution_count": null,
   "metadata": {
    "deletable": false,
    "nbgrader": {
     "cell_type": "code",
     "checksum": "af20cc7462a0aea5cac97023a8f2befa",
     "grade": false,
     "grade_id": "Lab1_S1_task2_C",
     "locked": false,
     "schema_version": 3,
     "solution": true,
     "task": false
    }
   },
   "outputs": [],
   "source": []
  },
  {
   "cell_type": "markdown",
   "metadata": {
    "deletable": false,
    "editable": false,
    "nbgrader": {
     "cell_type": "markdown",
     "checksum": "8bae6904c335b8f5c314186db6d740f0",
     "grade": false,
     "grade_id": "Lab1_S1_E1",
     "locked": true,
     "schema_version": 3,
     "solution": false,
     "task": false
    }
   },
   "source": [
    "<div class=\"alert alert-info\">\n",
    "    <h3>Exercise 1.1</h3>\n",
    "    <p>Solve the ODEs in Q1 of the Refresher problems worksheet, and plot the solutions over sensible ranges.</p>\n",
    "\n",
    "<p><span class=\"label label-primary\">a</span> $y'=(3x^2-e^x)/(2y-4)$, $y(0)=1$,\n",
    "\n",
    "<p><span class=\"label label-primary\">b</span> $y'= 4(1+x)(1+y^2)$, $y(0)=0$,\n",
    "\n",
    "<p><span class=\"label label-primary\">c</span> $y'= y(1-y)$, $y(0)=1/2$.\n",
    "\n",
    "</div>\n",
    "\n",
    "_Hints: For (a) you will need to use the line `from sympy import exp` to make the `exp` function available, and for (b) you may find it helpful to set the `ylim` of the plot._"
   ]
  },
  {
   "cell_type": "code",
   "execution_count": 29,
   "metadata": {},
   "outputs": [],
   "source": [
    "# Standard setup\n",
    "import sympy as sym\n",
    "sym.init_printing()\n",
    "from IPython.display import display_latex\n",
    "import sympy.plotting as sym_plot\n",
    "from sympy import exp"
   ]
  },
  {
   "cell_type": "code",
   "execution_count": 49,
   "metadata": {
    "deletable": false,
    "nbgrader": {
     "cell_type": "code",
     "checksum": "43b21e84a3ebe5bb2ec2cabfc624b0d7",
     "grade": false,
     "grade_id": "Lab1_S1_E1_A",
     "locked": false,
     "schema_version": 3,
     "solution": true,
     "task": false
    }
   },
   "outputs": [
    {
     "data": {
      "image/png": "[encoded data removed]",
      "text/latex": [
       "$\\displaystyle y{\\left(x \\right)} = 2 - \\sqrt{x^{3} - e^{x} + 2}$"
      ],
      "text/plain": [
       "              _____________\n",
       "             ╱  3    x     \n",
       "y(x) = 2 - ╲╱  x  - ℯ  + 2 "
      ]
     },
     "execution_count": 49,
     "metadata": {},
     "output_type": "execute_result"
    }
   ],
   "source": [
    "# Your code here for (a)\n",
    "# Note: use the variable name eq1a_sol for the solution to the system\n",
    "x = sym.symbols('x')\n",
    "y = sym.Function('y')\n",
    "#eq1 = sym.Eq(y(t).diff(t)-2*y(t), 4-t)\n",
    "eq1 = sym.Eq(y(x).diff(x),(3*x*x-exp(x))/(2*y(x)-4))\n",
    "eq1a_sol= sym.dsolve(eq1, y(x), ics={y(0):1})\n",
    "eq1a_sol"
   ]
  },
  {
   "cell_type": "code",
   "execution_count": 50,
   "metadata": {
    "deletable": false,
    "editable": false,
    "nbgrader": {
     "cell_type": "code",
     "checksum": "6b34ab871afc14a711ddb6dfc0d2e49c",
     "grade": true,
     "grade_id": "Lab1_S1_E1_A_test",
     "locked": true,
     "points": 0.5,
     "schema_version": 3,
     "solution": false,
     "task": false
    }
   },
   "outputs": [
    {
     "name": "stdout",
     "output_type": "stream",
     "text": [
      "Success: your solution satisfies the initial condition!\n"
     ]
    }
   ],
   "source": [
    "# Autograder tests\n",
    "\n",
    "f = sym.Lambda(x,eq1a_sol.rhs)\n",
    "assert f(0) == 1\n",
    "print(\"Success: your solution satisfies the initial condition!\")\n"
   ]
  },
  {
   "cell_type": "code",
   "execution_count": 59,
   "metadata": {
    "deletable": false,
    "nbgrader": {
     "cell_type": "code",
     "checksum": "7978a8ab7de991a21c0e191756291980",
     "grade": false,
     "grade_id": "Lab1_S1_E1_B",
     "locked": false,
     "schema_version": 3,
     "solution": true,
     "task": false
    }
   },
   "outputs": [
    {
     "data": {
      "image/png": "[encoded data removed]",
      "text/latex": [
       "$\\displaystyle y{\\left(x \\right)} = \\tan{\\left(2 x^{2} + 4 x \\right)}$"
      ],
      "text/plain": [
       "          ⎛   2      ⎞\n",
       "y(x) = tan⎝2⋅x  + 4⋅x⎠"
      ]
     },
     "execution_count": 59,
     "metadata": {},
     "output_type": "execute_result"
    }
   ],
   "source": [
    "# Your code here for (b)\n",
    "x = sym.symbols('x')\n",
    "y = sym.Function('y')\n",
    "eq2 = sym.Eq(y(x).diff(x),4*(1+x)*(1+y(x)*y(x)))\n",
    "eq1b_sol= sym.dsolve(eq2, y(x), ics={y(0):0})\n",
    "eq1b_sol"
   ]
  },
  {
   "cell_type": "code",
   "execution_count": 60,
   "metadata": {
    "deletable": false,
    "editable": false,
    "nbgrader": {
     "cell_type": "code",
     "checksum": "a30905019be54bbe2b0f4468741f8aaf",
     "grade": true,
     "grade_id": "Lab1_S1_E1_B_test",
     "locked": true,
     "points": 0.5,
     "schema_version": 3,
     "solution": false,
     "task": false
    }
   },
   "outputs": [
    {
     "name": "stdout",
     "output_type": "stream",
     "text": [
      "Success: your solution satisfies the initial condition!\n"
     ]
    }
   ],
   "source": [
    "# Autograder test\n",
    "\n",
    "f = sym.Lambda(x,eq1b_sol.rhs)\n",
    "assert f(0) == 0\n",
    "print(\"Success: your solution satisfies the initial condition!\")\n"
   ]
  },
  {
   "cell_type": "code",
   "execution_count": 61,
   "metadata": {
    "deletable": false,
    "nbgrader": {
     "cell_type": "code",
     "checksum": "a8a4048237845360bb141ff86807839d",
     "grade": false,
     "grade_id": "Lab1_S1_E1_C",
     "locked": false,
     "schema_version": 3,
     "solution": true,
     "task": false
    }
   },
   "outputs": [
    {
     "data": {
      "image/png": "[encoded data removed]",
      "text/latex": [
       "$\\displaystyle y{\\left(x \\right)} = \\frac{1}{1 + 1.0 e^{- x}}$"
      ],
      "text/plain": [
       "            1     \n",
       "y(x) = ───────────\n",
       "                -x\n",
       "       1 + 1.0⋅ℯ  "
      ]
     },
     "execution_count": 61,
     "metadata": {},
     "output_type": "execute_result"
    }
   ],
   "source": [
    "# Your code here for (c)\n",
    "\n",
    "x = sym.symbols('x')\n",
    "y = sym.Function('y')\n",
    "eq3 = sym.Eq(y(x).diff(x),y(x)*(1-y(x)))\n",
    "eq1c_sol= sym.dsolve(eq3, y(x), ics={y(0):1/2})\n",
    "eq1c_sol"
   ]
  },
  {
   "cell_type": "code",
   "execution_count": 62,
   "metadata": {
    "deletable": false,
    "editable": false,
    "nbgrader": {
     "cell_type": "code",
     "checksum": "701e9343e581911ed249ce6522ef50a4",
     "grade": true,
     "grade_id": "Lab1_S1_E1_C_test",
     "locked": true,
     "points": 0.5,
     "schema_version": 3,
     "solution": false,
     "task": false
    }
   },
   "outputs": [
    {
     "name": "stdout",
     "output_type": "stream",
     "text": [
      "Success: your solution satisfies the initial condition!\n"
     ]
    }
   ],
   "source": [
    "# Autograder test\n",
    "f = sym.Lambda(x,eq1c_sol.rhs)\n",
    "assert f(0) == 1/2\n",
    "print(\"Success: your solution satisfies the initial condition!\")\n"
   ]
  },
  {
   "cell_type": "markdown",
   "metadata": {
    "deletable": false,
    "editable": false,
    "nbgrader": {
     "cell_type": "markdown",
     "checksum": "aaa9755f43e1208803d20830fa555133",
     "grade": false,
     "grade_id": "Lab1_S2_title",
     "locked": true,
     "schema_version": 3,
     "solution": false,
     "task": false
    }
   },
   "source": [
    "# 2. Symbolic solution of systems\n",
    "\n",
    "\n"
   ]
  },
  {
   "cell_type": "markdown",
   "metadata": {
    "deletable": false,
    "editable": false,
    "nbgrader": {
     "cell_type": "markdown",
     "checksum": "5604a67727146d8761d5fef9ae3a7c30",
     "grade": false,
     "grade_id": "Lab1_S2_01",
     "locked": true,
     "schema_version": 3,
     "solution": false,
     "task": false
    }
   },
   "source": [
    "We would also like to be able to solve systems of equations, for instance $$\\mathbf{x}'=\\begin{pmatrix}1 & 1\\\\ 4 & 1\\end{pmatrix}\\mathbf{x},$$\n",
    "which appears as Example 2 in §7.5 of Boyce & DiPrima.\n",
    "\n",
    "SymPy can handle this with just a simple modification of the code we've been using so far, if we rewrite the matrix equation as two equations in $x_1(t)$ and $x_2(t)$, where $\\mathbf{x}(t)=\\begin{pmatrix}x_1(t) \\\\ x_2(t)\\end{pmatrix}$."
   ]
  },
  {
   "cell_type": "code",
   "execution_count": 13,
   "metadata": {},
   "outputs": [
    {
     "name": "stdout",
     "output_type": "stream",
     "text": [
      "The system\n"
     ]
    },
    {
     "data": {
      "text/latex": [
       "$\\displaystyle \\left[ \\frac{d}{d t} \\operatorname{x_{1}}{\\left(t \\right)} = \\operatorname{x_{1}}{\\left(t \\right)} + \\operatorname{x_{2}}{\\left(t \\right)}, \\  \\frac{d}{d t} \\operatorname{x_{2}}{\\left(t \\right)} = 4 \\operatorname{x_{1}}{\\left(t \\right)} + \\operatorname{x_{2}}{\\left(t \\right)}\\right]$"
      ]
     },
     "metadata": {},
     "output_type": "display_data"
    },
    {
     "name": "stdout",
     "output_type": "stream",
     "text": [
      "has solution\n"
     ]
    },
    {
     "data": {
      "text/latex": [
       "$\\displaystyle \\left[ \\operatorname{x_{1}}{\\left(t \\right)} = - \\frac{C_{1} e^{- t}}{2} + \\frac{C_{2} e^{3 t}}{2}, \\  \\operatorname{x_{2}}{\\left(t \\right)} = C_{1} e^{- t} + C_{2} e^{3 t}\\right]$"
      ]
     },
     "metadata": {},
     "output_type": "display_data"
    }
   ],
   "source": [
    "t = sym.symbols('t')\n",
    "x1 = sym.Function('x1')\n",
    "x2 = sym.Function('x2')\n",
    "system = [sym.Eq(x1(t).diff(t), x1(t)+x2(t)),\n",
    "          sym.Eq(x2(t).diff(t), 4*x1(t)+x2(t))]\n",
    "print(\"The system\")\n",
    "display_latex(system)\n",
    "system_sol = sym.dsolve(system)\n",
    "print(\"has solution\")\n",
    "display_latex(system_sol)"
   ]
  },
  {
   "cell_type": "markdown",
   "metadata": {
    "deletable": false,
    "editable": false,
    "nbgrader": {
     "cell_type": "markdown",
     "checksum": "728736999bfd4694c70ba5783eb59432",
     "grade": false,
     "grade_id": "Lab1_S2_task1",
     "locked": true,
     "schema_version": 3,
     "solution": false,
     "task": false
    }
   },
   "source": [
    "<span class=\"label label-danger\">Task</span>\n",
    "Check that this agrees with the solution given in the book: $$\\mathbf{x}=c_1\\begin{pmatrix}1\\\\2\\end{pmatrix}e^{3t}+c_2\\begin{pmatrix}1\\\\-2\\end{pmatrix}e^{-t}$$"
   ]
  },
  {
   "cell_type": "markdown",
   "metadata": {
    "deletable": false,
    "editable": false,
    "nbgrader": {
     "cell_type": "markdown",
     "checksum": "eb7de0959abc58f3de49c538e0f5c68d",
     "grade": false,
     "grade_id": "Lab1_S2_02",
     "locked": true,
     "schema_version": 3,
     "solution": false,
     "task": false
    }
   },
   "source": [
    "It's also worth noting that SymPy can give us the eigenvalues and eigenvectors for the matrix, which gives another way to find the solution of the system:"
   ]
  },
  {
   "cell_type": "code",
   "execution_count": 64,
   "metadata": {},
   "outputs": [
    {
     "data": {
      "text/latex": [
       "$\\displaystyle \\left[ \\left( -1, \\  1, \\  \\left[ \\left[\\begin{matrix}- \\frac{1}{2}\\\\1\\end{matrix}\\right]\\right]\\right), \\  \\left( 3, \\  1, \\  \\left[ \\left[\\begin{matrix}\\frac{1}{2}\\\\1\\end{matrix}\\right]\\right]\\right)\\right]$"
      ],
      "text/plain": [
       "⎡⎛       ⎡⎡-1/2⎤⎤⎞  ⎛      ⎡⎡1/2⎤⎤⎞⎤\n",
       "⎢⎜-1, 1, ⎢⎢    ⎥⎥⎟, ⎜3, 1, ⎢⎢   ⎥⎥⎟⎥\n",
       "⎣⎝       ⎣⎣ 1  ⎦⎦⎠  ⎝      ⎣⎣ 1 ⎦⎦⎠⎦"
      ]
     },
     "execution_count": 64,
     "metadata": {},
     "output_type": "execute_result"
    }
   ],
   "source": [
    "M = sym.Matrix([[1,1],[4,1]])\n",
    "M.eigenvects()"
   ]
  },
  {
   "cell_type": "markdown",
   "metadata": {
    "deletable": false,
    "editable": false,
    "nbgrader": {
     "cell_type": "markdown",
     "checksum": "f5a5c237b12bcf7023793d2b8c04c33e",
     "grade": false,
     "grade_id": "Lab1_S2_task2",
     "locked": true,
     "schema_version": 3,
     "solution": false,
     "task": false
    }
   },
   "source": [
    "<span class=\"label label-danger\">Task</span>\n",
    "What does this output tell us? (You may want to [check the documentation on eigenvects()](https://docs.sympy.org/latest/tutorial/matrices.html#eigenvalues-eigenvectors-and-diagonalization)) How does this relate to the solution given in the book?"
   ]
  },
  {
   "cell_type": "markdown",
   "metadata": {
    "deletable": false,
    "editable": false,
    "nbgrader": {
     "cell_type": "markdown",
     "checksum": "a832c7948adb4c181c9fe71bba228f31",
     "grade": false,
     "grade_id": "Lab1_S2_03",
     "locked": true,
     "schema_version": 3,
     "solution": false,
     "task": false
    }
   },
   "source": [
    "To make it easier to solve 2x2 systems like this, we can define a **function** that will take in a matrix defining the system, and give us back the corresponding system of equations."
   ]
  },
  {
   "cell_type": "code",
   "execution_count": 65,
   "metadata": {},
   "outputs": [
    {
     "data": {
      "image/png": "[encoded data removed]",
      "text/latex": [
       "$\\displaystyle \\left[ \\operatorname{x_{1}}{\\left(t \\right)} = - \\frac{C_{1} e^{- t}}{2} + \\frac{C_{2} e^{3 t}}{2}, \\  \\operatorname{x_{2}}{\\left(t \\right)} = C_{1} e^{- t} + C_{2} e^{3 t}\\right]$"
      ],
      "text/plain": [
       "⎡              -t       3⋅t                          ⎤\n",
       "⎢          C₁⋅ℯ     C₂⋅ℯ                 -t       3⋅t⎥\n",
       "⎢x₁(t) = - ────── + ───────, x₂(t) = C₁⋅ℯ   + C₂⋅ℯ   ⎥\n",
       "⎣            2         2                             ⎦"
      ]
     },
     "execution_count": 65,
     "metadata": {},
     "output_type": "execute_result"
    }
   ],
   "source": [
    "#\n",
    "# Produce a function that takes in a 2x2 matrix,\n",
    "# and returns the system of ODEs\n",
    "#\n",
    "def lin_system(M):\n",
    "    '''\n",
    "    Given a 2x2 SymPy Matrix, return the corresponding system of equations\n",
    "    '''\n",
    "    t = sym.symbols('t')\n",
    "    x1 = sym.Function('x1')\n",
    "    x2 = sym.Function('x2')\n",
    "    system = [sym.Eq(x1(t).diff(t), M[0,0]*x1(t)+M[0,1]*x2(t)),\n",
    "            sym.Eq(x2(t).diff(t), M[1,0]*x1(t)+M[1,1]*x2(t))]\n",
    "    return(system)\n",
    "\n",
    "sym.dsolve(lin_system(sym.Matrix([[1,1],[4,1]])))"
   ]
  },
  {
   "cell_type": "markdown",
   "metadata": {
    "deletable": false,
    "editable": false,
    "nbgrader": {
     "cell_type": "markdown",
     "checksum": "4bb6fc88f0a102319fe39e001f20b9ed",
     "grade": false,
     "grade_id": "Lab1_S2_04",
     "locked": true,
     "schema_version": 3,
     "solution": false,
     "task": false
    }
   },
   "source": [
    "This gives the same result as above, as expected.\n",
    "\n",
    "Let's now use this method to investigate the systems in the Week 2 Tutorial sheet."
   ]
  },
  {
   "cell_type": "code",
   "execution_count": 66,
   "metadata": {},
   "outputs": [
    {
     "data": {
      "image/png": "[encoded data removed]",
      "text/latex": [
       "$\\displaystyle \\left[ \\operatorname{x_{1}}{\\left(t \\right)} = \\frac{C_{1} e^{- t}}{3} + C_{2} e^{t}, \\  \\operatorname{x_{2}}{\\left(t \\right)} = C_{1} e^{- t} + C_{2} e^{t}\\right]$"
      ],
      "text/plain": [
       "⎡            -t                                ⎤\n",
       "⎢        C₁⋅ℯ         t              -t       t⎥\n",
       "⎢x₁(t) = ────── + C₂⋅ℯ , x₂(t) = C₁⋅ℯ   + C₂⋅ℯ ⎥\n",
       "⎣          3                                   ⎦"
      ]
     },
     "execution_count": 66,
     "metadata": {},
     "output_type": "execute_result"
    }
   ],
   "source": [
    "# 2(a)(i)\n",
    "sym.dsolve(lin_system(sym.Matrix([[2,-1],[3,-2]])))"
   ]
  },
  {
   "cell_type": "markdown",
   "metadata": {
    "deletable": false,
    "editable": false,
    "nbgrader": {
     "cell_type": "markdown",
     "checksum": "f0ccdd28a2c3a484425cfe3e2f57a92f",
     "grade": false,
     "grade_id": "Lab1_S2_task3",
     "locked": true,
     "schema_version": 3,
     "solution": false,
     "task": false
    }
   },
   "source": [
    "<span class=\"label label-danger\">Task</span> Does this agree with what you found in the Tutorial?"
   ]
  },
  {
   "cell_type": "markdown",
   "metadata": {
    "nbgrader": {
     "grade": false,
     "grade_id": "cell-f5136e11aee8e74e",
     "locked": false,
     "schema_version": 3,
     "solution": false,
     "task": false
    }
   },
   "source": []
  },
  {
   "cell_type": "markdown",
   "metadata": {
    "deletable": false,
    "editable": false,
    "nbgrader": {
     "cell_type": "markdown",
     "checksum": "aa94dc5e16c079e6bed1b242f1edc8b4",
     "grade": false,
     "grade_id": "Lab1_S2_plotting",
     "locked": true,
     "schema_version": 3,
     "solution": false,
     "task": false
    }
   },
   "source": [
    "### Plotting solutions\n",
    "\n",
    "We can also use SymPy to plot particular solutions. Here, we specifcy some initial conditions and use the [plot_parametric](https://docs.sympy.org/latest/modules/plotting.html#sympy.plotting.plot.plot_parametric) function to plot the resulting solution for $-2\\leq t\\leq2$."
   ]
  },
  {
   "cell_type": "code",
   "execution_count": 67,
   "metadata": {},
   "outputs": [
    {
     "data": {
      "text/latex": [
       "$\\displaystyle \\left( - \\frac{e^{t}}{2} + \\frac{e^{- t}}{2}, \\  - \\frac{e^{t}}{2} + \\frac{3 e^{- t}}{2}\\right)$"
      ]
     },
     "metadata": {},
     "output_type": "display_data"
    },
    {
     "data": {
      "image/png": "[encoded data removed]",
      "text/plain": [
       "<Figure size 432x288 with 1 Axes>"
      ]
     },
     "metadata": {
      "needs_background": "light"
     },
     "output_type": "display_data"
    },
    {
     "data": {
      "text/plain": [
       "<sympy.plotting.plot.Plot at 0x123cc80d280>"
      ]
     },
     "execution_count": 67,
     "metadata": {},
     "output_type": "execute_result"
    }
   ],
   "source": [
    "sol_2ai = sym.dsolve(lin_system(sym.Matrix([[2,-1],[3,-2]])),\n",
    "                     ics={x1(0):0, x2(0):1})\n",
    "display_latex((sol_2ai[0].rhs, sol_2ai[1].rhs))\n",
    "import sympy.plotting as sym_plot\n",
    "sym_plot.plot_parametric(sol_2ai[0].rhs, sol_2ai[1].rhs, (t,-2,2))"
   ]
  },
  {
   "cell_type": "markdown",
   "metadata": {
    "deletable": false,
    "editable": false,
    "nbgrader": {
     "cell_type": "markdown",
     "checksum": "174838bfd4f8b3a32449b266cdcf092f",
     "grade": false,
     "grade_id": "Lab1_S2_task4",
     "locked": true,
     "schema_version": 3,
     "solution": false,
     "task": false
    }
   },
   "source": [
    "<span class=\"label label-danger\">Task</span> Try adjusting the code above so that the solution is plotted over different ranges of $t$. Can you explain what you see, based on the form of the solution?"
   ]
  },
  {
   "cell_type": "markdown",
   "metadata": {
    "deletable": false,
    "editable": false,
    "nbgrader": {
     "cell_type": "markdown",
     "checksum": "8758733664d897da6b5f28b568030dee",
     "grade": false,
     "grade_id": "Lab1_S2_E1",
     "locked": true,
     "schema_version": 3,
     "solution": false,
     "task": false
    }
   },
   "source": [
    "<div class=\"alert alert-info\">\n",
    "    <h3>Exercise 2.1</h3>\n",
    "    <p>The goal of this exercise is to solve some linear systems. But to do that efficiently, we will first create a function.</p>\n",
    "    <p><span class=\"label label-primary\">a</span> Complete the definition below of the function <code>solve_lin_system</code>. This function should take two arguments - a 2x2 matrix for a linear system, a list specifying initial conditions. It should return the particular solution associated with that system with those initial conditions. </p>\n",
    "    <p><span class=\"label label-primary\">b</span> Use your function, <code>solve_lin_system(sym.Matrix([[2,-1],[3,-2]]), [0,1])</code>, to replicate the results above and produce output like the following:</p>\n",
    "    <p><img src=\"http://www.maths.ed.ac.uk/gkinnear/img/lin_system.png\" width=\"300px\"/></p> \n",
    "    <p><span class=\"label label-primary\">c</span> Use the <code>solve_lin_system</code> function to solve these other systems from Tutorial 2, Q2(a):</p>\n",
    "\n",
    "**i.** $\\mathbf{x}'=\\begin{pmatrix}-2 & 1\\\\ 1 & -2\\end{pmatrix}\\mathbf{x}$,\n",
    "\n",
    "**ii.** $\\mathbf{x}'=\\begin{pmatrix}4 & -3\\\\ 8 & -6\\end{pmatrix}\\mathbf{x}$.\n",
    "\n",
    "   <p>Make some plots trying different initial conditions and time ranges, and make sure the output makes sense to you.</p>\n",
    "</div>"
   ]
  },
  {
   "cell_type": "code",
   "execution_count": 75,
   "metadata": {
    "deletable": false,
    "nbgrader": {
     "cell_type": "code",
     "checksum": "d3554633aa1daee5e1e8275511aa1756",
     "grade": false,
     "grade_id": "Lab1_S2_E1_A",
     "locked": false,
     "schema_version": 3,
     "solution": true,
     "task": false
    }
   },
   "outputs": [],
   "source": [
    "# Your code here for (a)\n",
    "\n",
    "def solve_lin_system(M, ics):\n",
    "    '''\n",
    "    This function should take two arguments - a 2x2 matrix for a linear system\n",
    "    and a list specifying initial conditions It should return the particular\n",
    "    solution for that system with those ICs.\n",
    "    '''\n",
    "    sol_2ai = sym.dsolve(lin_system(M),ics={x1(0):ics[0], x2(0):ics[1]})\n",
    "    return sol_2ai"
   ]
  },
  {
   "cell_type": "code",
   "execution_count": 76,
   "metadata": {
    "deletable": false,
    "editable": false,
    "nbgrader": {
     "cell_type": "code",
     "checksum": "6de487a9c26788158e5f23812e0a8e4b",
     "grade": true,
     "grade_id": "Lab1_S2_E1_A_test",
     "locked": true,
     "points": 1.5,
     "schema_version": 3,
     "solution": false,
     "task": false
    }
   },
   "outputs": [
    {
     "name": "stdout",
     "output_type": "stream",
     "text": [
      "Success: the solution from your function satisfies the ICs!\n"
     ]
    }
   ],
   "source": [
    "# Autograder test\n",
    "sls = solve_lin_system(sym.Matrix([[2,-1],[3,-2]]), [0,1])\n",
    "psol1 = sym.Lambda(t,sls[0].rhs)\n",
    "psol2 = sym.Lambda(t,sls[1].rhs)\n",
    "assert (psol1(0), psol2(0)) == (0, 1)\n",
    "print(\"Success: the solution from your function satisfies the ICs!\")\n"
   ]
  },
  {
   "cell_type": "code",
   "execution_count": null,
   "metadata": {
    "deletable": false,
    "nbgrader": {
     "cell_type": "code",
     "checksum": "9e940e7d1e4b86e707eda5d5f577914b",
     "grade": false,
     "grade_id": "Lab1_S2_E1_B",
     "locked": false,
     "schema_version": 3,
     "solution": true,
     "task": false
    }
   },
   "outputs": [],
   "source": [
    "# Your code here for (b)\n",
    "\n",
    "# YOUR CODE HERE\n",
    "raise NotImplementedError()"
   ]
  },
  {
   "cell_type": "code",
   "execution_count": 79,
   "metadata": {
    "deletable": false,
    "nbgrader": {
     "cell_type": "code",
     "checksum": "6c8dbcc6525b8d4b43e25b224999d998",
     "grade": false,
     "grade_id": "Lab1_S2_E1_C_i",
     "locked": false,
     "schema_version": 3,
     "solution": true,
     "task": false
    }
   },
   "outputs": [
    {
     "data": {
      "image/png": "[encoded data removed]",
      "text/latex": [
       "$\\displaystyle \\left[ \\operatorname{x_{1}}{\\left(t \\right)} = - C_{1} e^{- 3 t} + C_{2} e^{- t}, \\  \\operatorname{x_{2}}{\\left(t \\right)} = C_{1} e^{- 3 t} + C_{2} e^{- t}\\right]$"
      ],
      "text/plain": [
       "⎡              -3⋅t       -t              -3⋅t       -t⎤\n",
       "⎣x₁(t) = - C₁⋅ℯ     + C₂⋅ℯ  , x₂(t) = C₁⋅ℯ     + C₂⋅ℯ  ⎦"
      ]
     },
     "execution_count": 79,
     "metadata": {},
     "output_type": "execute_result"
    }
   ],
   "source": [
    "# Your code here for (c)(i)\n",
    "\n",
    "sym.dsolve(lin_system(sym.Matrix([[-2,1],[1,-2]])))"
   ]
  },
  {
   "cell_type": "code",
   "execution_count": 80,
   "metadata": {
    "deletable": false,
    "nbgrader": {
     "cell_type": "code",
     "checksum": "fbe35231b6452beb7c69ea4cfefc176b",
     "grade": false,
     "grade_id": "Lab1_S2_E1_C_ii",
     "locked": false,
     "schema_version": 3,
     "solution": true,
     "task": false
    }
   },
   "outputs": [
    {
     "data": {
      "image/png": "[encoded data removed]",
      "text/latex": [
       "$\\displaystyle \\left[ \\operatorname{x_{1}}{\\left(t \\right)} = \\frac{C_{1} e^{- 2 t}}{2} + \\frac{3 C_{2}}{4}, \\  \\operatorname{x_{2}}{\\left(t \\right)} = C_{1} e^{- 2 t} + C_{2}\\right]$"
      ],
      "text/plain": [
       "⎡            -2⋅t                              ⎤\n",
       "⎢        C₁⋅ℯ       3⋅C₂              -2⋅t     ⎥\n",
       "⎢x₁(t) = ──────── + ────, x₂(t) = C₁⋅ℯ     + C₂⎥\n",
       "⎣           2        4                         ⎦"
      ]
     },
     "execution_count": 80,
     "metadata": {},
     "output_type": "execute_result"
    }
   ],
   "source": [
    "# Your code here for (c)(ii)\n",
    "\n",
    "sym.dsolve(lin_system(sym.Matrix([[4,-3],[8,-6]])))"
   ]
  },
  {
   "cell_type": "markdown",
   "metadata": {
    "deletable": false,
    "editable": false,
    "nbgrader": {
     "cell_type": "markdown",
     "checksum": "ae36a70ddb13abd043fbc1d940c1ad53",
     "grade": false,
     "grade_id": "Lab1_S2_05",
     "locked": true,
     "schema_version": 3,
     "solution": false,
     "task": false
    }
   },
   "source": [
    "### Challenge: simplifying complex expressions using `map`\n",
    "\n",
    "In Workshop 2, the final part of Q2(a) has a system with complex coefficients:\n",
    "\n",
    "$$\\mathbf{x}'=\\begin{pmatrix}2 & 2+i\\\\ -1 & -1-i\\end{pmatrix}\\mathbf{x}.$$\n",
    "\n",
    "To deal with complex numbers, we need to enter $i$ as `sym.I`. The solution provided by `sym.dsolve` looks surprisingly complicated!"
   ]
  },
  {
   "cell_type": "code",
   "execution_count": 81,
   "metadata": {},
   "outputs": [
    {
     "data": {
      "image/png": "[encoded data removed]",
      "text/latex": [
       "$\\displaystyle \\left[ \\operatorname{x_{1}}{\\left(t \\right)} = C_{1} \\left(-2 - i\\right) e^{t} - C_{2} e^{- i t}, \\  \\operatorname{x_{2}}{\\left(t \\right)} = C_{1} e^{t} + C_{2} e^{- i t}\\right]$"
      ],
      "text/plain": [
       "⎡                     t       -ⅈ⋅t              t       -ⅈ⋅t⎤\n",
       "⎣x₁(t) = C₁⋅(-2 - ⅈ)⋅ℯ  - C₂⋅ℯ    , x₂(t) = C₁⋅ℯ  + C₂⋅ℯ    ⎦"
      ]
     },
     "execution_count": 81,
     "metadata": {},
     "output_type": "execute_result"
    }
   ],
   "source": [
    "M_2aiv = sym.Matrix([[2, 2+sym.I],[-1, -1-sym.I]])\n",
    "sym.dsolve(lin_system(M_2aiv))"
   ]
  },
  {
   "cell_type": "markdown",
   "metadata": {
    "deletable": false,
    "editable": false,
    "nbgrader": {
     "cell_type": "markdown",
     "checksum": "8d4964ae5b9ee69e7fdb1fc6f1bba60d",
     "grade": false,
     "grade_id": "Lab1_S2_06",
     "locked": true,
     "schema_version": 3,
     "solution": false,
     "task": false
    }
   },
   "source": [
    "This is because there are expressions involving $i$ which need to be expanded and simplified. To see how to do that, notice that in this simpler example, the first entry of `exprs` is not automatically expanded and simplified:"
   ]
  },
  {
   "cell_type": "code",
   "execution_count": 82,
   "metadata": {},
   "outputs": [
    {
     "data": {
      "image/png": "[encoded data removed]",
      "text/latex": [
       "$\\displaystyle \\left[ \\left(3 + i\\right)^{2}, \\  i\\right]$"
      ],
      "text/plain": [
       "⎡       2   ⎤\n",
       "⎣(3 + ⅈ) , ⅈ⎦"
      ]
     },
     "execution_count": 82,
     "metadata": {},
     "output_type": "execute_result"
    }
   ],
   "source": [
    "exprs = [(sym.I+3)**2, sym.I]\n",
    "exprs"
   ]
  },
  {
   "cell_type": "markdown",
   "metadata": {
    "deletable": false,
    "editable": false,
    "nbgrader": {
     "cell_type": "markdown",
     "checksum": "5a022b7b566069a740aaaddfbef00d3c",
     "grade": false,
     "grade_id": "Lab1_S2_07",
     "locked": true,
     "schema_version": 3,
     "solution": false,
     "task": false
    }
   },
   "source": [
    "We can use the `expand` function to get SymPy to expand out the brackets and simplify:"
   ]
  },
  {
   "cell_type": "code",
   "execution_count": 83,
   "metadata": {},
   "outputs": [
    {
     "data": {
      "image/png": "[encoded data removed]",
      "text/latex": [
       "$\\displaystyle 8 + 6 i$"
      ],
      "text/plain": [
       "8 + 6⋅ⅈ"
      ]
     },
     "execution_count": 83,
     "metadata": {},
     "output_type": "execute_result"
    }
   ],
   "source": [
    "exprs[0].expand()"
   ]
  },
  {
   "cell_type": "markdown",
   "metadata": {
    "deletable": false,
    "editable": false,
    "nbgrader": {
     "cell_type": "markdown",
     "checksum": "2c026a95959c0ea93f0ee52f1c316e61",
     "grade": false,
     "grade_id": "Lab1_S2_08",
     "locked": true,
     "schema_version": 3,
     "solution": false,
     "task": false
    }
   },
   "source": [
    "To do this to all entries of exprs at once, we can use the `map` function:"
   ]
  },
  {
   "cell_type": "code",
   "execution_count": 84,
   "metadata": {},
   "outputs": [
    {
     "data": {
      "image/png": "[encoded data removed]",
      "text/latex": [
       "$\\displaystyle \\left[ 8 + 6 i, \\  i\\right]$"
      ],
      "text/plain": [
       "[8 + 6⋅ⅈ, ⅈ]"
      ]
     },
     "execution_count": 84,
     "metadata": {},
     "output_type": "execute_result"
    }
   ],
   "source": [
    "list(map(sym.expand, exprs))"
   ]
  },
  {
   "cell_type": "markdown",
   "metadata": {
    "deletable": false,
    "editable": false,
    "nbgrader": {
     "cell_type": "markdown",
     "checksum": "c52dfd20220620a066285173be05c1ae",
     "grade": false,
     "grade_id": "Lab1_S2_09",
     "locked": true,
     "schema_version": 3,
     "solution": false,
     "task": false
    }
   },
   "source": [
    "This takes the `sym.expand` function and applies it to each entry in `exprs`."
   ]
  },
  {
   "cell_type": "markdown",
   "metadata": {
    "deletable": false,
    "editable": false,
    "nbgrader": {
     "cell_type": "markdown",
     "checksum": "902bfc8c363a18ff3d652379264dded9",
     "grade": false,
     "grade_id": "Lab1_S2_E2",
     "locked": true,
     "schema_version": 3,
     "solution": false,
     "task": false
    }
   },
   "source": [
    "<div class=\"alert alert-info\">\n",
    "    <h3>Exercise 2.2</h3>\n",
    "    <p>Make use of <code>map</code> to find the general solution to the system above (Q2(a)(iv) from Tutorial 2).</p>\n",
    "    <p>Compare your results with the solution you computed by hand. <i>Hint:</i> recall from above that the <code>eigenvects()</code> function can give another way to see the solutions.</p>\n",
    "</div>"
   ]
  },
  {
   "cell_type": "code",
   "execution_count": null,
   "metadata": {
    "deletable": false,
    "nbgrader": {
     "cell_type": "code",
     "checksum": "b8fc8141829df9d6d8a78a0da1cfa98b",
     "grade": false,
     "grade_id": "Lab1_S2_E2_answer",
     "locked": false,
     "schema_version": 3,
     "solution": true,
     "task": false
    }
   },
   "outputs": [],
   "source": [
    "# Your code here\n",
    "# Use the variable name sol_2aiv for the list\n",
    "\n",
    "# YOUR CODE HERE\n",
    "raise NotImplementedError()"
   ]
  },
  {
   "cell_type": "code",
   "execution_count": null,
   "metadata": {
    "deletable": false,
    "editable": false,
    "nbgrader": {
     "cell_type": "code",
     "checksum": "614f8ebb099117d3cbefe61270710866",
     "grade": true,
     "grade_id": "Lab1_S2_E2_test",
     "locked": true,
     "points": 1,
     "schema_version": 3,
     "solution": false,
     "task": false
    }
   },
   "outputs": [],
   "source": [
    "# Autograder test\n",
    "assert len(sol_2aiv) == 2\n",
    "print(\"Success: the list has the right dimensions!\")\n"
   ]
  },
  {
   "cell_type": "markdown",
   "metadata": {
    "deletable": false,
    "editable": false,
    "nbgrader": {
     "cell_type": "markdown",
     "checksum": "217538b7a548b6de6c2d49cd3976b47e",
     "grade": false,
     "grade_id": "Lab1_S3_title",
     "locked": true,
     "schema_version": 3,
     "solution": false,
     "task": false
    }
   },
   "source": [
    "# 3. Numerical solution of ODEs"
   ]
  },
  {
   "cell_type": "markdown",
   "metadata": {
    "deletable": false,
    "editable": false,
    "nbgrader": {
     "cell_type": "markdown",
     "checksum": "c35b65df906e78f5252777827035f89a",
     "grade": false,
     "grade_id": "Lab1_S3_01",
     "locked": true,
     "schema_version": 3,
     "solution": false,
     "task": false
    }
   },
   "source": [
    "Solving ODEs symbolically is not always possible, but we can use numerical methods to compute approximate solutions.\n",
    "\n",
    "We will make use of several pacakges to do this:\n",
    "\n",
    "* [SciPy](https://docs.scipy.org/doc/scipy/reference/index.html) provides numerical methods for solving ODEs, in particular the [odeint](https://docs.scipy.org/doc/scipy/reference/generated/scipy.integrate.odeint.html) function.\n",
    "\n",
    "* [NumPy](https://www.numpy.org/) provides useful tools for doing numerical calculations.\n",
    "\n",
    "* [Matplotlib](https://matplotlib.org/) is a widely-used library that produces plots from numerical data.\n",
    "\n",
    "The following chunk of code gets all of this set up:"
   ]
  },
  {
   "cell_type": "code",
   "execution_count": 1,
   "metadata": {},
   "outputs": [],
   "source": [
    "import numpy as np\n",
    "import matplotlib.pyplot as plt\n",
    "from scipy.integrate import odeint\n",
    "%matplotlib notebook"
   ]
  },
  {
   "cell_type": "markdown",
   "metadata": {
    "deletable": false,
    "editable": false,
    "nbgrader": {
     "cell_type": "markdown",
     "checksum": "4d347957603629a08fc3fa86abbc6384",
     "grade": false,
     "grade_id": "Lab1_S3_02",
     "locked": true,
     "schema_version": 3,
     "solution": false,
     "task": false
    }
   },
   "source": [
    "Note that `%matplotlib notebook` makes the plots appear in an interactive window, with controls for zooming. Before moving on to the next plot, you should click the \"power\" icon in the top right of the plot, to close the interactive interface (if you don't do this, then the next plot will overwrite this one)."
   ]
  },
  {
   "cell_type": "markdown",
   "metadata": {
    "deletable": false,
    "editable": false,
    "nbgrader": {
     "cell_type": "markdown",
     "checksum": "9f738b534c7f00802e7e00e7a1197058",
     "grade": false,
     "grade_id": "Lab1_S3_03",
     "locked": true,
     "schema_version": 3,
     "solution": false,
     "task": false
    }
   },
   "source": [
    "***\n",
    "### Example\n",
    "To illustrate the method, let's return to the ODE we considered right at the start: $$\\frac{dy}{dt}-2y=4-t.$$\n",
    "***\n",
    "\n",
    "To use [odeint](https://docs.scipy.org/doc/scipy/reference/generated/scipy.integrate.odeint.html), we need to write a Python function that takes in $y$ and $t$ and returns $\\frac{dy}{dt}$. Rearranging the ODE, we have $$\\frac{dy}{dt}=4-t+2y$$ which we implement as follows:"
   ]
  },
  {
   "cell_type": "code",
   "execution_count": 2,
   "metadata": {},
   "outputs": [],
   "source": [
    "def dy_dt(y, t):\n",
    "    return(4-t+2*y)"
   ]
  },
  {
   "cell_type": "markdown",
   "metadata": {
    "deletable": false,
    "editable": false,
    "nbgrader": {
     "cell_type": "markdown",
     "checksum": "a74660ff26e856edac7a758a8681b118",
     "grade": false,
     "grade_id": "Lab1_S3_04",
     "locked": true,
     "schema_version": 3,
     "solution": false,
     "task": false
    }
   },
   "source": [
    "Next we define the initial condition `y0` and set up an array of equally-spaced points between 0 and 2 (which we call `t`). We then pass all of these ingredients to the `odeint` function, which returns the solution."
   ]
  },
  {
   "cell_type": "code",
   "execution_count": 3,
   "metadata": {},
   "outputs": [],
   "source": [
    "y0 = 0\n",
    "t = np.linspace(0, 2, 50)\n",
    "sol = odeint(dy_dt, y0, t)"
   ]
  },
  {
   "cell_type": "markdown",
   "metadata": {
    "deletable": false,
    "editable": false,
    "nbgrader": {
     "cell_type": "markdown",
     "checksum": "2d4fd082564ece8adadfa44c7561ca8f",
     "grade": false,
     "grade_id": "Lab1_S3_task1",
     "locked": true,
     "schema_version": 3,
     "solution": false,
     "task": false
    }
   },
   "source": [
    "<span class=\"label label-danger\">Task</span> Using either a new notebook cell or just adding an extra line to the one above, print out the value of `sol` so you can see what form it takes.\n",
    "\n",
    "We can then use the [Matplotlib plot function](https://matplotlib.org/3.1.1/api/_as_gen/matplotlib.pyplot.plot.html) to produce a plot of the solution:"
   ]
  },
  {
   "cell_type": "code",
   "execution_count": 4,
   "metadata": {},
   "outputs": [
    {
     "data": {
      "application/javascript": [
       "/* Put everything inside the global mpl namespace */\n",
       "window.mpl = {};\n",
       "\n",
       "\n",
       "mpl.get_websocket_type = function() {\n",
       "    if (typeof(WebSocket) !== 'undefined') {\n",
       "        return WebSocket;\n",
       "    } else if (typeof(MozWebSocket) !== 'undefined') {\n",
       "        return MozWebSocket;\n",
       "    } else {\n",
       "        alert('Your browser does not have WebSocket support. ' +\n",
       "              'Please try Chrome, Safari or Firefox ≥ 6. ' +\n",
       "              'Firefox 4 and 5 are also supported but you ' +\n",
       "              'have to enable WebSockets in about:config.');\n",
       "    };\n",
       "}\n",
       "\n",
       "mpl.figure = function(figure_id, websocket, ondownload, parent_element) {\n",
       "    this.id = figure_id;\n",
       "\n",
       "    this.ws = websocket;\n",
       "\n",
       "    this.supports_binary = (this.ws.binaryType != undefined);\n",
       "\n",
       "    if (!this.supports_binary) {\n",
       "        var warnings = document.getElementById(\"mpl-warnings\");\n",
       "        if (warnings) {\n",
       "            warnings.style.display = 'block';\n",
       "            warnings.textContent = (\n",
       "                \"This browser does not support binary websocket messages. \" +\n",
       "                    \"Performance may be slow.\");\n",
       "        }\n",
       "    }\n",
       "\n",
       "    this.imageObj = new Image();\n",
       "\n",
       "    this.context = undefined;\n",
       "    this.message = undefined;\n",
       "    this.canvas = undefined;\n",
       "    this.rubberband_canvas = undefined;\n",
       "    this.rubberband_context = undefined;\n",
       "    this.format_dropdown = undefined;\n",
       "\n",
       "    this.image_mode = 'full';\n",
       "\n",
       "    this.root = $('<div/>');\n",
       "    this._root_extra_style(this.root)\n",
       "    this.root.attr('style', 'display: inline-block');\n",
       "\n",
       "    $(parent_element).append(this.root);\n",
       "\n",
       "    this._init_header(this);\n",
       "    this._init_canvas(this);\n",
       "    this._init_toolbar(this);\n",
       "\n",
       "    var fig = this;\n",
       "\n",
       "    this.waiting = false;\n",
       "\n",
       "    this.ws.onopen =  function () {\n",
       "            fig.send_message(\"supports_binary\", {value: fig.supports_binary});\n",
       "            fig.send_message(\"send_image_mode\", {});\n",
       "            if (mpl.ratio != 1) {\n",
       "                fig.send_message(\"set_dpi_ratio\", {'dpi_ratio': mpl.ratio});\n",
       "            }\n",
       "            fig.send_message(\"refresh\", {});\n",
       "        }\n",
       "\n",
       "    this.imageObj.onload = function() {\n",
       "            if (fig.image_mode == 'full') {\n",
       "                // Full images could contain transparency (where diff images\n",
       "                // almost always do), so we need to clear the canvas so that\n",
       "                // there is no ghosting.\n",
       "                fig.context.clearRect(0, 0, fig.canvas.width, fig.canvas.height);\n",
       "            }\n",
       "            fig.context.drawImage(fig.imageObj, 0, 0);\n",
       "        };\n",
       "\n",
       "    this.imageObj.onunload = function() {\n",
       "        fig.ws.close();\n",
       "    }\n",
       "\n",
       "    this.ws.onmessage = this._make_on_message_function(this);\n",
       "\n",
       "    this.ondownload = ondownload;\n",
       "}\n",
       "\n",
       "mpl.figure.prototype._init_header = function() {\n",
       "    var titlebar = $(\n",
       "        '<div class=\"ui-dialog-titlebar ui-widget-header ui-corner-all ' +\n",
       "        'ui-helper-clearfix\"/>');\n",
       "    var titletext = $(\n",
       "        '<div class=\"ui-dialog-title\" style=\"width: 100%; ' +\n",
       "        'text-align: center; padding: 3px;\"/>');\n",
       "    titlebar.append(titletext)\n",
       "    this.root.append(titlebar);\n",
       "    this.header = titletext[0];\n",
       "}\n",
       "\n",
       "\n",
       "\n",
       "mpl.figure.prototype._canvas_extra_style = function(canvas_div) {\n",
       "\n",
       "}\n",
       "\n",
       "\n",
       "mpl.figure.prototype._root_extra_style = function(canvas_div) {\n",
       "\n",
       "}\n",
       "\n",
       "mpl.figure.prototype._init_canvas = function() {\n",
       "    var fig = this;\n",
       "\n",
       "    var canvas_div = $('<div/>');\n",
       "\n",
       "    canvas_div.attr('style', 'position: relative; clear: both; outline: 0');\n",
       "\n",
       "    function canvas_keyboard_event(event) {\n",
       "        return fig.key_event(event, event['data']);\n",
       "    }\n",
       "\n",
       "    canvas_div.keydown('key_press', canvas_keyboard_event);\n",
       "    canvas_div.keyup('key_release', canvas_keyboard_event);\n",
       "    this.canvas_div = canvas_div\n",
       "    this._canvas_extra_style(canvas_div)\n",
       "    this.root.append(canvas_div);\n",
       "\n",
       "    var canvas = $('<canvas/>');\n",
       "    canvas.addClass('mpl-canvas');\n",
       "    canvas.attr('style', \"left: 0; top: 0; z-index: 0; outline: 0\")\n",
       "\n",
       "    this.canvas = canvas[0];\n",
       "    this.context = canvas[0].getContext(\"2d\");\n",
       "\n",
       "    var backingStore = this.context.backingStorePixelRatio ||\n",
       "\tthis.context.webkitBackingStorePixelRatio ||\n",
       "\tthis.context.mozBackingStorePixelRatio ||\n",
       "\tthis.context.msBackingStorePixelRatio ||\n",
       "\tthis.context.oBackingStorePixelRatio ||\n",
       "\tthis.context.backingStorePixelRatio || 1;\n",
       "\n",
       "    mpl.ratio = (window.devicePixelRatio || 1) / backingStore;\n",
       "\n",
       "    var rubberband = $('<canvas/>');\n",
       "    rubberband.attr('style', \"position: absolute; left: 0; top: 0; z-index: 1;\")\n",
       "\n",
       "    var pass_mouse_events = true;\n",
       "\n",
       "    canvas_div.resizable({\n",
       "        start: function(event, ui) {\n",
       "            pass_mouse_events = false;\n",
       "        },\n",
       "        resize: function(event, ui) {\n",
       "            fig.request_resize(ui.size.width, ui.size.height);\n",
       "        },\n",
       "        stop: function(event, ui) {\n",
       "            pass_mouse_events = true;\n",
       "            fig.request_resize(ui.size.width, ui.size.height);\n",
       "        },\n",
       "    });\n",
       "\n",
       "    function mouse_event_fn(event) {\n",
       "        if (pass_mouse_events)\n",
       "            return fig.mouse_event(event, event['data']);\n",
       "    }\n",
       "\n",
       "    rubberband.mousedown('button_press', mouse_event_fn);\n",
       "    rubberband.mouseup('button_release', mouse_event_fn);\n",
       "    // Throttle sequential mouse events to 1 every 20ms.\n",
       "    rubberband.mousemove('motion_notify', mouse_event_fn);\n",
       "\n",
       "    rubberband.mouseenter('figure_enter', mouse_event_fn);\n",
       "    rubberband.mouseleave('figure_leave', mouse_event_fn);\n",
       "\n",
       "    canvas_div.on(\"wheel\", function (event) {\n",
       "        event = event.originalEvent;\n",
       "        event['data'] = 'scroll'\n",
       "        if (event.deltaY < 0) {\n",
       "            event.step = 1;\n",
       "        } else {\n",
       "            event.step = -1;\n",
       "        }\n",
       "        mouse_event_fn(event);\n",
       "    });\n",
       "\n",
       "    canvas_div.append(canvas);\n",
       "    canvas_div.append(rubberband);\n",
       "\n",
       "    this.rubberband = rubberband;\n",
       "    this.rubberband_canvas = rubberband[0];\n",
       "    this.rubberband_context = rubberband[0].getContext(\"2d\");\n",
       "    this.rubberband_context.strokeStyle = \"#000000\";\n",
       "\n",
       "    this._resize_canvas = function(width, height) {\n",
       "        // Keep the size of the canvas, canvas container, and rubber band\n",
       "        // canvas in synch.\n",
       "        canvas_div.css('width', width)\n",
       "        canvas_div.css('height', height)\n",
       "\n",
       "        canvas.attr('width', width * mpl.ratio);\n",
       "        canvas.attr('height', height * mpl.ratio);\n",
       "        canvas.attr('style', 'width: ' + width + 'px; height: ' + height + 'px;');\n",
       "\n",
       "        rubberband.attr('width', width);\n",
       "        rubberband.attr('height', height);\n",
       "    }\n",
       "\n",
       "    // Set the figure to an initial 600x600px, this will subsequently be updated\n",
       "    // upon first draw.\n",
       "    this._resize_canvas(600, 600);\n",
       "\n",
       "    // Disable right mouse context menu.\n",
       "    $(this.rubberband_canvas).bind(\"contextmenu\",function(e){\n",
       "        return false;\n",
       "    });\n",
       "\n",
       "    function set_focus () {\n",
       "        canvas.focus();\n",
       "        canvas_div.focus();\n",
       "    }\n",
       "\n",
       "    window.setTimeout(set_focus, 100);\n",
       "}\n",
       "\n",
       "mpl.figure.prototype._init_toolbar = function() {\n",
       "    var fig = this;\n",
       "\n",
       "    var nav_element = $('<div/>');\n",
       "    nav_element.attr('style', 'width: 100%');\n",
       "    this.root.append(nav_element);\n",
       "\n",
       "    // Define a callback function for later on.\n",
       "    function toolbar_event(event) {\n",
       "        return fig.toolbar_button_onclick(event['data']);\n",
       "    }\n",
       "    function toolbar_mouse_event(event) {\n",
       "        return fig.toolbar_button_onmouseover(event['data']);\n",
       "    }\n",
       "\n",
       "    for(var toolbar_ind in mpl.toolbar_items) {\n",
       "        var name = mpl.toolbar_items[toolbar_ind][0];\n",
       "        var tooltip = mpl.toolbar_items[toolbar_ind][1];\n",
       "        var image = mpl.toolbar_items[toolbar_ind][2];\n",
       "        var method_name = mpl.toolbar_items[toolbar_ind][3];\n",
       "\n",
       "        if (!name) {\n",
       "            // put a spacer in here.\n",
       "            continue;\n",
       "        }\n",
       "        var button = $('<button/>');\n",
       "        button.addClass('ui-button ui-widget ui-state-default ui-corner-all ' +\n",
       "                        'ui-button-icon-only');\n",
       "        button.attr('role', 'button');\n",
       "        button.attr('aria-disabled', 'false');\n",
       "        button.click(method_name, toolbar_event);\n",
       "        button.mouseover(tooltip, toolbar_mouse_event);\n",
       "\n",
       "        var icon_img = $('<span/>');\n",
       "        icon_img.addClass('ui-button-icon-primary ui-icon');\n",
       "        icon_img.addClass(image);\n",
       "        icon_img.addClass('ui-corner-all');\n",
       "\n",
       "        var tooltip_span = $('<span/>');\n",
       "        tooltip_span.addClass('ui-button-text');\n",
       "        tooltip_span.html(tooltip);\n",
       "\n",
       "        button.append(icon_img);\n",
       "        button.append(tooltip_span);\n",
       "\n",
       "        nav_element.append(button);\n",
       "    }\n",
       "\n",
       "    var fmt_picker_span = $('<span/>');\n",
       "\n",
       "    var fmt_picker = $('<select/>');\n",
       "    fmt_picker.addClass('mpl-toolbar-option ui-widget ui-widget-content');\n",
       "    fmt_picker_span.append(fmt_picker);\n",
       "    nav_element.append(fmt_picker_span);\n",
       "    this.format_dropdown = fmt_picker[0];\n",
       "\n",
       "    for (var ind in mpl.extensions) {\n",
       "        var fmt = mpl.extensions[ind];\n",
       "        var option = $(\n",
       "            '<option/>', {selected: fmt === mpl.default_extension}).html(fmt);\n",
       "        fmt_picker.append(option);\n",
       "    }\n",
       "\n",
       "    // Add hover states to the ui-buttons\n",
       "    $( \".ui-button\" ).hover(\n",
       "        function() { $(this).addClass(\"ui-state-hover\");},\n",
       "        function() { $(this).removeClass(\"ui-state-hover\");}\n",
       "    );\n",
       "\n",
       "    var status_bar = $('<span class=\"mpl-message\"/>');\n",
       "    nav_element.append(status_bar);\n",
       "    this.message = status_bar[0];\n",
       "}\n",
       "\n",
       "mpl.figure.prototype.request_resize = function(x_pixels, y_pixels) {\n",
       "    // Request matplotlib to resize the figure. Matplotlib will then trigger a resize in the client,\n",
       "    // which will in turn request a refresh of the image.\n",
       "    this.send_message('resize', {'width': x_pixels, 'height': y_pixels});\n",
       "}\n",
       "\n",
       "mpl.figure.prototype.send_message = function(type, properties) {\n",
       "    properties['type'] = type;\n",
       "    properties['figure_id'] = this.id;\n",
       "    this.ws.send(JSON.stringify(properties));\n",
       "}\n",
       "\n",
       "mpl.figure.prototype.send_draw_message = function() {\n",
       "    if (!this.waiting) {\n",
       "        this.waiting = true;\n",
       "        this.ws.send(JSON.stringify({type: \"draw\", figure_id: this.id}));\n",
       "    }\n",
       "}\n",
       "\n",
       "\n",
       "mpl.figure.prototype.handle_save = function(fig, msg) {\n",
       "    var format_dropdown = fig.format_dropdown;\n",
       "    var format = format_dropdown.options[format_dropdown.selectedIndex].value;\n",
       "    fig.ondownload(fig, format);\n",
       "}\n",
       "\n",
       "\n",
       "mpl.figure.prototype.handle_resize = function(fig, msg) {\n",
       "    var size = msg['size'];\n",
       "    if (size[0] != fig.canvas.width || size[1] != fig.canvas.height) {\n",
       "        fig._resize_canvas(size[0], size[1]);\n",
       "        fig.send_message(\"refresh\", {});\n",
       "    };\n",
       "}\n",
       "\n",
       "mpl.figure.prototype.handle_rubberband = function(fig, msg) {\n",
       "    var x0 = msg['x0'] / mpl.ratio;\n",
       "    var y0 = (fig.canvas.height - msg['y0']) / mpl.ratio;\n",
       "    var x1 = msg['x1'] / mpl.ratio;\n",
       "    var y1 = (fig.canvas.height - msg['y1']) / mpl.ratio;\n",
       "    x0 = Math.floor(x0) + 0.5;\n",
       "    y0 = Math.floor(y0) + 0.5;\n",
       "    x1 = Math.floor(x1) + 0.5;\n",
       "    y1 = Math.floor(y1) + 0.5;\n",
       "    var min_x = Math.min(x0, x1);\n",
       "    var min_y = Math.min(y0, y1);\n",
       "    var width = Math.abs(x1 - x0);\n",
       "    var height = Math.abs(y1 - y0);\n",
       "\n",
       "    fig.rubberband_context.clearRect(\n",
       "        0, 0, fig.canvas.width / mpl.ratio, fig.canvas.height / mpl.ratio);\n",
       "\n",
       "    fig.rubberband_context.strokeRect(min_x, min_y, width, height);\n",
       "}\n",
       "\n",
       "mpl.figure.prototype.handle_figure_label = function(fig, msg) {\n",
       "    // Updates the figure title.\n",
       "    fig.header.textContent = msg['label'];\n",
       "}\n",
       "\n",
       "mpl.figure.prototype.handle_cursor = function(fig, msg) {\n",
       "    var cursor = msg['cursor'];\n",
       "    switch(cursor)\n",
       "    {\n",
       "    case 0:\n",
       "        cursor = 'pointer';\n",
       "        break;\n",
       "    case 1:\n",
       "        cursor = 'default';\n",
       "        break;\n",
       "    case 2:\n",
       "        cursor = 'crosshair';\n",
       "        break;\n",
       "    case 3:\n",
       "        cursor = 'move';\n",
       "        break;\n",
       "    }\n",
       "    fig.rubberband_canvas.style.cursor = cursor;\n",
       "}\n",
       "\n",
       "mpl.figure.prototype.handle_message = function(fig, msg) {\n",
       "    fig.message.textContent = msg['message'];\n",
       "}\n",
       "\n",
       "mpl.figure.prototype.handle_draw = function(fig, msg) {\n",
       "    // Request the server to send over a new figure.\n",
       "    fig.send_draw_message();\n",
       "}\n",
       "\n",
       "mpl.figure.prototype.handle_image_mode = function(fig, msg) {\n",
       "    fig.image_mode = msg['mode'];\n",
       "}\n",
       "\n",
       "mpl.figure.prototype.updated_canvas_event = function() {\n",
       "    // Called whenever the canvas gets updated.\n",
       "    this.send_message(\"ack\", {});\n",
       "}\n",
       "\n",
       "// A function to construct a web socket function for onmessage handling.\n",
       "// Called in the figure constructor.\n",
       "mpl.figure.prototype._make_on_message_function = function(fig) {\n",
       "    return function socket_on_message(evt) {\n",
       "        if (evt.data instanceof Blob) {\n",
       "            /* FIXME: We get \"Resource interpreted as Image but\n",
       "             * transferred with MIME type text/plain:\" errors on\n",
       "             * Chrome.  But how to set the MIME type?  It doesn't seem\n",
       "             * to be part of the websocket stream */\n",
       "            evt.data.type = \"image/png\";\n",
       "\n",
       "            /* Free the memory for the previous frames */\n",
       "            if (fig.imageObj.src) {\n",
       "                (window.URL || window.webkitURL).revokeObjectURL(\n",
       "                    fig.imageObj.src);\n",
       "            }\n",
       "\n",
       "            fig.imageObj.src = (window.URL || window.webkitURL).createObjectURL(\n",
       "                evt.data);\n",
       "            fig.updated_canvas_event();\n",
       "            fig.waiting = false;\n",
       "            return;\n",
       "        }\n",
       "        else if (typeof evt.data === 'string' && evt.data.slice(0, 21) == \"data:image/png;base64\") {\n",
       "            fig.imageObj.src = evt.data;\n",
       "            fig.updated_canvas_event();\n",
       "            fig.waiting = false;\n",
       "            return;\n",
       "        }\n",
       "\n",
       "        var msg = JSON.parse(evt.data);\n",
       "        var msg_type = msg['type'];\n",
       "\n",
       "        // Call the  \"handle_{type}\" callback, which takes\n",
       "        // the figure and JSON message as its only arguments.\n",
       "        try {\n",
       "            var callback = fig[\"handle_\" + msg_type];\n",
       "        } catch (e) {\n",
       "            console.log(\"No handler for the '\" + msg_type + \"' message type: \", msg);\n",
       "            return;\n",
       "        }\n",
       "\n",
       "        if (callback) {\n",
       "            try {\n",
       "                // console.log(\"Handling '\" + msg_type + \"' message: \", msg);\n",
       "                callback(fig, msg);\n",
       "            } catch (e) {\n",
       "                console.log(\"Exception inside the 'handler_\" + msg_type + \"' callback:\", e, e.stack, msg);\n",
       "            }\n",
       "        }\n",
       "    };\n",
       "}\n",
       "\n",
       "// from http://stackoverflow.com/questions/1114465/getting-mouse-location-in-canvas\n",
       "mpl.findpos = function(e) {\n",
       "    //this section is from http://www.quirksmode.org/js/events_properties.html\n",
       "    var targ;\n",
       "    if (!e)\n",
       "        e = window.event;\n",
       "    if (e.target)\n",
       "        targ = e.target;\n",
       "    else if (e.srcElement)\n",
       "        targ = e.srcElement;\n",
       "    if (targ.nodeType == 3) // defeat Safari bug\n",
       "        targ = targ.parentNode;\n",
       "\n",
       "    // jQuery normalizes the pageX and pageY\n",
       "    // pageX,Y are the mouse positions relative to the document\n",
       "    // offset() returns the position of the element relative to the document\n",
       "    var x = e.pageX - $(targ).offset().left;\n",
       "    var y = e.pageY - $(targ).offset().top;\n",
       "\n",
       "    return {\"x\": x, \"y\": y};\n",
       "};\n",
       "\n",
       "/*\n",
       " * return a copy of an object with only non-object keys\n",
       " * we need this to avoid circular references\n",
       " * http://stackoverflow.com/a/24161582/3208463\n",
       " */\n",
       "function simpleKeys (original) {\n",
       "  return Object.keys(original).reduce(function (obj, key) {\n",
       "    if (typeof original[key] !== 'object')\n",
       "        obj[key] = original[key]\n",
       "    return obj;\n",
       "  }, {});\n",
       "}\n",
       "\n",
       "mpl.figure.prototype.mouse_event = function(event, name) {\n",
       "    var canvas_pos = mpl.findpos(event)\n",
       "\n",
       "    if (name === 'button_press')\n",
       "    {\n",
       "        this.canvas.focus();\n",
       "        this.canvas_div.focus();\n",
       "    }\n",
       "\n",
       "    var x = canvas_pos.x * mpl.ratio;\n",
       "    var y = canvas_pos.y * mpl.ratio;\n",
       "\n",
       "    this.send_message(name, {x: x, y: y, button: event.button,\n",
       "                             step: event.step,\n",
       "                             guiEvent: simpleKeys(event)});\n",
       "\n",
       "    /* This prevents the web browser from automatically changing to\n",
       "     * the text insertion cursor when the button is pressed.  We want\n",
       "     * to control all of the cursor setting manually through the\n",
       "     * 'cursor' event from matplotlib */\n",
       "    event.preventDefault();\n",
       "    return false;\n",
       "}\n",
       "\n",
       "mpl.figure.prototype._key_event_extra = function(event, name) {\n",
       "    // Handle any extra behaviour associated with a key event\n",
       "}\n",
       "\n",
       "mpl.figure.prototype.key_event = function(event, name) {\n",
       "\n",
       "    // Prevent repeat events\n",
       "    if (name == 'key_press')\n",
       "    {\n",
       "        if (event.which === this._key)\n",
       "            return;\n",
       "        else\n",
       "            this._key = event.which;\n",
       "    }\n",
       "    if (name == 'key_release')\n",
       "        this._key = null;\n",
       "\n",
       "    var value = '';\n",
       "    if (event.ctrlKey && event.which != 17)\n",
       "        value += \"ctrl+\";\n",
       "    if (event.altKey && event.which != 18)\n",
       "        value += \"alt+\";\n",
       "    if (event.shiftKey && event.which != 16)\n",
       "        value += \"shift+\";\n",
       "\n",
       "    value += 'k';\n",
       "    value += event.which.toString();\n",
       "\n",
       "    this._key_event_extra(event, name);\n",
       "\n",
       "    this.send_message(name, {key: value,\n",
       "                             guiEvent: simpleKeys(event)});\n",
       "    return false;\n",
       "}\n",
       "\n",
       "mpl.figure.prototype.toolbar_button_onclick = function(name) {\n",
       "    if (name == 'download') {\n",
       "        this.handle_save(this, null);\n",
       "    } else {\n",
       "        this.send_message(\"toolbar_button\", {name: name});\n",
       "    }\n",
       "};\n",
       "\n",
       "mpl.figure.prototype.toolbar_button_onmouseover = function(tooltip) {\n",
       "    this.message.textContent = tooltip;\n",
       "};\n",
       "mpl.toolbar_items = [[\"Home\", \"Reset original view\", \"fa fa-home icon-home\", \"home\"], [\"Back\", \"Back to previous view\", \"fa fa-arrow-left icon-arrow-left\", \"back\"], [\"Forward\", \"Forward to next view\", \"fa fa-arrow-right icon-arrow-right\", \"forward\"], [\"\", \"\", \"\", \"\"], [\"Pan\", \"Pan axes with left mouse, zoom with right\", \"fa fa-arrows icon-move\", \"pan\"], [\"Zoom\", \"Zoom to rectangle\", \"fa fa-square-o icon-check-empty\", \"zoom\"], [\"\", \"\", \"\", \"\"], [\"Download\", \"Download plot\", \"fa fa-floppy-o icon-save\", \"download\"]];\n",
       "\n",
       "mpl.extensions = [\"eps\", \"jpeg\", \"pdf\", \"png\", \"ps\", \"raw\", \"svg\", \"tif\"];\n",
       "\n",
       "mpl.default_extension = \"png\";var comm_websocket_adapter = function(comm) {\n",
       "    // Create a \"websocket\"-like object which calls the given IPython comm\n",
       "    // object with the appropriate methods. Currently this is a non binary\n",
       "    // socket, so there is still some room for performance tuning.\n",
       "    var ws = {};\n",
       "\n",
       "    ws.close = function() {\n",
       "        comm.close()\n",
       "    };\n",
       "    ws.send = function(m) {\n",
       "        //console.log('sending', m);\n",
       "        comm.send(m);\n",
       "    };\n",
       "    // Register the callback with on_msg.\n",
       "    comm.on_msg(function(msg) {\n",
       "        //console.log('receiving', msg['content']['data'], msg);\n",
       "        // Pass the mpl event to the overridden (by mpl) onmessage function.\n",
       "        ws.onmessage(msg['content']['data'])\n",
       "    });\n",
       "    return ws;\n",
       "}\n",
       "\n",
       "mpl.mpl_figure_comm = function(comm, msg) {\n",
       "    // This is the function which gets called when the mpl process\n",
       "    // starts-up an IPython Comm through the \"matplotlib\" channel.\n",
       "\n",
       "    var id = msg.content.data.id;\n",
       "    // Get hold of the div created by the display call when the Comm\n",
       "    // socket was opened in Python.\n",
       "    var element = $(\"#\" + id);\n",
       "    var ws_proxy = comm_websocket_adapter(comm)\n",
       "\n",
       "    function ondownload(figure, format) {\n",
       "        window.open(figure.imageObj.src);\n",
       "    }\n",
       "\n",
       "    var fig = new mpl.figure(id, ws_proxy,\n",
       "                           ondownload,\n",
       "                           element.get(0));\n",
       "\n",
       "    // Call onopen now - mpl needs it, as it is assuming we've passed it a real\n",
       "    // web socket which is closed, not our websocket->open comm proxy.\n",
       "    ws_proxy.onopen();\n",
       "\n",
       "    fig.parent_element = element.get(0);\n",
       "    fig.cell_info = mpl.find_output_cell(\"<div id='\" + id + \"'></div>\");\n",
       "    if (!fig.cell_info) {\n",
       "        console.error(\"Failed to find cell for figure\", id, fig);\n",
       "        return;\n",
       "    }\n",
       "\n",
       "    var output_index = fig.cell_info[2]\n",
       "    var cell = fig.cell_info[0];\n",
       "\n",
       "};\n",
       "\n",
       "mpl.figure.prototype.handle_close = function(fig, msg) {\n",
       "    var width = fig.canvas.width/mpl.ratio\n",
       "    fig.root.unbind('remove')\n",
       "\n",
       "    // Update the output cell to use the data from the current canvas.\n",
       "    fig.push_to_output();\n",
       "    var dataURL = fig.canvas.toDataURL();\n",
       "    // Re-enable the keyboard manager in IPython - without this line, in FF,\n",
       "    // the notebook keyboard shortcuts fail.\n",
       "    IPython.keyboard_manager.enable()\n",
       "    $(fig.parent_element).html('<img src=\"' + dataURL + '\" width=\"' + width + '\">');\n",
       "    fig.close_ws(fig, msg);\n",
       "}\n",
       "\n",
       "mpl.figure.prototype.close_ws = function(fig, msg){\n",
       "    fig.send_message('closing', msg);\n",
       "    // fig.ws.close()\n",
       "}\n",
       "\n",
       "mpl.figure.prototype.push_to_output = function(remove_interactive) {\n",
       "    // Turn the data on the canvas into data in the output cell.\n",
       "    var width = this.canvas.width/mpl.ratio\n",
       "    var dataURL = this.canvas.toDataURL();\n",
       "    this.cell_info[1]['text/html'] = '<img src=\"' + dataURL + '\" width=\"' + width + '\">';\n",
       "}\n",
       "\n",
       "mpl.figure.prototype.updated_canvas_event = function() {\n",
       "    // Tell IPython that the notebook contents must change.\n",
       "    IPython.notebook.set_dirty(true);\n",
       "    this.send_message(\"ack\", {});\n",
       "    var fig = this;\n",
       "    // Wait a second, then push the new image to the DOM so\n",
       "    // that it is saved nicely (might be nice to debounce this).\n",
       "    setTimeout(function () { fig.push_to_output() }, 1000);\n",
       "}\n",
       "\n",
       "mpl.figure.prototype._init_toolbar = function() {\n",
       "    var fig = this;\n",
       "\n",
       "    var nav_element = $('<div/>');\n",
       "    nav_element.attr('style', 'width: 100%');\n",
       "    this.root.append(nav_element);\n",
       "\n",
       "    // Define a callback function for later on.\n",
       "    function toolbar_event(event) {\n",
       "        return fig.toolbar_button_onclick(event['data']);\n",
       "    }\n",
       "    function toolbar_mouse_event(event) {\n",
       "        return fig.toolbar_button_onmouseover(event['data']);\n",
       "    }\n",
       "\n",
       "    for(var toolbar_ind in mpl.toolbar_items){\n",
       "        var name = mpl.toolbar_items[toolbar_ind][0];\n",
       "        var tooltip = mpl.toolbar_items[toolbar_ind][1];\n",
       "        var image = mpl.toolbar_items[toolbar_ind][2];\n",
       "        var method_name = mpl.toolbar_items[toolbar_ind][3];\n",
       "\n",
       "        if (!name) { continue; };\n",
       "\n",
       "        var button = $('<button class=\"btn btn-default\" href=\"#\" title=\"' + name + '\"><i class=\"fa ' + image + ' fa-lg\"></i></button>');\n",
       "        button.click(method_name, toolbar_event);\n",
       "        button.mouseover(tooltip, toolbar_mouse_event);\n",
       "        nav_element.append(button);\n",
       "    }\n",
       "\n",
       "    // Add the status bar.\n",
       "    var status_bar = $('<span class=\"mpl-message\" style=\"text-align:right; float: right;\"/>');\n",
       "    nav_element.append(status_bar);\n",
       "    this.message = status_bar[0];\n",
       "\n",
       "    // Add the close button to the window.\n",
       "    var buttongrp = $('<div class=\"btn-group inline pull-right\"></div>');\n",
       "    var button = $('<button class=\"btn btn-mini btn-primary\" href=\"#\" title=\"Stop Interaction\"><i class=\"fa fa-power-off icon-remove icon-large\"></i></button>');\n",
       "    button.click(function (evt) { fig.handle_close(fig, {}); } );\n",
       "    button.mouseover('Stop Interaction', toolbar_mouse_event);\n",
       "    buttongrp.append(button);\n",
       "    var titlebar = this.root.find($('.ui-dialog-titlebar'));\n",
       "    titlebar.prepend(buttongrp);\n",
       "}\n",
       "\n",
       "mpl.figure.prototype._root_extra_style = function(el){\n",
       "    var fig = this\n",
       "    el.on(\"remove\", function(){\n",
       "\tfig.close_ws(fig, {});\n",
       "    });\n",
       "}\n",
       "\n",
       "mpl.figure.prototype._canvas_extra_style = function(el){\n",
       "    // this is important to make the div 'focusable\n",
       "    el.attr('tabindex', 0)\n",
       "    // reach out to IPython and tell the keyboard manager to turn it's self\n",
       "    // off when our div gets focus\n",
       "\n",
       "    // location in version 3\n",
       "    if (IPython.notebook.keyboard_manager) {\n",
       "        IPython.notebook.keyboard_manager.register_events(el);\n",
       "    }\n",
       "    else {\n",
       "        // location in version 2\n",
       "        IPython.keyboard_manager.register_events(el);\n",
       "    }\n",
       "\n",
       "}\n",
       "\n",
       "mpl.figure.prototype._key_event_extra = function(event, name) {\n",
       "    var manager = IPython.notebook.keyboard_manager;\n",
       "    if (!manager)\n",
       "        manager = IPython.keyboard_manager;\n",
       "\n",
       "    // Check for shift+enter\n",
       "    if (event.shiftKey && event.which == 13) {\n",
       "        this.canvas_div.blur();\n",
       "        // select the cell after this one\n",
       "        var index = IPython.notebook.find_cell_index(this.cell_info[0]);\n",
       "        IPython.notebook.select(index + 1);\n",
       "    }\n",
       "}\n",
       "\n",
       "mpl.figure.prototype.handle_save = function(fig, msg) {\n",
       "    fig.ondownload(fig, null);\n",
       "}\n",
       "\n",
       "\n",
       "mpl.find_output_cell = function(html_output) {\n",
       "    // Return the cell and output element which can be found *uniquely* in the notebook.\n",
       "    // Note - this is a bit hacky, but it is done because the \"notebook_saving.Notebook\"\n",
       "    // IPython event is triggered only after the cells have been serialised, which for\n",
       "    // our purposes (turning an active figure into a static one), is too late.\n",
       "    var cells = IPython.notebook.get_cells();\n",
       "    var ncells = cells.length;\n",
       "    for (var i=0; i<ncells; i++) {\n",
       "        var cell = cells[i];\n",
       "        if (cell.cell_type === 'code'){\n",
       "            for (var j=0; j<cell.output_area.outputs.length; j++) {\n",
       "                var data = cell.output_area.outputs[j];\n",
       "                if (data.data) {\n",
       "                    // IPython >= 3 moved mimebundle to data attribute of output\n",
       "                    data = data.data;\n",
       "                }\n",
       "                if (data['text/html'] == html_output) {\n",
       "                    return [cell, data, j];\n",
       "                }\n",
       "            }\n",
       "        }\n",
       "    }\n",
       "}\n",
       "\n",
       "// Register the function which deals with the matplotlib target/channel.\n",
       "// The kernel may be null if the page has been refreshed.\n",
       "if (IPython.notebook.kernel != null) {\n",
       "    IPython.notebook.kernel.comm_manager.register_target('matplotlib', mpl.mpl_figure_comm);\n",
       "}\n"
      ],
      "text/plain": [
       "<IPython.core.display.Javascript object>"
      ]
     },
     "metadata": {},
     "output_type": "display_data"
    },
    {
     "data": {
      "text/html": [
       "<img src=\"data:image/png;base64,iVBORw0KGgoAAAANSUhEUgAAA8AAAALQCAYAAABfdxm0AAAAAXNSR0IArs4c6QAAIABJREFUeF7s3QncTmX+x/HvQ4+l+BfSgkpkbZUyQlSokFQkTbuZUs0UaZpqRrtp0SIyo1RDKhVtlKWohNLGqLG1IIlJi13Wnuf/us7pcSOe536e+1z3dZbPeb3m9Tec8zu/6/071/91/eac+5yc/Pz8fLEhgAACCCCAAAIIIIAAAgggEHOBHBrgmFeY4SGAAAIIIIAAAggggAACCHgCNMBcCAgggAACCCCAAAIIIIAAAokQoAFORJkZJAIIIIAAAggggAACCCCAAA0w1wACCCCAAAIIIIAAAggggEAiBGiAE1FmBokAAggggAACCCCAAAIIIEADzDWAAAIIIIAAAggggAACCCCQCAEa4ESUmUEigAACCCCAAAIIIIAAAgjQAHMNIIAAAggggAACCCCAAAIIJEKABjgRZWaQCCCAAAIIIIAAAggggAACNMBcAwgggAACCCCAAAIIIIAAAokQoAFORJkZJAIIIIAAAggggAACCCCAAA0w1wACCCCAAAIIIIAAAggggEAiBGiAE1FmBokAAggggAACCCCAAAIIIEADzDWAAAIIIIAAAggggAACCCCQCAEa4ESUmUEigAACCCCAAAIIIIAAAgjQAHMNIIAAAggggAACCCCAAAIIJEKABjgRZWaQCCCAAAIIIIAAAggggAACNMBcAwgggAACCCCAAAIIIIAAAokQoAFORJkZJAIIIIAAAggggAACCCCAAA0w1wACCCCAAAIIIIAAAggggEAiBGiAE1FmBokAAggggAACCCCAAAIIIEADzDWAAAIIIIAAAggggAACCCCQCAEa4ESUmUEigAACCCCAAAIIIIAAAgjQAHMNIIAAAggggAACCCCAAAIIJEKABjgRZWaQCCCAAAIIIIAAAggggAACNMBcAwgggAACCCCAAAIIIIAAAokQoAFORJkZJAIIIIAAAggggAACCCCAAA0w1wACCCCAAAIIIIAAAggggEAiBGiAE1FmBokAAggggAACCCCAAAIIIEADzDWAAAIIIIAAAggggAACCCCQCAEa4ESUmUEigAACCCCAAAIIIIAAAgjQAHMNIIAAAggggAACCCCAAAIIJEKABjgRZWaQCCCAAAIIIIAAAggggAACNMBcAwgggAACCCCAAAIIIIAAAokQoAFORJkZJAIIIIAAAggggAACCCCAAA0w1wACCCCAAAIIIIAAAggggEAiBGiAE1FmBokAAggggAACCCCAAAIIIEADzDWAAAIIIIAAAggggAACCCCQCAEa4ESUmUEigAACCCCAAAIIIIAAAgjQAHMNIIAAAggggAACCCCAAAIIJEKABjgRZWaQCCCAAAIIIIAAAggggAACNMBcAwgggAACCCCAAAIIIIAAAokQoAFORJkZJAIIIIAAAggggAACCCCAAA0w1wACCCCAAAIIIIAAAggggEAiBGiAE1FmBokAAggggAACCCCAAAIIIEADzDWAAAIIIIAAAggggAACCCCQCAEa4ESUmUEigAACCCCAAAIIIIAAAgjQAHMNIIAAAggggAACCCCAAAIIJEKABjgRZWaQCCCAAAIIIIAAAggggAACNMBcAwgggAACCCCAAAIIIIAAAokQoAFORJkZJAIIIIAAAggggAACCCCAAA0w1wACCCCAAAIIIIAAAggggEAiBGiAE1FmBokAAggggAACCCCAAAIIIEADzDWAAAIIIIAAAggggAACCCCQCAEa4ESUmUEigAACCCCAAAIIIIAAAgjQAHMNIIAAAggggAACCCCAAAIIJEKABjgRZWaQCCCAAAIIIIAAAggggAACNMBcAwgggAACCCCAAAIIIIAAAokQoAFORJkZJAIIIIAAAggggAACCCCAAA0w1wACCCCAAAIIIIAAAggggEAiBGiAE1FmBokAAggggAACCCCAAAIIIEADzDWAAAIIIIAAAggggAACCCCQCAEa4ESUmUEigAACCCCAAAIIIIAAAgjQAHMNIIAAAggggAACCCCAAAIIJEKABjgRZWaQCCCAAAIIIIAAAggggAACNMBcAwgggAACCCCAAAIIIIAAAokQoAFORJkZJAIIIIAAAggggAACCCCAAA0w1wACCCCAAAIIIIAAAggggEAiBGiAE1FmBokAAggggAACCCCAAAIIIEADzDWAAAIIIIAAAggggAACCCCQCAEa4ESUmUEigAACCCCAAAIIIIAAAgjQAHMNIIAAAggggAACCCCAAAIIJEKABjgRZWaQCCCAAAIIIIAAAggggAACNMBcAwgggAACCCCAAAIIIIAAAokQoAFORJkZJAIIIIAAAggggAACCCCAAA0w1wACCCCAAAIIIIAAAggggEAiBGiAE1FmBokAAggggAACCCCAAAIIIEADzDWAAAIIIIAAAggggAACCCCQCAEa4ESUmUEigAACCCCAAAIIIIAAAgjQAHMNIIAAAggggAACCCCAAAIIJEKABjgRZWaQCCCAAAIIIIAAAggggAACNMBcAwgggAACCCCAAAIIIIAAAokQoAFORJkZJAIIIIAAAggggAACCCCAAA0w1wACCCCAAAIIIIAAAggggEAiBGiAY1zmAw44QOvXr9fBBx8c41EyNAQQQAABBBBAAAEEoiHwzTffaK+99tJ3330XjYRjmCUNcAyLWjCkihUrasuWLapdu3aMR8nQEEAAAQQQQAABBBCIhsCCBQuUm5urtWvXRiPhGGZJAxzDohYM6fDDD/f+OGfOnBiPkqEhgAACCCCAAAIIIBANAdbn7utEA+y+BtYyYIJZoyUwAggggAACCCCAAALFFmB9XmyywA+gAQ6cNDwBmWDhqQWZIIAAAggggAACCCDA+tz9NUAD7L4G1jJgglmjJTACCCCAAAIIIIAAAsUWYH1ebLLAD6ABDpw0PAGZYOGpBZkggAACCCCAAAIIIMD63P01QAPsvgbWMmCCWaMlMAIIIIAAAggggAACxRZgfV5sssAPoAEOnDQ8AZlg4akFmSCAAAIIIIAAAgggwPrc/TVAA+y+BtYyYIJZoyUwAggggAACCCCAAALFFmB9XmyywA+gAQ6cNDwBM5lg+fn5Mv9hC6dATk6OzH/YEEAAAQQQQAABBKIjkMn6PDqjDHemNMDhrk9G2RVngplmd+3atVqzZo1+/vln/fLLLxmdm4PtC5QpU0YVK1ZUlSpVVLp0afsn5AwIIIAAAggggAACGQkUZ32e0Yk4eLcCNMAxvjjSnWB5eXn67rvvtHr16hhrxHdo5cqV08EHH0wTHN8SMzIEEEAAAQQQiIlAuuvzmAw3lMOgAQ5lWYJJKt0JtnLlSq8BNlvlypW9u4ply5blEdtgymAlivkfLdavX6/ly5d7d+vNXeD99tvPyrkIigACCCCAAAIIIBCMQLrr82DORpRdCdAAx/i6SHeCLVy4UJs2bfIaKNNIsUVHwNy1X7Zsmczj0LVr145O4mSKAAIIIIAAAggkUCDd9XkCabI2ZBrgrFFn/0TpTDDz29/58+d7yR122GHKzc3NfqKcscQCW7du1ZdffukdX79+fe7al1iSAxFAAAEEEEAAAfsC6azP7WeR7DPQAMe4/ulMMPMo7eeff+4p1KtXT6VKlYqxSPyGRv3iV1NGhAACCCCAAALxFUhnfR7f0YdjZDTA4aiDlSzSmWA0UFbosxaU+mWNmhMhgAACCCCAAAIZC6SzPs/4JAQoVIAGOMYXSDoTjAYq2hcA9Yt2/cgeAQQQQAABBJIlkM76PFki2R8tDXD2zbN2xnQmGA1U1sph5UTUzworQRFAAAEEEEAAASsC6azPrZyYoNsEaIBjfDGkM8FooIK/AL766is1bNhQ119/ve655560T9C/f3/17t1bH374oZo0aZLWcdQvLSZ2QgABBBBAAAEEQiGQzvo8FInGOAka4BgXN50JRgMV/AVw7rnnasKECVq0aJH23XffbSe49NJL9dRTT+mdd97RSSed9JsTb9iwQbVq1VKdOnU0ZcqUtBKjfmkxsRMCCCCAAAIIIBAKgXTW56FINMZJ0ADHuLjpTDAaqGAvgJkzZ6px48bq1auXzB3d7beiGmCz77333qubb75Z48aNU7t27YpMjvoVScQOCCCAAAIIIIBAaATSWZ+HJtmYJkIDHNPCmmGlM8FooIK9AC6//HI98cQTMo1wo0aNit0AL1myRIcccojOOOMMjRkzpsjkqF+RROyAAAIIIIAAAgiERiCd9Xloko1pIjTAMS0sDXBmhf3444+93+E2a9ZM77333i6D3XHHHbr99tt11113qU+fPlq3bp0OPPBAHXTQQZo7d+4Ox+Tk5Ow2IfOodM2aNbf9e8uWLfX+++/rm2++UbVq1QodCA1wZnXmaAQQQAABBBBIhsD770vHHy/l5rodLw2wW39zdhpg9zWwlkE6E4wGavf8xx13nGbMmKHZs2dvu5tesLdxM7/X/fbbb7V48WJVr15dY8eO9e7cXnXVVfrXv/61Q2Dz+PO0adO0YMECnXbaaTrggAO2/fsDDzyww2+Fb731Vq+pfvLJJ9W9e3caYGszhMAIIIAAAgggkASBpUulgw6SKlWSOneWzK/U9trLzcjTWZ+7ySw5Z6UBjnGt05lgNMC7vwAef/xxXXHFFbv8Pa95yZX5jW7Hjh23Pap800036b777tO///1vXXbZZb8JnM5vgM1Br7/+uhfX7D906FAa4BjPUYaGAAIIIIAAAvYFTMPbu7d/nkMPlRYskAp5OM9qQumsz60mQHDuAMf5GkhngqXTAOfnS6tXR0tq770z/39s69ev9x5Bzs3N1dKlS1W2bNltCF26dNFLL73kNb+mWTVb+/btNX78eO+RafPo9M5bug2w+YySeRO0+Q2x+S1xYVs69YtW5cgWAQQQQAABBBAIVuB3v5M++siPefPN0t13Bxu/ONHSWZ8XJx77Fl+AO8DFN4vMEelMsHQaqFWr/EdGorStXCnts0/mGV999dUaPHiwnnvuOXXr1s0L+P3336tGjRqqWrWq9zvd0qVLe39f8Mi0+f1vgwYNStwAr1ixQlWqVPHOYV6KRQOceR2JgAACCCCAAALJFDB3ew87LDX2zz6TjjzSnUU663N32SXjzDTAMa5zOhOMBrjwC+Czzz7T0UcfrVNOOUVvvfWWt3O/fv104403ei++Mr/VLdjMXVtz99Y0raZ53XlL9w7w1q1bvbvOFStW1Jo1a2iAYzxHGRoCCCCAAAII2BUwd3v//nf/HA0bSrNnZ/6UYCYZp7M+zyQ+xxYtQANctFFk90hngtEAF13eE044QR9++KG+/PJL1a5dW/Xq1fP+vHDhwh3e3lxwB3jOnDlqaP4/7E5bug3wTz/95L0UizvARdeGPRBAAAEEEEAAgcIEzN1e0/Sazdy36NPHrVc663O3Gcb/7DTAMa5xOhMsnQY4qb8BLrg0nnrqKe+FVDfffLP3BueTTjpJp556qt54440drp6C3wBPnTpVLVq0KHEDzG+AYzwpGRoCCCCAAAIIZE3ANL7bP+785Zc7Pg6dtUS2O1E663MXeSXpnDTAMa52OhMsnQY4xkRpDW3Dhg3eZ47KlSsn843eF154QaNGjZJ5Edb2m2mQ7733Xpm3R//xj3/8TWzzRmnzbxMnTlSbNm12e+7XXntNZ555pvcmafNG6cI26pdWCdkJAQQQQAABBBIoYO72/uMf/sCPO076+GP3COmsz91nGe8MaIBjXN90JhgNVHoXQK9evTRgwABvZ/PyK/NWaPM73e23cePGqUOHDrr88ss1ZMiQ3wS+/fbbdccdd2jQoEH605/+tNsT33LLLerbt+9uP6e0/YHUL736sRcCCCCAAAIIJEvAPMFYp47/ySOzPfCAdP317g3SWZ+7zzLeGdAAx7i+6UwwGqj0LoB58+Zt+13vDTfc4L0Ia+dt3bp1OvDAA3XAAQd4vxHeeZsxY4aOP/54lSlTRqeffrr3O1+zmW8Hm7c+F2wnnniipk+frsWLF3t3ngvbqF969WMvBBBAAAEEEEiWgLnb26RJaszmwxq7eEdp1lHSWZ9nPamEnZAGOMYFT2eC0UClfwGYZnTZsmX6/PPPVbdu3V0eWPCY80cffeQ1uztvI0aM0IMPPijTUJtHq822aNGibS/TMp9Vqlmzps444wzvG8NFbdSvKCH+HQEEEEAAAQSSKGDu9j70kD/yE0+UpkwJh0I66/NwZBrfLGiA41tbpTPBaKDSuwDef/99NW/eXK1atdLkyZN3e9CsWbPUqFEjXXPNNRo4cGB6wbfb65577tHf/vY3mcep27VrV+Tx1K9IInZAAAEEEEAAgYQJ5OVJBx8sLV3qD/xf/5KuuiocCOmsz8ORaXyzoAGOb21pgAOsrbkjO3bs2F2+/Grn03Tt2tVrYM2dXfN74XQ3c0e4Vq1aMt8TnpLm/0xJA5yuLvshgAACCCCAQFIEzDKqVSt/tKVLS//7n3mHSzhGTwPsvg40wO5rYC2DdCYYDdTu+c1d3yeffFKzZ8+WeaS5cePG3v8tVapUoTVbsGCBGjRooN69e3tvhU53e/jhh3Xdddd53xxusv2PVgoJQP3S1WU/BBBAAAEEEEiKwNVXS4MH+6M97TRpwoTwjDyd9Xl4so1nJjTA8ayrN6p0JhgN1O4vgGHDhnmfIqpYsaL37V/z9uaDzfM0IdqoX4iKQSoIIIAAAggg4FxgyxapWjXpxx/9VIYOlS691Hla2xJIZ30enmzjmQkNcDzrSgMc47puPzQa4IQUmmEigAACCCCAQFoCb7whnX66v2uZMtL330t7753WoVnZiQY4K8yFnoQG2H0NrGWQzgSjgbLGn5XA1C8rzJwEAQQQQAABBCIiYO72PvWUn+xZZ0mvvBKuxNNZn4cr4/hlQwMcv5puG1E6E4wGKtoXAPWLdv3IHgEEEEAAAQSCE9i4Udp/f2nNGj/mCy9IXbsGFz+ISOmsz4M4DzF2L0ADHOOrI50JRgMV7QuA+kW7fmSPAAIIIIAAAsEJmLu955zjx9trL//x5z33DC5+EJHSWZ8HcR5i0AAn8hpIZ4Ll5+dr/vz5ns9hhx2m3NzcRFpFddBbt27Vl19+6aVfv3595eTkRHUo5I0AAggggAACCGQkcN550siRfojf/1569tmMwlk5OJ31uZUTE3SbAHeAY3wxpDvBFi5cqE2bNmm//fZTlSpVYiwSv6GtXr1ay5YtU5kyZVS7du34DZARIYAAAggggAACaQisWyftt5+0YYO/85gxUseOaRyY5V3SXZ9nOa1EnY4GOMblTneCrVy5Ut99950nUblyZe+zP2XLluVuYoivDfPo8/r167V8+XL98ssv3v9wYf4HDDYEEEAAAQQQQCCJAiNGSBdc4I98n32k5cv9t0CHbUt3fR62vOOUDw1wnKq501jSnWCmmTKN1KpVq2KsEd+hlStXzvs+cenSpeM7SEaGAAIIIIAAAggUImDu9r7+ur/DH/4gPfFEOLnSXZ+HM/t4ZEUDHI867nIUxZlg5rfAa9eu9f5j7iyau4ps4RYwjz2bu/Xm7i/Nb7hrRXYIIIAAAgggYE9gxQrpgAOkLVv8c0yaJLVube98mUQuzvo8k/Nw7O4FaIBjfHVkMsFMQ2z+wxZOAfOyK154Fc7akBUCCCCAAAIIZFfA3O29/HL/nOYzSEuXSmF9MC6T9Xl2VeN7Nhrg+NZWTLAYF5ehIYAAAggggAACCHgCbdpIb73lY1xzjTRwYHhhWJ+7rw0NsPsaWMuACWaNlsAIIIAAAggggAACIRAw73GtXl3Ky/OTee89qVmzECS2mxRYn7uvDQ2w+xpYy4AJZo2WwAgggAACCCCAAAIhEHjkEenaa/1EDjlEWrRIyskJQWI0wKEtAg1waEuTeWI0wJkbEgEBBBBAAAEEEEAgvALmbu/06X5+f/2rdN994c3VZMb63H19aIDd18BaBkwwa7QERgABBBBAAAEEEHAs8PXX0qGHppL4z3+kY45xnFQRp2d97r4+NMDua2AtAyaYNVoCI4AAAggggAACCDgWMHd7b7rJT6JePWnevHA//mzyZH3u+KKRRAPsvgbWMmCCWaMlMAIIIIAAAggggIBjgUaNpFmz/CRuv1267TbHCaVxetbnaSBZ3oUG2DKwy/BMMJf6nBsBBBBAAAEEEEDAlsD8+VKDBqno5r+bu8Bh31ifu68QDbD7GljLgAlmjZbACCCAAAIIIIAAAg4FzB3fO+7wEzB3gmfOdJhMMU7N+rwYWJZ2pQG2BBuGsEywMFSBHBBAAAEEEEAAAQSCFMjPl+rXl774wo9qfgts3gAdhY31ufsq0QC7r4G1DJhg1mgJjAACCCCAAAIIIOBIwLzt+dhjUyc3b4M23wCOwsb63H2VaIDd18BaBkwwa7QERgABBBBAAAEEEHAkYO723n+/f3LzHeD33nOUSAlOy/q8BGgBH0IDHDBomMIxwcJUDXJBAAEEEEAAAQQQyFQgL8//9u833/iRHnlE+vOfM42aveNZn2fPendnogF2XwNrGTDBrNESGAEEEEAAAQQQQMCBgLnb26KFf+JSpaRly6T993eQSAlPyfq8hHABHkYDHCBm2EIxwcJWEfJBAAEEEEAAAQQQyETgmmukQYP8CG3aSBMnZhIt+8eyPs+++c5npAF2XwNrGTDBrNESGAEEEEAAAQQQQCDLAlu3StWrS99/75/4iSekP/why0lkeDrW5xkCBnA4DXAAiGENwQQLa2XICwEEEEAAAQQQQKC4AhMmSO3a+Ufl5krLl0uVKhU3itv9WZ+79TdnpwF2XwNrGTDBrNESGAEEEEAAAQQQQCDLAt26SS+84J/0rLOkV17JcgIBnI71eQCIGYagAc4QMMyHM8HCXB1yQwABBBBAAAEEEEhXYOVK6cADpU2b/CNGj5bOPDPdo8OzH+tz97WgAXZfA2sZMMGs0RIYAQQQQAABBBBAIIsCjz4qXXWVf8KqVaWlS/3HoKO2sT53XzEaYPc1sJYBE8waLYERQAABBBBAAAEEsijQtKn04Yf+Ca+7TnrooSyePMBTsT4PELOEoWiASwgXhcOYYFGoEjkigAACCCCAAAIIFCYwb57UsGFqj08/lY46KppmrM/d140G2H0NrGXABLNGS2AEEEAAAQQQQACBLAncdJN0333+yRo1kmbOzNKJLZyG9bkF1GKGpAEuJliUdmeCRala5IoAAggggAACCCCws8Avv0gHHywtW+b/y4AB0rXXRteJ9bn72tEAu6+BtQyYYNZoCYwAAggggAACCCCQBYGdv/1rGuF9983CiS2dgvW5JdhihKUBLgZW1HZlgkWtYuSLAAIIIIAAAgggsL3A9t/+Pfts6eWXo+3D+tx9/WiA3dfAWgZMMGu0BEYAAQQQQAABBBCwLBCXb/9uz8T63PJFk0Z4GuA0kKK6CxMsqpUjbwQQQAABBBBAAIG4fPuXBjhc1zINcLjqEWg2NMCBchIMAQQQQAABBBBAIIsCcfn2Lw1wFi+aNE5FA5wGUlR3oQGOauXIGwEEEEAAAQQQSLZAnL79SwMcrmuZBjhc9Qg0GxrgQDkJhgACCCCAAAIIIJAlgTh9+5cGOEsXTZqnoQFOEyqKu9EAR7Fq5IwAAggggAACCCRbIG7f/qUBDtf1TAMcrnoEmg0NcKCcBEMAAQQQQAABBBDIgkDcvv1LA5yFi6YYp6ABLgZW1HalAY5axcgXAQQQQAABBBBAIG7f/qUBDtc1TQMcrnoEmg0NcKCcBEMAAQQQQAABBBCwLBDHb//SAFu+aIoZnga4mGBR2p0GOErVIlcEEEAAAQQQQACBOH77lwY4XNc1DXC46hFoNjTAgXISDAEEEEAAAQQQQMCyQBy//UsDbPmiKWZ4GuBigkVpdxrgKFWLXBFAAAEEEEAAgWQLxPXbvzTA4bquaYDDVY9As6EBDpSTYAgggAACCCCAAAIWBeL67V8aYIsXTQlC0wCXAC0qh9AAR6VS5IkAAggggAACCCRbIM7f/qUBDte1TQMcrnoEmg0NcKCcBEMAAQQQQAABBBCwJBDnb//SAFu6aEoYlga4hHBROIwGOApVIkcEEEAAAQQQQACBOH/7lwY4XNc3DXC46hFoNjTAgXISDAEEEEAAAQQQQMCCQNy//UsDbOGiySAkDXAGeGE/lAY47BUiPwQQQAABBBBAAIG4f/uXBjhc1zgNcLjqEWg2NMCBchIMAQQQQAABBBBAwIJA3L/9SwNs4aLJICQNcAZ4YT+UBjjsFSI/BBBAAAEEEEAg2QJJ+PYvDXC4rnEa4HDVI9BsaIAD5SQYAggggAACCCCAQMACSfj2Lw1wwBdNhuFogDMELDj8gw8+0P3336/33ntPP/30kypWrKhGjRrpqquuUpcuXXZ5luHDh2vQoEGaO3euypQpo6ZNm6pPnz5q1qxZIFnRAAfCSBAEEEAAAQQQQAABCwJJ+fYvDbCFiyeDkDTAGeAVHDpq1Ch169ZNeXl5Ou6441S7dm0tW7bMa4bN391444269957dzhT79691b9/f5UvX16nnnqqNm7cqLfeekv5+fky8c4+++yMM6MBzpiQAAgggAACCCCAAAKWBJLy7V8aYEsXUAnD0gCXEK7gsK1bt6patWr64Ycf9Pzzz+u8887bFnH69Ok65ZRTtGnTJn355ZdeY2y2t99+W61bt1aVKlVk9qlTp4739+bPJ510ktcUL1q0SJUqVcooOxrgjPg4GAEEEEAAAQQQQMCiQFK+/UsDbPEiKkFoGuASoG1/yOzZs3XkkUeqfv36mmd+xb/TdtZZZ2n06NF64YUX1LVrV+9fO3TooHHjxnl3gHv16rXDET179tTAgQP1wAMP6Prrr88oOxrgjPg4GAEEEEAAAQQQQMCSQJK+/UsDbOkiKmFYGuASwhUcZu7s1q1bt8gGeOLEiWrTpo33qPM+++wyUNgUAAAgAElEQVTj3RVesmSJatSosUMGU6dOVcuWLdWqVStNnjw5o+xogDPi42AEEEAAAQQQQAABSwJJ+vYvDbCli6iEYWmASwhXcNgvv/ziNcALFy7c4S6v+feCR6APPPBAzZ8/33vR1axZs7yXY1WtWlXff//9b86+fv16VahQwXv8ecWKFRllRwOcER8HI4AAAggggAACCFgSSNK3f2mALV1EJQxLA1xCuO0PM3dtO3bsqNWrV297Cdb//vc/TZs2TU2aNNHTTz+tww47zDtkzJgx6tSpk9cEz5w5c5dnN83vqlWrtGbNGu9t0iXdaIBLKsdxCCCAAAIIIIAAArYEPv1UOuaYVPRZs6Sjj7Z1tnDFZX3uvh40wAHV4NNPP/Xe3GxeXlWwmebV/Kb35ptv1p577un99YgRI3TBBReoefPmXoO8q808Fr106VLvTdLm7nFRW8FE2nm/BQsWeC/emjNnTlEh+HcEEEAAAQQQQAABBLIicPXV0uDB/qmOP1766KOsnDYUJ6EBdl8GGuAAavDcc8/psssu877j269fP5kL2zSv5kVWQ4YM0QknnKB3331Xubm5evbZZ3XhhReqRYsWMneOd7VVr17dO54GOIDiEAIBBBBAAAEEEEAgNAJr10rVqknr1vkpPfmk1L17aNKznggNsHXiIk9AA1wkUeE7mJdgmQt5//33937nu9dee+1wwJlnnqnXXntNjz32mK644goegc7Qm8MRQAABBBBAAAEEoiswZIjUo4ef/957S8uWSb8+KBndQRUjcxrgYmBZ2pUGOEPYu+66S7feeqv++Mc/6vHHH/9NtGeeeUYXXXSRzj//fO/x53RfgmXeFL3SvB8+g40JlgEehyKAAAIIIIAAAggEKpCfLzVuLP3nP37Ya6+VBgwI9BShD8b63H2JaIAzrEGPHj28x5x79+6tBx988DfRCl56ddppp2nChAnasGGD94bnoj6DZD6FZB6bzmRjgmWix7EIIIAAAggggAACQQqY3/r+7nepiOY1NQ0bBnmG8Mdife6+RjTAGdbgtttu05133ul9u3dXDestt9yivn37yjTKj5oPnklq3769xo8fr/79+6tXr147ZGBemjVw4EDvt8Q33HBDRtkxwTLi42AEEEAAAQQQQACBAAUuu0waNswP2LKllOG9ngAzy14o1ufZs97dmWiAM6yB+ZRRY/Msh6R//etfuuqqq7ZF/OCDD9SmTRuZb/tOnDjR+7PZJk2apLZt26pKlSret4Lr1Knj/b3588knn6yyZct6b5OuXLlyRtkxwTLi42AEEEAAAQQQQACBgATML/vMy682bvQDjhghnX9+QMEjFIb1ufti0QAHUANzp9a88dls5qJu2LCh9wZn09Dm5eV5L78yL8HafjN3fgcMGOB9Hsk0w5s3b/aaZLP/yJEj1blz54wzY4JlTEgABBBAAAEEEEAAgQAEzG99Cx583Hdf6dtvpbJlAwgcsRCsz90XjAY4oBq88sor3iPOM2bM0OrVq2W+AXzMMcd4L8f6/e9/v8uzDBs2TIMGDdK8efO8TySZzyj16dPH+0RSEBsTLAhFYiCAAAIIIIAAAghkImBefmV+6zt/vh/lr3+V7rsvk4jRPZb1ufva0QC7r4G1DJhg1mgJjAACCCCAAAIIIJCmgPmt70knpXZesECqVSvNg2O2G+tz9wWlAXZfA2sZMMGs0RIYAQQQQAABBBBAIE0B81vf55/3dz7tNGnChDQPjOFurM/dF5UG2H0NrGXABLNGS2AEEEAAAQQQQACBNASWL5cOOkjassXf+ZVXpLPOSuPAmO7C+tx9YWmA3dfAWgZMMGu0BEYAAQQQQAABBBBIQ+Dee6Wbb/Z3NG+BXrxY2mOPNA6M6S6sz90XlgbYfQ2sZcAEs0ZLYAQQQAABBBBAAIEiBPLypNq1pa+/9ne87Tbp9tuTzcb63H39aYDd18BaBkwwa7QERgABBBBAAAEEEChCwPzWt107f6dSpfy7vzVqJJuN9bn7+tMAu6+BtQyYYNZoCYwAAggggAACCCBQhID5re/o0f5OnTpJr74KGetz99cADbD7GljLgAlmjZbACCCAAAIIIIAAAoUIfPutdMghknkM2mzmbrB5A3TSN9bn7q8AGmD3NbCWARPMGi2BEUAAAQQQQAABBAoRML/3vfNOf4dDD5W++sp/DDrpG+tz91cADbD7GljLgAlmjZbACCCAAAIIIIAAArsRMJ88Mnd///c/fwfzJugbb4TLCLA+d38d0AC7r4G1DJhg1mgJjAACCCCAAAIIILAbAfOt33PO8f8xN1cyj0Pvtx9cNMDhuAZogMNRBytZ0ABbYSUoAggggAACCCCAQCEC5re+b77p79Ctm/Tcc3AVCLA+d38t0AC7r4G1DJhg1mgJjAACCCCAAAIIILALgQULpMMOS/3D5MlSq1ZQ0QCH5xqgAQ5PLQLPhAY4cFICIoAAAggggAACCBQiYH7r26+fv0ODBtKcOVJODmQ0wOG5BmiAw1OLwDOhAQ6clIAIIIAAAggggAACuxHYtEmqUUP68Ud/hwEDpGuvhWt7Adbn7q8HGmD3NbCWARPMGi2BEUAAAQQQQAABBHYSGDFCuuAC/y/Ll5eWLpUqVYKJBjhc1wANcLjqEWg2NMCBchIMAQQQQAABBBBAoBCBli2lqVP9HS67TPr3v+HaWYD1uftrggbYfQ2sZcAEs0ZLYAQQQAABBBBAAIHtBMxvfY84IvUXH34oNWkCEQ1w+K4BGuDw1SSwjGiAA6MkEAIIIIAAAggggEAhAua3vo884u/QqJE0YwYvv9oVF+tz99OIBth9DaxlwASzRktgBBBAAAEEEEAAgV8F1q+XqleXVq/2/+Kxx6QrroCHBjic1wANcDjrEkhWNMCBMBIEAQQQQAABBBBAoBAB81vfP/zB36FiRWnZMqlCBchogMN5DdAAh7MugWRFAxwII0EQQAABBBBAAAEEChE4/njpk0/8Ha6+WvrnP+HanQDrc/fXBg2w+xpYy4AJZo2WwAgggAACCCCAAALyG1/TABdsn34qHXUUNDTA4b0GaIDDW5uMM6MBzpiQAAgggAACCCCAAAKFCPzxj9KTT/o7NGsmvfceXIUJsD53f33QALuvgbUMmGDWaAmMAAIIIIAAAggkXuDHH6WDDpI2bvQpnnpKuvjixLMUCsD63P31QQPsvgbWMmCCWaMlMAIIIIAAAgggkHiBvn2lW27xGfbbT1q8WCpXLvEsNMAhvwRogENeoEzSowHORI9jEUAAAQQQQAABBHYnsGmTVLOm9N13/h633y7ddhteRQmwPi9KyP6/0wDbN3Z2BiaYM3pOjAACCCCAAAIIxFpg+HDpkkv8IZYtK33zjX8XmK1wAdbn7q8QGmD3NbCWARPMGi2BEUAAAQQQQACBxArk50vHHivNmuUTdO+eehFWYlHSHDjr8zShLO5GA2wR13VoJpjrCnB+BBBAAAEEEEAgfgKTJ0snn5wa12efSUceGb9x2hgR63MbqsWLSQNcPK9I7c0Ei1S5SBYBBBBAAAEEEIiEQKdO0pgxfqpt2kgTJ0Yi7VAkyfrcfRlogN3XwFoGTDBrtARGAAEEEEAAAQQSKfDVV1LdupJ5DNpsY8dK7dsnkqJEg2Z9XiK2QA+iAQ6UM1zBmGDhqgfZIIAAAggggAACURe45hpp0CB/FPXqSXPnSqVKRX1U2cuf9Xn2rHd3Jhpg9zWwlgETzBotgRFAAAEEEEAAgcQJrFol1aghrV/vD33wYOnKKxPHkNGAWZ9nxBfIwTTAgTCGMwgTLJx1ISsEEEAAAQQQQCCKAvffL/31r37mlStLS5ZIe+4ZxZG4y5n1uTv7gjPTALuvgbUMmGDWaAmMAAIIIIAAAggkSmDrVqlWLb/pNdvNN0t3350ogkAGy/o8EMaMgtAAZ8QX7oOZYOGuD9khgAACCCCAAAJREXjhBalbNz/bPfaQvv5aql49KtmHJ0/W5+5rQQPsvgbWMmCCWaMlMAIIIIAAAgggkCiBpk2lDz/0h3zBBdIzzyRq+IENlvV5YJQlDkQDXGK68B/IBAt/jcgQAQQQQAABBBAIu8D06VKzZqksP/lEatw47FmHMz/W5+7rQgPsvgbWMmCCWaMlMAIIIIAAAgggkBiBrl2lUaP84Z54ojRlSmKGHvhAWZ8HTlrsgDTAxSaLzgFMsOjUikwRQAABBBBAAIEwCixe7L/8Ki/Pz+7ll6Wzzw5jptHIifW5+zrRALuvgbUMmGDWaAmMAAIIIIAAAggkQuAvf5EefNAfqmmEv/hCKl06EUO3MkjW51ZYixWUBrhYXNHamQkWrXqRLQIIIIAAAgggECaBtWulGjWkNWv8rB5+WOrZM0wZRi8X1ufua0YD7L4G1jJgglmjJTACCCCAAAIIIBB7gYEDUw3v//2f9O23UsWKsR+21QGyPrfKm1ZwGuC0mKK5ExMsmnUjawQQQAABBBBAwLXAL79IdetKCxf6mfTunXoU2nVuUT4/63P31aMBdl8DaxkwwazREhgBBBBAAAEEEIi1wKuvpl52VaqUtGCBVLNmrIeclcGxPs8Kc6EnoQF2XwNrGTDBrNESGAEEEEAAAQQQiLVAq1apzx116ZL6DFKsB52FwbE+zwJyEaegAXZfA2sZMMGs0RIYAQQQQAABBBCIrcDMmVLjxqnhvfee1KxZbIeb1YGxPs8q9y5PRgPsvgbWMmCCWaMlMAIIIIAAAgggEFuBiy6SnnnGH16TJtIHH0g5ObEdblYHxvo8q9w0wO65s5sBEyy73pwNAQQQQAABBBCIusCyZf5vfbds8Ufy3HNSt25RH1V48md97r4W3AF2XwNrGTDBrNESGAEEEEAAAQQQiKVAnz7SP/7hD818A9i8BTo3N5ZDdTIo1udO2Hc4KQ2w+xpYy4AJZo2WwAgggAACCCCAQOwENmyQDjpI+uknf2j33Sf99a+xG6bTAbE+d8rvnZwG2H0NrGXABLNGS2AEEEAAAQQQQCB2AkOGSD16+MPac0/p22+lSpViN0ynA2J97pSfBtg9v90MmGB2fYmOAAIIIIAAAgjERSA/Xzr8cGnePH9Ef/qTNGhQXEYXnnGwPndfC+4Au6+BtQyYYNZoCYwAAggggAACCMRKYMIEqV07f0jmjc+ffy7VqROrIYZiMKzP3ZeBBth9DaxlwASzRktgBBBAAAEEEEAgVgInnyxNnuwPqWNHacyYWA0vNINhfe6+FDTA7mtgLQMmmDVaAiOAAAIIIIAAArEReP99qXnz1HDefVdq2TI2wwvVQFifuy8HDbD7GljLgAlmjZbACCCAAAIIIIBAbATOOEMaO9YfTosW0tSpsRla6AbC+tx9SWiA3dfAWgZMMGu0BEYAAQQQQAABBGIhMGuW1KhRaijjxqV+CxyLAYZsEKzP3ReEBth9DaxlwASzRktgBBBAAAEEEEAgFgLnnSeNHOkPxTTCM2b4L8FisyPA+tyOa3Gi0gAXRyti+zLBIlYw0kUAAQQQQAABBLIoYN703KCBZD6BZLZRo6QuXbKYQAJPxfrcfdFpgN3XwFoGTDBrtARGAAEEEEAAAQQiL9C9uzR0qD+M+vWlOXOkUqUiP6xQD4D1ufvy0AC7r4G1DJhg1mgJjAACCCCAAAIIRFpg8WLpsMOkrVv9YQwbJl1ySaSHFInkWZ+7LxMNsPsaWMuACWaNlsAIIIAAAggggECkBa65Rho0yB/CIYdIX34p5eZGekiRSJ71ufsy0QC7r4G1DJhg1mgJjAACCCCAAAIIRFZg+XKpZk1p40Z/CP/8p3T11ZEdTqQSZ33uvlw0wO5rYC0DJpg1WgIjgAACCCCAAAKRFbjpJum++/z0999f+vprqVy5yA4nUomzPndfLhpg9zWwlgETzBotgRFAAAEEEEAAgUgKrFzpP/K8dq2ffr9+0g03RHIokUya9bn7stEAu6+BtQyYYNZoCYwAAggggAACCERS4K67pFtv9VOvVEkyL8OqWDGSQ4lk0qzP3ZeNBth9DaxlwASzRktgBBBAAAEEEEAgcgLr1vl3f1es8FO/7Tbp9tsjN4xIJ8z63H35aIDd18BaBkwwa7QERgABBBBAAAEEIifw0EPS9df7aVeo4N/9rVw5csOIdMKsz92XjwbYfQ2sZcAEs0ZLYAQQQAABBBBAIFIC5o3PtWpJ//ufn7b53a/5/S9bdgVYn2fXe1dnowF2XwNrGTDBrNESGAEEEEAAAQQQiJTAY49JV17pp1y2rLRokXTggZEaQiySZX3uvow0wO5rYC0DJpg1WgIjgAACCCCAAAKREdi6Vapb1296zWa++Wu+/cuWfQHW59k33/mMNMDua2AtAyaYNVoCI4AAAggggAACkRF45hnpoov8dEuXlr76SqpZMzLpxypR1ufuy0kD7L4G1jJgglmjJTACCCCAAAIIIBAJgbw86cgjpblz/XQvuUQaNiwSqccySdbn7stKA+y+BtYyYIJZoyUwAggggAACCCAQCYGXX5Y6d/ZTzcnxG+H69SOReiyTZH3uvqw0wO5rYC0DJpg1WgIjgAACCCCAAAKhF8jPl44/Xpoxw0+1Sxdp1KjQpx3rBFmfuy8vDbD7GljLgAlmjZbACCCAAAIIIIBA6AXeeEM6/fRUmjNnSo0ahT7tWCfI+tx9eWmA3dfAWgZMMGu0BEYAAQQQQAABBEIv0KqVNGWKn2a7dtK4caFPOfYJsj53X2IaYPc1sJYBE8waLYERQAABBBBAAIFQC0ybJp14YirFqVOlFi1CnXIikmN97r7MNMDua2AtAyaYNVoCI4AAAggggAACoRZo314aP95PsWVL6d13Q51uYpJjfe6+1DTA7mtgLQMmmDVaAiOAAAIIIIAAAqEVML/1bdw4ld6ECdJpp4U23UQlxvrcfblpgN3XwFoGTDBrtARGAAEEEEAAAQRCK3DuudKLL/rpmUb444/9TyCxuRdgfe6+BjTA7mtgLQMmmDVaAiOAAAIIIIAAAqEUmDdPOvxwyXwCyWwvvSSdc04oU01kUqzP3ZedBth9DaxlwASzRktgBBBAAAEEEEAglALnnSeNHOmn1qCBNHu2VKpUKFNNZFKsz92XnQbYfQ2sZcAEs0ZLYAQQQAABBBBAIHQCs2bt+J3f556TunULXZqJToj1ufvy0wC7r4G1DJhg1mgJjAACCCCAAAIIhE6gY0fp9df9tI48UjINMXd/w1Um1ufu60ED7L4G1jJgglmjJTACCCCAAAIIIBAqgQ8+kE44IZXSq69KnTqFKkWSkfl99uGew5w5c/BwJEAD7Ag+G6dlgmVDmXMggAACCCCAAALuBVq3lt5+28+jSRPJNMS8+dl9XXbOgPW5+5rQALuvgbUMmGDWaAmMAAIIIIAAAgiERsA0vqYBLtjefFNq2zY06ZHIdgKsz91fDjTA7mtgLQMmmDVaAiOAAAIIIIAAAqEQMJ87at5cmj7dT6dVK+mdd7j7G4ri7CIJ1ufuK0MDHGANvvvuO913330aO3aslixZovLly+vQQw9V69at1a9fv9+cafjw4Ro0aJDmzp2rMmXKqGnTpurTp4+aNWsWSFZMsEAYCYIAAggggAACCIRWYOxY6YwzUulNm+Y3xGzhFGB97r4uNMAB1WD69Olq3769Vq1apYYNG+qII47Q2rVrveb222+/1datW3c4U+/evdW/f3+vST711FO1ceNGvfXWW8rPz9eoUaN09tlnZ5wZEyxjQgIggAACCCCAAAKhFcjLkxo39t/2bLZ27aRx40KbLonxEqxQXAM0wAGUYdmyZd4b3TZt2qRnn332N83rRx99pCbmbQS/bm+//bZ3V7hKlSoyjXOdOnW8fzF/Pumkk7ymeNGiRapUqVJG2dEAZ8THwQgggAACCCCAQKgFRo2SunZNpThjhnTssaFOOfHJsT53fwnQAAdQg4svvlhPP/20HnnkEf35z38uMmKHDh00btw47w5wr169dti/Z8+eGjhwoB544AFdf/31RcYqbAcmWEZ8HIwAAggggAACCIRW4JdfpCOOkObP91Ps3Fl68cXQpktivwqwPnd/KdAAZ1iDlStX6sADD1S5cuVkfgNs/m9hm3nUeZ999vHuFpvfCdeoUWOH3adOnaqWLVuqVatWmjx5ckbZMcEy4uNgBBBAAAEEEEAgtAJPPSVdeqmfnvnc0ezZUsOGoU2XxGiAQ3MN0ABnWIrXX39dHTt2lLmrO3r0aL3yyiuaNm2atmzZovr166tr167af//9t51l1qxZatSokapWrarvv//+N2dfv369KlSo4D3+vGLFioyyowHOiI+DEUAAAQQQQACBUAps3izVqyd9/bWf3kUXScOHhzJVktpJgPW5+0uCBjjDGpi3Pt90003q3r275s2b5/2Od/ttr7320tChQ3Xuued6fz1mzBh16tTJa4Jnzpy5y7Ob5te8TGvNmjWqWLFiiTNkgpWYjgMRQAABBBBAAIHQCgweLF19tZ/eHntIn38u1aoV2nRJbDsB1ufuLwca4AxrYJpf0wTvscceKlu2rPf73TPPPFPr1q3zfhP80EMPeZ84+vjjj3XUUUdpxIgRuuCCC9S8eXPvTvGuNvNY9NKlS2VermUery5qK5hIO++3YMEC1a5dW3PmzCkqBP+OAAIIIIAAAgggEAGBDRukww6Tli3zk+3RQ3r00QgkToqeAA2w+wuBBjjDGtxwww3eC6vM9thjj+mKK67YIaK58/viiy96Te8zzzzjvSX6wgsvVIsWLWR+77urrXr16l7zSwOcYXE4HAEEEEAAAQQQiJnAQw9JBe9JLVtW+uoraadXysRsxPEaDg2w+3rSAGdYgzvvvFO33XabSpUqpZ9//tm7C7z9Nn78eO/7wKapNd8D5hHoDME5HAEEEEAAAQQQSKjA2rX+o84//ugDXHedZBpitugI0AC7rxUNcIY1GD58uC655BJVq1bNe2x55838Lrhhw4bKzc3V5s2ble5LsMybos0bpjPZmGCZ6HEsAggggAACCCAQLoG+faVbbvFz2msvaeFCab/9wpUj2RQuwPrc/RVCA5xhDf773/96v+0tX768zBucc8x76LfbzO98TzzxxG1vdd6wYYP356I+g2Q+hfTuu+9mlB0TLCM+DkYAAQQQQAABBEIjYO6LHHqotHq1n9Lf/y6ZhpgtWgKsz93XiwY4gBrUqlVLixYt8t4A3bRp0x0i9u3bV7fccotat26tSZMmef9mHok2j0b3799fvXr12mH/nj17ei/S6tevn8zvizPZmGCZ6HEsAggggAACCCAQHoG//U265x4/n733lhYtkipVCk9+ZJKeAOvz9Jxs7kUDHICuefnVlVdeqeOPP17jxo3Tvvvu60WdMWOG2rRp433SaNSoUerSpYv396YRbtu2rapUqeI1zXXq1PH+3vz55JNP9n5HbBrqypUrZ5QdEywjPg5GAAEEEEAAAQRCIbB8uf/b359/9tMxd37NHWC26AmwPndfMxrgAGqQl5enbt26eU2uaVqbNWvmfQbp/fff9373e/nll2vIkCE7nMnc+R0wYID23HNPrxk2+02cOFEm1siRI9W5c+eMM2OCZUxIAAQQQAABBBBAwLmAeWBwwAA/japV/d/+VqjgPC0SKIEA6/MSoAV8CA1wQKCmcX300Uf1xBNP6PPPP/d+C3z00Ud7d4YvuuiiXZ5l2LBhGjRokMyLssxLsszj03369PE+kRTExgQLQpEYCCCAAAIIIICAO4ElS/zv/m7e7Odg3vps3v7MFk0B1ufu60YD7L4G1jJgglmjJTACCCCAAAIIIJAVgSuukB5/3D9V9er+d3/LlcvKqTmJBQHW5xZQixmSBriYYFHanQkWpWqRKwIIIIAAAgggsKOAaXbr15d++cX/+0cflXr0QCnKAqzP3VePBth9DaxlwASzRktgBBBAAAEEEEDAuoD5Fd0zz/inMS/Bmj9fys21flpOYFGA9blF3DRD0wCnCRXF3ZhgUawaOSOAAAIIIIAAAtJnn0nHHCPl5/saw4dLu3mtDFwREmB97r5YNMDua2AtAyaYNVoCI4AAAggggAAC1gRM09u2rfTWW/4pGjb0G+LSpa2dksBZEmB9niXoQk5DA+y+BtYyYIJZoyUwAggggAACCCBgTWDsWOmMM1LhzX9v397a6QicRQHW51nE3s2paIDd18BaBkwwa7QERgABBBBAAAEErAhs2SIdeaT0+ed+eHMn+I03pJwcK6cjaJYFWJ9nGXwXp6MBdl8DaxkwwazREhgBBBBAAAEEELAiMGiQdM01fuhSpaRZs/yGmC0eAqzP3deRBth9DaxlwASzRktgBBBAAAEEEEAgcIGVK6U6daSffvJDm28AP/ZY4KchoEMB1ucO8X89NQ2w+xpYy4AJZo2WwAgggAACCCCAQOACf/mL9OCDftgKFSTzHeD99w/8NAR0KMD63CE+DbB7fNsZMMFsCxMfAQQQQAABBBAIRmDBAqlBA8n8Bthsd98t3XxzMLGJEh4B1ufua8EdYPc1sJYBE8waLYERQAABBBBAAIFABTp3ll5+2Q958MHS/PlS+fKBnoJgIRBgfe6+CDTA7mtgLQMmmDVaAiOAAAIIIIAAAoEJTJkitWqVCjdihHT++YGFJ1CIBFifuy8GDbD7GljLgAlmjZbACCCAAAIIIIBAIAJ5eVKTJtKMGX643/1Omj6dzx4FghvCIKzP3ReFBth9DaxlwASzRktgBBBAAAEEEEAgEIGnn5YuvjgV6r33pGbNAglNkBAKsD53XxQaYPc1sJYBE8waLYERQAABBBBAAIGMBX7+WapbV1q61A913nnS889nHJYAIRZgfe6+ODTA7mtgLQMmmDVaAiOAAAIIIIAAAhkL3HWXdOutfpiyZf0XX9WsmXFYAoRYgPW5++LQALuvgSp/DIUAACAASURBVLUMmGDWaAmMAAIIIIAAAghkJLBsmVSnjmTuApvtxhule+/NKCQHR0CA9bn7ItEAu6+BtQyYYNZoCYwAAggggAACCGQk0L27NHSoH6JqVenLL6W9984oJAdHQID1ufsi0QC7r4G1DJhg1mgJjAACCCCAAAIIlFjgP/+RGjeW8vP9EIMHS1deWeJwHBghAdbn7otFA+y+BtYyYIJZoyUwAggggAACCCBQIgHT9LZuLb3zjn94w4bSp59Ke+xRonAcFDEB1ufuC0YD7L4G1jJgglmjJTACCCCAAAIIIFAigTFjpE6dUoeOHy+dfnqJQnFQBAVYn7svGg2w+xpYy4AJZo2WwAgggAACCCCAQLEFNm+WjjjC/72v2UzjaxpgtuQIsD53X2saYPc1sJYBE8waLYERQAABBBBAAIFiCwwYIPXq5R9WqpT02WfS4YcXOwwHRFiA9bn74tEAu6+BtQyYYNZoCYwAAggggAACCBRLYMUK6bDDpJUr/cPMS6/My6/YkiXA+tx9vWmA3dfAWgZMMGu0BEYAAQQQQAABBIolcN110sMP+4dUrCh99ZW0337FCsHOMRBgfe6+iDTA7mtgLQMmmDVaAiOAAAIIIIAAAmkLfPGF/6jz1q3+IffeK914Y9qHs2OMBFifuy8mDbD7GljLgAlmjZbACCCAAAIIIIBA2gJnnSWNHu3vXrOmNG+eVK5c2oezY4wEWJ+7LyYNsPsaWMuACWaNlsAIIIAAAggggEBaAuPGSR06pHZ94QWpa9e0DmWnGAqwPndfVBpg9zWwlgETzBotgRFAAAEEEEAAgSIFNmzwH31etMjftUULacoUKSenyEPZIaYCrM/dF5YG2H0NrGXABLNGS2AEEEAAAQQQQKBIgVtukfr29XcrXVqaNcv/DjBbcgVYn7uvPQ2w+xpYy4AJZo2WwAgggAACCCCAQKECn38uHXWUtHmzv9tf/iLdfz9oSRdgfe7+CqABdl8DaxkwwazREhgBBBBAAAEEENitQH6+dOqp0qRJ/i41avgvvqpQAbSkC7A+d38F0AC7r4G1DJhg1mgJjAACCCCAAAII7Fbg+eel889P/fNLL0nnnAMYAuY34Yd7DHPmzIHDkQANsCP4bJyWCZYNZc6BAAIIIIAAAgikBFavlurXl777zv+7du2ksWN58RXXiC/A+tz9lUAD7L4G1jJgglmjJTACCCCAAAIIILBLgV69pAED/H8y3/o1N/pq1QILARrgsFwDNMBhqYSFPGiALaASEgEEEEAAAQQQ2I3Af/4jHXeclJfn73DnnZJ5EzQbAgUCrM/dXws0wO5rYC0DJpg1WgIjgAACCCCAAAI7CJimt1kz6cMP/b+uU0f673+lsmWBQiAlwPrc/dVAA+y+BtYyYIJZoyUwAggggAACCCCwg8CQIVKPHqm/evNNqW1bkBDYUYD1ufsrggbYfQ2sZcAEs0ZLYAQQQAABBBBAYJvADz9I9epJK1f6f3XeeZJ5EzQbAjsLsD53f03QALuvgbUMmGDWaAmMAAIIIIAAAghsE+jeXRo61P+vFStK8+dL1aoBhMBvBVifu78qaIDd18BaBkwwa7QERgABBBBAAAEEPIFp06QTT0xhPPyw1LMnOAjsWoD1ufsrgwbYfQ2sZcAEs0ZLYAQQQAABBBBAQFu2SMceK82e7WMcc4z08cfSHnuAgwANcFivARrgsFYmgLxogANAJAQCCCCAAAIIILAbgQcekG64IfWP06dLTZvChcDuBVifu786aIDd18BaBkwwa7QERgABBBBAAIGECyxZIjVoIK1f70Ncfrlk3gTNhkBhAqzP3V8fNMDua2AtAyaYNVoCI4AAAggggEDCBbp0kV56yUfYd1//xVdVqiQcheEXKcD6vEgi6zvQAFsndncCJpg7e86MAAIIIIAAAvEVGD9eat8+Nb5//1u67LL4jpeRBSfA+jw4y5JGogEuqVwEjmOCRaBIpIgAAggggAACkRLYsEE64ghp4UI/7ebNpSlTpFKlIjUMknUkwPrcEfx2p6UBdl8DaxkwwazREhgBBBBAAAEEEipw223SnXf6gy9dWpo5UzrqqIRiMOxiC7A+LzZZ4AfQAAdOGp6ATLDw1IJMEEAAAQQQQCD6Al98IR15pLR5sz+W66+XzJug2RBIV4D1ebpS9vajAbZn6zwyE8x5CUgAAQQQQAABBGIikJ8vtWkjvf22P6Dq1aV586SKFWMyQIaRFQHW51lhLvQkNMDua2AtAyaYNVoCI4AAAggggEDCBB57TLryytSgR42SzJug2RAojgDr8+Jo2dmXBtiOayiiMsFCUQaSQAABBBBAAIGICyxe7L/4at06fyBnnSW9/LKUkxPxgZF+1gVYn2ed/DcnpAF2XwNrGTDBrNESGAEEEEAAAQQSImAefT7tNGniRH/AlSpJc+dKBxyQEACGGagA6/NAOUsUjAa4RGzROIgJFo06kSUCCCCAAAIIhFfgiSekyy9P5ff009KFF4Y3XzILtwDrc/f1oQF2XwNrGTDBrNESGAEEEEAAAQQSIPDNN/6jz2vX+oPt2FEaPZpHnxNQemtDZH1ujTbtwDTAaVNFb0cmWPRqRsYIIIAAAgggEA4B8+hzu3bSG2/4+eyzjzRnjlStWjjyI4toCrA+d183GmD3NbCWARPMGi2BEUAAAQQQQCDmAkOHSt27pwY5bJh0ySUxHzTDsy7A+tw6cZEnoAEukii6OzDBols7MkcAAQQQQAABdwLffus/+rx6tZ9D+/bS66/z6LO7isTnzKzP3deSBth9DaxlwASzRktgBBBAAAEEEIipgHn0+YwzpHHj/AH+3//5jz7XqBHTATOsrAqwPs8q9y5PRgPsvgbWMmCCWaMlMAIIIIAAAgjEVGD48B0fdX7yyR0fhY7psBlWlgRYn2cJupDT0AC7r4G1DJhg1mgJjAACCCCAAAIxFFi2TDr8cGnVKn9w5vu/48fz6HMMS+1sSKzPndFvOzENsPsaWMuACWaNlsAIIIAAAgggEDMB8+hzp07Sa6/5A6tY0X/0+aCDYjZQhuNUgPW5U37v5DTA7mtgLQMmmDVaAiOAAAIIIIBAzASefVa68MLUoIYMkS6/PGaDZDjOBVifOy8BDbD7EtjLgAlmz5bICCCAAAIIIBAfge++kxo2lFau9MfUpo305ps8+hyfCodnJKzP3deCO8Dua2AtAyaYNVoCI4AAAggggEBMBMyjz+ecI736qj+gChWk//5XqlkzJgNkGKESYH3uvhw0wO5rYC0DJpg1WgIjgAACCCCAQEwEnn9eOv/81GAGD5auvDImg2MYoRNgfe6+JDTA7mtgLQMmmDVaAiOAAAIIIIBADASWL/ff+vzTT/5gTj5ZmjRJKlUqBoNjCKEUYH3uviw0wO5rYC0DJpg1WgIjgAACCCCAQAwEzj1XevFFfyB77eU/+nzooTEYGEMIrQDrc/eloQF2XwNrGTDBrNESGAEEEEAAAQQiLjBqlNS1a2oQgwZJf/pTxAdF+qEXYH3uvkQ0wO5rYC0DJpg1WgIjgAACCCCAQIQFfvjBf+vzjz/6g2jVSnr7bR59jnBJI5M663P3paIBdl8DaxkwwazREhgBBBBAAAEEIiqw81ufy5f3H32uXTuiAyLtSAmwPndfLhpg9zWwlgETzBotgRFAAAEEEEAgogKPPbbjW54ffljq2TOigyHtyAmwPndfMhpg9zWwlgETzBotgRFAAAEEEEAgggJz50rHHSdt2OAnf+qp0vjxPPocwVJGNmXW5+5LRwPsvgbWMmCCWaMlMAIIIIAAAghETGDjRqlpU+nTT/3Eq1aVPvtMOuCAiA2EdCMtwPrcfflogN3XwFoGTDBrtARGAAEEEEAAgYgJXHedZB53Lthef13q0CFigyDdyAuwPndfQhpg9zWwlgETzBotgRFAAAEEEEAgQgITJkjt2qUS/vOfpUceidAASDU2AqzP3ZeSBth9DaxlwASzRktgBBBAAAEEEIiIwPLl0lFHSd9/7yd8xBHSRx9J5u3PbAhkW4D1ebbFf3s+GmD3NbCWARPMGi2BEUAAAQQQQCACAuaTR+YxZ/OiK7OVLSt98onfBLMh4EKA9bkL9R3PSQPsvgbWMmCCWaMlMAIIIIAAAghEQGDgwB0/cTRokPSnP0UgcVKMrQDrc/elpQF2XwNrGTDBrNESGAEEEEAAAQRCLmDe8Hz88dLmzX6iZ5whjRkj5eSEPHHSi7UA63P35aUBdl8DaxkwwazREhgBBBBAAAEEQizw889+82u++2s286kj0xCbTx+xIeBSgPW5S33/3DTA7mtgLQMmmDVaAiOAAAIIIIBAiAWuvloaPDiV4JtvSm3bhjhhUkuMAOtz96WmAXZfA2sZMMGs0RIYAQQQQAABBEIqMHq0dNZZqeT+8hfp/vtDmixpJU6A9bn7ktMAu6+BtQyYYNZoCYwAAggggAACIRRYutT/5NGKFX5yxx4rTZ8ulSkTwmRJKZECrM/dl50G2H0NrGXABLNGS2AEEEAAAQQQCJlAXp7/mPPbb/uJ7bmnNHOmVK9eyBIlnUQLsD53X34aYPc1sJYBE8waLYERQAABBBBAIGQC/fpJN96YSuqJJ6Q//CFkSZJO4gVYn7u/BGiA3dfAWgZMMGu0BEYAAQQQQACBEAl88ol0wgnS1q1+Ul26SCNH8smjEJWIVH4VYH3u/lKgAXZfA2sZMMGs0RIYAQQQQAABBEIisG6d1KiR9NVXfkIHHSR9+qlUqVJIEiQNBLYTYH3u/nKgAXZfA2sZMMGs0RIYAQQQQAABBEIi0L27NHSon0xOjjR5stSyZUiSIw0EdhJgfe7+kqABtlCDFStWqH79+vrhhx9Ur149zZ8/f7dnGT58uAYNGqS5c+eqTJkyatq0qfr06aNmzZplnBkTLGNCAiCAAAIIIIBAiAWefVa68MJUgn36SHfdFeKESS3xAqzP3V8CNMAWanDppZfKNLb5+fmFNsC9e/dW//79Vb58eZ166qnauHGj3nrrLe+4UaNG6eyzz84oOyZYRnwcjAACCCCAAAIhFvjsM6lpU2nDBj9J8+cpU6Tc3BAnTWqJF2B97v4SoAEOuAamgW3Tpo2uuOIKDRkyZLcN8Ntvv63WrVurSpUqmj59uurUqeNlYv580kkneU3xokWLVCmDH7AwwQIuLuEQQAABBBBAIBQCq1ZJxx+f+t1v5crSjBlSzZqhSI8kENitAOtz9xcHDXCANdiwYYOOOuoo71HmV199VXXr1t1tA9yhQweNGzfOuwPcq1evHbLo2bOnBg4cqAceeEDXX399iTNkgpWYjgMRQAABBBBAIKQC5nu/55wjjR7tJ2h+9zt+vHTaaSFNmLQQ2E6A9bn7y4EGOMAa3HTTTerXr58mT56sgw8+WIceeuguG2DzqPM+++yjTZs2acmSJapRo8YOWUydOlUtW7ZUq1atvFgl3ZhgJZXjOAQQQAABBBAIq8A990h/+1squzvvlG65JazZkhcCOwqwPnd/RdAAB1SDzz77TI0bN9bFF1+sJ598Ul9//fVuG+BZs2apUaNGqlq1qr7//vvfZLB+/XpVqFDBe/zZvFCrpBsTrKRyHIcAAggggAACYRSYNMm/02vuAputQwdpzBipVKkwZktOCPxWgPW5+6uCBjiAGuTl5emEE07QwoULvTc+m9/1FtYAjxkzRp06dfKa4JkzZ+4yA9P8rlq1SmvWrFHFihVLlCUTrERsHIQAAggggAACIRRYskQ69ljpxx/95GrVkj75hO/9hrBUpFSIAOtz95cHDXAANRgwYID3O96hQ4fKvAHabIU1wCNGjNAFF1yg5s2ba9q0abvMwDwWvXTpUi1btkwHHnhgoVkWTKSdd1qwYIFq166tOXPmBDBKQiCAAAIIIIAAAm4ENm3yv+370Uf++cuVMy8OlY45xk0+nBWBkgrQAJdULrjjaIAztDS/4W3YsKH3+PP2v9ctrAF+9tlndeGFF6pFixYyv/fd1Va9enWv+aUBzrBAHI4AAggggAACkRe46irp0UdTwxg2TLrkksgPiwEkUIAG2H3RaYAzrEHHjh315ptvyvyut0GDBtui8Qh0hrAcjgACCCCAAAIISHrqKenXB+w8jx49dmyGQUIgSgI0wO6rRQOcYQ1ycnK8NzofffTRO0Qyb3r+8MMPve/5NmnSxPu3119/3Xu5VbovwTJxV65cWeIMmWAlpuNABBBAAAEEEAiBwKxZ0gknSBs3+smYb/+ah+fKlg1BcqSAQAkEWJ+XAC3gQ2iAMwQ1DXC6m2lmTVNrvhdsXnJV1GeQzKeQ3n333XTD/2Y/JliJ6TgQAQQQQAABBBwLmHsAxx0nLVzoJ1KlimTeHXrwwY4T4/QIZCDA+jwDvIAOpQEOCHLnMIU9Am32bd++vcaPH6/+/ft7L9DafuvZs6cGDhzofVP4hhtuKHGGTLAS03EgAggggAACCDgUMJ85OvNMaexYPwnzmaM33pDatHGYFKdGIAAB1ucBIGYYggY4Q8DdHV5UAzxp0iS1bdvW+2TS9OnTVadOHS+U+fPJJ5+ssmXLatGiRapcuXKJM2SClZiOAxFAAAEEEEDAoUDfvtItt6QS+Mc/pL/9zWFCnBqBgARYnwcEmUEYGuAM8Ao7tKgG2Bxr7vyaTyjtueeeXjO8efNmTZw4Uea7wiNHjlTnzp0zyo4JlhEfByOAAAIIIICAAwFzp7ddOyk/3z+5uRP8yiv+XWA2BKIuwPrcfQVpgC3VIJ0G2Jx62LBhGjRokObNm6fc3Fw1bdpUffr08T6RlOnGBMtUkOMRQAABBBBAIJsCX38tNW4srVjhn7V2bemTT6R99slmFpwLAXsCrM/t2aYbmQY4XakI7scEi2DRSBkBBBBAAIGECpg3PZv//X/GDB+gfHnpgw+ko45KKAjDjqUA63P3ZaUBdl8DaxkwwazREhgBBBBAAAEEAha44grp8cdTQZ9+WrrwwoBPQjgEHAuwPndcAEk0wO5rYC0DJpg1WgIjgAACCCCAQIACjzwiXXttKuDVV0v//GeAJyAUAiERYH3uvhA0wO5rYC0DJpg1WgIjgAACCCCAQEAC48dLZ5whmU8fma1pU+ndd6UyZQI6AWEQCJEA63P3xaABdl8DaxkwwazREhgBBBBAAAEEAhCYPVtq1kxau9YPdtBB0kcfSQccEEBwQiAQQgHW5+6LQgPsvgbWMmCCWaMlMAIIIIAAAghkKLB8ufS730mLF/uBKlSQpk2Tjj46w8AcjkCIBVifuy8ODbD7GljLgAlmjZbACCCAAAIIIJCBwIYN0imn+G95NltOjjRmjP8oNBsCcRZgfe6+ujTA7mtgLQMmmDVaAiOAAAIIIIBACQXy86Xf/156/vlUgIcekq67roQBOQyBCAmwPndfLBpg9zWwlgETzBotgRFAAAEEEECghAJ33CHdfnvq4B49pMGD/bvAbAjEXYD1ufsK0wC7r4G1DJhg1mgJjAACCCCAAAIlEHjuOf/ub8HWurVk3gKdm1uCYByCQAQFWJ+7LxoNsPsaWMuACWaNlsAIIIAAAgggUEyB6dOlk0+WNm3yD6xXTzJ/V6lSMQOxOwIRFmB97r54NMDua2AtAyaYNVoCI4AAAggggEAxBL7+WmrSRPrhB/+gKlWkDz+UatcuRhB2RSAGAqzP3ReRBth9DaxlwASzRktgBBBAAAEEEEhTYM0a/1u/c+b4B5jHnSdNklq2TDMAuyEQIwHW5+6LSQPsvgbWMmCCWaMlMAIIIIAAAgikIbB1q9SxozRhQmrnYcOkSy5J42B2QSCGAqzP3ReVBth9DaxlwASzRktgBBBAAAEEEEhD4NprpUceSe14883S3XencSC7IBBTAdbn7gtLA+y+BtYyYIJZoyUwAggggAACCBQh8M9/Sn/+c2qnzp2lkSOlUqWgQyC5AqzP3deeBth9DaxlwASzRktgBBBAAAEEEChEwDzy3KGDlJfn79S4sTRlirTnnrAhkGwB1ufu608D7L4G1jJgglmjJTACCCCAAAII7EbAvOzKvPTKvPzKbNWrSx99JFWrBhkCCLA+d38N0AC7r4G1DJhg1mgJjAACCCCAAAK7EFi6VGreXFq82P9Hc8d32jSpUSO4EEDACLA+d38d0AC7r4G1DJhg1mgJjAACCCCAAAI7CaxY4X/aqOBzRzk50iuvSJ06QYUAAgUCrM/dXws0wO5rYC0DJpg1WgIjgAACCCCAwHYC69dLbdtK06en/vLhh6WePWFCAIHtBVifu78eaIDd18BaBkwwa7QERgABBBBAAIFfBbZs8e/yjh+fIvn736W+fSFCAIGdBVifu78maIDd18BaBkwwa7QERgABBBBAAAH5b3m++GLp2WdTHD16SIMHS+YRaDYEENhRgPW5+yuCBth9DaxlwASzRktgBBBAAAEEEi+Qny9dd500YECKwnzr94UXpNKlE88DAAK7FGB97v7CoAF2XwNrGTDBrNESGAEEEEAAgcQL3H23ZB51LthOOUUaN04qWzbxNAAgsFsB1ufuLw4aYPc1sJYBE8waLYERQAABBBBItMCQIZJ51Llga9xYeucdqWLFRLMweASKFGB9XiSR9R1ogK0TuzsBE8ydPWdGAAEEEEAgrgIvvSR17er//tdsdev63/qtWjWuI2ZcCAQnwPo8OMuSRqIBLqlcBI5jgkWgSKSIAAIIIIBAhATefltq107avNlPulo16f33pUMOidAgSBUBhwKszx3i/3pqGmD3NbCWARPMGi2BEUAAAQQQSJzAjBnSSSdJ69b5Q69USZo6VTr88MRRMGAESizA+rzEdIEdSAMcGGX4AjHBwlcTMkIAAQQQQCCKAl98IbVoIf3wg599+fLSW29JJ5wQxdGQMwLuBFifu7MvODMNsPsaWMuACWaNlsAIIIAAAggkRmDZMqlZM2nxYn/Ie+whjRnjPwrNhgACxRNgfV48Lxt70wDbUA1JTCZYSApBGggggAACCERUYOVKqWVLafbs1ACeeUa64IKIDoi0EXAswPrccQEk0QC7r4G1DJhg1mgJjAACCCCAQOwFfv5ZatvWf8lVwTZggHTttbEfOgNEwJoA63NrtGkHpgFOmyp6OzLBolczMkYAAQQQQCAMAhs3Sp06SW++mcrm73+X+vYNQ3bkgEB0BVifu68dDbD7GljLgAlmjZbACCCAAAIIxFbANL9nnSW98UZqiD16SIMHSzk5sR02A0MgKwKsz7PCXOhJaIDd18BaBkwwa7QERgABBBBAIJYCpvk9+2xpwoTU8Lp1k8zvfkuXjuWQGRQCWRVgfZ5V7l2ejAbYfQ2sZcAEs0ZLYAQQQAABBGInsGmTdM450rhxqaGdd57f/Jo3P7MhgEDmAqzPMzfMNAINcKaCIT6eCRbi4pAaAggggAACIRIwzW/nztLYsamkzj1XGjGC5jdEZSKVGAiwPndfRBpg9zWwlgETzBotgRFAAAEEEIiNgGl+u3SRXn89NSTz303zm5sbm2EyEARCIcD63H0ZaIDd18BaBkwwa7QERgABBBBAIBYCpvk1d3pfey01HHMn+LnnaH5jUWAGEToB1ufuS0ID7L4G1jJgglmjJTACCCCAAAKRF9i82W9+x4xJDcW8AOuFF2h+I19cBhBaAdbn7ktDA+y+BtYyYIJZoyUwAggggAACkRYwzW/XrtLo0alhmE8fmea3TJlID43kEQi1AOtz9+WhAXZfA2sZMMGs0RIYAQQQQACByAps2eI3v6++mhpCp07SyJE0v5EtKolHRoD1uftS0QC7r4G1DJhg1mgJjAACCCCAQCQFTPNrPm30yiup9M88Uxo1iuY3kgUl6cgJsD53XzIaYPc1sJYBE8waLYERQAABBBCInIBpfs8/X3rppVTqHTtKL75I8xu5YpJwZAVYn7svHQ2w+xpYy4AJZo2WwAgggAACCERKwDS/v/+93+wWbB06+M1w2bKRGgrJIhBpAdbn7stHA+y+BtYyYIJZoyUwAggggAACkRHYutVvfs1jzgVb+/bSyy/T/EamiCQaGwHW5+5LSQPsvgbWMmCCWaMlMAIIIIAAApEQ2LhR6tZtx7c9t2vnN7/lykViCCSJQKwEWJ+7LycNsPsaWMuACWaNlsAIIIAAAgiEXmDNGsl82uidd1Kpnn66/wIsmt/Ql48EYyrA+tx9YWmA3dfAWgZMMGu0BEYAAQQQQCDUAj/+KJk7vZ98kkrTvPDKfOqI5jfUpSO5mAuwPndfYBpg9zWwlgETzBotgRFAAAEEEAitwJIl0qmnSvPnp1K86CLpySel3NzQpk1iCCRCgPW5+zLTALuvgbUMmGDWaAmMAAIIIIBAKAW++EJq21b65ptUetdcIz38sFSqVChTJikEEiXA+tx9uWmA3dfAWgZMMGu0BEYAAQQQQCB0AjNnSuY3vj/8kErt9tulW2+VcnJCly4JIZBIAdbn7stOA+y+BtYyYIJZoyUwAggggAACoRKYMkUyv/E1L74q2AYOlMzdXzYEEAiPAOtz97WgAXZfA2sZMMGs0RIYAQQQQACB0AiMHSt16SKZTx6ZrXRpadgw6cILQ5MiiSCAwK8CrM/dXwo0wO5rYC0DJpg1WgIjgAACCCAQCoFnn5UuvVTautVPx7zh2bzp2dwNZkMAgfAJsD53XxMaYPc1sJYBE8waLYERQAABBBBwLjBo0I6POP/f/0mvvSa1bOk8NRJAAIHdCLA+d39p0AC7r4G1DJhg1mgJjAACCCCAgDOB/Hzprruk225LpVC1qjRhgnTssc7S4sQIIJCGAOvzNJAs70IDbBnYZXgmmEt9zo0AAggggEDwAnl50nXXSeYFVwXbQQdJkyZJdesGfz4iIoBAsAKsz4P1LEk0GuCSqEXkGCZYRApFmggggAACCKQhsGWL9Mc/G/bhxQAAIABJREFUSsOHp3auX196803JNMFsCCAQfgHW5+5r9P/t3QmYFNW5//EfICCCBhhlCS4g4IIxiJoElU0IinFBRIxGI5KIWxKjcr3/RDGCa2JU1GsSbxTFfYuiImpwJRABRUSvCq4gCKiggLiwCPyftypNT8/0zPRSZ05117eepx9Gp+rUqc97Ts15u6pOkQD7j4GzGtDBnNFSMAIIIIAAAvUqsGqVNGxYeKU3tey3n/Tkk5Ld/syCAAKlIcD43H+cSID9x8BZDehgzmgpGAEEEEAAgXoTWLBAOvxwad689C779ZMefVSyia9YEECgdAQYn/uPFQmw/xg4qwEdzBktBSOAAAIIIFAvAjNnSkcdJS1fnt7d8cdLt90WvvKIBQEESkuA8bn/eJEA+4+BsxrQwZzRUjACCCCAAALOBR58UDr5ZGnt2vSuRo+Wxo6VGjZ0vnt2gAACDgQYnztAzbNIEuA8wUppdTpYKUWLuiKAAAIIIBAK2GuO/vhH6YIL0iKNG0s33ywNH44SAgiUsgDjc//RIwH2HwNnNaCDOaOlYAQQQAABBJwIrF8vnXmmdOut6eJbtZImTpT69nWySwpFAIF6FGB8Xo/YNeyKBNh/DJzVgA7mjJaCEUAAAQQQiFxg5Urp2GOl555LF925szR5srT77pHvjgIRQMCDAONzD+hVdkkC7D8GzmpAB3NGS8EIIIAAAghEKvDBB+FMz/Pnp4vt1Su88rv99pHuisIQQMCjAONzj/j/2TUJsP8YOKsBHcwZLQUjgAACCCAQmcCLL0qDB0srVqSL/NnPwtugmzaNbDcUhAACMRBgfO4/CCTA/mPgrAZ0MGe0FIwAAggggEAkAvfdJ51yirRuXbq4iy+W7NOgQSS7oBAEEIiRAONz/8EgAfYfA2c1oIM5o6VgBBBAAAEEihKwmZ6vuEKy1xqlliZNpPHjpZNOKqpoNkYAgRgLMD73HxwSYP8xcFYDOpgzWgpGAAEEEECgYAF7r+8ZZ0i3354uonVr6ZFHpN69Cy6WDRFAoAQEGJ/7DxIJsP8YOKsBHcwZLQUjgAACCCBQkMCiRdLQodLs2enNu3YNZ3q2f1kQQKC8BRif+48vCbD/GDirAR3MGS0FI4AAAgggkLfAs89Kxx+fOdlVnz7Sww9LFRV5F8cGCCBQggKMz/0HjQTYfwyc1YAO5oyWghFAAAEEEMhZwJ73vfpq6Xe/kzZtSm/2q19J114r2bO/LAggkAwBxuf+40wC7D8GzmpAB3NGS8EIIIAAAgjkJLBmjfTLX0oPPphefeutpZtukoYPz6kIVkIAgTISYHzuP5gkwP5j4KwGdDBntBSMAAIIIIBAnQLvvCMNGSK99VZ61V12CW953nffOjdnBQQQKEMBxuf+g0oC7D8GzmpAB3NGS8EIIIAAAgjUKvDYY9LPfy598UV6tYEDpXvv5Xlfmg4CSRZgfO4/+iTA/mPgrAZ0MGe0FIwAAggggEBWgY0bpTFjpMsuy/z1738vXXqp1KgRcAggkGQBxuf+o08C7D8GzmpAB3NGS8EIIIAAAghUE/j8c+nEE6Wnnkr/qkWL8H2/xxwDGAIIICAxPvffCkiA/cfAWQ3oYM5oKRgBBBBAAIEMgddeC5/3XbAg/b93312aOFHac0+wEEAAgVCA8bn/lkAC7D8GzmpAB3NGS8EIIIAAAghsEbj7bmnkSOmbb9IolgxPmCBttx1QCCCAQFqA8bn/1kAC7D8GzmpAB3NGS8EIIIAAAgho7Vrp/POlG29MYzRoIF1+efjOX/uZBQEEEKgswPjcf3sgAfYfA2c1oIM5o6VgBBBAAIGEC8yfLx1/vGS3PqeW1q3DWZ4POSThOBw+AgjUKMD43H/jIAH2HwNnNaCDOaOlYAQQQACBhAps3izdeqt09tnS11+nEfbZJ3y/b6dOCYXhsBFAICcBxuc5MTldiQTYKa/fwulgfv3ZOwIIIIBAeQmsXi2dfrp0//2Zx/Wb30hXXSVtvXV5HS9HgwAC0QswPo/eNN8SSYDzFSuh9elgJRQsqooAAgggEGuBmTOlE06QFi5MV7OiQrrtNunII2NddSqHAAIxEmB87j8YJMD+Y+CsBnQwZ7QUjAACCCCQEIGNG8OruxddJNnPqaVfP+muu6QOHRICwWEigEAkAozPI2EsqhAS4KL44r0xHSze8aF2CCCAAALxFli6VPr5z6XnnkvXs1EjaezYcJZn+5kFAQQQyEeA8Xk+Wm7WJQF24xqLUulgsQgDlUAAAQQQKEGByZOlU06RVqxIV36XXaR77pEOPLAED4gqI4BALAQYn/sPAwlwkTH4+uuvNWXKFE2aNEkvv/yyFi5cqI0bN6pLly4aOnSozjvvPLVo0SLrXu644w7deOONeuutt9SkSRP17NlTo0eP1oER/WWlgxUZXDZHAAEEEEicwLp10v/7f9L112ce+rBh0t//LrVsmTgSDhgBBCIUYHweIWaBRZEAFwiX2uyWW27RyJEjg/+0Bt2tWzd98cUXevHFF7VmzRrtsccemjp1qtq0aZOxJ0uMx40bp2bNmumQQw7R2rVr9eyzz2rz5s168MEHNWTIkCJrFtbHljfffLPosigAAQQQQACBchd4++3w3b5z56aPtFmzMBk+9VSpQYNyF+D4EEDAtQDjc9fCdZdPAly3Ua1r2FXcmTNn6txzz1XXrl23rLts2TIdfvjhevXVV3XCCSfoHrtn6j/Lc889pwEDBqiiokIzZszYsp393K9fvyApXrBggVq1alVU7ehgRfGxMQIIIIBAQgTs3b633CKde6701Vfpg957b+m++6Ru3RICwWEigIBzAcbnzonr3AEJcJ1Eha9gCa3dzty0adPgqrDd5myLJcZPPPFEcAX4nHPOydjBb3/7W91www26+uqrNWrUqMJ3/p8r0lYAV4CLYmRjBBBAAIEyFli8OLy6O2VK5kH++tfSn//Mu33LOPQcGgJeBEiAvbBn7JQE2GEM7Png5s2bB3tYunSp2rdvH9zq3LJlS61bt06LFy/WjjvumFGDadOmqU+fPurbt69eeOGFompHByuKj40RQAABBMpYwK76Tpgg2ffQX3yRPtDWraVbb5UGDy7jg+fQEEDAmwDjc2/0W3ZMAuwwBm+88Yb23ntvNW7cOHge2K4Ez507Vz169NAOO+ygTz/9tNrev/rqq2DSLLv9+fPPPy+qdnSwovjYGAEEEECgTAWWLJFOO0164onMAzziiHCiq/bty/TAOSwEEPAuwPjcewhEAuwwBjY5lk2SdeSRR+qxxx4L9mT/Dh48OEiC58yZk3XvlvyuWrUquG162223LbiGdLCC6dgQAQQQQKAMBeyq7513SmefLa1enT7A73xHuuGG8J2/THRVhoHnkBCIkQDjc//BIAF2FAN7xveII47QVlttFbweqXv37sGebDKsE088UQcddJCmT5+ede92W/SSJUu23DZdVxVTHanqeu+//746d+7MM8B1AfJ7BBBAAIGyF1i2TDr9dGnSpMxDPeww6eabpQ4dyp6AA0QAgRgIkAD7DwIJsIMYzJs3L0hwV65cqeuuu042sVVqufvuu3XSSSepV69esud9sy0dOnQIkt/Uc8N1VZEEuC4hfo8AAgggkFQBu+prL2L4zW+klSvTCnaD1XXXSSNGcNU3qW2D40bAhwAJsA/1zH2SAEccg48++ihIfhctWiR71+8111yTsQdugY4YnOIQQAABBBCoQeCTT6QzzpAeeSRzhYEDw9ce7bwzdAgggED9CpAA1693tr2RAEcYgxUrVqh3796aP3++RowYofHjx6tBlYeJcp0Ey2aKtivIxSx0sGL02BYBBBBAoJQF7r9f+tWvpM8+Sx9FixaSfS89ciRXfUs5ttQdgVIWYHzuP3okwBHFwGZ57t+/v2bPnq1jjjlGDzzwgBo1alSt9G+++SaY4bmu1yDZq5CmTp1aVO3oYEXxsTECCCCAQAkK2FVfu935wQczK9+/vzR+vNSxYwkeFFVGAIGyEWB87j+UJMARxMCS2cMOO0zPP/+8Dj300GCm5yZNmtRY8k9+8hM9+eSTGjdunM6xFxBWWux54RtuuEFXXXWVzj///KJqRwcrio+NEUAAAQRKSGDTpvAVRr/7XeYMz9tsI/35z+Gt0A0bltABUVUEEChLAcbn/sNKAlxkDDZu3Khhw4Zp4sSJwe3PTz31lLaxv7a1LM8884wGDhyoiooKzZgxQ127dg3Wtp8PPvjg4H3BCxYsUOvWrYuqHR2sKD42RgABBBAoEYHXXgtneJ41K7PCffpIt90m7bpriRwI1UQAgbIXYHzuP8QkwEXG4Prrr99yFXfIkCHabrvtspZ49dVXa/vtt9/yO7vya9tasmzJ8Pr16/X0009r06ZNwe3TQ4cOLbJmEh2saEIKQAABBBCIscCXX0pjxoSzOW/cmK6o/Sm+4grpzDO56hvj8FE1BBIpwPjcf9hJgIuMwZgxYzR27Ng6S7Eruh2rPHg0YcIE3XjjjbLXJjVu3Fg9e/bU6NGjg1ckRbHQwaJQpAwEEEAAgTgKPPpo+Kzv4sWZtfvpT6Vx46T27eNYa+qEAAJJF2B87r8FkAD7j4GzGtDBnNFSMAIIIICAJ4FFi6Szz5YsAa682G3Of/2rdOihnirGbhFAAIEcBBif54DkeBUSYMfAPoung/nUZ98IIIAAAlEKfPutdP310sUXS199lS65cWPpv/9buvBCqVmzKPdIWQgggED0AozPozfNt0QS4HzFSmh9OlgJBYuqIoAAAgjUKDBzZjiLs012VXnp21f629+kPfcEDwEEECgNAcbn/uNEAuw/Bs5qQAdzRkvBCCCAAAL1ILBqlfT730v/+7/S5s3pHVZUSNdcI518stSgQT1UhF0ggAACEQkwPo8IsohiSICLwIv7pnSwuEeI+iGAAAIIZBOwGZ0nTJAuuED69NPMNX7xC+mqqyRLglkQQACBUhNgfO4/YiTA/mPgrAZ0MGe0FIwAAggg4Ehg6lTpnHOkuXMzd9Ctm3TTTVLv3o52TLEIIIBAPQgwPq8H5Dp2QQLsPwbOakAHc0ZLwQgggAACEQt88IF0/vnSww9nFmwTW110kTRqlNSkScQ7pTgEEECgngUYn9czeJbdkQD7j4GzGtDBnNFSMAIIIIBARAJffCFdcUX47t716zMLPfFE6corpZ12imhnFIMAAgh4FmB87jkAkkiA/cfAWQ3oYM5oKRgBBBBAoEiB1HO+9vqiTz7JLOxHP5Kuu07q2bPInbA5AgggEDMBxuf+A0IC7D8GzmpAB3NGS8EIIIAAAkUI1PScb4cO0p/+JJ1wgtSwYRE7YFMEEEAgpgKMz/0HhgTYfwyc1YAO5oyWghFAAAEEChCw53z/+7+lhx7K3Nie87X/b88AN29eQMFsggACCJSIAONz/4EiAfYfA2c1oIM5o6VgBBBAAIE8BOw5X3uW99prec43DzZWRQCBMhRgfO4/qCTA/mPgrAZ0MGe0FIwAAgggkIPAunXhq4suv1xavjxzA57zzQGQVRBAoOwEGJ/7DykJsP8YOKsBHcwZLQUjgAACCNQi8O230p13SmPGSIsWZa7Ic740HQQQSLIA43P/0ScB9h8DZzWggzmjpWAEEEAAgSwCmzeH7/EdPVqaPz9zhW22CZ/x5Tlfmg4CCCRZgPG5/+iTAPuPgbMa0MGc0VIwAggggEAlAUt8n3lGuuACafbsTJrGjaXTT5fsdUft2sGGAAIIJFuA8bn/+JMA+4+BsxrQwZzRUjACCCCAwH8EZs4ME9/nn88kadBA+vnPw9ugO3WCCwEEEEDABBif+28HJMD+Y+CsBnQwZ7QUjAACCCRe4I03wludH320OsXRR0uXXWYDvcQzAYAAAghkCDA+998gSID9x8BZDehgzmgpGAEEEEisgL3L9+KLpbvvluzW58pL//7SFVdINsMzCwIIIIBAdQHG5/5bBQmw/xg4qwEdzBktBSOAAAKJE1i4UPrjH6Vbb5U2bMg8/P33D9/z++MfJ46FA0YAAQTyEmB8nheXk5VJgJ2wxqNQOlg84kAtEEAAgVIWePfdMLm11xrZ640qL3vuGd7qPGSIZM/8siCAAAII1C7A+Nx/CyEB9h8DZzWggzmjpWAEEECg7AXeeku6/HLpvvukTZsyD3fnnaWxY8NJrho1KnsKDhABBBCITIDxeWSUBRdEAlwwXfw3pIPFP0bUEAEEEIibwNy54VVde59v1Wd8O3aUfvc76ZRTpKZN41Zz6oMAAgjEX4Dxuf8YkQD7j4GzGtDBnNFSMAIIIFB2Ai+9FCa+kyZVP7SuXcNXHZ14omTv9WVBAAEEEChMgPF5YW5RbkUCHKVmzMqig8UsIFQHAQQQiKHA9OnSpZdKU6ZUr5y9xujCC6XjjuNW5xiGjiohgEAJCjA+9x80EmD/MXBWAzqYM1oKRgABBEpawG5tfu65MPGdOrX6ofToEb7j197n27BhSR8qlUcAAQRiJcD43H84SID9x8BZDehgzmgpGAEEEChJAXt90T/+IV1zjfTKK9UPwd7fe9FF0k9+wqzOJRlgKo0AArEXYHzuP0QkwP5j4KwGdDBntBSMAAIIlJTA6tXSLbdI118vLV5cvep9+oSJ74ABJL4lFVgqiwACJSfA+Nx/yEiA/cfAWQ3oYM5oKRgBBBAoCYFFi8Kk9+abpTVrqld54MDwVmdLgFkQQAABBNwLMD53b1zXHkiA6xIq4d/TwUo4eFQdAQQQKEJg9uzwNucHH5Q2bswsyGZxPuEE6bzzpO7di9gJmyKAAAII5C3A+Dxvssg3IAGOnDQ+BdLB4hMLaoIAAgi4Fti0SXr88TDx/de/qu+tZUvpjDOkX/9a6tDBdW0oHwEEEEAgmwDjc//tggTYfwyc1YAO5oyWghFAAIHYCHz9tXTHHdK4cdI771SvVqdO0rnnSiNGSC1axKbaVAQBBBBIpADjc/9hJwH2HwNnNaCDOaOlYAQQQMC7wIIF0k03SePHS599Vr06BxwgjRoVvsqoUSPv1aUCCCCAAAKSGJ/7bwYkwP5j4KwGdDBntBSMAAIIeBGw53mfekr661+lJ5+U7H2+lRd7Z++QIWHiawkwCwIIIIBAvAQYn/uPBwmw/xg4qwEdzBktBSOAAAL1KrBihXTrreEVX7vyW3Vp3lz6xS+kc86Rdt21XqvGzhBAAAEE8hBgfJ4HlqNVSYAdwcahWDpYHKJAHRBAAIHCBOzq7qxZ4dXeBx6Q1q2rXs5uu0lnnSUNHy7ZJFcsCCCAAALxFmB87j8+JMD+Y+CsBnQwZ7QUjAACCDgT+Oor6d57w8T31Ver78ae5x08OEx8+/eXGjRwVhUKRgABBBCIWIDxecSgBRRHAlwAWqlsQgcrlUhRTwQQQEB6+23pb3+TJkyQVq+uLtKunXTaadLIkdKOOyKGAAIIIFCKAozP/UeNBNh/DJzVgA7mjJaCEUAAgUgE1qyRHnwwfL733//OXmTfvuHVXpvNuUmTSHZLIQgggAACngQYn3uCr7RbEmD/MXBWAzqYM1oKRgABBAoWsGd7Ldm1pNee7bVbnqsu9r7ek08OE9+99ip4V2yIAAIIIBAzAcbn/gNCAuw/Bs5qQAdzRkvBCCCAQN4CS5dKd9wRJr7vvpt98733ls48UzrpJGnbbfPeBRsggAACCMRcgPG5/wCRAPuPgbMa0MGc0VIwAgggkJPA+vXS44+HSa+9t3fTpuqbfec70s9+Fr7GaL/9mNQqJ1hWQgABBEpUgPG5/8CRAPuPgbMa0MGc0VIwAgggUKvAG2+ESe+dd0r2Dt9sy49/HCa99mxvs2aAIoAAAggkQYDxuf8okwD7j4GzGtDBnNFSMAIIIFBNwG5xvv9+6e67pVdeyQ60yy7SiBHhe3s7dgQRAQQQQCBpAozP/UecBNh/DJzVgA7mjJaCEUAAgUBg1Srp4YfDpPf55yWb4Krq0rSpNHRoeLX34IOlhg3BQwABBBBIqgDjc/+RJwH2HwNnNaCDOaOlYAQQSLDA2rXS5MnSPfeE/65blx1j//3DpPf446VWrRIMxqEjgAACCGwRYHzuvzGQAPuPgbMa0MGc0VIwAggkTGDjRumFF8IrvQ89JH3xRXYAu63ZJrQ64QTpe99LGBKHiwACCCBQpwDj8zqJnK9AAuyc2N8O6GD+7NkzAgiUvoDdzmzP8lrSe9990scfZz+m7beXfvrTMPE94ABmcS79yHMECCCAgDsBxufubHMtmQQ4V6kSXI8OVoJBo8oIIOBVwJLel1+W/vGP8ErvBx9kr07z5uHszSeeKNlszo0be602O0cAAQQQKBEBxuf+A0UC7D8GzmpAB3NGS8EIIFBGAvZu3hkz0knv4sXZD26rraRBg8Kk98gjJUuCWRBAAAEEEMhHgPF5Plpu1iUBduMai1LpYLEIA5VAAIEYCnz7rTRtWniV12ZxXras5kr27h3e3jxsmFRREcODoUoIIIAAAiUjwPjcf6hIgP3HwFkN6GDOaCkYAQRKUGDDBum558Kkd+JEacWK7AfRoIHUp4907LHSkCFShw4leLBUGQEEEEAglgKMz/2HhQTYfwyc1YAO5oyWghFAoEQEvvxSevpp6dFHpccek1auzF7xRo3Cd/Ra0mvP9rZtWyIHSDURQAABBEpKgPG5/3CRAPuPgbMa0MGc0VIwAgjEWMCe4X38cWnSpPCKb03v6bWJqwYOlIYOlQYP5vbmGIeUqiGAAAJlI8D43H8oSYD9x8BZDehgzmgpGAEEYiRgk1jZ64os4bXP3Lk1V65p03AiK7vSe8QRUsuWMToQqoIAAgggUPYCjM/9h5gE2H8MnNWADuaMloIRQMCzwNdfS88+G97WPHly7ZNYfec70mGHhbc2/+Qn0rbbeq48u0cAAQQQSKwA43P/oScB9h8DZzWggzmjpWAEEPAg8OGH0j//GV7lfeYZae3amivRpUv4qiL79OrFe3o9hItdIoAAAghkEWB87r9ZkAD7j4GzGtDBnNFSMAII1IOAXeWdOjVMeu0zf37NO23YUDrooHTSu/vuks3mzIIAAggggECcBBif+48GCbD/GDirAR3MGS0FI4CAA4HNm6U330wnvP/6V80TWNnu7VZme573qKPCW5x5R6+DoFAkAggggECkAozPI+UsqDAS4ILYSmMjOlhpxIlaIpBkgc8/D29nTl3lXbKkdo3ddguTXru12d7V26RJkvU4dgQQQACBUhNgfO4/YiTA/mPgrAZ0MGe0FIwAAgUK2CuJZs4MJ7CaMkV6+WXJZnGuabGrvAMGSIceGn46dSpwx2yGAAIIIIBADAQYn/sPAgmw/xg4qwEdzBktBSOAQI4C334rzZ4dvo/XPv/+d+2TV1mx++0XJrt2pbdnTyawypGa1RBAAAEESkCA8bn/IJEA+4+BsxrQwZzRUjACCNQgYFdzX3stnfDac7xfflk7V9u20iGHhEnvwIFSmzbwIoAAAgggUJ4CjM/9x5UE2H8MnNWADuaMloIRQOA/AjZx1bx56YTXZm2253prW5o1k3r3lvr3D5Pe739fslmcWRBAAAEEECh3Acbn/iNMAuw/Bs5qQAdzRkvBCCRWwG5pnjtXmjYt/EyfLi1fXjuHTVR1wAHSwQeHSe8Pfyg1bZpYQg4cAQQQQCDBAozP/QefBNh/DJzVgA7mjJaCEUiMgL2Ld9asdLI7Y0bdtzQ3aiTtv3+Y7NrnwAOlbbZJDBkHigACCCCAQI0CjM/9Nw4SYP8xcFYDOpgzWgpGoGwF7PZlm6gqdYX3lVekDRvqPtx99kknvHZ783bb1b0NayCAAAIIIJA0Acbn/iNOAuw/Bs5qQAdzRkvBCJSFgE1Y9fbb4WuJ7GOJ75tv1n1ojRuHV3h79Qqf5T3oIKl167q3Yw0EEEAAAQSSLsD43H8LIAH2HwNnNaCDOaOlYARKUsCu7trtzKmE135evbruQ2nRInyG15Jd+9gzvNzSXLcbayCAAAIIIFBVgPG5/zZBAuw/Bs5qQAdzRkvBCMRewCareuONdLJrSa9d7c1l2WGHdLJrCW/37tJWW+WyJesggAACCCCAQG0CjM/9tw8SYP8xcFYDOpgzWgpGIFYC9iqiDz6QZs+W7Jndl18OP199VXc1GzSQvvc9qWfP8GO3M++2m2T/nwUBBBBAAAEEohVgfB6tZyGlkQAXolYi29DBSiRQVBOBPAQs2V20KEx2Ux9LeleuzK2Q7bdPJ7t2W7M9y8uEVbnZsRYCCCCAAALFCjA+L1aw+O1JgIs3jG0JdLDYhoaKIZCTgCW7S5dmJruW9K5YkdPmwW3LdvuyXdm1ZNf+3XVXru7mpsdaCCCAAAIIRC/A+Dx603xLJAHOV6yE1qeDlVCwqGriBTZulN57T5o7N/159VXpk09yp+naNbyiu99+0o9+JO27L5NV5a7HmggggAACCLgXYHzu3riuPZAA1yVUwr+ng5Vw8Kh6WQt8/bX0f/+Xmey+/rpk/z/XpVOnMNlNfSzZbdky161ZDwEEEEAAAQR8CDA+96GeuU8SYP8xcFYDOpgzWgpGICcBu4V5yZJwNubXXksnvO+8I9k7eHNddt45neja1V37VFTkujXrIYAAAggggEBcBBif+48ECbD/GDirAR3MGS0FI1BNwCahsqu6luzaJ/XzqlW5Y9nMy7vvLu2zT/rTo4fUpk3uZbAmAggggAACCMRXgPG5/9iQAPuPgbMa0MGc0VJwggXsNuV586onuzZZVT7LNttI3/9+ZrJrryNq3jyfUlgXAQQQQAABBEpJgPG5/2iRAPuPgbMa0MGc0VJwAgRWrw4T3aofe9+u3dqcz9KhQ/iuXbuam7q626WL1KhRPqWwLgIIIIAAAgiUugDjc/8RJAH2HwNnNaCDOaOl4DIRsETWZlnOlujme0XXSGwSKkuQeu8eAAAgAElEQVR09947/e9ee0mtW5cJGIeBAAIIIIAAAkUJMD4vii+SjUmAI2GMZyF0sHjGhVrVv8A330jvvy/Z5FOpz/z5YeKbzzO6qZo3bSp165aZ6Fria1d67TleFgQQQAABBBBAIJsA43P/7YIE2H8MnNWADuaMloJjKGDv0f3ww8wkN5XsLlqU/23LdogtWkh77CHtuWfmh9uXY9gAqBICCCCAAAIlIMD43H+QSID9x8BZDehgzmgp2JPAhg2SJbPvvRde0U19LNG1n9evL6xi228fJrh2VbdysrvjjlzRLUyUrRBAAAEEEECAK8DxbAMkwPGMSyS1IgGOhJFC6lnAZlmunNzaz6mE167w2pXeQpbGjaXOnaXddgs/Xbumk11LgFkQQAABBBBAAAHXAozPXQvXXT4JcN1GJbsGHaxkQ1fWFf/2W+mjj6QFC6SFCzP/tWR32bLiDn/nndNJbirZtX932UXaaqviymZrBBBAAAEEEECgGAHG58XoRbMtCXA0jrEshQ4Wy7CUfaU2bQqT2FRyWznRtZ8XLy78Kq7h2SRTdmuyXc21Z3HtX7uaa0mu/XezZmVPzAEigAACCCCAQIkKMD73HzgSYP8xcFYDOpgz2kQXbLco23O42T52i7IluPasbjGL3a68665hcpv6pJLdjh2lrbcupnS2RQABBBBAAAEE/AgwPvfjXnmvJMD+Y+CsBnQwZ7RlW7Alrnb11m5Rto8ls1UT3RUrojn8du2kTp3CjyW1qZ8t0bUrvI0aRbMfSkEAAQQQQAABBOIiwPjcfyRIgP3HwFkN6GDOaEuy4HXrpCVL0sltKsmt/O/HHxf2uqBsIBUV2RNcS3bteVxuVS7JZkSlEUAAAQQQQKAIAcbnReBFtCkJcESQcSyGDhbHqERfJ5sV+dNPpaVLa/5Y4rt8eXT7tquzdpXWJpyyjyW0qZ9T/267bXT7oyQEEEAAAQQQQKAcBBif+48iCbD/GDirAR3MGW29FGzvtP3kE8muylb+VE107Xc28VSUi70WyBLcDh0yk9tUotu+PbcoR+lNWQgggAACCCCQDAHG5/7jTALsOQZr167VlVdeqXvvvVeLFi1S69atNWjQIF1yySXa0TKQIhY6WBF4jja1q7WffRYmttmS21Sia8/hfv65m0rYs7fWtGr6fPe73J7sRp5SEUAAAQQQQCDpAozP/bcAEmCPMbDkd8CAAXrxxRfVvn179e7dWwsXLtRLL72kHXbYQTNmzFBnmwK3wIUOViBcnpvZrMh2C7IltPZvbT/bBFJRX61NVXe77SRLXrN97IrtTjtJ9m+TJnkeIKsjgAACCCCAAAIIRCLA+DwSxqIKIQEuiq+4jf/whz/o0ksv1QEHHKApU6aoRYsWQYHXXnutRo0apT59+mjq1KkF74QOlj/d5s3S6tXh87KWrNq/lT/Z/p8lwC6Xli0lu2qb+tSU4P6n+bisCmUjgAACCCCAAAIIFCHA+LwIvIg2JQGOCDLfYjZs2KA2bdpo1apVmjNnjnr06JFRRPfu3fX6669r9uzZ2m+//fItPlg/6R3MrrRaMmtJq912nPpU/u+qP9t/F/sO21yC1bRpZlJrya1dna2c6NrPbdvyzttcPFkHAQQQQAABBBAoBYGkj8/jECMSYE9ReP7559W/f//gFuf33nuvWi3syrBdIb744os1ZsyYgmpZLh3Mnpu1RNaeia36Wbmy+v9LJbq2rqvbjbMFxF7706ZN+mPJa+q/q/5sV2sbNCgorGyEAAIIIIAAAgggUKIC5TI+L1H+oNokwJ6id9111+ncc8/VsGHD9MADD1SrxeTJk3XEEUfo6KOP1sSJEwuqZZw6mF1VXbUq/FjSap9cfk6tZ7cm1+fSsKFkCe0OO6Q/NjNy5f+2nyv/v8aN67OG7AsBBBBAAAEEEECg1ATiND4vNbuo6ksCHJVknuWcd955GjduXJAE2zO/VZfXXntN++yzj/bdd1+98soreZYerh6HDnbIIdKMGdKXXxZ0CJFsZMls69ZhQmsJq/1b08+pBLdVK8m2Y0EAAQQQQAABBBBAICqBOIzPozqWUi2HBNhT5E477TTdfPPNuvDCC3XZZZdVq4XdFt21a1fttttuevvtt2utZaojVV3p/fffD26xfvPNNz0dpdSnjzRtWjS7t4TUElNLZu1T+efU/0v9/8qJrk0iRTIbTQwoBQEEEEAAAQQQQKBwARLgwu2i2pIEOCrJPMsZOXKkbrnlFo0ePTqYCbrq8u677wbJb6knwEcdJU2alD46S0QtIbXk1T41/Zz6XeXE1l7zQyKbZ0NjdQQQQAABBBBAAIHYCJAA+w8FCbCnGCTlFuh586R169IJr03+RBLrqdGxWwQQQAABBBBAAAGvAiTAXvmDnZMAe4pB0ibB8sTMbhFAAAEEEEAAAQQQiI0ACbD/UJAAe4pBrq9BslchjR07tqBa0sEKYmMjBBBAAAEEEEAAAQScCDA+d8KaV6EkwHlxRbfy+vXr1aZNG61evVpz5sxRjx49Mgrv3r27Xn/9db300kv6wQ9+UNCO6WAFsbERAggggAACCCCAAAJOBBifO2HNq1AS4Ly4ol3ZJsC6/PLLdeCBB2rKlClq3rx5sAN7LdKoUaPUq1cvTStiCmU6WLTxojQEEEAAAQQQQAABBIoRYHxejF4025IAR+NYUClr165Vv379NGvWLLVv3169e/fWhx9+GPx3RUWFZs6cqS5duhRUtm1EByuYjg0RQAABBBBAAAEEEIhcgPF55KR5F0gCnDdZtBt88803uvLKK3XPPfdo8eLFatWqlQYNGhS8GmmnnXYqamd0sKL42BgBBBBAAAEEEEAAgUgFGJ9HyllQYSTABbGVxkZ0sNKIE7VEAAEEEEAAAQQQSIYA43P/cSYB9h8DZzWggzmjpWAEEEAAAQQQQAABBPIWYHyeN1nkG5AAR04anwLpYPGJBTVBAAEEEEAAAQQQQIDxuf82QALsPwbOakAHc0ZLwQgggAACCCCAAAII5C3A+Dxvssg3IAGOnDQ+BdLB4hMLaoIAAggggAACCCCAAONz/22ABNh/DJzVgA7mjJaCEUAAAQQQQAABBBDIW4Dxed5kkW9AAhw5aXwKpIPFJxbUBAEEEEAAAQQQQAABxuf+2wAJsP8YOKsBHcwZLQUjgAACCCCAAAIIIJC3AOPzvMki34AEOHLS+BRIB4tPLKgJAggggAACCCCAAAKMz/23ARJg/zFwVgM6mDNaCkYAAQQQQAABBBBAIG8Bxud5k0W+AQlw5KTxKZAOFp9YUBMEEEAAAQQQQAABBBif+28DJMD+Y+CsBnQwZ7QUjAACCCCAAAIIIIBA3gKMz/Mmi3wDEuDISeNTIB0sPrGgJggggAACCCCAAAIIMD733wZIgP3HwFkN6GDOaCkYAQQQQAABBBBAAIG8BRif500W+QYkwJGTxqdAOlh8YkFNEEAAAQQQQAABBBBgfO6/DZAA+4+BsxrQwZzRUjACCCCAAAIIIIAAAnkLMD7PmyzyDUiAIyeNT4HbbrutNmzYoM6dO8enUtQEAQQQQAABBBBAAIGECrz//vtq3Lix1qxZk1AB/4dNAuw/Bs5q0K5dO3311Vfaeeedne0jl4Kto9tCIp6LVt3r4Fm3Ub5rYJqvWO3r4xmtp5WGKabRC0RbIm00Wk/6ffl6Llq0SM2bN9fHH38c/UFSYk4CJMA5MbFSMQLc6lGMXvVt8YzW00rDNFpTPKP1pI1G74lp9Kb0e0yjF4i2RNpotJ6lXBoJcClHr0Tqzgkn2kDhGa0nA2E8oxeIvkT6PabRC0RbIm00Wk/+NuEZvQAlpgRIgGkLzgX4oxgtMZ7RejLIwDN6gehLpN9jGr1AtCXSRqP15G8TntELUCIJMG2g3gT4oxgtNZ7RejLIwDN6gehLpN9jGr1AtCXSRqP15G8TntELUCIJMG2g3gT4oxgtNZ7RejLIwDN6gehLpN9jGr1AtCXSRqP15G8TntELUCIJMG2g3gT4oxgtNZ7RejLIwDN6gehLpN9jGr1AtCXSRqP15G8TntELUCIJMG0AAQQQQAABBBBAAAEEEEAgUQJMgpWocHOwCCCAAAIIIIAAAggggEByBUiAkxt7jhwBBBBAAAEEEEAAAQQQSJQACXCiws3BIoAAAggggAACCCCAAALJFSABTm7sOXIEEEAAAQQQQAABBBBAIFECJMCJCjcHiwACCCCAAAIIIIAAAggkV4AEOLmx58gRQAABBBBAAAEEEEAAgUQJkAAnKty5H+zatWt15ZVX6t5779WiRYvUunVrDRo0SJdccol23HHH3AuStGrVKo0ZM0YTJ07Uxx9/rHbt2unoo4/W2LFj1bJly6xlbdq0STfccIPGjx+v9957Ty1atFC/fv2Cbbp165bX/uOychSmZvnEE0/o8ccf19y5c/Xhhx+qYcOGgcnPfvYznXXWWWrcuHG1Qz7llFN0++2310jxt7/9TWeccUZcqHKqRxSetqOOHTsGjjUt8+bN0x577FHt17TR7GITJkzQiBEj6oyhtceTTz55y3rl1kZfeeUVPf3003rppZc0a9YsLV26VE2bNpW120IWzqNSVKacR8MWGJUn59F0j47KlPOo9PXXX2vKlCmaNGmSXn75ZS1cuFAbN25Uly5dNHToUJ133nnB2DCfhfNoPlrlvS4JcHnHt6CjswHagAED9OKLL6p9+/bq3bt3cOKxgdwOO+ygGTNmqHPnzjmV/dlnn+mAAw7Qu+++q1133VX777+/3nzzzeBjJ7GZM2eqoqIio6zNmzfruOOO0z/+8Y8gQba6rFixQv/617+09dZb6/nnn9ePfvSjnPYfl5WiMh09erQuv/zyIOnt0aNHYLh8+XL9+9//1rp169SrVy/985//1DbbbJNx6Knk4tBDDw2+gKi6DB8+XAcffHBcuOqsR1SelQduZpBtsS+CrB9UXmijNYdo+vTpuuWWW7KusHr1aj3yyCPB795///3gnJBayq2N2pd8jz76aIZDoQkw59GQMSpTzqPRenIeTXfzqNoo51EFf0dGjhwZ4O61117BF/1ffPFFMDZds2ZN8MX01KlT1aZNmzrHDLYC59GcmBKzEglwYkKd+4H+4Q9/0KWXXhokrvbtW+obtmuvvVajRo1Snz59gpNOLotd4bnzzjt1zDHH6P7779dWW20VbHb22Wfrf/7nf4IrQFWvTN5666365S9/qa5du2ratGlq27ZtsM1DDz2kY489Nki+58+fv6WsXOrhe52oTP/4xz8GJ3670tuhQ4cth2VfMPz4xz8Ortb//ve/1xVXXJFxyKnkwr48sCvppb5E5Vl54GZJba4LbTRXqcz17E4Da7sHHXSQbIBXeSm3NvqnP/0puILxgx/8IPjYF0+FJsCcR8OWEpUp59FoPTmPps9kUbXR2s6wSTmP3nHHHcFFknPPPTcYD6aWZcuW6fDDD9err76qE044Qffcc09Of5A4j+bElJiVSIATE+rcDnTDhg3Bt2l2m8icOXOCq4yVl+7du+v111/X7Nmztd9++9VaqN3ubElao0aNtHjx4i2JrG1kVyt32mknff7551qyZEnG7+ybvrfeeiu4Zdq+Ta28DB48WI899lhwddhugSmFJUrT2o7Xble326Dtlt4FCxaUbXIRtWfqFuh8EmDaaGE9zxJf+/b+pptu0umnn162bTSbToMGDQpKgDmP1tzWCjXlPJpdoBhPzqPRm9bUTpN8Hk2Z2J2IBx54YHBOtavCTZo0YTxa2J/lxG5FApzY0Gc/cLtC2L9//+Aqqz17W3WxK8N29e3iiy8Onuutbbntttv0i1/8IriF+Zlnnqm2ql3ltStptp5d/bHFEje7LbJZs2ay2yWrPs9qV5PtWzy7XdWekSmFJUrT2o7XvjSwxMz+ENgXDJWXcrq6FrVnvgM32mjt/b6mNppys/ZpSV2rVq3Kto1GmQBzHq3fBDgp59Eo26iVxXm0fhLgpJ9HU8p2d03z5s2D/7T5Fao+plQ1GpxHS2G0XL91JAGuX+/Y7+26664LbjcZNmyYHnjggWr1nTx5so444ojgyqxdoa1tOeecc3T99dfr/PPP11VXXVVt1b/85S/69a9/LVtv3Lhxwe/t+cAhQ4YEtwzaM8dVF3t2+Hvf+5722Wef4PaXUliiNK3teG1irCOPPFI777xztUmdUgnwb37zG9mVTptIolOnTsH62SZ4irNr1J6pgZu1UXsu1b5Rti8SrB3aM+9VF9po7f2+praT+vLMXB9++OFqq5VTG40yueA8Wr8JcFLOo1G20coJcJLPo1GbZisv6efRlMkbb7yhvffeO7hIYo+F2d9txqNxHrnFr24kwPGLidca2ax6loxaEmzP/FZdXnvttSD53HfffYMZJGtb7LlfS5ItCbZnfqsuNkGMJdK2nj3fa4vN/Pzb3/42SD6yDZLtqrBNjGWzUtuEBqWwRGla2/EOHDgwuNJuSa45Vl5qmmHXbnk788wzgxilns+Ou2nUnjXNAm0TiZmj3alQeaGN1t7va2o/9kXL22+/HfRr699Vl3Jqo1EOhDmP1m8CnJTzaJRttHICXLXcJJ1HozbNVl7Sz6MpE5scyybJsi/x7bG4uhbOo3UJJe/3JMDJi3mtR3zaaafp5ptv1oUXXqjLLrus2rp2W7RNRrDbbrsFg9nalkMOOSR4DYiVd+qpp1Zb1ZI1G2zYejZzsS02eZPt+8QTT9Rdd91VbZtvv/02+MYv222+cQ1llKY1HaM9U2mJrH05YFfJv/vd72asagmuzaBtt7fba6zsFtQnn3xSNhvqypUrM67Cx9UxVa+oPe3LGZsB255ptyu+H3zwQXBrvpnZlfKqz6LTRmvv99naj93NYTO3223P1vayPa9VTm00yoEw59H6S4CTdB6Nso1aWZxHs7fTYp6rrloi59FQxF4FaXci2pf29nokm5umroXzaF1Cyfs9CXDyYl7rEae+VbPEyG61qbrYbMOW/OaSAKe+Sbdv6apeRbNyLTm2k1LlBNhe8WP7Pumkk4LZo6supZgAR2maLXg2I7cZ2uRQdiU929W1moJutxFZ4meJnj1bZBOTxX1x7Zk6/r///e/BRE1V2zptNP8EODXru71r2mYwzWcpxTYaZXLBebR+EuCknUejbKO19ecknUddm3IelebNmxe8RcC+uLfHoeyOwVwWzqO5KCVrHRLgZMW7zqON8vZSbjkJuaM0rRpAm5G7b9++wazddmuu3f6c72LPe9us2nbVc8SIEfluXu/ru/SsfDCbNm0KJtb49NNPg6vC9sy0LdwCnd8t0Pallc0Gb472vmqbuTPfpdTaaJQDYc6j7hPgJJ5Ho2yjtfXnJJ1HXZpyHpU++uijIPm11z3aOOCaa67J+U8J59GcqRKzIglwYkKd24FGOcEQk7eE5lGaVo6iTdjUq1ev4JZSm5HbZuYuZLngggt05ZVXyq5s2s9xX1x5ZjtuS9bsdQuVEzcmwcpvEiy7Xc3e2Wizu1ubLWQptTYa5UCY86jbBDip59Eo22hdfTop51GXpkk/j65YsUK9e/fW/Pnzgy/qx48fL7u9PNeF82iuUslZjwQ4ObHO6UhzfcWMvQpp7NixtZaZ67Tzla885vqKGXsV0u23357TMfleKUrT1LHYtP+W/JqX3QJkSWGhiz07bM++1TRZWaHlutrOhWdNdd1zzz2DP7g2+dv3v//9YDXaaO39vqqlvZva3lGdyzmjpjiUWhuNciDMedRdApzk82iUbbSuc31SzqMuTZN8HrVZnm3+ktmzZweTptobSho1alRXs8v4PefRvLgSsTIJcCLCnPtBrl+/Xm3atAnewTtnzhz16NEjY2ObbMBuF7PJGOxVRbUty5YtCyZcsokKFi9eHJSbWuw9tfa8qc3kvGTJErVr127L77p16xY851F18iFbYfDgwcGMf3YCtNsiS2GJ0tSO15596dOnj+zZyEK+Ca1sZnGwSc0sPtOnTw9uL4r7ErVnTcdrk4nZaxbsndRmXnniJtpobq3kyy+/VNu2bWXvbHznnXeCtpbvUoptNMqBMOdRNwlw0s+jUbbR2vp0ks6jrkyTfB618/9hhx0m++L70EMPDcZ/2SZRrOvvCufRuoSS93sS4OTFvM4jtkmo7HZYu21pypQpW142bq9FGjVqVHDlcdq0aVvKufHGG2Ufm3zJbqWtvNhkVnfffbeGDh2q++67b8urduyqpT1LmW2yK5s0yyY6ssGyJWWpxNlen2Ll2LOYNgO1zQZdKktUppZIDBgwQDNnztRxxx2ne+65p85vQs3KrmLarImVvzVdvny5bEZlu6XXvtiw9yrnc0uRT/uoPG328e233z6YCKzyYl/yHH/88cEXMTbxiF0dr7zQRhX0+Zr6fcrqjjvu0PDhw9WzZ8/gVvKalnJso1WPta7ZYDmP5n9GKdSU82h260I9OY8W/iUN59Ga7WxyTrvQYRdD7Pbnp556SvZardoWzqP5n0eTugUJcFIjX8txr127Vv369dOsWbOCSYDsxPPhhx8G/11RUREkX126dNlSgj1/ardD20B3woQJGSXbcxs2+LXnrDp37qz9998/eE2PXb20/7ayLAGpvNikGccee2xw0rPXpljCZ+XYLJ32svNnn322oIl0fIY6KlN7P7Pd7myJ7E9/+tMavwSoHIcXXngheM2Pxc7eIZiakMje42y3FtlVejO12Y5LZYnKM9V2d9lll6A92muQ7BZnu/vBJh2xCcbs2auqf3RpowqeO6+p36faUerVE3/5y1901lln1di8yrGNTp48OWMmfTt/WoLxwx/+cIvDRRddFDwfbQvn0brPPlGZch4NraPy5DyabrtRmVbuDUk9j9oXz/bsri12gWW77bbLepK4+uqrt4wjOY/WfR5ljVCABJiWkFXgm2++Ca7m2hVGuz3WEtFBgwYFA7qqr8qpayBst5rZBE12pfGTTz4Jbom0W5lt8Ny6deus+7dv/uzkZ88HW/LcvHnzIBm55JJLtNdee5Vk1KIwPeWUU3J69nnz5s1bjOw5tz//+c/Blw0LFy4Mbju3LxIs4bWXyNvVeItvqS1ReNpVSbuaa+8SNCe79d/+yNrzvvYuarvFvKZnjWijtSfANjmbfbnSsGFD2e1n9gVMTUs5tlH7EqquWdXtuTTr03UlwPZ7zqMKvmCNwpTzaNgTo/LkPJo+s0VlmioxyefR1NiyrrGJfWndsWNHzqN1QfH7DAESYBoEAggggAACCCCAAAIIIIBAIgRIgBMRZg4SAQQQQAABBBBAAAEEEECABJg2gAACCCCAAAIIIIAAAgggkAgBEuBEhJmDRAABBBBAAAEEEEAAAQQQIAGmDSCAAAIIIIAAAggggAACCCRCgAQ4EWHmIBFAAAEEEEAAAQQQQAABBEiAaQMIIIAAAggggAACCCCAAAKJECABTkSYOUgEEEAAAQQQQAABBBBAAAESYNoAAggggAACCCCAAAIIIIBAIgRIgBMRZg4SAQQQQAABBBBAAAEEEECABJg2gAACCCCAAAIIIIAAAgggkAgBEuBEhJmDRAABBBBAAAEEEEAAAQQQIAGmDSCAAAIIIIAAAggggAACCCRCgAQ4EWHmIBFAAAEEEEAAAQQQQAABBEiAaQMIIIAAAgjEVGDhwoXq1KmT+vbtqxdeeCGmtaRaCCCAAAIIlI4ACXDpxIqaIoAAAggkTIAEOGEB53ARQAABBJwLkAA7J2YHCCCAAAIIFCZAAlyYG1shgAACCCBQkwAJMG0DAQQQQACBGAqMGTNGY8eOzVqz4cOHa8KECTGsNVVCAAEEEEAg3gIkwPGOD7VDAAEEEEiowCOPPKK77rpLDz30kNq2batBgwZtkejVq5dOPfXUhMpw2AgggAACCBQuQAJcuB1bIoAAAggg4FSAW6Cd8lI4AggggEACBUiAExh0DhkBBBBAoDQESIBLI07UEgEEEECgdARIgEsnVtQUAQQQQCBhAiTACQs4h4sAAggg4FyABNg5MTtAAAEEEECgMAES4MLc2AoBBBBAAIGaBEiAaRsIIIAAAgjEVIAEOKaBoVoIIIAAAiUrQAJcsqGj4ggggAAC5S5AAlzuEeb4EEAAAQTqW4AEuL7F2R8CCCCAAAI5CixdulQdOnTQQQcdpOnTp+e4FashgAACCCCAQE0CJMC0DQQQQAABBGIqsH79erVo0UIVFRX66KOP1KhRo5jWlGohgAACCCBQGgIkwKURJ2qJAAIIIJBQgaOOOkqTJk3SXnvtpX333VdNmjQJrgiPGDEioSIcNgIIIIAAAoULkAAXbseWCCCAAAIIOBf49NNP9V//9V96+umntXz5cm3cuFHDhw/XhAkTnO+bHSCAAAIIIFBuAiTA5RZRjgcBBBBAAAEEEEAAAQQQQCCrAAkwDQMBBBBAAAEEEEAAAQQQQCARAiTAiQgzB4kAAggggAACCCCAAAIIIEACTBtAAAEEEEAAAQQQQAABBBBIhAAJcCLCzEEigAACCCCAAAIIIIAAAgiQANMGEEAAAQQQQAABBBBAAAEEEiFAApyIMHOQCCCAAAIIIIAAAggggAACJMC0AQQQQAABBBBAAAEEEEAAgUQIkAAnIswcJAIIIIAAAggggAACCCCAAAkwbQABBBBAAAEEEEAAAQQQQCARAiTAiQgzB4kAAggggAACCCCAAAIIIEACTBtAAAEEEEAAAQQQQAABBBBIhAAJcCLCzEEigAACCCCAAAIIIIAAAgiQANMGEEAAAQQQQAABBBBAAAEEEiFAApyIMHOQCCCAAAIIIIAAAggggAACJMC0AQQQQAABBBBAAAEEEEAAgUQIkAAnIswcJAIIIIAAAggggAACCCCAAAkwbQABBBBAAAEEEEAAAQQQQCARAiTAiQgzB4kAAggggAACCCCAAAIIIJUqCUQAAAAcSURBVEACTBtAAAEEEEAAAQQQQAABBBBIhMD/B6kE4mBpbm+LAAAAAElFTkSuQmCC\" width=\"640\">"
      ],
      "text/plain": [
       "<IPython.core.display.HTML object>"
      ]
     },
     "metadata": {},
     "output_type": "display_data"
    }
   ],
   "source": [
    "plt.plot(t, sol, 'b', label='y(t)') # 'b' is a way of specifying the line colour\n",
    "plt.legend(loc='best')\n",
    "plt.xlabel('t')\n",
    "plt.show()"
   ]
  },
  {
   "cell_type": "markdown",
   "metadata": {
    "deletable": false,
    "editable": false,
    "nbgrader": {
     "cell_type": "markdown",
     "checksum": "00472b4d0862092c38c1b913dbb8eba9",
     "grade": false,
     "grade_id": "Lab1_S3_05",
     "locked": true,
     "schema_version": 3,
     "solution": false,
     "task": false
    }
   },
   "source": [
    "***\n",
    "### Example\n",
    "$$2y'+ty=2$$\n",
    "\n",
    "This is Example 5 in §2.1 of Boyce & DiPrima (pp38-39).\n",
    "***\n",
    "It turns out that SymPy _can_ solve this system, though it requires the use of a \"special function\", i.e. not one of the standard functions like $\\exp$, $\\sin$, $\\cos$."
   ]
  },
  {
   "cell_type": "code",
   "execution_count": 5,
   "metadata": {},
   "outputs": [
    {
     "ename": "NameError",
     "evalue": "name 'sym' is not defined",
     "output_type": "error",
     "traceback": [
      "\u001b[1;31m---------------------------------------------------------------------------\u001b[0m",
      "\u001b[1;31mNameError\u001b[0m                                 Traceback (most recent call last)",
      "\u001b[1;32m<ipython-input-5-a96dc3f85a30>\u001b[0m in \u001b[0;36m<module>\u001b[1;34m\u001b[0m\n\u001b[1;32m----> 1\u001b[1;33m \u001b[0mt\u001b[0m \u001b[1;33m=\u001b[0m \u001b[0msym\u001b[0m\u001b[1;33m.\u001b[0m\u001b[0msymbols\u001b[0m\u001b[1;33m(\u001b[0m\u001b[1;34m't'\u001b[0m\u001b[1;33m)\u001b[0m\u001b[1;33m\u001b[0m\u001b[1;33m\u001b[0m\u001b[0m\n\u001b[0m\u001b[0;32m      2\u001b[0m \u001b[0my\u001b[0m \u001b[1;33m=\u001b[0m \u001b[0msym\u001b[0m\u001b[1;33m.\u001b[0m\u001b[0mFunction\u001b[0m\u001b[1;33m(\u001b[0m\u001b[1;34m'y'\u001b[0m\u001b[1;33m)\u001b[0m\u001b[1;33m\u001b[0m\u001b[1;33m\u001b[0m\u001b[0m\n\u001b[0;32m      3\u001b[0m \u001b[0msym\u001b[0m\u001b[1;33m.\u001b[0m\u001b[0mdsolve\u001b[0m\u001b[1;33m(\u001b[0m\u001b[0msym\u001b[0m\u001b[1;33m.\u001b[0m\u001b[0mEq\u001b[0m\u001b[1;33m(\u001b[0m\u001b[1;36m2\u001b[0m\u001b[1;33m*\u001b[0m\u001b[0my\u001b[0m\u001b[1;33m(\u001b[0m\u001b[0mt\u001b[0m\u001b[1;33m)\u001b[0m\u001b[1;33m.\u001b[0m\u001b[0mdiff\u001b[0m\u001b[1;33m(\u001b[0m\u001b[0mt\u001b[0m\u001b[1;33m)\u001b[0m\u001b[1;33m+\u001b[0m\u001b[0mt\u001b[0m\u001b[1;33m*\u001b[0m\u001b[0my\u001b[0m\u001b[1;33m(\u001b[0m\u001b[0mt\u001b[0m\u001b[1;33m)\u001b[0m\u001b[1;33m,\u001b[0m\u001b[1;36m2\u001b[0m\u001b[1;33m)\u001b[0m\u001b[1;33m)\u001b[0m\u001b[1;33m\u001b[0m\u001b[1;33m\u001b[0m\u001b[0m\n",
      "\u001b[1;31mNameError\u001b[0m: name 'sym' is not defined"
     ]
    }
   ],
   "source": [
    "t = sym.symbols('t')\n",
    "y = sym.Function('y')\n",
    "sym.dsolve(sym.Eq(2*y(t).diff(t)+t*y(t),2))"
   ]
  },
  {
   "cell_type": "markdown",
   "metadata": {
    "deletable": false,
    "editable": false,
    "nbgrader": {
     "cell_type": "markdown",
     "checksum": "02fcd6497cd975a789bd73b2fafac2ac",
     "grade": false,
     "grade_id": "Lab1_S3_06",
     "locked": true,
     "schema_version": 3,
     "solution": false,
     "task": false
    }
   },
   "source": [
    "We can use the `odeint` numerical solver to produce graphs of several different particular solutions – this replicates Figure 2.1.4 from Boyce & DiPrima:"
   ]
  },
  {
   "cell_type": "code",
   "execution_count": 6,
   "metadata": {},
   "outputs": [
    {
     "data": {
      "application/javascript": [
       "/* Put everything inside the global mpl namespace */\n",
       "window.mpl = {};\n",
       "\n",
       "\n",
       "mpl.get_websocket_type = function() {\n",
       "    if (typeof(WebSocket) !== 'undefined') {\n",
       "        return WebSocket;\n",
       "    } else if (typeof(MozWebSocket) !== 'undefined') {\n",
       "        return MozWebSocket;\n",
       "    } else {\n",
       "        alert('Your browser does not have WebSocket support. ' +\n",
       "              'Please try Chrome, Safari or Firefox ≥ 6. ' +\n",
       "              'Firefox 4 and 5 are also supported but you ' +\n",
       "              'have to enable WebSockets in about:config.');\n",
       "    };\n",
       "}\n",
       "\n",
       "mpl.figure = function(figure_id, websocket, ondownload, parent_element) {\n",
       "    this.id = figure_id;\n",
       "\n",
       "    this.ws = websocket;\n",
       "\n",
       "    this.supports_binary = (this.ws.binaryType != undefined);\n",
       "\n",
       "    if (!this.supports_binary) {\n",
       "        var warnings = document.getElementById(\"mpl-warnings\");\n",
       "        if (warnings) {\n",
       "            warnings.style.display = 'block';\n",
       "            warnings.textContent = (\n",
       "                \"This browser does not support binary websocket messages. \" +\n",
       "                    \"Performance may be slow.\");\n",
       "        }\n",
       "    }\n",
       "\n",
       "    this.imageObj = new Image();\n",
       "\n",
       "    this.context = undefined;\n",
       "    this.message = undefined;\n",
       "    this.canvas = undefined;\n",
       "    this.rubberband_canvas = undefined;\n",
       "    this.rubberband_context = undefined;\n",
       "    this.format_dropdown = undefined;\n",
       "\n",
       "    this.image_mode = 'full';\n",
       "\n",
       "    this.root = $('<div/>');\n",
       "    this._root_extra_style(this.root)\n",
       "    this.root.attr('style', 'display: inline-block');\n",
       "\n",
       "    $(parent_element).append(this.root);\n",
       "\n",
       "    this._init_header(this);\n",
       "    this._init_canvas(this);\n",
       "    this._init_toolbar(this);\n",
       "\n",
       "    var fig = this;\n",
       "\n",
       "    this.waiting = false;\n",
       "\n",
       "    this.ws.onopen =  function () {\n",
       "            fig.send_message(\"supports_binary\", {value: fig.supports_binary});\n",
       "            fig.send_message(\"send_image_mode\", {});\n",
       "            if (mpl.ratio != 1) {\n",
       "                fig.send_message(\"set_dpi_ratio\", {'dpi_ratio': mpl.ratio});\n",
       "            }\n",
       "            fig.send_message(\"refresh\", {});\n",
       "        }\n",
       "\n",
       "    this.imageObj.onload = function() {\n",
       "            if (fig.image_mode == 'full') {\n",
       "                // Full images could contain transparency (where diff images\n",
       "                // almost always do), so we need to clear the canvas so that\n",
       "                // there is no ghosting.\n",
       "                fig.context.clearRect(0, 0, fig.canvas.width, fig.canvas.height);\n",
       "            }\n",
       "            fig.context.drawImage(fig.imageObj, 0, 0);\n",
       "        };\n",
       "\n",
       "    this.imageObj.onunload = function() {\n",
       "        fig.ws.close();\n",
       "    }\n",
       "\n",
       "    this.ws.onmessage = this._make_on_message_function(this);\n",
       "\n",
       "    this.ondownload = ondownload;\n",
       "}\n",
       "\n",
       "mpl.figure.prototype._init_header = function() {\n",
       "    var titlebar = $(\n",
       "        '<div class=\"ui-dialog-titlebar ui-widget-header ui-corner-all ' +\n",
       "        'ui-helper-clearfix\"/>');\n",
       "    var titletext = $(\n",
       "        '<div class=\"ui-dialog-title\" style=\"width: 100%; ' +\n",
       "        'text-align: center; padding: 3px;\"/>');\n",
       "    titlebar.append(titletext)\n",
       "    this.root.append(titlebar);\n",
       "    this.header = titletext[0];\n",
       "}\n",
       "\n",
       "\n",
       "\n",
       "mpl.figure.prototype._canvas_extra_style = function(canvas_div) {\n",
       "\n",
       "}\n",
       "\n",
       "\n",
       "mpl.figure.prototype._root_extra_style = function(canvas_div) {\n",
       "\n",
       "}\n",
       "\n",
       "mpl.figure.prototype._init_canvas = function() {\n",
       "    var fig = this;\n",
       "\n",
       "    var canvas_div = $('<div/>');\n",
       "\n",
       "    canvas_div.attr('style', 'position: relative; clear: both; outline: 0');\n",
       "\n",
       "    function canvas_keyboard_event(event) {\n",
       "        return fig.key_event(event, event['data']);\n",
       "    }\n",
       "\n",
       "    canvas_div.keydown('key_press', canvas_keyboard_event);\n",
       "    canvas_div.keyup('key_release', canvas_keyboard_event);\n",
       "    this.canvas_div = canvas_div\n",
       "    this._canvas_extra_style(canvas_div)\n",
       "    this.root.append(canvas_div);\n",
       "\n",
       "    var canvas = $('<canvas/>');\n",
       "    canvas.addClass('mpl-canvas');\n",
       "    canvas.attr('style', \"left: 0; top: 0; z-index: 0; outline: 0\")\n",
       "\n",
       "    this.canvas = canvas[0];\n",
       "    this.context = canvas[0].getContext(\"2d\");\n",
       "\n",
       "    var backingStore = this.context.backingStorePixelRatio ||\n",
       "\tthis.context.webkitBackingStorePixelRatio ||\n",
       "\tthis.context.mozBackingStorePixelRatio ||\n",
       "\tthis.context.msBackingStorePixelRatio ||\n",
       "\tthis.context.oBackingStorePixelRatio ||\n",
       "\tthis.context.backingStorePixelRatio || 1;\n",
       "\n",
       "    mpl.ratio = (window.devicePixelRatio || 1) / backingStore;\n",
       "\n",
       "    var rubberband = $('<canvas/>');\n",
       "    rubberband.attr('style', \"position: absolute; left: 0; top: 0; z-index: 1;\")\n",
       "\n",
       "    var pass_mouse_events = true;\n",
       "\n",
       "    canvas_div.resizable({\n",
       "        start: function(event, ui) {\n",
       "            pass_mouse_events = false;\n",
       "        },\n",
       "        resize: function(event, ui) {\n",
       "            fig.request_resize(ui.size.width, ui.size.height);\n",
       "        },\n",
       "        stop: function(event, ui) {\n",
       "            pass_mouse_events = true;\n",
       "            fig.request_resize(ui.size.width, ui.size.height);\n",
       "        },\n",
       "    });\n",
       "\n",
       "    function mouse_event_fn(event) {\n",
       "        if (pass_mouse_events)\n",
       "            return fig.mouse_event(event, event['data']);\n",
       "    }\n",
       "\n",
       "    rubberband.mousedown('button_press', mouse_event_fn);\n",
       "    rubberband.mouseup('button_release', mouse_event_fn);\n",
       "    // Throttle sequential mouse events to 1 every 20ms.\n",
       "    rubberband.mousemove('motion_notify', mouse_event_fn);\n",
       "\n",
       "    rubberband.mouseenter('figure_enter', mouse_event_fn);\n",
       "    rubberband.mouseleave('figure_leave', mouse_event_fn);\n",
       "\n",
       "    canvas_div.on(\"wheel\", function (event) {\n",
       "        event = event.originalEvent;\n",
       "        event['data'] = 'scroll'\n",
       "        if (event.deltaY < 0) {\n",
       "            event.step = 1;\n",
       "        } else {\n",
       "            event.step = -1;\n",
       "        }\n",
       "        mouse_event_fn(event);\n",
       "    });\n",
       "\n",
       "    canvas_div.append(canvas);\n",
       "    canvas_div.append(rubberband);\n",
       "\n",
       "    this.rubberband = rubberband;\n",
       "    this.rubberband_canvas = rubberband[0];\n",
       "    this.rubberband_context = rubberband[0].getContext(\"2d\");\n",
       "    this.rubberband_context.strokeStyle = \"#000000\";\n",
       "\n",
       "    this._resize_canvas = function(width, height) {\n",
       "        // Keep the size of the canvas, canvas container, and rubber band\n",
       "        // canvas in synch.\n",
       "        canvas_div.css('width', width)\n",
       "        canvas_div.css('height', height)\n",
       "\n",
       "        canvas.attr('width', width * mpl.ratio);\n",
       "        canvas.attr('height', height * mpl.ratio);\n",
       "        canvas.attr('style', 'width: ' + width + 'px; height: ' + height + 'px;');\n",
       "\n",
       "        rubberband.attr('width', width);\n",
       "        rubberband.attr('height', height);\n",
       "    }\n",
       "\n",
       "    // Set the figure to an initial 600x600px, this will subsequently be updated\n",
       "    // upon first draw.\n",
       "    this._resize_canvas(600, 600);\n",
       "\n",
       "    // Disable right mouse context menu.\n",
       "    $(this.rubberband_canvas).bind(\"contextmenu\",function(e){\n",
       "        return false;\n",
       "    });\n",
       "\n",
       "    function set_focus () {\n",
       "        canvas.focus();\n",
       "        canvas_div.focus();\n",
       "    }\n",
       "\n",
       "    window.setTimeout(set_focus, 100);\n",
       "}\n",
       "\n",
       "mpl.figure.prototype._init_toolbar = function() {\n",
       "    var fig = this;\n",
       "\n",
       "    var nav_element = $('<div/>');\n",
       "    nav_element.attr('style', 'width: 100%');\n",
       "    this.root.append(nav_element);\n",
       "\n",
       "    // Define a callback function for later on.\n",
       "    function toolbar_event(event) {\n",
       "        return fig.toolbar_button_onclick(event['data']);\n",
       "    }\n",
       "    function toolbar_mouse_event(event) {\n",
       "        return fig.toolbar_button_onmouseover(event['data']);\n",
       "    }\n",
       "\n",
       "    for(var toolbar_ind in mpl.toolbar_items) {\n",
       "        var name = mpl.toolbar_items[toolbar_ind][0];\n",
       "        var tooltip = mpl.toolbar_items[toolbar_ind][1];\n",
       "        var image = mpl.toolbar_items[toolbar_ind][2];\n",
       "        var method_name = mpl.toolbar_items[toolbar_ind][3];\n",
       "\n",
       "        if (!name) {\n",
       "            // put a spacer in here.\n",
       "            continue;\n",
       "        }\n",
       "        var button = $('<button/>');\n",
       "        button.addClass('ui-button ui-widget ui-state-default ui-corner-all ' +\n",
       "                        'ui-button-icon-only');\n",
       "        button.attr('role', 'button');\n",
       "        button.attr('aria-disabled', 'false');\n",
       "        button.click(method_name, toolbar_event);\n",
       "        button.mouseover(tooltip, toolbar_mouse_event);\n",
       "\n",
       "        var icon_img = $('<span/>');\n",
       "        icon_img.addClass('ui-button-icon-primary ui-icon');\n",
       "        icon_img.addClass(image);\n",
       "        icon_img.addClass('ui-corner-all');\n",
       "\n",
       "        var tooltip_span = $('<span/>');\n",
       "        tooltip_span.addClass('ui-button-text');\n",
       "        tooltip_span.html(tooltip);\n",
       "\n",
       "        button.append(icon_img);\n",
       "        button.append(tooltip_span);\n",
       "\n",
       "        nav_element.append(button);\n",
       "    }\n",
       "\n",
       "    var fmt_picker_span = $('<span/>');\n",
       "\n",
       "    var fmt_picker = $('<select/>');\n",
       "    fmt_picker.addClass('mpl-toolbar-option ui-widget ui-widget-content');\n",
       "    fmt_picker_span.append(fmt_picker);\n",
       "    nav_element.append(fmt_picker_span);\n",
       "    this.format_dropdown = fmt_picker[0];\n",
       "\n",
       "    for (var ind in mpl.extensions) {\n",
       "        var fmt = mpl.extensions[ind];\n",
       "        var option = $(\n",
       "            '<option/>', {selected: fmt === mpl.default_extension}).html(fmt);\n",
       "        fmt_picker.append(option);\n",
       "    }\n",
       "\n",
       "    // Add hover states to the ui-buttons\n",
       "    $( \".ui-button\" ).hover(\n",
       "        function() { $(this).addClass(\"ui-state-hover\");},\n",
       "        function() { $(this).removeClass(\"ui-state-hover\");}\n",
       "    );\n",
       "\n",
       "    var status_bar = $('<span class=\"mpl-message\"/>');\n",
       "    nav_element.append(status_bar);\n",
       "    this.message = status_bar[0];\n",
       "}\n",
       "\n",
       "mpl.figure.prototype.request_resize = function(x_pixels, y_pixels) {\n",
       "    // Request matplotlib to resize the figure. Matplotlib will then trigger a resize in the client,\n",
       "    // which will in turn request a refresh of the image.\n",
       "    this.send_message('resize', {'width': x_pixels, 'height': y_pixels});\n",
       "}\n",
       "\n",
       "mpl.figure.prototype.send_message = function(type, properties) {\n",
       "    properties['type'] = type;\n",
       "    properties['figure_id'] = this.id;\n",
       "    this.ws.send(JSON.stringify(properties));\n",
       "}\n",
       "\n",
       "mpl.figure.prototype.send_draw_message = function() {\n",
       "    if (!this.waiting) {\n",
       "        this.waiting = true;\n",
       "        this.ws.send(JSON.stringify({type: \"draw\", figure_id: this.id}));\n",
       "    }\n",
       "}\n",
       "\n",
       "\n",
       "mpl.figure.prototype.handle_save = function(fig, msg) {\n",
       "    var format_dropdown = fig.format_dropdown;\n",
       "    var format = format_dropdown.options[format_dropdown.selectedIndex].value;\n",
       "    fig.ondownload(fig, format);\n",
       "}\n",
       "\n",
       "\n",
       "mpl.figure.prototype.handle_resize = function(fig, msg) {\n",
       "    var size = msg['size'];\n",
       "    if (size[0] != fig.canvas.width || size[1] != fig.canvas.height) {\n",
       "        fig._resize_canvas(size[0], size[1]);\n",
       "        fig.send_message(\"refresh\", {});\n",
       "    };\n",
       "}\n",
       "\n",
       "mpl.figure.prototype.handle_rubberband = function(fig, msg) {\n",
       "    var x0 = msg['x0'] / mpl.ratio;\n",
       "    var y0 = (fig.canvas.height - msg['y0']) / mpl.ratio;\n",
       "    var x1 = msg['x1'] / mpl.ratio;\n",
       "    var y1 = (fig.canvas.height - msg['y1']) / mpl.ratio;\n",
       "    x0 = Math.floor(x0) + 0.5;\n",
       "    y0 = Math.floor(y0) + 0.5;\n",
       "    x1 = Math.floor(x1) + 0.5;\n",
       "    y1 = Math.floor(y1) + 0.5;\n",
       "    var min_x = Math.min(x0, x1);\n",
       "    var min_y = Math.min(y0, y1);\n",
       "    var width = Math.abs(x1 - x0);\n",
       "    var height = Math.abs(y1 - y0);\n",
       "\n",
       "    fig.rubberband_context.clearRect(\n",
       "        0, 0, fig.canvas.width / mpl.ratio, fig.canvas.height / mpl.ratio);\n",
       "\n",
       "    fig.rubberband_context.strokeRect(min_x, min_y, width, height);\n",
       "}\n",
       "\n",
       "mpl.figure.prototype.handle_figure_label = function(fig, msg) {\n",
       "    // Updates the figure title.\n",
       "    fig.header.textContent = msg['label'];\n",
       "}\n",
       "\n",
       "mpl.figure.prototype.handle_cursor = function(fig, msg) {\n",
       "    var cursor = msg['cursor'];\n",
       "    switch(cursor)\n",
       "    {\n",
       "    case 0:\n",
       "        cursor = 'pointer';\n",
       "        break;\n",
       "    case 1:\n",
       "        cursor = 'default';\n",
       "        break;\n",
       "    case 2:\n",
       "        cursor = 'crosshair';\n",
       "        break;\n",
       "    case 3:\n",
       "        cursor = 'move';\n",
       "        break;\n",
       "    }\n",
       "    fig.rubberband_canvas.style.cursor = cursor;\n",
       "}\n",
       "\n",
       "mpl.figure.prototype.handle_message = function(fig, msg) {\n",
       "    fig.message.textContent = msg['message'];\n",
       "}\n",
       "\n",
       "mpl.figure.prototype.handle_draw = function(fig, msg) {\n",
       "    // Request the server to send over a new figure.\n",
       "    fig.send_draw_message();\n",
       "}\n",
       "\n",
       "mpl.figure.prototype.handle_image_mode = function(fig, msg) {\n",
       "    fig.image_mode = msg['mode'];\n",
       "}\n",
       "\n",
       "mpl.figure.prototype.updated_canvas_event = function() {\n",
       "    // Called whenever the canvas gets updated.\n",
       "    this.send_message(\"ack\", {});\n",
       "}\n",
       "\n",
       "// A function to construct a web socket function for onmessage handling.\n",
       "// Called in the figure constructor.\n",
       "mpl.figure.prototype._make_on_message_function = function(fig) {\n",
       "    return function socket_on_message(evt) {\n",
       "        if (evt.data instanceof Blob) {\n",
       "            /* FIXME: We get \"Resource interpreted as Image but\n",
       "             * transferred with MIME type text/plain:\" errors on\n",
       "             * Chrome.  But how to set the MIME type?  It doesn't seem\n",
       "             * to be part of the websocket stream */\n",
       "            evt.data.type = \"image/png\";\n",
       "\n",
       "            /* Free the memory for the previous frames */\n",
       "            if (fig.imageObj.src) {\n",
       "                (window.URL || window.webkitURL).revokeObjectURL(\n",
       "                    fig.imageObj.src);\n",
       "            }\n",
       "\n",
       "            fig.imageObj.src = (window.URL || window.webkitURL).createObjectURL(\n",
       "                evt.data);\n",
       "            fig.updated_canvas_event();\n",
       "            fig.waiting = false;\n",
       "            return;\n",
       "        }\n",
       "        else if (typeof evt.data === 'string' && evt.data.slice(0, 21) == \"data:image/png;base64\") {\n",
       "            fig.imageObj.src = evt.data;\n",
       "            fig.updated_canvas_event();\n",
       "            fig.waiting = false;\n",
       "            return;\n",
       "        }\n",
       "\n",
       "        var msg = JSON.parse(evt.data);\n",
       "        var msg_type = msg['type'];\n",
       "\n",
       "        // Call the  \"handle_{type}\" callback, which takes\n",
       "        // the figure and JSON message as its only arguments.\n",
       "        try {\n",
       "            var callback = fig[\"handle_\" + msg_type];\n",
       "        } catch (e) {\n",
       "            console.log(\"No handler for the '\" + msg_type + \"' message type: \", msg);\n",
       "            return;\n",
       "        }\n",
       "\n",
       "        if (callback) {\n",
       "            try {\n",
       "                // console.log(\"Handling '\" + msg_type + \"' message: \", msg);\n",
       "                callback(fig, msg);\n",
       "            } catch (e) {\n",
       "                console.log(\"Exception inside the 'handler_\" + msg_type + \"' callback:\", e, e.stack, msg);\n",
       "            }\n",
       "        }\n",
       "    };\n",
       "}\n",
       "\n",
       "// from http://stackoverflow.com/questions/1114465/getting-mouse-location-in-canvas\n",
       "mpl.findpos = function(e) {\n",
       "    //this section is from http://www.quirksmode.org/js/events_properties.html\n",
       "    var targ;\n",
       "    if (!e)\n",
       "        e = window.event;\n",
       "    if (e.target)\n",
       "        targ = e.target;\n",
       "    else if (e.srcElement)\n",
       "        targ = e.srcElement;\n",
       "    if (targ.nodeType == 3) // defeat Safari bug\n",
       "        targ = targ.parentNode;\n",
       "\n",
       "    // jQuery normalizes the pageX and pageY\n",
       "    // pageX,Y are the mouse positions relative to the document\n",
       "    // offset() returns the position of the element relative to the document\n",
       "    var x = e.pageX - $(targ).offset().left;\n",
       "    var y = e.pageY - $(targ).offset().top;\n",
       "\n",
       "    return {\"x\": x, \"y\": y};\n",
       "};\n",
       "\n",
       "/*\n",
       " * return a copy of an object with only non-object keys\n",
       " * we need this to avoid circular references\n",
       " * http://stackoverflow.com/a/24161582/3208463\n",
       " */\n",
       "function simpleKeys (original) {\n",
       "  return Object.keys(original).reduce(function (obj, key) {\n",
       "    if (typeof original[key] !== 'object')\n",
       "        obj[key] = original[key]\n",
       "    return obj;\n",
       "  }, {});\n",
       "}\n",
       "\n",
       "mpl.figure.prototype.mouse_event = function(event, name) {\n",
       "    var canvas_pos = mpl.findpos(event)\n",
       "\n",
       "    if (name === 'button_press')\n",
       "    {\n",
       "        this.canvas.focus();\n",
       "        this.canvas_div.focus();\n",
       "    }\n",
       "\n",
       "    var x = canvas_pos.x * mpl.ratio;\n",
       "    var y = canvas_pos.y * mpl.ratio;\n",
       "\n",
       "    this.send_message(name, {x: x, y: y, button: event.button,\n",
       "                             step: event.step,\n",
       "                             guiEvent: simpleKeys(event)});\n",
       "\n",
       "    /* This prevents the web browser from automatically changing to\n",
       "     * the text insertion cursor when the button is pressed.  We want\n",
       "     * to control all of the cursor setting manually through the\n",
       "     * 'cursor' event from matplotlib */\n",
       "    event.preventDefault();\n",
       "    return false;\n",
       "}\n",
       "\n",
       "mpl.figure.prototype._key_event_extra = function(event, name) {\n",
       "    // Handle any extra behaviour associated with a key event\n",
       "}\n",
       "\n",
       "mpl.figure.prototype.key_event = function(event, name) {\n",
       "\n",
       "    // Prevent repeat events\n",
       "    if (name == 'key_press')\n",
       "    {\n",
       "        if (event.which === this._key)\n",
       "            return;\n",
       "        else\n",
       "            this._key = event.which;\n",
       "    }\n",
       "    if (name == 'key_release')\n",
       "        this._key = null;\n",
       "\n",
       "    var value = '';\n",
       "    if (event.ctrlKey && event.which != 17)\n",
       "        value += \"ctrl+\";\n",
       "    if (event.altKey && event.which != 18)\n",
       "        value += \"alt+\";\n",
       "    if (event.shiftKey && event.which != 16)\n",
       "        value += \"shift+\";\n",
       "\n",
       "    value += 'k';\n",
       "    value += event.which.toString();\n",
       "\n",
       "    this._key_event_extra(event, name);\n",
       "\n",
       "    this.send_message(name, {key: value,\n",
       "                             guiEvent: simpleKeys(event)});\n",
       "    return false;\n",
       "}\n",
       "\n",
       "mpl.figure.prototype.toolbar_button_onclick = function(name) {\n",
       "    if (name == 'download') {\n",
       "        this.handle_save(this, null);\n",
       "    } else {\n",
       "        this.send_message(\"toolbar_button\", {name: name});\n",
       "    }\n",
       "};\n",
       "\n",
       "mpl.figure.prototype.toolbar_button_onmouseover = function(tooltip) {\n",
       "    this.message.textContent = tooltip;\n",
       "};\n",
       "mpl.toolbar_items = [[\"Home\", \"Reset original view\", \"fa fa-home icon-home\", \"home\"], [\"Back\", \"Back to previous view\", \"fa fa-arrow-left icon-arrow-left\", \"back\"], [\"Forward\", \"Forward to next view\", \"fa fa-arrow-right icon-arrow-right\", \"forward\"], [\"\", \"\", \"\", \"\"], [\"Pan\", \"Pan axes with left mouse, zoom with right\", \"fa fa-arrows icon-move\", \"pan\"], [\"Zoom\", \"Zoom to rectangle\", \"fa fa-square-o icon-check-empty\", \"zoom\"], [\"\", \"\", \"\", \"\"], [\"Download\", \"Download plot\", \"fa fa-floppy-o icon-save\", \"download\"]];\n",
       "\n",
       "mpl.extensions = [\"eps\", \"jpeg\", \"pdf\", \"png\", \"ps\", \"raw\", \"svg\", \"tif\"];\n",
       "\n",
       "mpl.default_extension = \"png\";var comm_websocket_adapter = function(comm) {\n",
       "    // Create a \"websocket\"-like object which calls the given IPython comm\n",
       "    // object with the appropriate methods. Currently this is a non binary\n",
       "    // socket, so there is still some room for performance tuning.\n",
       "    var ws = {};\n",
       "\n",
       "    ws.close = function() {\n",
       "        comm.close()\n",
       "    };\n",
       "    ws.send = function(m) {\n",
       "        //console.log('sending', m);\n",
       "        comm.send(m);\n",
       "    };\n",
       "    // Register the callback with on_msg.\n",
       "    comm.on_msg(function(msg) {\n",
       "        //console.log('receiving', msg['content']['data'], msg);\n",
       "        // Pass the mpl event to the overridden (by mpl) onmessage function.\n",
       "        ws.onmessage(msg['content']['data'])\n",
       "    });\n",
       "    return ws;\n",
       "}\n",
       "\n",
       "mpl.mpl_figure_comm = function(comm, msg) {\n",
       "    // This is the function which gets called when the mpl process\n",
       "    // starts-up an IPython Comm through the \"matplotlib\" channel.\n",
       "\n",
       "    var id = msg.content.data.id;\n",
       "    // Get hold of the div created by the display call when the Comm\n",
       "    // socket was opened in Python.\n",
       "    var element = $(\"#\" + id);\n",
       "    var ws_proxy = comm_websocket_adapter(comm)\n",
       "\n",
       "    function ondownload(figure, format) {\n",
       "        window.open(figure.imageObj.src);\n",
       "    }\n",
       "\n",
       "    var fig = new mpl.figure(id, ws_proxy,\n",
       "                           ondownload,\n",
       "                           element.get(0));\n",
       "\n",
       "    // Call onopen now - mpl needs it, as it is assuming we've passed it a real\n",
       "    // web socket which is closed, not our websocket->open comm proxy.\n",
       "    ws_proxy.onopen();\n",
       "\n",
       "    fig.parent_element = element.get(0);\n",
       "    fig.cell_info = mpl.find_output_cell(\"<div id='\" + id + \"'></div>\");\n",
       "    if (!fig.cell_info) {\n",
       "        console.error(\"Failed to find cell for figure\", id, fig);\n",
       "        return;\n",
       "    }\n",
       "\n",
       "    var output_index = fig.cell_info[2]\n",
       "    var cell = fig.cell_info[0];\n",
       "\n",
       "};\n",
       "\n",
       "mpl.figure.prototype.handle_close = function(fig, msg) {\n",
       "    var width = fig.canvas.width/mpl.ratio\n",
       "    fig.root.unbind('remove')\n",
       "\n",
       "    // Update the output cell to use the data from the current canvas.\n",
       "    fig.push_to_output();\n",
       "    var dataURL = fig.canvas.toDataURL();\n",
       "    // Re-enable the keyboard manager in IPython - without this line, in FF,\n",
       "    // the notebook keyboard shortcuts fail.\n",
       "    IPython.keyboard_manager.enable()\n",
       "    $(fig.parent_element).html('<img src=\"' + dataURL + '\" width=\"' + width + '\">');\n",
       "    fig.close_ws(fig, msg);\n",
       "}\n",
       "\n",
       "mpl.figure.prototype.close_ws = function(fig, msg){\n",
       "    fig.send_message('closing', msg);\n",
       "    // fig.ws.close()\n",
       "}\n",
       "\n",
       "mpl.figure.prototype.push_to_output = function(remove_interactive) {\n",
       "    // Turn the data on the canvas into data in the output cell.\n",
       "    var width = this.canvas.width/mpl.ratio\n",
       "    var dataURL = this.canvas.toDataURL();\n",
       "    this.cell_info[1]['text/html'] = '<img src=\"' + dataURL + '\" width=\"' + width + '\">';\n",
       "}\n",
       "\n",
       "mpl.figure.prototype.updated_canvas_event = function() {\n",
       "    // Tell IPython that the notebook contents must change.\n",
       "    IPython.notebook.set_dirty(true);\n",
       "    this.send_message(\"ack\", {});\n",
       "    var fig = this;\n",
       "    // Wait a second, then push the new image to the DOM so\n",
       "    // that it is saved nicely (might be nice to debounce this).\n",
       "    setTimeout(function () { fig.push_to_output() }, 1000);\n",
       "}\n",
       "\n",
       "mpl.figure.prototype._init_toolbar = function() {\n",
       "    var fig = this;\n",
       "\n",
       "    var nav_element = $('<div/>');\n",
       "    nav_element.attr('style', 'width: 100%');\n",
       "    this.root.append(nav_element);\n",
       "\n",
       "    // Define a callback function for later on.\n",
       "    function toolbar_event(event) {\n",
       "        return fig.toolbar_button_onclick(event['data']);\n",
       "    }\n",
       "    function toolbar_mouse_event(event) {\n",
       "        return fig.toolbar_button_onmouseover(event['data']);\n",
       "    }\n",
       "\n",
       "    for(var toolbar_ind in mpl.toolbar_items){\n",
       "        var name = mpl.toolbar_items[toolbar_ind][0];\n",
       "        var tooltip = mpl.toolbar_items[toolbar_ind][1];\n",
       "        var image = mpl.toolbar_items[toolbar_ind][2];\n",
       "        var method_name = mpl.toolbar_items[toolbar_ind][3];\n",
       "\n",
       "        if (!name) { continue; };\n",
       "\n",
       "        var button = $('<button class=\"btn btn-default\" href=\"#\" title=\"' + name + '\"><i class=\"fa ' + image + ' fa-lg\"></i></button>');\n",
       "        button.click(method_name, toolbar_event);\n",
       "        button.mouseover(tooltip, toolbar_mouse_event);\n",
       "        nav_element.append(button);\n",
       "    }\n",
       "\n",
       "    // Add the status bar.\n",
       "    var status_bar = $('<span class=\"mpl-message\" style=\"text-align:right; float: right;\"/>');\n",
       "    nav_element.append(status_bar);\n",
       "    this.message = status_bar[0];\n",
       "\n",
       "    // Add the close button to the window.\n",
       "    var buttongrp = $('<div class=\"btn-group inline pull-right\"></div>');\n",
       "    var button = $('<button class=\"btn btn-mini btn-primary\" href=\"#\" title=\"Stop Interaction\"><i class=\"fa fa-power-off icon-remove icon-large\"></i></button>');\n",
       "    button.click(function (evt) { fig.handle_close(fig, {}); } );\n",
       "    button.mouseover('Stop Interaction', toolbar_mouse_event);\n",
       "    buttongrp.append(button);\n",
       "    var titlebar = this.root.find($('.ui-dialog-titlebar'));\n",
       "    titlebar.prepend(buttongrp);\n",
       "}\n",
       "\n",
       "mpl.figure.prototype._root_extra_style = function(el){\n",
       "    var fig = this\n",
       "    el.on(\"remove\", function(){\n",
       "\tfig.close_ws(fig, {});\n",
       "    });\n",
       "}\n",
       "\n",
       "mpl.figure.prototype._canvas_extra_style = function(el){\n",
       "    // this is important to make the div 'focusable\n",
       "    el.attr('tabindex', 0)\n",
       "    // reach out to IPython and tell the keyboard manager to turn it's self\n",
       "    // off when our div gets focus\n",
       "\n",
       "    // location in version 3\n",
       "    if (IPython.notebook.keyboard_manager) {\n",
       "        IPython.notebook.keyboard_manager.register_events(el);\n",
       "    }\n",
       "    else {\n",
       "        // location in version 2\n",
       "        IPython.keyboard_manager.register_events(el);\n",
       "    }\n",
       "\n",
       "}\n",
       "\n",
       "mpl.figure.prototype._key_event_extra = function(event, name) {\n",
       "    var manager = IPython.notebook.keyboard_manager;\n",
       "    if (!manager)\n",
       "        manager = IPython.keyboard_manager;\n",
       "\n",
       "    // Check for shift+enter\n",
       "    if (event.shiftKey && event.which == 13) {\n",
       "        this.canvas_div.blur();\n",
       "        // select the cell after this one\n",
       "        var index = IPython.notebook.find_cell_index(this.cell_info[0]);\n",
       "        IPython.notebook.select(index + 1);\n",
       "    }\n",
       "}\n",
       "\n",
       "mpl.figure.prototype.handle_save = function(fig, msg) {\n",
       "    fig.ondownload(fig, null);\n",
       "}\n",
       "\n",
       "\n",
       "mpl.find_output_cell = function(html_output) {\n",
       "    // Return the cell and output element which can be found *uniquely* in the notebook.\n",
       "    // Note - this is a bit hacky, but it is done because the \"notebook_saving.Notebook\"\n",
       "    // IPython event is triggered only after the cells have been serialised, which for\n",
       "    // our purposes (turning an active figure into a static one), is too late.\n",
       "    var cells = IPython.notebook.get_cells();\n",
       "    var ncells = cells.length;\n",
       "    for (var i=0; i<ncells; i++) {\n",
       "        var cell = cells[i];\n",
       "        if (cell.cell_type === 'code'){\n",
       "            for (var j=0; j<cell.output_area.outputs.length; j++) {\n",
       "                var data = cell.output_area.outputs[j];\n",
       "                if (data.data) {\n",
       "                    // IPython >= 3 moved mimebundle to data attribute of output\n",
       "                    data = data.data;\n",
       "                }\n",
       "                if (data['text/html'] == html_output) {\n",
       "                    return [cell, data, j];\n",
       "                }\n",
       "            }\n",
       "        }\n",
       "    }\n",
       "}\n",
       "\n",
       "// Register the function which deals with the matplotlib target/channel.\n",
       "// The kernel may be null if the page has been refreshed.\n",
       "if (IPython.notebook.kernel != null) {\n",
       "    IPython.notebook.kernel.comm_manager.register_target('matplotlib', mpl.mpl_figure_comm);\n",
       "}\n"
      ],
      "text/plain": [
       "<IPython.core.display.Javascript object>"
      ]
     },
     "metadata": {},
     "output_type": "display_data"
    },
    {
     "data": {
      "text/html": [
       "<img src=\"data:image/png;base64,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\" width=\"640\">"
      ],
      "text/plain": [
       "<IPython.core.display.HTML object>"
      ]
     },
     "metadata": {},
     "output_type": "display_data"
    }
   ],
   "source": [
    "def dy_dt(y, t):\n",
    "    return(1-t*y/2)\n",
    "\n",
    "t = np.linspace(0, 6, 50)\n",
    "\n",
    "for y0 in np.arange(-6, 6)/2:\n",
    "    sol = odeint(dy_dt, y0, t)\n",
    "    plt.plot(t, sol)\n",
    "\n",
    "plt.xlabel('t')\n",
    "plt.show()"
   ]
  },
  {
   "cell_type": "markdown",
   "metadata": {
    "deletable": false,
    "editable": false,
    "nbgrader": {
     "cell_type": "markdown",
     "checksum": "849940aac29d868648d2f621a0bd4cd2",
     "grade": false,
     "grade_id": "Lab1_S3_task2",
     "locked": true,
     "schema_version": 3,
     "solution": false,
     "task": false
    }
   },
   "source": [
    "<span class=\"label label-danger\">Task</span> In the code above, do you understand `np.arange(-6, 6)/2`? Check what happens if you remove the `/2`."
   ]
  },
  {
   "cell_type": "markdown",
   "metadata": {
    "deletable": false,
    "editable": false,
    "nbgrader": {
     "cell_type": "markdown",
     "checksum": "8ad70a2fd59cfc3aaaadbbed98854862",
     "grade": false,
     "grade_id": "Lab1_S3_E1",
     "locked": true,
     "schema_version": 3,
     "solution": false,
     "task": false
    }
   },
   "source": [
    "<div class=\"alert alert-info\">\n",
    "    <h3>Exercise 3.1</h3>\n",
    "    <p>Use the <code>odeint</code> numerical solver to show particular solutions of $$y'+\\tfrac12y=\\tfrac12 e^{t/3},$$ with $y(0)\\in\\left\\{-2,-1,0,1,2,3,4\\right\\}$. (Note: this is replicating Figure 2.1.1 from p34 of Boyce &amp; DiPrima.)</p>\n",
    "</div>"
   ]
  },
  {
   "cell_type": "code",
   "execution_count": null,
   "metadata": {
    "deletable": false,
    "nbgrader": {
     "cell_type": "code",
     "checksum": "2610fea4fa857c6413e7890645a2ebce",
     "grade": false,
     "grade_id": "Lab1_S3_E1_answer",
     "locked": false,
     "schema_version": 3,
     "solution": true,
     "task": false
    }
   },
   "outputs": [],
   "source": [
    "# YOUR CODE HERE\n",
    "raise NotImplementedError()"
   ]
  },
  {
   "cell_type": "markdown",
   "metadata": {
    "deletable": false,
    "editable": false,
    "nbgrader": {
     "cell_type": "markdown",
     "checksum": "e7c5abe235ea2f0a50e2bb8440ed8f2b",
     "grade": false,
     "grade_id": "Lab1_S4_title",
     "locked": true,
     "schema_version": 3,
     "solution": false,
     "task": false
    }
   },
   "source": [
    "# 4. Numerical solution of systems of ODEs"
   ]
  },
  {
   "cell_type": "markdown",
   "metadata": {
    "deletable": false,
    "editable": false,
    "nbgrader": {
     "cell_type": "markdown",
     "checksum": "ab7c3fac6e78721e01bb926cd7a4d56c",
     "grade": false,
     "grade_id": "Lab1_S4_01",
     "locked": true,
     "schema_version": 3,
     "solution": false,
     "task": false
    }
   },
   "source": [
    "We will return to this in later labs, once we start studying nonlinear systems. For those, numerical methods are particularly important because the symbolic solutions are either complicated or impossible to compute.\n",
    "\n",
    "For now, we will look at a linear system, just to demonstrate the method:\n",
    "\n",
    "***\n",
    "### Example\n",
    "Plot the solution of the system $$\\mathbf{x}'=\\begin{pmatrix}-\\frac12 & 1\\\\ -1 & -\\frac12\\end{pmatrix}\\mathbf{x},$$\n",
    "with initial condition $(-2, -3)$. This appears as Example 1 in §7.6 of Boyce & DiPrima.\n",
    "***\n",
    "\n",
    "Translating the notation into something sensible in Python is the hard part here. We will use `X = [x1,x2]` to represent the vector $\\mathbf{x}$, so `dX_dt` represents $\\mathbf{x}'$. This is a function of `X` and the underlying time parameter `t`, which we encode in Python as follows:"
   ]
  },
  {
   "cell_type": "code",
   "execution_count": 2,
   "metadata": {},
   "outputs": [
    {
     "data": {
      "image/png": "[encoded data removed]",
      "text/plain": [
       "<Figure size 432x288 with 1 Axes>"
      ]
     },
     "metadata": {
      "needs_background": "light"
     },
     "output_type": "display_data"
    }
   ],
   "source": [
    "# Define the equation\n",
    "def dX_dt(X, t):\n",
    "    x1, x2 = X\n",
    "    return [-0.5*x1+x2, -x1-0.5*x2]\n",
    "\n",
    "# Initial conditions\n",
    "X0 = [-2, -3]\n",
    "\n",
    "# Set up the time samples\n",
    "t = np.linspace(0, 5, 100)\n",
    "\n",
    "# Solve\n",
    "Xsol = odeint(dX_dt, X0, t)\n",
    "\n",
    "# Plot the (x1, x2) coordinates of the solution\n",
    "plt.plot(Xsol[:, 0], Xsol[:, 1], 'b', label='X(t)')\n",
    "plt.legend(loc='best')\n",
    "plt.xlabel('x1')\n",
    "plt.ylabel('x2')\n",
    "plt.grid()"
   ]
  },
  {
   "cell_type": "markdown",
   "metadata": {
    "deletable": false,
    "editable": false,
    "nbgrader": {
     "cell_type": "markdown",
     "checksum": "187bd1e313c27e7c8e6f94b33d730306",
     "grade": false,
     "grade_id": "Lab1_S4_task1",
     "locked": true,
     "schema_version": 3,
     "solution": false,
     "task": false
    }
   },
   "source": [
    "<span class=\"label label-danger\">Task</span> Try adjusting the values in `np.linspace(0, 5, 100)` to see the effect on the plot. First try `np.linspace(0, 50, 100)`, then see if you can find a good choice of time interval and number of steps so that the plot gives a good representation of the behaviour."
   ]
  },
  {
   "cell_type": "markdown",
   "metadata": {
    "deletable": false,
    "editable": false,
    "nbgrader": {
     "cell_type": "markdown",
     "checksum": "ea88d7212fe0218a1b7c751ff344ccd2",
     "grade": false,
     "grade_id": "Lab1_S4_02",
     "locked": true,
     "schema_version": 3,
     "solution": false,
     "task": false
    }
   },
   "source": [
    "Here we add several different trajectories to the plot, each with a different initial condition:"
   ]
  },
  {
   "cell_type": "code",
   "execution_count": 3,
   "metadata": {},
   "outputs": [
    {
     "data": {
      "image/png": "[encoded data removed]",
      "text/plain": [
       "<Figure size 432x288 with 1 Axes>"
      ]
     },
     "metadata": {
      "needs_background": "light"
     },
     "output_type": "display_data"
    }
   ],
   "source": [
    "# Define the equation\n",
    "def dX_dt(X, t):\n",
    "    x1, x2 = X\n",
    "    return [-0.5*x1+x2, -x1-0.5*x2]\n",
    "\n",
    "# Set up the time samples\n",
    "t = np.linspace(0, 50, 1000)\n",
    "\n",
    "for x0 in np.arange(-2,3):\n",
    "    # Initial conditions\n",
    "    X0 = [x0, -3]\n",
    "    \n",
    "    # Solve\n",
    "    Xsol = odeint(dX_dt, X0, t)\n",
    "    \n",
    "    # Plot the (x1, x2) coordinates of the solution\n",
    "    plt.plot(Xsol[:, 0], Xsol[:, 1])\n",
    "\n",
    "plt.xlabel('x1')\n",
    "plt.ylabel('x2')\n",
    "plt.grid()"
   ]
  },
  {
   "cell_type": "markdown",
   "metadata": {
    "deletable": false,
    "editable": false,
    "nbgrader": {
     "cell_type": "markdown",
     "checksum": "4bef33e4d0c94d0aeb7d396be03d26a3",
     "grade": false,
     "grade_id": "Lab1_S4_E1",
     "locked": true,
     "schema_version": 3,
     "solution": false,
     "task": false
    }
   },
   "source": [
    "<div class=\"alert alert-info\">\n",
    "    <h3>Exercise 4.1</h3>\n",
    "    <p>Use a similar method to show particular solutions of $$\\mathbf{x}'=\\begin{pmatrix}-3 & \\sqrt{2}\\\\ \\sqrt{2} & -2\\end{pmatrix}\\mathbf{x},$$ with initial conditions $x_1=2$ and $x_2\\in\\{-3, -2.5, \\ldots, 1.5, 2\\}$. (Note: this is replicating some features of Figure 7.5.4 from p402 of Boyce &amp; DiPrima.)</p>\n",
    "</div>"
   ]
  },
  {
   "cell_type": "code",
   "execution_count": null,
   "metadata": {
    "deletable": false,
    "nbgrader": {
     "cell_type": "code",
     "checksum": "88e6853439c5a4b5f05f7a3aa377c2d4",
     "grade": false,
     "grade_id": "Lab1_S4_E1_answer",
     "locked": false,
     "schema_version": 3,
     "solution": true,
     "task": false
    }
   },
   "outputs": [],
   "source": [
    "# Your code here.\n",
    "#To pass the autograding, you should define the equation in a function called dX_dt (as above).\n",
    "\n",
    "\n",
    "# YOUR CODE HERE\n",
    "raise NotImplementedError()"
   ]
  },
  {
   "cell_type": "code",
   "execution_count": null,
   "metadata": {
    "deletable": false,
    "editable": false,
    "nbgrader": {
     "cell_type": "code",
     "checksum": "9b26d5f0d44adbd4cda27c6966885ecc",
     "grade": true,
     "grade_id": "Lab1_S4_E1_test",
     "locked": true,
     "points": 1,
     "schema_version": 3,
     "solution": false,
     "task": false
    }
   },
   "outputs": [],
   "source": [
    "# Autograder test\n",
    "assert dX_dt([0,0],0) == [0,0]\n",
    "assert list(map(lambda x: np.round(x,3), dX_dt([2,2],0))) == [-3.172, -1.172]\n",
    "print(\"Success: your ODE function seems to match!\")\n"
   ]
  },
  {
   "cell_type": "markdown",
   "metadata": {
    "deletable": false,
    "editable": false,
    "nbgrader": {
     "cell_type": "markdown",
     "checksum": "ccfa94d7cb3026df262420989e5d8196",
     "grade": false,
     "grade_id": "Lab1_S4_03",
     "locked": true,
     "schema_version": 3,
     "solution": false,
     "task": false
    }
   },
   "source": [
    "We will continue to develop these methods in the next couple of labs, so that ultimately we can produce informative phase portraits to help our understanding of the differential equations in the course."
   ]
  }
 ],
 "metadata": {
  "kernelspec": {
   "display_name": "Python 3",
   "language": "python",
   "name": "python3"
  },
  "language_info": {
   "codemirror_mode": {
    "name": "ipython",
    "version": 3
   },
   "file_extension": ".py",
   "mimetype": "text/x-python",
   "name": "python",
   "nbconvert_exporter": "python",
   "pygments_lexer": "ipython3",
   "version": "3.8.3"
  }
 },
 "nbformat": 4,
 "nbformat_minor": 2
}
