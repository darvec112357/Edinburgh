{
 "cells": [
  {
   "cell_type": "markdown",
   "metadata": {},
   "source": [
    "**Question 4:**"
   ]
  },
  {
   "cell_type": "markdown",
   "metadata": {},
   "source": [
    "a) Firstly, $f(z)=\\frac{1}{z^2-1}=\\frac{1}{(z-1)(z+1)}$. There are two singularities of $f$, which are 1 and -1.\n",
    "<br>For $z_0=1$, we can write $\\frac{1}{z+1}=\\frac{1}{2-(-z+1)}=\\frac{1}{2}\\cdot \\frac{1}{1-(-\\frac{1}{2(z-1)})}$"
   ]
  },
  {
   "cell_type": "markdown",
   "metadata": {},
   "source": []
  }
 ],
 "metadata": {
  "kernelspec": {
   "display_name": "Python 3",
   "language": "python",
   "name": "python3"
  },
  "language_info": {
   "codemirror_mode": {
    "name": "ipython",
    "version": 3
   },
   "file_extension": ".py",
   "mimetype": "text/x-python",
   "name": "python",
   "nbconvert_exporter": "python",
   "pygments_lexer": "ipython3",
   "version": "3.8.3"
  }
 },
 "nbformat": 4,
 "nbformat_minor": 4
}
