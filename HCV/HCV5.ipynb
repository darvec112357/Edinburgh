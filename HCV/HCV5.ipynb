{
 "cells": [
  {
   "cell_type": "markdown",
   "metadata": {},
   "source": [
    "**Question 3:**"
   ]
  },
  {
   "cell_type": "markdown",
   "metadata": {},
   "source": [
    "a) Applying the **Generalized Cauchy Integral Formula** with $g(z)=exp(z) \\Rightarrow g^3(z)=exp(z),z_0=0,n=3$, we have $\\int_{C_R(z_0)}f(z)dz=\\int_{C_R(z_0)}\\frac{g(z)}{(z-z_0)^{(n+1)}}dz=\\frac{2\\pi i}{3!}exp(0)=\\frac{\\pi i}{3}$"
   ]
  },
  {
   "cell_type": "markdown",
   "metadata": {},
   "source": [
    "b)Applying the **Generalized Cauchy Integral Formula** with $g(z)=\\frac{1}{z-8} \\Rightarrow g^3(z)=-\\frac{6}{(z-8)^4},z_0=-1,n=3$, we have $\\int_{C_R(z_0)}\\frac{f(z)}f(z)dz=\\int_{C_R(z_0)}\\frac{g(z)}{(z-z_0)^{(n+1)}}dz=\\frac{2\\pi i}{6}(-\\frac{6}{(-1-8)^4})=-\\frac{2\\pi i}{6561}$"
   ]
  },
  {
   "cell_type": "markdown",
   "metadata": {},
   "source": [
    "c)Applying the **Generalized Cauchy Integral Formula** with $g(z)=\\frac{1}{z^2+16} \\Rightarrow g'(z)=-\\frac{2z}{(z^2+16)^2},z_0=-1,n=1$, we have $\\int_{C_R(z_0)}\\frac{f(z)}f(z)dz=\\int_{C_R(z_0)}\\frac{g(z)}{(z-z_0)^{(n+1)}}dz=\\frac{2\\pi i}{1}(-\\frac{-2}{(1+16)^2})=\\frac{4\\pi i}{289}$"
   ]
  },
  {
   "cell_type": "markdown",
   "metadata": {},
   "source": [
    "**Question 4:**"
   ]
  },
  {
   "cell_type": "markdown",
   "metadata": {},
   "source": [
    "For all $z_0 \\in \\mathbb{C}$, consider $|f'(z_0)|$, Applying the **Generalized Cauchy Integral Formula** with $\\Gamma=C_R(z_0)$, $|f'(z_0)|=|\\frac{1}{2\\pi i}\\int_\\Gamma \\frac{f(z)}{(z-z_0)^2}dz|$"
   ]
  },
  {
   "cell_type": "markdown",
   "metadata": {},
   "source": [
    "By the **ML Lemma**, $|\\int_\\Gamma \\frac{f(z)}{(z-z_0)^2}dz| \\leqslant max_{z\\in \\Gamma}|\\frac{f(z)}{(z-z_0)^2}|\\ell(\\Gamma) \\Rightarrow |f'(z_0)| \\leqslant |\\frac{1}{2\\pi i}|max_{z\\in \\Gamma}|\\frac{f(z)}{(z-z_0)^2}|2\\pi R=\\frac{1}{2\\pi}max_{z\\in \\Gamma}\\frac{|f(z)|}{R^2}2\\pi R=max_{z\\in \\Gamma}\\frac{|{f(z)}|}{R}=max_{z\\in \\Gamma}\\frac{|z||g(z)|}{R}$"
   ]
  },
  {
   "cell_type": "markdown",
   "metadata": {},
   "source": [
    "By triangle inequality, $|z|=|z-z_0+z_0| \\leqslant |z-z_0|+|z_0|=R+|z_0|$. Hence, for any $z_0$, we can choose $R>|z_0|$ so that $|z| \\leqslant 2R$"
   ]
  },
  {
   "cell_type": "markdown",
   "metadata": {},
   "source": [
    "This means we have $max_{z\\in \\Gamma}\\frac{|z||g(z)|}{R} \\leqslant max_{z\\in \\Gamma}\\frac{2R|g(z)|}{R}=max_{z\\in \\Gamma}2|g(z)|$. As $R \\to \\infty,z \\to \\infty,g \\to 0$. Hence, $max_{z\\in \\Gamma}2|g(z)| \\to 0$ as $R \\to \\infty$. We have shown that $|f'(z_0)|=0$ for all $z_0 \\in \\mathbb{C}$, which means that $f$ has to be constant."
   ]
  },
  {
   "cell_type": "markdown",
   "metadata": {},
   "source": [
    "**Question 5:**"
   ]
  },
  {
   "cell_type": "markdown",
   "metadata": {},
   "source": [
    "Suppose by contradiction that there exists $w\\in \\mathbb{C},\\epsilon >0$ such that for all $z \\in \\mathbb{C}$, we have $|f(z)-w| \\geqslant \\epsilon$"
   ]
  },
  {
   "cell_type": "markdown",
   "metadata": {},
   "source": [
    "Let $g(z)=\\frac{1}{f(z)-w}$, from the above inequality $\\frac{1}{|f(z)-w|} \\leqslant \\frac{1}{\\epsilon} \\Rightarrow |g(z)| \\leqslant \\frac{1}{\\epsilon}$. From the **Liouville's Theorem**, $g$ is constant. Hence, $f(z)=\\frac{1}{g(z)}+w$ is also constant, which is a contradiction. Thus, we have shown that for all $w\\in \\mathbb{C},\\epsilon>0$, there exists $z\\in \\mathbb{C}$ such that $|f(z)-w|<\\epsilon$"
   ]
  },
  {
   "cell_type": "markdown",
   "metadata": {},
   "source": [
    "**Question 4:**"
   ]
  },
  {
   "cell_type": "markdown",
   "metadata": {},
   "source": [
    "The Taylor series of $f$ centered at $z_0=0$ is given by $\\Sigma_{n=0}^\\infty \\frac{f^n(0)z^n}{n!}$. To show that $f$ is a polynomial with degree at most $N$, we can show that for all $n>N, f^n(0)=0$"
   ]
  },
  {
   "cell_type": "markdown",
   "metadata": {},
   "source": [
    "Applying the **Generalized Cauchy Integral Formula** with $\\Gamma$ being $C_R(0)$, we have $|f^n(0)|=|\\frac{n!}{2\\pi i}\\int_\\Gamma \\frac{f(z)}{z^{n+1}}dz|=\\frac{n!}{2\\pi}|\\int_\\Gamma \\frac{f(z)}{z^{n+1}}dz|$."
   ]
  },
  {
   "cell_type": "markdown",
   "metadata": {},
   "source": [
    "By the **ML Lemma,** $|\\int_\\Gamma \\frac{f(z)}{z^{n+1}}dz| \\leqslant max_{z\\in C_R(0)}|\\frac{f(z)}{z^{n+1}}|\\ell(\\Gamma) \\Rightarrow |f^n(0)| \\leqslant \\frac{n!}{2\\pi}max_{z\\in C_R(0)}|\\frac{f(z)}{z^{n+1}}| \\cdot 2\\pi R= n!max_{z\\in C_R(0)}\\frac{|f(z)|}{|z|^n} \\leqslant \\frac{n!C|z|^N}{|z|^n}=\\frac{n!C}{R^{n-N}}$."
   ]
  },
  {
   "cell_type": "markdown",
   "metadata": {},
   "source": [
    "Since $n>N$, we have $\\frac{n!C}{R^{n-N}} \\to 0$ as $R \\to \\infty$. Hence, for all $n<N, f^n(0)=0$, and $f$ is a polynomial of degree at most $N$."
   ]
  },
  {
   "cell_type": "markdown",
   "metadata": {},
   "source": [
    "**Question 5:**"
   ]
  },
  {
   "cell_type": "markdown",
   "metadata": {},
   "source": [
    "a) Since $n$ is a positive integer, we have $Arg(n)=0$ and $|n|=n$. Moreover, we can write $z=x+iy$ where $x,y \\in \\mathbb{R}$. $\\zeta_n(z)=n^{-z}=exp(-zLog(n))=exp(-z(ln|z|+iArg(z)))=exp(-zln(z))=exp(-(x+iy)ln(n))=e^{-xln(n)}e^{-iyln(n)}$"
   ]
  },
  {
   "cell_type": "markdown",
   "metadata": {},
   "source": [
    "Hence, $|\\zeta_n(z)|=|e^{-xln(n)}||e^{-iyln(n)}|=n^{-x}$ (notice that $|e^{-iyln(n)}|=1$). Since $z \\in U_\\epsilon$, $x>1+\\epsilon \\Rightarrow -x<-(1+\\epsilon) \\Rightarrow |\\zeta_n(z)|=n^{-x}<n^{-(1+\\epsilon)}$ "
   ]
  },
  {
   "cell_type": "markdown",
   "metadata": {},
   "source": [
    "b)Let $M_n=\\frac{1}{n^{(1+\\epsilon)}}$ be a sequence of non-negative numbers. From the result of a), we have $|\\zeta_n(z)|<\\frac{1}{n^{(1+\\epsilon)}}=M_n$. Since the series $\\Sigma_{n=1}^\\infty \\frac{1}{n^p}$ converges if $p>1$, by **Weierstrass M-test,** $\\Sigma_{n=1}^\\infty \\zeta_n(z)$ converges uniformly on $U_\\epsilon$."
   ]
  },
  {
   "cell_type": "markdown",
   "metadata": {},
   "source": [
    "c) Let $D=\\{z\\in \\mathbb{C}:Re(z)>1\\}$. Firstly, $D$ is a simply-connected domain. "
   ]
  },
  {
   "cell_type": "markdown",
   "metadata": {},
   "source": [
    "Secondly, define $f_N=\\Sigma_{n=1}^N \\zeta_n(z)$. We know that $\\zeta_n(z)=exp(-zln(n))$ is holomorphic on $\\mathbb{C}$. This means $f_N$, as a sum of holomorphic functions, is also holomorphic on $\\mathbb{C}$. Hence, $f_N$ is homolorphic on $D$ since $D \\subseteq \\mathbb{C}$."
   ]
  },
  {
   "cell_type": "markdown",
   "metadata": {},
   "source": [
    "Lastly, from b), $\\zeta(z)=\\Sigma_{n=1}^\\infty \\zeta_n(z)$ converges uniformly on $U_\\epsilon$. As a result, $f_N$ converges uniformly to $\\zeta(z)$ on $U_\\epsilon$."
   ]
  },
  {
   "cell_type": "markdown",
   "metadata": {},
   "source": [
    "By **Theorem 4.1.23,** $\\zeta(z)$ is holomorphic on $D$. For all $z_0 \\in D, Re(z_0)>1$. We can set $\\epsilon=\\frac{Re(z_0)-1}{2}$ so that $z_0 \\in U_\\epsilon$. In this way, we have shown that $\\zeta(z)$ is holomorphic on $D$."
   ]
  },
  {
   "cell_type": "code",
   "execution_count": null,
   "metadata": {},
   "outputs": [],
   "source": []
  }
 ],
 "metadata": {
  "kernelspec": {
   "display_name": "Python 3",
   "language": "python",
   "name": "python3"
  },
  "language_info": {
   "codemirror_mode": {
    "name": "ipython",
    "version": 3
   },
   "file_extension": ".py",
   "mimetype": "text/x-python",
   "name": "python",
   "nbconvert_exporter": "python",
   "pygments_lexer": "ipython3",
   "version": "3.8.3"
  }
 },
 "nbformat": 4,
 "nbformat_minor": 4
}
