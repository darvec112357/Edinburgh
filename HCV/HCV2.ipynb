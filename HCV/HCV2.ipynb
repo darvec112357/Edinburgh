{
 "cells": [
  {
   "cell_type": "markdown",
   "metadata": {},
   "source": [
    "**Question 5:**"
   ]
  },
  {
   "cell_type": "markdown",
   "metadata": {},
   "source": [
    "We have $4i=4e^{i\\frac{\\pi}{2}}$ and $1-i=\\sqrt{2}e^{i\\frac{7\\pi}{4}}$. Hence, $\\frac{4i}{1-i}=\\frac{4e^{i\\frac{\\pi}{2}}}{\\sqrt{2}e^{i\\frac{7\\pi}{4}}}=2\\sqrt{2}e^{-i\\frac{5\\pi}{4}}=2^{\\frac{3}{2}}e^{i\\frac{3\\pi}{4}}=z^4 \\Rightarrow z=2^{\\frac{3}{8}}e^{i\\frac{3\\pi}{16}}$. Since $2^{\\frac{3}{2}}e^{i(\\frac{3\\pi}{4}+2\\pi)},2^{\\frac{3}{2}}e^{i(\\frac{3\\pi}{4}+4\\pi)}，2^{\\frac{3}{2}}e^{i(\\frac{3\\pi}{4}+6\\pi)}$ are equivalent to $2^{\\frac{3}{2}}e^{i\\frac{3\\pi}{4}}$, the other three roots of unity are $2^{\\frac{3}{8}}e^{i\\frac{11\\pi}{16}},2^{\\frac{3}{8}}e^{i\\frac{19\\pi}{16}}，2^{\\frac{3}{8}}e^{i\\frac{27\\pi}{16}}$"
   ]
  },
  {
   "cell_type": "markdown",
   "metadata": {},
   "source": [
    "**Question 6:**"
   ]
  },
  {
   "cell_type": "markdown",
   "metadata": {},
   "source": [
    "a)\n",
    "<br>i)No \n",
    "<br>ii)Yes \n",
    "<br>iii)$\\overline{S_1}=S_1$ \n",
    "<br>iv)$\\overline{\\mathbb{C}\\setminus S_1}=\\mathbb{C}$\n",
    "\n",
    "<br>b)\n",
    "<br>i)No\n",
    "<br>ii)Yes\n",
    "<br>iii)$\\overline{S_2}=S_2$ \n",
    "<br>v)$\\overline{\\mathbb{C}\\setminus S_2}=\\mathbb{C}$\n",
    "\n",
    "<br>c)\n",
    "<br>i)No\n",
    "<br>ii)Yes\n",
    "<br>iii)$\\overline{S_3}=S_3$ \n",
    "<br>iv)$\\overline{\\mathbb{C}\\setminus S_3}=\\mathbb{C}$\n",
    "\n",
    "<br>d)\n",
    "<br>i)No\n",
    "<br>ii)No\n",
    "<br>iii)$\\overline{S_4}=\\{ z \\in \\mathbb{C}:1\\leqslant|z|\\leqslant 2\\}$\n",
    "<br>iv)$\\overline{\\mathbb{C}\\setminus S_4}=\\{ z \\in \\mathbb{C}:|z|\\geqslant 2$ or $|z|\\leqslant 1\\}$\n",
    "\n",
    "<br>e)\n",
    "<br>i)Yes\n",
    "<br>ii)No\n",
    "<br>iii)$\\overline{S_5}=\\{z\\in \\mathbb{C}:Arg(z)\\in [0, \\frac{\\pi}{2}] \\}$\n",
    "<br>iv)$\\overline{\\mathbb{C}\\setminus S_5}=\\{z\\in \\mathbb{C}:Arg(z)\\in [\\frac{\\pi}{2},2\\pi] \\}$"
   ]
  },
  {
   "cell_type": "markdown",
   "metadata": {},
   "source": [
    "**Question 2:**"
   ]
  },
  {
   "cell_type": "markdown",
   "metadata": {},
   "source": [
    "Let $z=x+iy$ for $x,y \\in \\mathbb{C}$. Then $f(z)=\\sqrt{|(Re(z))(Im(z))|}=\\sqrt{|xy|}=\\sqrt{|x||y|}=u+iv$ where $u=\\sqrt{|x||y|},v=0$.\n",
    "\n",
    "$\\frac{\\partial u}{\\partial x}=lim_{x \\to 0}\\frac{u(x,0)-u(0,0)}{x-0}=lim_{x\\to 0}\\frac{0-0}{x-0}=0=\\frac{\\partial v}{\\partial y}$. Also, $\\frac{\\partial u}{\\partial y}=lim_{y \\to 0}\\frac{u(0,y)-u(0,0)}{y-0}=lim_{y\\to 0}\\frac{0-0}{y-0}=0=-\\frac{\\partial v}{\\partial x}$. Hence, $f$ satisfies the **Cauchy-Riemann equations** at $z=0$.\n",
    "\n",
    "When $z=0$, we have $x=y=0 \\Rightarrow f(z)=0$\n",
    "<br>$lim_{z\\to 0}\\frac{f(z)-f(0)}{z-0}=lim_{z\\to 0}\\frac{f(z)}{z}=lim_{(x,y)\\to (0,0)}\\frac{\\sqrt{|xy|}}{x+iy}$ from **Lemma 1.3.3**. When evaluated along the direction $x=y$, we have $lim_{(x,y)\\to (0,0)}\\frac{\\sqrt{|xy|}}{x+iy}=lim_{x\\to 0}\\frac{\\sqrt|x\\cdot x|}{x+ix}=lim_{x\\to 0}\\frac{|x|}{x+ix}$. However, $lim_{x\\to 0^+}(\\frac{|x|}{x+ix})=\\frac{1}{1+i}$ whereas $lim_{x\\to 0^-}(\\frac{|x|}{x+ix})=-\\frac{1}{1+i}$. The limits from two directions do not agree, so the limit does not exist. Hence, $f$ is not differentiable at $z_0=0$."
   ]
  },
  {
   "cell_type": "markdown",
   "metadata": {},
   "source": [
    "**Question 3:**"
   ]
  },
  {
   "cell_type": "markdown",
   "metadata": {},
   "source": [
    "a) For all $z_0 \\in \\mathbb{C}$, consider the limit $lim_{z\\to z_0}\\frac{g(z)-g(z_0)}{z-z_0}$, we have $lim_{z\\to z_0}\\frac{g(z)-g(z_0)}{z-z_0}=lim_{z\\to z_0}\\frac{\\overline{f(\\overline{z})}-\\overline{f(\\overline{z_0})}}{z-z_0}=lim_{z\\to z_0}\\frac{\\overline{f(\\overline{z})-f(\\overline{z_0})}}{z-z_0}=lim_{z\\to z_0}\\frac{\\overline{f(\\overline{z})-f(\\overline{z_0})}}{\\overline{(\\overline{z-z_0})}}=lim_{z\\to z_0}\\overline{(\\frac{f(\\overline{z})-f(\\overline{z_0})}{\\overline{z-z_0}})}=lim_{z\\to z_0}\\overline{(\\frac{f(\\overline{z})-f(\\overline{z_0})}{\\overline{z}-\\overline{z_0}})}=\\overline{(lim_{z\\to z_0}\\frac{f(\\overline{z})-f(\\overline{z_0})}{\\overline{z}-\\overline{z_0}})}$. \n",
    "\n",
    "Note that this is exactly the value of $\\overline{f^\\prime(\\overline {z_0})}$. Since $f$ is holomorphic, it is differentiable everywhere. This means that $f^\\prime(\\overline {z_0})$ exists $\\Rightarrow \\overline{f^\\prime(\\overline {z_0})}$ exists, $\\Rightarrow lim_{z\\to z_0}\\frac{g(z)-g(z_0)}{z-z_0}$ exists.This means that $g$ is differentiable at all $z_0 \\in \\mathbb{C}$. Hence, $g$ is holomorphic."
   ]
  },
  {
   "cell_type": "markdown",
   "metadata": {},
   "source": [
    "b)For all $z_0 \\in \\mathbb{C}$, since $f$ and $h_1$ are holomorphic, by **Definition 1.4.7**, they are differentiable at $z_0$. Then by **Theorem 1.4.5**, they satisfy the **Cauchy-Riemann equations** at $z_0$. Let $z_0=x_0+iy_0$ and $f=u+iv$, we have $\\frac{\\partial u}{\\partial x}(x_0,y_0)=\\frac{\\partial v}{\\partial y}(x_0,y_0)$. Since $h_1(z)=\\overline {f(z)} \\Rightarrow h_1(z)=u-iv$. Using the **Cauchy-Riemann equations** for $h_1$, $\\frac{\\partial u}{\\partial x}(x_0,y_0)=-\\frac{\\partial v}{\\partial y}(x_0,y_0) \\Rightarrow -\\frac{\\partial v}{\\partial y}(x_0,y_0)=\\frac{\\partial v}{\\partial y}(x_0,y_0) \\Rightarrow \\frac{\\partial u}{\\partial x}(x_0,y_0)=\\frac{\\partial v}{\\partial y}(x_0,y_0)=0$. Similarly, we have $\\frac{\\partial v}{\\partial x}(x_0,y_0)=\\frac{\\partial u}{\\partial y}(x_0,y_0)=0$. This is possible if and only if both $u$ and $v$ are constants, which means that $f$ is constant."
   ]
  },
  {
   "cell_type": "markdown",
   "metadata": {},
   "source": [
    "c)As argued previously, $h_2$ satisfies the **Cauchy-Riemann equations** at all $z_0 \\in \\mathbb{C}$. Let $f=u+iv$ and $h_2=p+iq$. Since $h_2(z)=f(\\overline z)$, we have $p(x,y)=u(x,-y)$ and $q(x,y)=v(x,-y)$. Using the **Cauchy-Riemann equations** for $h_2$, $\\frac{\\partial p}{\\partial x}(x_0,y_0)=\\frac{\\partial q}{\\partial y}(x_0,y_0)$. Since, $\\frac{\\partial q}{\\partial y}(x_0,y_0)=-\\frac{\\partial v}{\\partial y}(x_0,-y_0) \\Rightarrow \\frac{\\partial p}{\\partial x}(x_0,y_0)=-\\frac{\\partial v}{\\partial y}(x_0,-y_0)$. Also, $\\frac{\\partial p}{\\partial x}(x_0,y_0)=\\frac{\\partial u}{\\partial x}(x_0,-y_0)$. Using the **Cauchy-Riemann equations** for $f$, we have $\\frac{\\partial u}{\\partial x}(x_0,-y_0)=\\frac{\\partial v}{\\partial y}(x_0,-y_0)$. Hence, we have $\\frac{\\partial p}{\\partial x}(x_0,y_0)=\\frac{\\partial v}{\\partial y}(x_0,-y_0)=-\\frac{\\partial v}{\\partial y}(x_0,-y_0)$, which means $\\frac{\\partial q}{\\partial y}(x_0,y_0)=\\frac{\\partial p}{\\partial x}(x_0,y_0)=\\frac{\\partial v}{\\partial y}(x_0,-y_0)=0$. Similarly, we can show that $\\frac{\\partial q}{\\partial x}(x_0,y_0)=0$ and $\\frac{\\partial p}{\\partial y}(x_0,y_0)=0$. This is possible if and only if both $p$ and $q$ are constants, which implies that both $u$ and $v$ must also be constants, and hence $f$ is constant. "
   ]
  },
  {
   "cell_type": "markdown",
   "metadata": {},
   "source": [
    "**Question 4:**"
   ]
  },
  {
   "cell_type": "markdown",
   "metadata": {},
   "source": [
    "Since the function is holomorphic, by **Lemma 1.4.13**, $v$ is harmonic. Hence, $\\frac{\\partial^2v}{\\partial x^2}+\\frac{\\partial^2v}{\\partial y^2}=0$. We have $\\frac{\\partial^2v}{\\partial x^2}=6ax+2by$ and $\\frac{\\partial^2v}{\\partial y^2}=6dy+2cx$, which means $6ax+2by+6dy+2cx=0 \\Rightarrow x(3a+c)+y(3d+b)=0 \\Rightarrow 3a+c=0,3d+b=0 \\Rightarrow c=-3a,b=-3d$. Hence, the most general form of $v$ is $ax^3+bx^2y-3axy^2-\\frac{1}{3}by^3$. "
   ]
  },
  {
   "cell_type": "markdown",
   "metadata": {},
   "source": [
    "To make the function holomorphic, we need $u$ and $v$ to satisfy the **Cauchy-Rieman equations**, which means $\\frac{\\partial u}{\\partial x}=\\frac{\\partial v}{\\partial y}=bx^2-6axy-by^2 \\Rightarrow u=\\frac{1}{3}bx^3-3ax^2y-by^2x+g(y)$. We also have $\\frac{\\partial v}{\\partial x}=3ax^2+2bxy-3ay^2=-\\frac{\\partial u}{\\partial y} \\Rightarrow u=-3ax^2y-bxy^2+ay^3+h(x)$. Combine the two results, we get $u=\\frac{1}{3}bx^3-3ax^2y-bxy^2+ay^3+C$ for some $C \\in \\mathbb{R}$, and a holomorphic function $f$ is given by $f=(\\frac{1}{3}bx^3-3ax^2y-bxy^2+ay^3+C)+i(ax^3+bx^2y-3axy^2-\\frac{1}{3}by^3)$"
   ]
  },
  {
   "cell_type": "code",
   "execution_count": null,
   "metadata": {},
   "outputs": [],
   "source": []
  }
 ],
 "metadata": {
  "kernelspec": {
   "display_name": "Python 3",
   "language": "python",
   "name": "python3"
  },
  "language_info": {
   "codemirror_mode": {
    "name": "ipython",
    "version": 3
   },
   "file_extension": ".py",
   "mimetype": "text/x-python",
   "name": "python",
   "nbconvert_exporter": "python",
   "pygments_lexer": "ipython3",
   "version": "3.8.3"
  }
 },
 "nbformat": 4,
 "nbformat_minor": 4
}
