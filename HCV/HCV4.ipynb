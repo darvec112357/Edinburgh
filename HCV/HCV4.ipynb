{
 "cells": [
  {
   "cell_type": "markdown",
   "metadata": {},
   "source": [
    "**Question 3:**"
   ]
  },
  {
   "cell_type": "markdown",
   "metadata": {},
   "source": [
    "a) \n",
    "<br>$\\gamma'(t)=iexp(it)$\n",
    "<br>$\\int_\\Gamma f(z)dz=\\int^{t_1}_{t_0}f(\\gamma(t))\\gamma'(t)dt=\\int_{-\\frac{\\pi}{2}}^{\\frac{\\pi}{2}}(exp(it))^4\\cdot iexp(it)dt=i\\int_{-\\frac{\\pi}{2}}^{\\frac{\\pi}{2}}(exp(it))^5dt$"
   ]
  },
  {
   "cell_type": "markdown",
   "metadata": {},
   "source": [
    "$=[\\frac{(exp(it))^5}{5}]^{\\frac{\\pi}{2}}_{-\\frac{\\pi}{2}}=\\frac{i^5-(-i)^5}{5}=\\frac{2i}{5}$"
   ]
  },
  {
   "cell_type": "markdown",
   "metadata": {},
   "source": [
    "b)\n",
    "<br>$\\gamma'(t)=2+i$\n",
    "<br>$\\int_\\Gamma f(z)dz=\\int^{t_1}_{t_0}f(\\gamma(t))\\gamma'(t)dt=\\int^1_02t(2+i)dt=(2+i)[t^2]^1_0=2+i$"
   ]
  },
  {
   "cell_type": "markdown",
   "metadata": {},
   "source": [
    "c)\n",
    "<br>$\\gamma'(t)=-iexp(-it)$\n",
    "<br>$\\int_\\Gamma f(z)dz=\\int^{t_1}_{t_0}f(\\gamma(t))\\gamma'(t)dt=\\int_0^{12\\pi}\\frac{1}{exp(-it)}\\cdot -iexp(-it)dt=-12\\pi i$"
   ]
  },
  {
   "cell_type": "markdown",
   "metadata": {},
   "source": [
    "**Question 4:**"
   ]
  },
  {
   "cell_type": "markdown",
   "metadata": {},
   "source": [
    "a) Suppose by contradiction that such $F$ exists. Let $f=F'(z)=\\frac{1}{z}$. Consider the integral $\\int_\\Gamma f(z)dz$ where $\\Gamma$ is the unit circle $\\{z\\in \\mathbb{C}: |z|=1\\}$. From **Lemma 3.3.9**, $\\int_\\Gamma f(z)dz=0$ if $f$ has an antiderivative $F$. "
   ]
  },
  {
   "cell_type": "markdown",
   "metadata": {},
   "source": [
    "However, if we apply the formula $\\int_\\Gamma f(z)dz=\\int^{t_1}_{t_0}f(\\gamma(t))\\gamma'(t)dt$ where $\\gamma:[0,2\\pi]\\to \\mathbb{C},\\gamma(t)=exp(it)$, we get $\\int^{t_1}_{t_0}f(\\gamma(t))\\gamma'(t)dt=i\\int^{2\\pi}_0 exp(-it)exp(it)dt=2\\pi i$ and we have reached a contradiction. Hence, there is no such $F$."
   ]
  },
  {
   "cell_type": "markdown",
   "metadata": {},
   "source": [
    "b) Again suppose that such $L$ exists, differentiate with respect to $z$ on both sides, $\\frac{d}{dz}exp(L(z))=\\frac{d}{dz}z \\Rightarrow L'(z)exp(L(z))=1 \\Rightarrow L'(z)=\\frac{1}{z}$. From the result of part a), we know that such $L$ does not exist."
   ]
  },
  {
   "cell_type": "markdown",
   "metadata": {},
   "source": [
    "**Question 5:**"
   ]
  },
  {
   "cell_type": "markdown",
   "metadata": {},
   "source": [
    "a) The statement is false. We can take $D=D_1(0)$. Then $\\mathbb{C} \\setminus \\overline{D}=\\{z\\in \\mathbb{C}:|z|>1\\}$. It is open and any two points in it can be connected by a contour. Hence, $\\mathbb{C} \\setminus \\overline{D}$ is a domain. "
   ]
  },
  {
   "cell_type": "markdown",
   "metadata": {},
   "source": [
    "b)The statement is true. Firstly, $D_1 \\cup D_2$ is open. Take $z_1,z_2$. If both $z_1,z_2$ are in either $D_1$ or $D_2$, since $D_1$ and $D_2$ are domains, there must exists a contour connecting $z_1,z_2$. Otherwise, without loss of generality, suppose $z_1\\in D_1,z_2\\in D_2$. We can take $z_3\\in D_1 \\cap D_2$."
   ]
  },
  {
   "cell_type": "markdown",
   "metadata": {},
   "source": [
    "Then there exists a contour $\\Gamma_1$ connecting $z_1$ and $z_3$, and a contour $\\Gamma_2$ connecting $z_2$ and $z_3$. Then we have $\\Gamma=\\Gamma_1 \\cup \\Gamma_2$ connects $z_1$ and $z_2$. \n"
   ]
  },
  {
   "cell_type": "markdown",
   "metadata": {},
   "source": [
    "c) The statement is false.We can take $D_1=D_1(0),D_2=\\{ z\\in \\mathbb(C):-0.6<Re(z)<-0.4,0.5<Im(z)<1.5\\}\\cup \\{z\\in \\mathbb{C}:-0.4<Re(z)<0.4,1.3<Im(z)<1.5\\}\\cup \\{z\\in \\mathbb{C}:0.4<Re(z)<0.6,0.5<Im(z)<1.5 \\}$. "
   ]
  },
  {
   "cell_type": "markdown",
   "metadata": {},
   "source": [
    "$D_1 \\cap D_2$ is non-empty, but there is no contour which lies wholly in $D_1 \\cap D_2$ that connects $z_1=-0.5+0.6i$ and $z_2=0.5+0.6i$. Hence, $D_1 \\cap D_2$ is not a domain. "
   ]
  },
  {
   "cell_type": "markdown",
   "metadata": {},
   "source": [
    "**Question 4:**"
   ]
  },
  {
   "cell_type": "markdown",
   "metadata": {},
   "source": [
    "a) From the **ML-Lemma**, we have $|\\int_{C_R^+}f(z)dz| \\leqslant max_{z\\in C_R^+}|f(z)|\\ell(C_R^+)=max_{z\\in C_R^+}|\\frac{1}{z^2+9}|\\pi R$"
   ]
  },
  {
   "cell_type": "markdown",
   "metadata": {},
   "source": [
    "Applying the reverse triangle inequality, we have $|z^2+9|=|z^2-(-9)| \\geqslant ||z^2|-|-9|| \\geqslant |z^2|-9$"
   ]
  },
  {
   "cell_type": "markdown",
   "metadata": {},
   "source": [
    "Hence, $|\\frac{1}{z^2+9}| \\leqslant \\frac{1}{|z^2|-9}=\\frac{1}{R^2-9} \\Rightarrow max_{z\\in C_R^+}|\\frac{1}{z^2+9}|\\pi R \\leqslant \\frac{\\pi R}{R^2-9}$. This means that $|\\int_{C_R^+}f(z)dz| \\leqslant \\frac{\\pi R}{R^2-9}$.\n",
    "<br>In addition, $lim_{R \\to \\infty}\\frac{\\pi R}{R^2-9}=0 \\Rightarrow |\\int_{C_R^+}f(z)dz|\\to 0$ as $R\\to \\infty$"
   ]
  },
  {
   "cell_type": "markdown",
   "metadata": {},
   "source": [
    "b)Consider the line segment from $-R$ to $R$. If we combine this line segment with the semicircle, we get a loop, which is a semicircle.Let $\\Gamma$ denote the semicircle. We have $\\int_{C_R^+}f(z)dz+\\int_{-R}^Rf(z)dz=\\int_\\Gamma f(z)dz$  "
   ]
  },
  {
   "cell_type": "markdown",
   "metadata": {},
   "source": [
    "Since $\\int_\\Gamma f(z)dz=\\int_\\Gamma \\frac{1}{z^2+9}dz=\\int_\\Gamma \\frac{1}{(z+3i)(z-3i)}dz$ and $f$ is holomorphic inside and on $\\Gamma$, applying the **Cauchy Integral Formula** taking $z_0=3i,g(z)=\\frac{1}{z+3i}$ ($z_0=3i$ is in the interior of $\\Gamma$ as $R>3$), we have $g(3i)=\\frac{1}{2\\pi i}\\int_\\Gamma \\frac{g(z)}{z-z_0}dz=\\frac{1}{2\\pi i}\\int_\\Gamma \\frac{1}{(z+3i)(z-3i)}dz \\Rightarrow \\int_\\Gamma \\frac{1}{(z+3i)(z-3i)}dz=g(z_0)\\cdot 2\\pi i=\\frac{\\pi}{3}$"
   ]
  },
  {
   "cell_type": "markdown",
   "metadata": {},
   "source": [
    "Hence, $lim_{R\\to \\infty}\\int_{-R}^R \\frac{1}{z^2+9}=lim_{R\\to \\infty}\\int_\\Gamma f(z)dz-lim_{R\\to \\infty}\\int_{C_R^+}f(z)dz=\\frac{\\pi}{3}-0=\\frac{\\pi}{3}$"
   ]
  },
  {
   "cell_type": "markdown",
   "metadata": {},
   "source": [
    "**Question 5:**"
   ]
  },
  {
   "cell_type": "markdown",
   "metadata": {},
   "source": [
    "Firsly, $|f(z_0)| \\geqslant min_{z\\in C_r(z_0)}|f(z)| \\iff \\frac{1}{|f(z_0)|} \\leqslant \\frac{1}{min_{z\\in C_r(z_0)}|f(z)|} \\iff \\frac{1}{|f(z_0)|} \\leqslant max_{z\\in C_r(z_0)}\\frac{1}{|f(z)|}$"
   ]
  },
  {
   "cell_type": "markdown",
   "metadata": {},
   "source": [
    "Applying the **Cauchy Integral Formula**, we have $\\frac{1}{f(z_0)}=\\frac{1}{2\\pi i}\\int_{C_r(z_0)}\\frac{1}{f(z)(z-z_0)} \\Rightarrow \\frac{1}{|f(z_0)|}=|\\frac{1}{2\\pi i}||\\int_{C_r(z_0)}\\frac{1}{f(z)(z-z_0)}|=\\frac{1}{2\\pi}|\\int_{C_r(z_0)}\\frac{1}{f(z)(z-z_0)}|$"
   ]
  },
  {
   "cell_type": "markdown",
   "metadata": {},
   "source": [
    "Applying the **ML Lemma**, $|\\int_{C_r(z_0)}\\frac{1}{f(z)(z-z_0)}| \\leqslant max_{z\\in C_r(z_0)}|\\frac{1}{f(z)(z-z_0)}|\\ell(C_r(z_0))=max_{z\\in C_r(z_0)}\\frac{1}{|f(z)||(z-z_0)|}\\cdot 2\\pi r=max_{z\\in C_r(z_0)}\\frac{1}{|f(z)|\\cdot r} \\cdot 2\\pi r=max_{z\\in C_r(z_0)}\\frac{2\\pi}{|f(z)|}$"
   ]
  },
  {
   "cell_type": "markdown",
   "metadata": {},
   "source": [
    "Hence, $\\frac{1}{|f(z_0)|} \\leqslant \\frac{1}{2\\pi}max_{z\\in C_r(z_0)}\\frac{2\\pi}{|f(z)|}=max_{z\\in C_r(z_0)}\\frac{1}{|f(z)|}$, which is equivalent to $|f(z_0)| \\geqslant min_{z\\in C_r(z_0)}|f(z)|$."
   ]
  },
  {
   "cell_type": "code",
   "execution_count": null,
   "metadata": {},
   "outputs": [],
   "source": []
  }
 ],
 "metadata": {
  "kernelspec": {
   "display_name": "Python 3",
   "language": "python",
   "name": "python3"
  },
  "language_info": {
   "codemirror_mode": {
    "name": "ipython",
    "version": 3
   },
   "file_extension": ".py",
   "mimetype": "text/x-python",
   "name": "python",
   "nbconvert_exporter": "python",
   "pygments_lexer": "ipython3",
   "version": "3.8.3"
  }
 },
 "nbformat": 4,
 "nbformat_minor": 4
}
