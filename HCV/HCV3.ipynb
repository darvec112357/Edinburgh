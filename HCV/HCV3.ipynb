{
 "cells": [
  {
   "cell_type": "markdown",
   "metadata": {},
   "source": [
    "**Question 4:**"
   ]
  },
  {
   "cell_type": "markdown",
   "metadata": {},
   "source": [
    "We have $f(z)=(z^2-1)^{\\frac{1}{2}}=\\{exp(\\frac{w}{2}):w\\in log(z^2-1)\\}=\\{exp(\\frac{w}{2}):w\\in log((z+1)(z-1))\\}=\\{exp(\\frac{w}{2}):w\\in log(z+1)+log(z-1)\\}=\\{exp(\\frac{w_1+w_2}{2}):w_1\\in log(z+1),w_2\\in log(z-1)\\}=\\{exp(\\frac{w_1}{2})exp(\\frac{w_2}{2}):w_1\\in log(z+1),w_2\\in log(z-1)\\}$"
   ]
  },
  {
   "cell_type": "markdown",
   "metadata": {},
   "source": [
    "By **Lemma 1.7.10.**, \n",
    "<br>$Log_{\\phi_1}(z+1)$ is holomorphic at $z$ such that $z+1\\in D_{\\phi_1}$. Since $z+1\\in D_{\\phi_1}$ if and only if $z\\in D_{-1,\\phi_1}$, $Log_{\\phi_1}(z+1)$ is holomorphic on $D_{-1,\\phi_1}$. We shall take any $\\phi_1 \\in [\\frac{\\pi}{2},\\frac{3\\pi}{2}]$ e.g. $\\phi_1=\\pi$, since $D_1(0) \\cap L_{-1,\\phi_1}=\\emptyset \\Rightarrow D_1(0) \\subseteq D_{-1,\\phi_1}$, and from the above result, $Log_{\\phi_1}(z+1)$ is holomorphic on $D_1(0)$."
   ]
  },
  {
   "cell_type": "markdown",
   "metadata": {},
   "source": [
    "Also, $Log_{\\phi_2}(z-1)$ is holomorphic at $z$ such that $z-1 \\in D_{\\phi_2}$. Since $z-1 \\in D_{\\phi_2}$ if and only if $z \\in D_{1,\\phi_2}$, $Log_{\\phi_2}(z-1)$ is holomorphic on $D_{1,\\phi_2}$. We shall take any $\\phi_2 \\in [-\\frac{\\pi}{2},\\frac{\\pi}{2}]$, e.g. $\\phi_2=0$, since $D_1(0) \\cap L_{1,\\phi_2}=\\emptyset \\Rightarrow D_1(0) \\subseteq D_{1,\\phi_2}$, and from the above result, $Log_{\\phi_2}(z-1)$ is holomorphic on $D_1(0)$."
   ]
  },
  {
   "cell_type": "markdown",
   "metadata": {},
   "source": [
    "We can take $w_1=Log_{\\phi_1}(z+1) \\in log(z+1),w_2=Log_{\\phi_2}(z-1) \\in log(z-1)$ such that $w=w_1+w_2 \\in log((z+1)(z-1))$. Since $w$ is the sum of two holomorphic functions, it is holomorphic on $D_1(0)$ and $f=\\{exp(\\frac{w}{2}):w\\in log((z+1)(z-1))\\}$ is holomorphic on $D_1(0)$."
   ]
  },
  {
   "cell_type": "markdown",
   "metadata": {},
   "source": [
    "**Question 5:**"
   ]
  },
  {
   "cell_type": "markdown",
   "metadata": {},
   "source": [
    "We have $f(z)=(z^2-1)^{\\frac{1}{2}}=(z^2(1-z^{-2}))^{\\frac{1}{2}}=z(1-z^{-2})^{\\frac{1}{2}}=\\{z\\cdot exp(\\frac{w}{2}):w\\in log(1-z^{-2})\\}=\\{z\\cdot exp(\\frac{w}{2}):w\\in log((1-z^{-1})(1+z^{-1}))\\}\n",
    "=\\{z\\cdot exp(\\frac{w_1}{2})exp(\\frac{w_2}{2}):w_1\\in log(1-z^{-1}),w_2 \\in log(1+z^{-1})\\}$\n"
   ]
  },
  {
   "cell_type": "markdown",
   "metadata": {},
   "source": [
    "Consider the branch $Log_{\\phi_3}(1-z^{-1})$, we want it to be holomorphic on $C\\setminus{D_1(0)}$. This means all the points $z_0$ where the branch is not holomorphic is in the set $D_1(0)$, i.e. the points $z$ such that $|z|\\leqslant 1$, or equivalently $|z^{-1}|\\geqslant 1$. Since all such points are also in the set $\\{z\\in \\mathbb{C}:1-z^{-1}\\in L_{\\phi_3}\\}$, we have $1-z^{-1}=re^{i\\phi_3}$, for some positive real $r$. Hence, $z^{-1}=1-re^{i\\phi_3} \\Rightarrow $ we need $|z^{-1}|=|1-re^{i\\phi_3}|\\geqslant 1$. This can be achieved by choosing $\\phi_3$ from $[\\frac{\\pi}{2},\\frac{3\\pi}{2}]$, e.g. $\\phi_3=\\pi$"
   ]
  },
  {
   "cell_type": "markdown",
   "metadata": {},
   "source": [
    "Similarly, consider the branch $Log_{\\phi_4}(1+z^{-1})$. All the points where the branch is not holomorphic is in the set $\\{z\\in \\mathbb{C}:1+z^{-1}\\in L_{\\phi_4}\\}$ as well as $D_1(0)$. Hence we have $1+z^{-1}=re^{i\\phi_4} \\Rightarrow z^{-1}=re^{i\\phi_4}-1 \\Rightarrow |z^{-1}|=|re^{i\\phi_4}-1| \\geqslant 1$. We can choose $\\phi_4$ also from $[\\frac{\\pi}{2},\\frac{3\\pi}{2}]$, e.g. $\\phi_4=\\pi$"
   ]
  },
  {
   "cell_type": "markdown",
   "metadata": {},
   "source": [
    "We can take $w_1=Log_{\\phi_3}(1-z^{-1}),w_2=Log_{\\phi_4}(1+z^{-1})$ such that $w=w_1+w_2 \\in log((1-z^{-1})(1+z^{-1}))$. Since $w$ is the sum of two holomorphic functions, it is holomorphic on $D_1(0)$ and $f=\\{z\\cdot exp(\\frac{w}{2}):w\\in log((1-z^{-1})(1+z^{-1}))\\}$ is holomorphic on $D_1(0)$."
   ]
  },
  {
   "cell_type": "markdown",
   "metadata": {},
   "source": [
    "**Question 3:**"
   ]
  },
  {
   "cell_type": "markdown",
   "metadata": {},
   "source": [
    "To show that $f$ is bijective, we need to show that it is both injective and surjective"
   ]
  },
  {
   "cell_type": "markdown",
   "metadata": {},
   "source": [
    "Injectivity: Let $z_1,z_2\\in \\mathbb{C}$, then $f(z_1)=f(z_2) \\Rightarrow \\frac{az_1+b}{cz_1+d}=\\frac{az_2+b}{cz_2+d} \\Rightarrow acz_1z_2+bcz_2+adz_1+bd=acz_1z_2+adz_2+bcz_1+bd \n",
    "$<br>$\\Rightarrow bcz_2+adz_1=bcz_1+adz_2 \\Rightarrow (ad-bc)(z_1-z_2)=0$. \n",
    "<br>Since $ad \\neq bc$, it must follow that $z_1-z_2=0 \\Rightarrow z_1=z_2$. Hence $f$ is injective."
   ]
  },
  {
   "cell_type": "markdown",
   "metadata": {},
   "source": [
    "Surjectivity: Let $w\\in \\mathbb(C)$, we can always find $z=\\frac{dw-b}{a-cw} \\in \\mathbb{C}$ such that $f(z)=\\frac{a\\frac{dw-b}{a-cw}+b}{c\\frac{dw-b}{a-cw}+d}=\\frac{adw-ab+ab-bcw}{cdw-bc+ad-cdw}=\\frac{(ad-bc)w}{ad-bc}$. Since $ad \\neq bc$, we have $f(z)=w$, which means that $f$ is surjective."
   ]
  },
  {
   "cell_type": "markdown",
   "metadata": {},
   "source": [
    "For the inverse, we have $f^{-1}(z)=\\frac{dz-b}{-cz+a}$. Since $ad \\neq bc \\Rightarrow ad \\neq (-b)(-c)=bc$, which means that $f^{-1}(z)$ is also a Mobius transformation."
   ]
  },
  {
   "cell_type": "markdown",
   "metadata": {},
   "source": [
    "**Question 4:**"
   ]
  },
  {
   "cell_type": "markdown",
   "metadata": {},
   "source": [
    "Firstly, we can define $f_1(z)=z+1$, which maps the cut plane $D_{-1,\\pi}$ onto the cut plane $D=\\{z\\in \\mathbb{C}:-\\pi<Arg(z)<\\pi\\}$."
   ]
  },
  {
   "cell_type": "markdown",
   "metadata": {},
   "source": [
    "Then we define $f_2(z)=z^{\\frac{1}{2}}$, which maps $D$ onto the set $\\{z\\in \\mathbb{C}:Re(z)>0\\}$, which is also the set $\\{z \\in \\mathbb{C}:-\\frac{\\pi}{2}<Arg(z)<\\frac{\\pi}{2}\\}$. This is because we can write $z=re^{i\\theta}$ for $r\\in \\mathbb{R},\\theta \\in [-\\pi,\\pi]$, and $z^{\\frac{1}{2}}=re^{i\\frac{\\theta}{2}}$, where the argument is divided by 2."
   ]
  },
  {
   "cell_type": "markdown",
   "metadata": {},
   "source": [
    "Finally, from the result of **Question 1 i)**, $f_3(z)=\\frac{z-1}{z+1}$ maps the set $U_1=\\{z\\in \\mathbb{C}:Re(z)>0\\}$ onto the unit disk $D_1(0)$."
   ]
  },
  {
   "cell_type": "markdown",
   "metadata": {},
   "source": [
    "We can take $f=f_3\\circ f_2 \\circ f_1$, i.e. $f(z)=\\frac{(z+1)^{\\frac{1}{2}}-1}{(z+1)^{\\frac{1}{2}}+1}$, and this function will map $D_{-1,\\pi}$ to the unit disk."
   ]
  },
  {
   "cell_type": "markdown",
   "metadata": {},
   "source": [
    "**Question 5:**"
   ]
  },
  {
   "cell_type": "markdown",
   "metadata": {},
   "source": [
    "a)By **Definition 2.4.1**, the inversion $f(z)=\\frac{1}{z}$ is a Mobius transformation. Then by **Corollary 2.4.3**, the image of the circle is either a circle or a straight line. Since $lim_{z \\to 0}f(z)=\\infty$ which is unbounded, the image of the circle must be a straight line."
   ]
  },
  {
   "cell_type": "markdown",
   "metadata": {},
   "source": [
    "b) $|f(a)-f(b)|=|\\frac{1}{a}-\\frac{1}{b}|=|\\frac{b-a}{ab}|=|\\frac{a-b}{ab}|=\\frac{|a-b|}{|ab|}=\\frac{|a-b|}{|a||b|}$"
   ]
  },
  {
   "cell_type": "markdown",
   "metadata": {},
   "source": [
    "c)Let $A$ be at the origin, and let $|b|=|AB|,|c|=|AC|,|d|=|AD|$ where $b,c,d \\in \\mathbb{C} \\Rightarrow |BC|=|b-c|,|CD|=|c-d|, |BD|=|b-d|$. \n",
    "<br>On the left-hand side of the equation, we have $|AB||CD|+|BC||DA|=|b||c-d|+|b-c||d|$. <br>From b), $|c-d|=|f(c)-f(d)||cd|,|b-c|=|f(b)-f(c)||bc| \\Rightarrow |b||c-d|+|b-c||d|=|b||f(c)-f(d)||cd|+\n",
    "$<br>$|d||f(b)-f(c)||bc|=|bcd|(|f(b)-f(c)|+|f(c)-f(d)|)$"
   ]
  },
  {
   "cell_type": "markdown",
   "metadata": {},
   "source": [
    "From a), $f(b),f(c),f(d)$ are collinear. Since $C$ is between $B$ and $D$ (on the circle) and $f$ is holomorphic, we have $f(c)$ is between $f(b)$ and $f(d)$ $\\Rightarrow |f(b)-f(d)|=|f(b)-f(c)|+|f(c)-f(d)|$. "
   ]
  },
  {
   "cell_type": "markdown",
   "metadata": {},
   "source": [
    "On the right-hand side of the equation, we have $|AC||BD|=|c||b-d|=|c||f(b)-f(d)||b||d|=|bcd||f(b)-f(d)|$"
   ]
  },
  {
   "cell_type": "markdown",
   "metadata": {},
   "source": [
    "Hence, we have $RHS=|bcd||f(b)-f(d)|=|bcd|(|f(b)-f(c)|+|f(c)-f(d)|)=LHS$. "
   ]
  },
  {
   "cell_type": "code",
   "execution_count": null,
   "metadata": {},
   "outputs": [],
   "source": []
  }
 ],
 "metadata": {
  "kernelspec": {
   "display_name": "Python 3",
   "language": "python",
   "name": "python3"
  },
  "language_info": {
   "codemirror_mode": {
    "name": "ipython",
    "version": 3
   },
   "file_extension": ".py",
   "mimetype": "text/x-python",
   "name": "python",
   "nbconvert_exporter": "python",
   "pygments_lexer": "ipython3",
   "version": "3.8.3"
  }
 },
 "nbformat": 4,
 "nbformat_minor": 4
}
