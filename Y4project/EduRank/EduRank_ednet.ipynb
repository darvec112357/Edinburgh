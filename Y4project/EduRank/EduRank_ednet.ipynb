{
 "cells": [
  {
   "cell_type": "code",
   "execution_count": 9,
   "metadata": {},
   "outputs": [],
   "source": [
    "import pandas as pd\n",
    "import numpy as np\n",
    "import os\n",
    "import time\n",
    "from collections import Counter\n",
    "import random"
   ]
  },
  {
   "cell_type": "code",
   "execution_count": 2,
   "metadata": {},
   "outputs": [
    {
     "data": {
      "text/plain": [
       "13169"
      ]
     },
     "execution_count": 2,
     "metadata": {},
     "output_type": "execute_result"
    }
   ],
   "source": [
    "questions = pd.read_csv(os.path.join('EdNet-Contents', 'contents', 'questions.csv'))\n",
    "question_set=questions[\"question_id\"]\n",
    "len(question_set)"
   ]
  },
  {
   "cell_type": "code",
   "execution_count": 3,
   "metadata": {},
   "outputs": [
    {
     "data": {
      "text/html": [
       "<div>\n",
       "<style scoped>\n",
       "    .dataframe tbody tr th:only-of-type {\n",
       "        vertical-align: middle;\n",
       "    }\n",
       "\n",
       "    .dataframe tbody tr th {\n",
       "        vertical-align: top;\n",
       "    }\n",
       "\n",
       "    .dataframe thead th {\n",
       "        text-align: right;\n",
       "    }\n",
       "</style>\n",
       "<table border=\"1\" class=\"dataframe\">\n",
       "  <thead>\n",
       "    <tr style=\"text-align: right;\">\n",
       "      <th></th>\n",
       "      <th>question_id</th>\n",
       "      <th>correct_answer</th>\n",
       "    </tr>\n",
       "  </thead>\n",
       "  <tbody>\n",
       "    <tr>\n",
       "      <th>0</th>\n",
       "      <td>q1</td>\n",
       "      <td>b</td>\n",
       "    </tr>\n",
       "    <tr>\n",
       "      <th>1</th>\n",
       "      <td>q2</td>\n",
       "      <td>a</td>\n",
       "    </tr>\n",
       "    <tr>\n",
       "      <th>2</th>\n",
       "      <td>q3</td>\n",
       "      <td>b</td>\n",
       "    </tr>\n",
       "    <tr>\n",
       "      <th>3</th>\n",
       "      <td>q4</td>\n",
       "      <td>b</td>\n",
       "    </tr>\n",
       "    <tr>\n",
       "      <th>4</th>\n",
       "      <td>q5</td>\n",
       "      <td>c</td>\n",
       "    </tr>\n",
       "    <tr>\n",
       "      <th>...</th>\n",
       "      <td>...</td>\n",
       "      <td>...</td>\n",
       "    </tr>\n",
       "    <tr>\n",
       "      <th>13164</th>\n",
       "      <td>q18139</td>\n",
       "      <td>b</td>\n",
       "    </tr>\n",
       "    <tr>\n",
       "      <th>13165</th>\n",
       "      <td>q18140</td>\n",
       "      <td>a</td>\n",
       "    </tr>\n",
       "    <tr>\n",
       "      <th>13166</th>\n",
       "      <td>q18141</td>\n",
       "      <td>a</td>\n",
       "    </tr>\n",
       "    <tr>\n",
       "      <th>13167</th>\n",
       "      <td>q18142</td>\n",
       "      <td>a</td>\n",
       "    </tr>\n",
       "    <tr>\n",
       "      <th>13168</th>\n",
       "      <td>q18143</td>\n",
       "      <td>c</td>\n",
       "    </tr>\n",
       "  </tbody>\n",
       "</table>\n",
       "<p>13169 rows × 2 columns</p>\n",
       "</div>"
      ],
      "text/plain": [
       "      question_id correct_answer\n",
       "0              q1              b\n",
       "1              q2              a\n",
       "2              q3              b\n",
       "3              q4              b\n",
       "4              q5              c\n",
       "...           ...            ...\n",
       "13164      q18139              b\n",
       "13165      q18140              a\n",
       "13166      q18141              a\n",
       "13167      q18142              a\n",
       "13168      q18143              c\n",
       "\n",
       "[13169 rows x 2 columns]"
      ]
     },
     "execution_count": 3,
     "metadata": {},
     "output_type": "execute_result"
    }
   ],
   "source": [
    "questions=questions[[\"question_id\",\"correct_answer\"]]\n",
    "questions"
   ]
  },
  {
   "cell_type": "code",
   "execution_count": 6,
   "metadata": {},
   "outputs": [],
   "source": [
    "kt1_files = os.listdir('KT1_joined')\n",
    "kt1_paths = [os.path.join('KT1_joined', file) for file in kt1_files]"
   ]
  },
  {
   "cell_type": "code",
   "execution_count": 55,
   "metadata": {},
   "outputs": [],
   "source": [
    "# a=[]\n",
    "# for i, path in enumerate(kt1_paths):\n",
    "#     if(i%100000==0):\n",
    "#         print(i)\n",
    "#     user_df=pd.read_csv(path)\n",
    "#     l=len(set(user_df[\"question_id\"]))\n",
    "#     if(l==100):\n",
    "#         user_df.to_csv(\"KT1_selected\")\n",
    "#     a.append(l)"
   ]
  },
  {
   "cell_type": "code",
   "execution_count": 56,
   "metadata": {},
   "outputs": [],
   "source": [
    "indices = [i for i, x in enumerate(a) if x ==100]\n",
    "for i in indices:\n",
    "    user_df=pd.read_csv(kt1_paths[i])\n",
    "    l=len(set(user_df[\"question_id\"]))\n",
    "    if(l!=100):\n",
    "        print(\"haha\")\n",
    "    if(random.uniform(0,1)<0.2):\n",
    "        user_df.to_csv(os.path.join('KT1_small',kt1_files[i]),index=False)"
   ]
  },
  {
   "cell_type": "code",
   "execution_count": 10,
   "metadata": {},
   "outputs": [],
   "source": [
    "li = []\n",
    "for i, path in enumerate(kt1_paths):\n",
    "#     if(i%5000==0):\n",
    "#         print(i)\n",
    "    user_df = pd.read_csv(path)\n",
    "    username = kt1_files[i].replace(\".csv\", \"\")\n",
    "    user_df['username'] = username\n",
    "    li.append(user_df)\n",
    "# Concatenanting user dfs\n",
    "kt1 = pd.concat(li, axis = 0 , ignore_index = True)\n",
    "kt1.to_csv('KT1_joined_large/KT1_part{}.csv'.format(0))"
   ]
  },
  {
   "cell_type": "code",
   "execution_count": 66,
   "metadata": {},
   "outputs": [],
   "source": [
    "# for i, path in enumerate(kt1_paths):\n",
    "#     user_df=pd.read_csv(kt1_paths[i])\n",
    "#     user_df2=user_df.join(questions.set_index(\"question_id\"),on=\"question_id\")\n",
    "#     score=[1 if b else 0 for b in list(user_df2[\"user_answer\"]==user_df2[\"correct_answer\"])]\n",
    "#     user_df2[\"score\"]=score\n",
    "#     user_df2.to_csv(os.path.join('KT1_joined',kt1_files[i]),index=False)"
   ]
  },
  {
   "cell_type": "code",
   "execution_count": 64,
   "metadata": {},
   "outputs": [
    {
     "data": {
      "text/html": [
       "<div>\n",
       "<style scoped>\n",
       "    .dataframe tbody tr th:only-of-type {\n",
       "        vertical-align: middle;\n",
       "    }\n",
       "\n",
       "    .dataframe tbody tr th {\n",
       "        vertical-align: top;\n",
       "    }\n",
       "\n",
       "    .dataframe thead th {\n",
       "        text-align: right;\n",
       "    }\n",
       "</style>\n",
       "<table border=\"1\" class=\"dataframe\">\n",
       "  <thead>\n",
       "    <tr style=\"text-align: right;\">\n",
       "      <th></th>\n",
       "      <th>Unnamed: 0</th>\n",
       "      <th>timestamp</th>\n",
       "      <th>solving_id</th>\n",
       "      <th>question_id</th>\n",
       "      <th>user_answer</th>\n",
       "      <th>elapsed_time</th>\n",
       "      <th>correct_answer</th>\n",
       "      <th>score</th>\n",
       "      <th>username</th>\n",
       "    </tr>\n",
       "  </thead>\n",
       "  <tbody>\n",
       "    <tr>\n",
       "      <th>0</th>\n",
       "      <td>0</td>\n",
       "      <td>1515924227146</td>\n",
       "      <td>1</td>\n",
       "      <td>q8098</td>\n",
       "      <td>b</td>\n",
       "      <td>12000</td>\n",
       "      <td>b</td>\n",
       "      <td>1</td>\n",
       "      <td>u100562</td>\n",
       "    </tr>\n",
       "    <tr>\n",
       "      <th>1</th>\n",
       "      <td>1</td>\n",
       "      <td>1515924253425</td>\n",
       "      <td>2</td>\n",
       "      <td>q8074</td>\n",
       "      <td>b</td>\n",
       "      <td>20000</td>\n",
       "      <td>c</td>\n",
       "      <td>0</td>\n",
       "      <td>u100562</td>\n",
       "    </tr>\n",
       "    <tr>\n",
       "      <th>2</th>\n",
       "      <td>2</td>\n",
       "      <td>1515924279087</td>\n",
       "      <td>3</td>\n",
       "      <td>q176</td>\n",
       "      <td>d</td>\n",
       "      <td>23000</td>\n",
       "      <td>d</td>\n",
       "      <td>1</td>\n",
       "      <td>u100562</td>\n",
       "    </tr>\n",
       "    <tr>\n",
       "      <th>3</th>\n",
       "      <td>3</td>\n",
       "      <td>1515924297559</td>\n",
       "      <td>4</td>\n",
       "      <td>q1279</td>\n",
       "      <td>b</td>\n",
       "      <td>16000</td>\n",
       "      <td>c</td>\n",
       "      <td>0</td>\n",
       "      <td>u100562</td>\n",
       "    </tr>\n",
       "    <tr>\n",
       "      <th>4</th>\n",
       "      <td>4</td>\n",
       "      <td>1515924375098</td>\n",
       "      <td>5</td>\n",
       "      <td>q2067</td>\n",
       "      <td>c</td>\n",
       "      <td>24666</td>\n",
       "      <td>b</td>\n",
       "      <td>0</td>\n",
       "      <td>u100562</td>\n",
       "    </tr>\n",
       "    <tr>\n",
       "      <th>...</th>\n",
       "      <td>...</td>\n",
       "      <td>...</td>\n",
       "      <td>...</td>\n",
       "      <td>...</td>\n",
       "      <td>...</td>\n",
       "      <td>...</td>\n",
       "      <td>...</td>\n",
       "      <td>...</td>\n",
       "      <td>...</td>\n",
       "    </tr>\n",
       "    <tr>\n",
       "      <th>26483</th>\n",
       "      <td>26483</td>\n",
       "      <td>1531558598616</td>\n",
       "      <td>72</td>\n",
       "      <td>q4297</td>\n",
       "      <td>c</td>\n",
       "      <td>30000</td>\n",
       "      <td>c</td>\n",
       "      <td>1</td>\n",
       "      <td>u99799</td>\n",
       "    </tr>\n",
       "    <tr>\n",
       "      <th>26484</th>\n",
       "      <td>26484</td>\n",
       "      <td>1531558774364</td>\n",
       "      <td>73</td>\n",
       "      <td>q6345</td>\n",
       "      <td>a</td>\n",
       "      <td>8000</td>\n",
       "      <td>a</td>\n",
       "      <td>1</td>\n",
       "      <td>u99799</td>\n",
       "    </tr>\n",
       "    <tr>\n",
       "      <th>26485</th>\n",
       "      <td>26485</td>\n",
       "      <td>1531558871916</td>\n",
       "      <td>74</td>\n",
       "      <td>q5067</td>\n",
       "      <td>b</td>\n",
       "      <td>21000</td>\n",
       "      <td>b</td>\n",
       "      <td>1</td>\n",
       "      <td>u99799</td>\n",
       "    </tr>\n",
       "    <tr>\n",
       "      <th>26486</th>\n",
       "      <td>26486</td>\n",
       "      <td>1531559143446</td>\n",
       "      <td>75</td>\n",
       "      <td>q10159</td>\n",
       "      <td>b</td>\n",
       "      <td>24000</td>\n",
       "      <td>d</td>\n",
       "      <td>0</td>\n",
       "      <td>u99799</td>\n",
       "    </tr>\n",
       "    <tr>\n",
       "      <th>26487</th>\n",
       "      <td>26487</td>\n",
       "      <td>1531559266657</td>\n",
       "      <td>76</td>\n",
       "      <td>q4132</td>\n",
       "      <td>a</td>\n",
       "      <td>26000</td>\n",
       "      <td>a</td>\n",
       "      <td>1</td>\n",
       "      <td>u99799</td>\n",
       "    </tr>\n",
       "  </tbody>\n",
       "</table>\n",
       "<p>26488 rows × 9 columns</p>\n",
       "</div>"
      ],
      "text/plain": [
       "       Unnamed: 0      timestamp  solving_id question_id user_answer  \\\n",
       "0               0  1515924227146           1       q8098           b   \n",
       "1               1  1515924253425           2       q8074           b   \n",
       "2               2  1515924279087           3        q176           d   \n",
       "3               3  1515924297559           4       q1279           b   \n",
       "4               4  1515924375098           5       q2067           c   \n",
       "...           ...            ...         ...         ...         ...   \n",
       "26483       26483  1531558598616          72       q4297           c   \n",
       "26484       26484  1531558774364          73       q6345           a   \n",
       "26485       26485  1531558871916          74       q5067           b   \n",
       "26486       26486  1531559143446          75      q10159           b   \n",
       "26487       26487  1531559266657          76       q4132           a   \n",
       "\n",
       "       elapsed_time correct_answer  score username  \n",
       "0             12000              b      1  u100562  \n",
       "1             20000              c      0  u100562  \n",
       "2             23000              d      1  u100562  \n",
       "3             16000              c      0  u100562  \n",
       "4             24666              b      0  u100562  \n",
       "...             ...            ...    ...      ...  \n",
       "26483         30000              c      1   u99799  \n",
       "26484          8000              a      1   u99799  \n",
       "26485         21000              b      1   u99799  \n",
       "26486         24000              d      0   u99799  \n",
       "26487         26000              a      1   u99799  \n",
       "\n",
       "[26488 rows x 9 columns]"
      ]
     },
     "execution_count": 64,
     "metadata": {},
     "output_type": "execute_result"
    }
   ],
   "source": [
    "student_set=[kt1_files[i].replace(\".csv\", \"\") for i, path in enumerate(kt1_paths)]\n",
    "SS=len(student_set)\n",
    "user_df"
   ]
  },
  {
   "cell_type": "code",
   "execution_count": 14,
   "metadata": {},
   "outputs": [
    {
     "data": {
      "text/plain": [
       "5389"
      ]
     },
     "execution_count": 14,
     "metadata": {},
     "output_type": "execute_result"
    }
   ],
   "source": [
    "user_df=pd.read_csv('KT1_joined_large/KT1_part0.csv')\n",
    "question_set=set(user_df[\"question_id\"])\n",
    "len(question_set)"
   ]
  },
  {
   "cell_type": "code",
   "execution_count": 18,
   "metadata": {},
   "outputs": [],
   "source": [
    "#split questions into train and test sets\n",
    "def split_questions(path):\n",
    "    user_df = pd.read_csv(path)\n",
    "    qq=list(set(user_df[\"question_id\"]))\n",
    "    n=int(len(qq)/2)\n",
    "    return qq[0:n],qq[n:len(qq)]"
   ]
  },
  {
   "cell_type": "code",
   "execution_count": 23,
   "metadata": {},
   "outputs": [
    {
     "name": "stdout",
     "output_type": "stream",
     "text": [
      "Reference ranking inferred in 13.347683668136597 s\n"
     ]
    }
   ],
   "source": [
    "difficulty_ranking={}\n",
    "start = time.time()\n",
    "ranking=[]\n",
    "for q in question_set:\n",
    "    user_df2=user_df[user_df[\"question_id\"]==q]\n",
    "    n=len(user_df2)\n",
    "    #First based on scores\n",
    "    score=user_df2[\"score\"].sum()/n\n",
    "    #Then tie breaks on time taken\n",
    "    timetaken=user_df2[\"elapsed_time\"].sum()/n\n",
    "    ranking.append((q,score,timetaken))\n",
    "r=sorted(ranking,key=lambda x:(x[1],-x[2]))\n",
    "difficulty_ranking=[x[0] for x in r]\n",
    "end = time.time()\n",
    "print(\"Reference ranking inferred in \"+str(end - start)+' s')"
   ]
  },
  {
   "cell_type": "code",
   "execution_count": 50,
   "metadata": {},
   "outputs": [
    {
     "data": {
      "text/plain": [
       "5389"
      ]
     },
     "execution_count": 50,
     "metadata": {},
     "output_type": "execute_result"
    }
   ],
   "source": [
    "len(difficulty_ranking)"
   ]
  },
  {
   "cell_type": "code",
   "execution_count": 42,
   "metadata": {},
   "outputs": [],
   "source": [
    "reference_rankings={}\n",
    "data={}\n",
    "for i, path in enumerate(kt1_paths):\n",
    "    username = kt1_files[i].replace(\".csv\", \"\")\n",
    "    reference_rankings[username]=[]\n",
    "    data[username]=[]\n",
    "    train,test=split_questions(path)\n",
    "    ranking_train=[q for q in difficulty_ranking if q in train]\n",
    "    ranking_test=[q for q in difficulty_ranking if q in test]\n",
    "    reference_rankings[username].append(ranking_train)\n",
    "    reference_rankings[username].append(ranking_test)\n",
    "    data[username].append(train)\n",
    "    data[username].append(test)"
   ]
  },
  {
   "cell_type": "code",
   "execution_count": 49,
   "metadata": {},
   "outputs": [],
   "source": [
    "for i, path in enumerate(kt1_paths):\n",
    "    username = kt1_files[i].replace(\".csv\", \"\")\n",
    "    if(set(reference_rankings[username][0])!=set(data[username][0])):\n",
    "        print(\"haha\")\n",
    "    if(set(reference_rankings[username][1])!=set(data[username][1])):\n",
    "        print(\"hehe\")"
   ]
  },
  {
   "cell_type": "code",
   "execution_count": 65,
   "metadata": {},
   "outputs": [],
   "source": [
    "#Check whether one question is more difficult than the other\n",
    "def rank(q1,q2,ranking):\n",
    "    if(q1 not in ranking or q2 not in ranking):\n",
    "        return False\n",
    "    #return true if q1 is more difficult than q2\n",
    "    return ranking.index(q1)<ranking.index(q2)\n",
    "\n",
    "#win score over question pairs q1,q2 given a ranking \n",
    "def gamma(q1,q2,ranking):\n",
    "    if(rank(q1,q2,ranking)):\n",
    "        return 1\n",
    "    if(rank(q2,q1,ranking)):\n",
    "        return -1\n",
    "    return 0\n",
    "\n",
    "#all question pairs in L such that qj>qk\n",
    "def Zk(L,ranking,k):\n",
    "    answer=[]\n",
    "    for q in L:\n",
    "        if(rank(q,k,ranking)):\n",
    "            answer.append((q,k))\n",
    "    return answer\n",
    "\n",
    "#Indicator function\n",
    "def IA(ranking1,ranking2,q1,q2):\n",
    "    return 1 if (rank(q1,q2,ranking1) and rank(q1,q2,ranking2)) else 0\n",
    "\n",
    "#normalized agreement score between two rankings\n",
    "def Ak(L,ranking1,ranking2,k):\n",
    "    Z=Zk(L,ranking2,k)\n",
    "    if(len(Z)==0):\n",
    "        return 0\n",
    "    answer=0\n",
    "    for (q1,q2) in Z:\n",
    "        answer+=IA(ranking1,ranking2,q1,q2)\n",
    "    return answer/(L.index(k))\n",
    "#     return answer/len(Z)\n",
    "\n",
    "# AP score of ranking2 over L given reference ranking ranking1\n",
    "def SAP(L,ranking1,ranking2):\n",
    "    answer=0\n",
    "    n=len(L)\n",
    "    for i in range(1,n):\n",
    "        answer+=Ak(L,ranking1,ranking2,L[i])\n",
    "    return answer/(n-1)\n",
    "\n",
    "# def SAP(L,ranking1,ranking2):\n",
    "#     l=len(L)\n",
    "#     answer=0\n",
    "#     for i in range(1,l):\n",
    "#         s=0\n",
    "#         for j in range(0,i):\n",
    "#             for k in range(j,i):\n",
    "#                 if(k!=j):\n",
    "#                     s+=IA(ranking1,ranking2,L[j],L[k])\n",
    "#         s=s/i\n",
    "#         answer=answer+s\n",
    "#     return answer/(l-1)"
   ]
  },
  {
   "cell_type": "code",
   "execution_count": 57,
   "metadata": {},
   "outputs": [],
   "source": [
    "def EduRank(username,ranking,data):\n",
    "    s=student_set.index(username)\n",
    "    ranking_train=ranking[username][0]\n",
    "    ranking_test=ranking[username][1]\n",
    "    questions_train=data[username][0]\n",
    "    questions_test=data[username][1]\n",
    "    t=len(ranking_train)\n",
    "    M=[0 for i in range(SS)]\n",
    "    for i in range(SS):\n",
    "        if(i!=s):\n",
    "            M[i]=SAP(ranking_train,ranking_train,ranking[student_set[i]][0])\n",
    "    r=[[] for i in range(t)]\n",
    "    for i in range(t):\n",
    "        for j in range(t):\n",
    "            if(i!=j):\n",
    "                rv=0\n",
    "                for k in range(SS):\n",
    "                    if(k!=s):\n",
    "                        rv+=M[k]*gamma(questions_test[i],questions_test[j],ranking[student_set[k]][0])\n",
    "                rv=np.sign(rv)     \n",
    "                r[i].append(rv)\n",
    "    dict=[]\n",
    "    for i in range(t):\n",
    "        dict.append((questions_test[i],sum(r[i])))\n",
    "    dict=sorted(dict, key=lambda x:-x[1])\n",
    "    result=[x[0] for x in dict]\n",
    "    sap=SAP(ranking_test,ranking_test,result)\n",
    "    return sap"
   ]
  },
  {
   "cell_type": "code",
   "execution_count": 28,
   "metadata": {},
   "outputs": [],
   "source": [
    "def EduRank_coldstart(s):\n",
    "    start = time.time()\n",
    "    train=data[sset[s]][0]\n",
    "    test=data[sset[s]][1]\n",
    "    t=len(train)\n",
    "    A=[[Ak(train,reference_rankings[sset[s]],reference_rankings[sset[i]],train[k])\n",
    "        for k in range(t)]for i in range(SS) if i!=s]\n",
    "    M=[np.mean(A[i]) for i in range(SS-1)]\n",
    "    r=[[] for i in range(t)]\n",
    "    for i in range(t):\n",
    "        for j in range(t):\n",
    "            rv=0\n",
    "            s12=[s for s in sset if qset[i] in difficulty_rankings[s] and qset[j] in difficulty_rankings[s]]\n",
    "            priori=priors_mean[qset[i]]\n",
    "            priorj=priors_mean[qset[j]]\n",
    "            alpha=len(s12)/SS\n",
    "            for k in range(SS):\n",
    "                if(k!=s):\n",
    "                    rv+=M[k-1]*gamma(test[i],test[j],difficulty_rankings[sset[k]])\n",
    "            rv=alpha*np.sign(rv)\n",
    "            rv+=(1-alpha)*np.sign(priori-priorj)        \n",
    "            r[i].append(rv)\n",
    "    dict=[]\n",
    "    for i in range(len(test)-1):\n",
    "        dict.append((test[i],sum(r[i])))\n",
    "    dict=sorted(dict, key=lambda x:-x[1])\n",
    "    result=[x[0] for x in dict]\n",
    "    result=SAP(test,difficulty_rankings[username],result)\n",
    "    end = time.time()\n",
    "    return result\n"
   ]
  },
  {
   "cell_type": "code",
   "execution_count": 66,
   "metadata": {},
   "outputs": [
    {
     "name": "stdout",
     "output_type": "stream",
     "text": [
      "0.5096639662485899\n"
     ]
    }
   ],
   "source": [
    "sap=0\n",
    "for s in student_set:\n",
    "    e=EduRank(s,reference_rankings,data)\n",
    "    sap+=e\n",
    "sap/=SS\n",
    "print(sap)"
   ]
  },
  {
   "cell_type": "code",
   "execution_count": 62,
   "metadata": {},
   "outputs": [],
   "source": [
    "reference_rankings2={}\n",
    "data2={}\n",
    "for i, path in enumerate(kt1_paths):\n",
    "    username = kt1_files[i].replace(\".csv\", \"\")\n",
    "    reference_rankings2[username]=[]\n",
    "    data2[username]=[]\n",
    "    train,test=split_questions(path)\n",
    "    l=len(train)\n",
    "    train=train[:int(0.1*l)]\n",
    "    test=test[:int(0.1*l)]\n",
    "    ranking_train=[q for q in difficulty_ranking if q in train]\n",
    "    ranking_test=[q for q in difficulty_ranking if q in test]\n",
    "    reference_rankings2[username].append(ranking_train)\n",
    "    reference_rankings2[username].append(ranking_test)\n",
    "    data2[username].append(train)\n",
    "    data2[username].append(test)"
   ]
  },
  {
   "cell_type": "code",
   "execution_count": 63,
   "metadata": {},
   "outputs": [
    {
     "name": "stdout",
     "output_type": "stream",
     "text": [
      "0.5023535564853553\n"
     ]
    }
   ],
   "source": [
    "sap=0\n",
    "for s in student_set:\n",
    "    sap+=EduRank(s,reference_rankings2,data2)\n",
    "sap/=SS\n",
    "print(sap)"
   ]
  },
  {
   "cell_type": "code",
   "execution_count": null,
   "metadata": {},
   "outputs": [],
   "source": []
  }
 ],
 "metadata": {
  "kernelspec": {
   "display_name": "Python 3",
   "language": "python",
   "name": "python3"
  },
  "language_info": {
   "codemirror_mode": {
    "name": "ipython",
    "version": 3
   },
   "file_extension": ".py",
   "mimetype": "text/x-python",
   "name": "python",
   "nbconvert_exporter": "python",
   "pygments_lexer": "ipython3",
   "version": "3.8.3"
  }
 },
 "nbformat": 4,
 "nbformat_minor": 4
}
