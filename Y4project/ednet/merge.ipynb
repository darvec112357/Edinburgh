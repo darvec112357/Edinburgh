{
 "cells": [
  {
   "cell_type": "code",
   "execution_count": 1,
   "metadata": {},
   "outputs": [],
   "source": [
    "import pandas as pd\n",
    "import numpy as np\n",
    "import os"
   ]
  },
  {
   "cell_type": "code",
   "execution_count": 2,
   "metadata": {},
   "outputs": [],
   "source": [
    "questions = pd.read_csv(os.path.join('EdNet-Contents', 'contents', 'questions.csv'))\n",
    "lectures =  pd.read_csv(os.path.join('EdNet-Contents', 'contents', 'lectures.csv'))\n",
    "lectures.rename(columns = {'part':'part_l'}, inplace = True)\n",
    "\n",
    "kt3_files = os.listdir('KT3')\n",
    "kt3_paths = [os.path.join('KT3', file) for file in kt3_files]"
   ]
  },
  {
   "cell_type": "markdown",
   "metadata": {},
   "source": [
    "### Merging csvs"
   ]
  },
  {
   "cell_type": "code",
   "execution_count": 4,
   "metadata": {},
   "outputs": [],
   "source": [
    "def chunks(lst, n):\n",
    "    \"\"\"Yield successive n-sized chunks from lst.\"\"\"\n",
    "    for i in range(0, len(lst), n):\n",
    "        yield lst[i:i + n]\n",
    "        \n",
    "part = 0\n",
    "\n",
    "for paths, files in zip(chunks(kt3_paths, 100000), chunks(kt3_files, 100000)):\n",
    "    li = []\n",
    "    kt3 = pd.DataFrame()\n",
    "    for i, path in enumerate(paths):\n",
    "        user_df = pd.read_csv(path)\n",
    "        username = files[i].replace(\".csv\", \"\")\n",
    "        user_df['username'] = username\n",
    "        li.append(user_df)\n",
    "    # Concatenanting user dfs\n",
    "    kt3 = pd.concat(li, axis = 0 , ignore_index = True)\n",
    "    kt3.to_csv('KT3_csv_large/KT3_part{}.csv'.format(part))\n",
    "    part += 1"
   ]
  }
 ],
 "metadata": {
  "kernelspec": {
   "display_name": "Python 3",
   "language": "python",
   "name": "python3"
  },
  "language_info": {
   "codemirror_mode": {
    "name": "ipython",
    "version": 3
   },
   "file_extension": ".py",
   "mimetype": "text/x-python",
   "name": "python",
   "nbconvert_exporter": "python",
   "pygments_lexer": "ipython3",
   "version": "3.8.3"
  }
 },
 "nbformat": 4,
 "nbformat_minor": 5
}
