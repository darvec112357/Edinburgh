{
 "cells": [
  {
   "cell_type": "code",
   "execution_count": 1,
   "id": "5e746a8d",
   "metadata": {},
   "outputs": [],
   "source": [
    "import pandas as pd\n",
    "import numpy as np\n",
    "import time\n",
    "import seaborn as sns\n",
    "import matplotlib.pyplot as plt\n",
    "import json\n",
    "from d3rlpy.algos import DiscreteCQL\n",
    "import torch\n",
    "\n",
    "plt.style.use('ggplot')"
   ]
  },
  {
   "cell_type": "markdown",
   "id": "04936e01",
   "metadata": {},
   "source": [
    "### Inputs"
   ]
  },
  {
   "cell_type": "code",
   "execution_count": 2,
   "id": "7ec54e35",
   "metadata": {},
   "outputs": [],
   "source": [
    "with open('init_state.txt', 'r') as file:\n",
    "    init_state = file.read()\n",
    "init_state = json.loads(init_state)\n",
    "features = list(init_state.keys())\n",
    "\n",
    "with open('ednet_codes/mdp_dict.txt', 'r') as file:\n",
    "    mdp_dict = file.read()\n",
    "mdp_dict = json.loads(mdp_dict)\n",
    "\n",
    "nrows = None # For debugging\n",
    "trajectories = pd.read_csv('trajectories_KT3_200k.csv', nrows=nrows)\n",
    "\n",
    "#Converting states to str\n",
    "trajectories['state'] = trajectories['state'] .astype('str')\n",
    "trajectories['next_state'] = trajectories['next_state'] .astype('str')\n",
    "#Limiting to first 50k users \n",
    "user_subset = trajectories['username'].unique()[:50000]\n",
    "trajectories.query('username in @user_subset', inplace=True)\n",
    "\n",
    "#################### CHANGE THIS #######################################\n",
    "mdp_name = \"MDP_aug4687\"\n",
    "feat_to_incl = mdp_dict[mdp_name]\n",
    "########################################################################\n",
    "\n",
    "transitions = pd.read_csv('trans_ori/original_transitions_{}.csv'.format(mdp_name))\n",
    "transitions['state'] = transitions['state'] .astype('str')\n",
    "transitions['next_state'] = transitions['next_state'] .astype('str')\n",
    "\n",
    "#q_vals = pd.read_csv('policies/Q_{}.csv'.format(mdp_name))\n",
    "#q_vals.set_index('state', inplace = True)\n",
    "#q_vals.columns = range(q_vals.shape[1])\n",
    "\n",
    "target_policy = pd.read_csv('policies_penalised/policy_{}.csv'.format(mdp_name))\n",
    "# Changing state back to str (from MATLAB)\n",
    "target_policy['state'] = target_policy['state'].astype('str')\n",
    "target_policy.rename(columns = {'policy':'action'}, inplace = True)\n",
    "target_policy.set_index(['state', 'action'], inplace = True)\n",
    "\n",
    "# Finding feature index\n",
    "feat_idx = [features.index(feat) for feat in feat_to_incl]\n",
    "\n",
    "# Extracting relevant features\n",
    "obs = trajectories['state'].str.split('', expand = True).values[:,1:-1]\n",
    "n_obs = trajectories['next_state'].str.split('', expand = True).values[:,1:-1]\n",
    "\n",
    "trajectories['state'] = obs[:,feat_idx].sum(axis =1)\n",
    "trajectories['next_state'] = n_obs[:,feat_idx].sum(axis =1)"
   ]
  },
  {
   "cell_type": "markdown",
   "id": "a4e531c8",
   "metadata": {},
   "source": [
    "### Deriving Behaviour Policy"
   ]
  },
  {
   "cell_type": "code",
   "execution_count": 3,
   "id": "60cce5e6",
   "metadata": {},
   "outputs": [
    {
     "data": {
      "text/plain": [
       "state    action\n",
       "1111102  2         0.019231\n",
       "         3         0.019231\n",
       "         4         0.019231\n",
       "         6         0.019231\n",
       "         7         0.038462\n",
       "                     ...   \n",
       "4444824  21        0.014925\n",
       "         22        0.104478\n",
       "         23        0.358209\n",
       "         24        0.402985\n",
       "         36        0.014925\n",
       "Name: observed_policy, Length: 175312, dtype: float64"
      ]
     },
     "execution_count": 3,
     "metadata": {},
     "output_type": "execute_result"
    }
   ],
   "source": [
    "sa_count = transitions.groupby(['state','action']).sum()['support']\n",
    "s_count = transitions.groupby(['state']).sum()['support']\n",
    "observed_policy = sa_count/s_count\n",
    "observed_policy.rename('observed_policy', inplace = True)"
   ]
  },
  {
   "cell_type": "code",
   "execution_count": 4,
   "id": "0e10f2ac",
   "metadata": {},
   "outputs": [],
   "source": [
    "action_size = transitions['action'].unique().shape[0]\n",
    "\n",
    "transform_type = 'hardcode'\n",
    "\n",
    "if transform_type == 'hardcode':\n",
    "    # Hard-code transformation\n",
    "    eps = 0.1\n",
    "    target_policy['target_policy'] = 1 - eps\n",
    "    policies_to_compare = pd.DataFrame(observed_policy)\n",
    "    policies_to_compare = policies_to_compare.merge(target_policy['target_policy'], how = 'left', left_index = True, right_index = True)\n",
    "    policies_to_compare.fillna(eps/action_size, inplace = True)\n",
    "    \n",
    "elif transform_type == 'softmax':\n",
    "    prob_soft_max = np.exp(q_vals*0.01).values/np.exp(q_vals*0.01).values.sum(axis = 1).reshape(-1,1)\n",
    "    prob_soft_max = pd.DataFrame(prob_soft_max, index = target_policy.index.get_level_values(0))\n",
    "    prob_soft_max = prob_soft_max.melt(value_vars= prob_soft_max.columns,var_name='action', value_name = 'target_policy', ignore_index=False)\n",
    "    prob_soft_max.set_index('action', append = True, inplace = True)\n",
    "    policies_to_compare = pd.DataFrame(observed_policy)\n",
    "    policies_to_compare = policies_to_compare.merge(prob_soft_max, how = 'left', left_index = True, right_index = True)\n",
    "    \n",
    "elif transform_type == 'debug':\n",
    "    policies_to_compare = pd.DataFrame(observed_policy)\n",
    "    policies_to_compare['target_policy'] = policies_to_compare['observed_policy']\n",
    "    \n",
    "    "
   ]
  },
  {
   "cell_type": "code",
   "execution_count": 5,
   "id": "28af4386",
   "metadata": {
    "scrolled": false
   },
   "outputs": [
    {
     "data": {
      "text/html": [
       "<div>\n",
       "<style scoped>\n",
       "    .dataframe tbody tr th:only-of-type {\n",
       "        vertical-align: middle;\n",
       "    }\n",
       "\n",
       "    .dataframe tbody tr th {\n",
       "        vertical-align: top;\n",
       "    }\n",
       "\n",
       "    .dataframe thead th {\n",
       "        text-align: right;\n",
       "    }\n",
       "</style>\n",
       "<table border=\"1\" class=\"dataframe\">\n",
       "  <thead>\n",
       "    <tr style=\"text-align: right;\">\n",
       "      <th></th>\n",
       "      <th>username</th>\n",
       "      <th>state</th>\n",
       "      <th>next_state</th>\n",
       "      <th>action</th>\n",
       "      <th>reward</th>\n",
       "      <th>observed_policy</th>\n",
       "      <th>target_policy</th>\n",
       "    </tr>\n",
       "  </thead>\n",
       "  <tbody>\n",
       "    <tr>\n",
       "      <th>0</th>\n",
       "      <td>u1</td>\n",
       "      <td>1111621</td>\n",
       "      <td>1131801</td>\n",
       "      <td>24</td>\n",
       "      <td>-2</td>\n",
       "      <td>0.208435</td>\n",
       "      <td>0.002703</td>\n",
       "    </tr>\n",
       "    <tr>\n",
       "      <th>1</th>\n",
       "      <td>u1</td>\n",
       "      <td>1131801</td>\n",
       "      <td>1121811</td>\n",
       "      <td>22</td>\n",
       "      <td>2</td>\n",
       "      <td>0.123547</td>\n",
       "      <td>0.002703</td>\n",
       "    </tr>\n",
       "    <tr>\n",
       "      <th>2</th>\n",
       "      <td>u1</td>\n",
       "      <td>1121811</td>\n",
       "      <td>1231811</td>\n",
       "      <td>24</td>\n",
       "      <td>4</td>\n",
       "      <td>0.406970</td>\n",
       "      <td>0.002703</td>\n",
       "    </tr>\n",
       "    <tr>\n",
       "      <th>3</th>\n",
       "      <td>u1</td>\n",
       "      <td>1231811</td>\n",
       "      <td>1131801</td>\n",
       "      <td>24</td>\n",
       "      <td>-2</td>\n",
       "      <td>0.488580</td>\n",
       "      <td>0.002703</td>\n",
       "    </tr>\n",
       "    <tr>\n",
       "      <th>4</th>\n",
       "      <td>u1</td>\n",
       "      <td>1131801</td>\n",
       "      <td>1131801</td>\n",
       "      <td>24</td>\n",
       "      <td>-2</td>\n",
       "      <td>0.395940</td>\n",
       "      <td>0.002703</td>\n",
       "    </tr>\n",
       "    <tr>\n",
       "      <th>...</th>\n",
       "      <td>...</td>\n",
       "      <td>...</td>\n",
       "      <td>...</td>\n",
       "      <td>...</td>\n",
       "      <td>...</td>\n",
       "      <td>...</td>\n",
       "      <td>...</td>\n",
       "    </tr>\n",
       "    <tr>\n",
       "      <th>4494593</th>\n",
       "      <td>u321554</td>\n",
       "      <td>1211811</td>\n",
       "      <td>1311711</td>\n",
       "      <td>9</td>\n",
       "      <td>4</td>\n",
       "      <td>0.063662</td>\n",
       "      <td>0.002703</td>\n",
       "    </tr>\n",
       "    <tr>\n",
       "      <th>4494594</th>\n",
       "      <td>u321554</td>\n",
       "      <td>1311711</td>\n",
       "      <td>1411511</td>\n",
       "      <td>1</td>\n",
       "      <td>1</td>\n",
       "      <td>0.013876</td>\n",
       "      <td>0.002703</td>\n",
       "    </tr>\n",
       "    <tr>\n",
       "      <th>4494595</th>\n",
       "      <td>u321554</td>\n",
       "      <td>1411511</td>\n",
       "      <td>1411511</td>\n",
       "      <td>24</td>\n",
       "      <td>4</td>\n",
       "      <td>0.477108</td>\n",
       "      <td>0.002703</td>\n",
       "    </tr>\n",
       "    <tr>\n",
       "      <th>4494596</th>\n",
       "      <td>u321554</td>\n",
       "      <td>1411511</td>\n",
       "      <td>1311501</td>\n",
       "      <td>24</td>\n",
       "      <td>-2</td>\n",
       "      <td>0.477108</td>\n",
       "      <td>0.002703</td>\n",
       "    </tr>\n",
       "    <tr>\n",
       "      <th>4494597</th>\n",
       "      <td>u321554</td>\n",
       "      <td>1311501</td>\n",
       "      <td>1211501</td>\n",
       "      <td>24</td>\n",
       "      <td>-2</td>\n",
       "      <td>0.752183</td>\n",
       "      <td>0.002703</td>\n",
       "    </tr>\n",
       "  </tbody>\n",
       "</table>\n",
       "<p>4494598 rows × 7 columns</p>\n",
       "</div>"
      ],
      "text/plain": [
       "        username    state next_state  action  reward  observed_policy  \\\n",
       "0             u1  1111621    1131801      24      -2         0.208435   \n",
       "1             u1  1131801    1121811      22       2         0.123547   \n",
       "2             u1  1121811    1231811      24       4         0.406970   \n",
       "3             u1  1231811    1131801      24      -2         0.488580   \n",
       "4             u1  1131801    1131801      24      -2         0.395940   \n",
       "...          ...      ...        ...     ...     ...              ...   \n",
       "4494593  u321554  1211811    1311711       9       4         0.063662   \n",
       "4494594  u321554  1311711    1411511       1       1         0.013876   \n",
       "4494595  u321554  1411511    1411511      24       4         0.477108   \n",
       "4494596  u321554  1411511    1311501      24      -2         0.477108   \n",
       "4494597  u321554  1311501    1211501      24      -2         0.752183   \n",
       "\n",
       "         target_policy  \n",
       "0             0.002703  \n",
       "1             0.002703  \n",
       "2             0.002703  \n",
       "3             0.002703  \n",
       "4             0.002703  \n",
       "...                ...  \n",
       "4494593       0.002703  \n",
       "4494594       0.002703  \n",
       "4494595       0.002703  \n",
       "4494596       0.002703  \n",
       "4494597       0.002703  \n",
       "\n",
       "[4494598 rows x 7 columns]"
      ]
     },
     "execution_count": 5,
     "metadata": {},
     "output_type": "execute_result"
    }
   ],
   "source": [
    "trajectories = trajectories.merge(policies_to_compare, how = 'left', left_on = ['state', 'action'], right_index = True)\n",
    "trajectories"
   ]
  },
  {
   "cell_type": "markdown",
   "id": "691def56",
   "metadata": {},
   "source": [
    "### Average discounted return"
   ]
  },
  {
   "cell_type": "code",
   "execution_count": 6,
   "id": "c60b5680",
   "metadata": {},
   "outputs": [
    {
     "name": "stdout",
     "output_type": "stream",
     "text": [
      "Average discounted return is 7.460739704407098\n"
     ]
    }
   ],
   "source": [
    "discount_rate = 0.99\n",
    "episode_steps = trajectories.groupby('username').cumcount()\n",
    "step_discount_factor = discount_rate**episode_steps\n",
    "trajectories['disc_reward'] = trajectories['reward']*step_discount_factor\n",
    "disc_return_per_user = trajectories.groupby('username').sum()['disc_reward']\n",
    "\n",
    "av_disc_return = disc_return_per_user.mean()\n",
    "\n",
    "print('Average discounted return is {}'.format(av_disc_return))"
   ]
  },
  {
   "cell_type": "markdown",
   "id": "0778974c",
   "metadata": {},
   "source": [
    "### Ordinary Importance Sampling"
   ]
  },
  {
   "cell_type": "code",
   "execution_count": 7,
   "id": "4a1617c1",
   "metadata": {},
   "outputs": [
    {
     "name": "stdout",
     "output_type": "stream",
     "text": [
      "Ordinary IS yields an avg. discounted return of 0.06518142126385955 with variance 188.2448029360006\n"
     ]
    }
   ],
   "source": [
    "trajectories['norm_prob'] = trajectories['target_policy']/trajectories['observed_policy']\n",
    "\n",
    "# NOTE I add epsilon here to avoid 0 prob. trajectories as a result of vanishing problem\n",
    "if transform_type != 'debug':\n",
    "    eps = 1e-3\n",
    "else:\n",
    "    eps = 0\n",
    "    \n",
    "prob_per_user = trajectories.groupby('username').prod()['norm_prob'] + eps\n",
    "\n",
    "# Remove problematic users\n",
    "prob_per_user.replace([np.inf, -np.inf], np.nan, inplace=True)\n",
    "\n",
    "is_per_user = disc_return_per_user * prob_per_user\n",
    "standard_is = is_per_user.mean()\n",
    "standard_is_var = is_per_user.var()\n",
    "\n",
    "print('Ordinary IS yields an avg. discounted return of {} with variance {}'.format(standard_is, standard_is_var))"
   ]
  },
  {
   "cell_type": "markdown",
   "id": "f0cc0a0d",
   "metadata": {},
   "source": [
    "### Weighted Importance Sampling"
   ]
  },
  {
   "cell_type": "code",
   "execution_count": 8,
   "id": "96978f77",
   "metadata": {},
   "outputs": [
    {
     "name": "stdout",
     "output_type": "stream",
     "text": [
      "Weighted IS yields an avg. discounted return of 4.910241752718704\n"
     ]
    }
   ],
   "source": [
    "# Filter out problematic users\n",
    "prob_per_user.replace([np.inf, -np.inf], np.nan, inplace=True)\n",
    "\n",
    "weighted_is = (disc_return_per_user * prob_per_user).sum()/prob_per_user.sum()\n",
    "\n",
    "print('Weighted IS yields an avg. discounted return of {}'.format(weighted_is))"
   ]
  },
  {
   "cell_type": "markdown",
   "id": "5169c2a6",
   "metadata": {},
   "source": [
    "### Per-decision Importance Sampling"
   ]
  },
  {
   "cell_type": "code",
   "execution_count": 9,
   "id": "862d5468",
   "metadata": {},
   "outputs": [
    {
     "name": "stdout",
     "output_type": "stream",
     "text": [
      "Per-decision IS yields an avg. discounted return of 0.3970552927206298 with a variance of 2491.9859538704927\n"
     ]
    }
   ],
   "source": [
    "cumprob_in_traj = trajectories.groupby('username').cumprod()['norm_prob'] + eps\n",
    "trajectories['pdis_per_step'] = cumprob_in_traj * trajectories['disc_reward']\n",
    "pdis_per_user = trajectories.groupby('username').sum()['pdis_per_step']\n",
    "trajectories.drop(columns = ['pdis_per_step'], inplace = True)\n",
    "\n",
    "# Filter out problematic users\n",
    "pdis_per_user.replace([np.inf, -np.inf], np.nan, inplace=True)\n",
    "\n",
    "pdis = pdis_per_user.mean()\n",
    "pdis_var = pdis_per_user.var()\n",
    "\n",
    "print('Per-decision IS yields an avg. discounted return of {} with a variance of {}'.format(pdis, pdis_var))"
   ]
  },
  {
   "cell_type": "markdown",
   "id": "5b328784",
   "metadata": {},
   "source": [
    "### Visual analysis"
   ]
  },
  {
   "cell_type": "code",
   "execution_count": 10,
   "id": "f4ab0c67",
   "metadata": {},
   "outputs": [
    {
     "data": {
      "image/png": "[encoded data removed]",
      "text/plain": [
       "<Figure size 1080x720 with 1 Axes>"
      ]
     },
     "metadata": {},
     "output_type": "display_data"
    }
   ],
   "source": [
    "analysis = pd.DataFrame(disc_return_per_user)\n",
    "analysis['prob'] = prob_per_user\n",
    "analysis.loc[analysis['prob'] > 1, 'likeliness'] = 'high'\n",
    "analysis.loc[analysis['prob'] < 1, 'likeliness'] = 'low'\n",
    "\n",
    "plt.figure(figsize = (15,10))\n",
    "sns.histplot(analysis, x = 'disc_reward', hue = 'likeliness')\n",
    "plt.show()"
   ]
  },
  {
   "cell_type": "code",
   "execution_count": 38,
   "id": "63aaf1dd",
   "metadata": {},
   "outputs": [
    {
     "data": {
      "image/png": "[encoded data removed]",
      "text/plain": [
       "<Figure size 1080x360 with 3 Axes>"
      ]
     },
     "metadata": {},
     "output_type": "display_data"
    }
   ],
   "source": [
    "low = analysis.query('prob < 1 and prob > 0.01')\n",
    "high = analysis.query('prob > 1 and prob < 10')\n",
    "very_low = analysis.query('prob < 0.01')\n",
    "very_high = analysis.query('prob > 10')\n",
    "\n",
    "fig, axs = plt.subplots(1,3, figsize = (15,5))\n",
    "\n",
    "sns.histplot(very_low, x = 'disc_reward', ax = axs[0])\n",
    "axs[0].set_title(r'$\\rho < 0.01$. Count = {}'.format(len(very_low)))\n",
    "axs[0].set(xlabel=None)\n",
    "axs[0].set(ylabel=None)\n",
    "\n",
    "\n",
    "sns.histplot(low, x = 'disc_reward', ax = axs[1])\n",
    "axs[1].set_title(r'$0.01 < \\rho < 1$. Count = {}'.format(len(low)))\n",
    "axs[1].set(xlabel=None)\n",
    "axs[1].set(ylabel=None)\n",
    "\n",
    "sns.histplot(high, x = 'disc_reward', ax = axs[2])\n",
    "axs[2].set_title(r'$\\rho > 1$. Count = {}'.format(len(high)))\n",
    "axs[2].set(xlabel=None)\n",
    "axs[2].set(ylabel=None)\n",
    "\n",
    "fig.text(0.5, 0.04, 'Returns', ha='center')\n",
    "fig.text(0.08, 0.5, 'Count', va='center', rotation='vertical')\n",
    "fig.suptitle('MDP_aug4687')\n",
    "plt.savefig('Saved_Figs/IS_trajectory_likeliness.png')\n",
    "plt.show()"
   ]
  }
 ],
 "metadata": {
  "kernelspec": {
   "display_name": "Python 3",
   "language": "python",
   "name": "python3"
  },
  "language_info": {
   "codemirror_mode": {
    "name": "ipython",
    "version": 3
   },
   "file_extension": ".py",
   "mimetype": "text/x-python",
   "name": "python",
   "nbconvert_exporter": "python",
   "pygments_lexer": "ipython3",
   "version": "3.9.2"
  }
 },
 "nbformat": 4,
 "nbformat_minor": 5
}
