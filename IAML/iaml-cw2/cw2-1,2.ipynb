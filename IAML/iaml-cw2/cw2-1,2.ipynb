{
 "cells": [
  {
   "cell_type": "code",
   "execution_count": 20,
   "metadata": {},
   "outputs": [],
   "source": [
    "# Import packages\n",
    "import os\n",
    "import numpy as np \n",
    "import pandas as pd\n",
    "import matplotlib.pyplot as plt\n",
    "import iaml01cw2_helpers as hp\n",
    "from scipy.spatial import distance\n",
    "from sklearn.model_selection import train_test_split,KFold,cross_val_score\n",
    "from sklearn.linear_model import LogisticRegression\n",
    "from sklearn.svm import LinearSVC, SVC\n",
    "from sklearn.decomposition import PCA\n",
    "from sklearn.neighbors import KNeighborsClassifier\n",
    "from sklearn.metrics import confusion_matrix, log_loss, mean_squared_error\n",
    "KNeighboursClassifier = KNeighborsClassifier # For the Brits!\n",
    "%matplotlib inline"
   ]
  },
  {
   "cell_type": "code",
   "execution_count": 2,
   "metadata": {},
   "outputs": [],
   "source": [
    "Xtrn, Ytrn, Xtst, Ytst = hp.load_FashionMNIST('D:\\iaml-cw2\\data\\data')\n",
    "Xtrn=Xtrn/255\n",
    "Xtst=Xtst/255"
   ]
  },
  {
   "cell_type": "code",
   "execution_count": 3,
   "metadata": {},
   "outputs": [],
   "source": [
    "Xtrn_orig=Xtrn.copy()\n",
    "Xtst_orig=Xtst.copy()"
   ]
  },
  {
   "cell_type": "code",
   "execution_count": 4,
   "metadata": {},
   "outputs": [],
   "source": [
    "#1.2\n",
    "df=pd.DataFrame(Xtrn)\n",
    "dftst=pd.DataFrame(Xtst)\n",
    "Xmean=np.mean(Xtrn,axis=0)\n",
    "Xtrn_nm=df.transpose().apply(lambda x:x-Xmean).transpose()\n",
    "Xtst_nm=dftst.transpose().apply(lambda x:x-Xmean).transpose()\n",
    "dfy=pd.DataFrame(Ytrn,columns=['y'])\n",
    "frames=[df,dfy]\n",
    "dft=pd.concat(frames,axis=1)\n",
    "fig,axs = plt.subplots(10,5,figsize=(12,17))\n",
    "for i in range (10):\n",
    "    c=dft[dft['y']==i].drop(columns=['y'])\n",
    "    m=c.mean()\n",
    "    r=c.shape[0]\n",
    "    d=[0 for x in range (r)]\n",
    "    for j in range (r):\n",
    "        d[j]=distance.euclidean(m,c.loc[c.index[j]])\n",
    "    s=sorted(zip(d,c.index),key=lambda t:t[0])\n",
    "    axs[i][0].imshow(np.array(m).reshape(28,28),cmap='gray_r')\n",
    "    axs[i][0].set(ylabel='Class '+str(i)+'-Mean')\n",
    "    closest=np.array(c.loc[s[0][1]]).reshape(28,28)\n",
    "    second_closest=np.array(c.loc[s[1][1]]).reshape(28,28)\n",
    "    second_furtherest=np.array(c.loc[s[-2][1]]).reshape(28,28)\n",
    "    furtherest=np.array(c.loc[s[-1][1]]).reshape(28,28)\n",
    "    axs[i][1].imshow(np.array(closest).reshape(28,28),cmap='gray_r')\n",
    "    axs[i][1].set(ylabel='Class '+str(i)+'-'+str(s[0][1]))\n",
    "    axs[i][2].imshow(np.array(second_closest).reshape(28,28),cmap='gray_r')\n",
    "    axs[i][2].set(ylabel='Class '+str(i)+'-'+str(s[1][1]))\n",
    "    axs[i][3].imshow(np.array(second_furtherest).reshape(28,28),cmap='gray_r')\n",
    "    axs[i][3].set(ylabel='Class '+str(i)+'-'+str(s[-2][1]))\n",
    "    axs[i][4].imshow(np.array(furtherest).reshape(28,28),cmap='gray_r')\n",
    "    axs[i][4].set(ylabel='Class '+str(i)+'-'+str(s[-1][1]))\n",
    "plt.savefig('1-2.png')"
   ]
  },
  {
   "cell_type": "code",
   "execution_count": 1,
   "metadata": {},
   "outputs": [],
   "source": [
    "#1.1\n",
    "np.array(Xtrn_nm)[0][0:4]"
   ]
  },
  {
   "cell_type": "code",
   "execution_count": 2,
   "metadata": {},
   "outputs": [],
   "source": [
    "#1.1\n",
    "np.array(Xtst_nm)[-1][0:4]"
   ]
  },
  {
   "cell_type": "code",
   "execution_count": 4,
   "metadata": {},
   "outputs": [],
   "source": [
    "#1.5\n",
    "pca=PCA(10)\n",
    "pca.fit(Xtrn_nm)\n",
    "a=pca.explained_variance_ratio_\n",
    "for i in [1,2,3,4,5,6,7,8,9]:\n",
    "    a[i]=a[i-1]+a[i]"
   ]
  },
  {
   "cell_type": "code",
   "execution_count": null,
   "metadata": {},
   "outputs": [],
   "source": [
    "#1.3\n",
    "pca=PCA(5)\n",
    "pca.fit(Xtrn_nm)\n",
    "r=pca.explained_variance_"
   ]
  },
  {
   "cell_type": "code",
   "execution_count": 14,
   "metadata": {},
   "outputs": [],
   "source": [
    "#1.4\n",
    "r=pca.explained_variance_ratio_\n",
    "sr=[0,0,0,0,0]\n",
    "for i in range (5):\n",
    "    if(i==0):\n",
    "        sr[i]=r[i]\n",
    "    else:\n",
    "        sr[i]=sr[i-1]+r[i]\n",
    "plt.plot(sr)\n",
    "plt.xticks([i for i in range (5)],labels=[i+1 for i in range (5)])\n",
    "plt.title('Cumulative Explained Variance Ratio')\n",
    "plt.xlabel('Component no.')\n",
    "plt.ylabel('Cumulative Ratio')"
   ]
  },
  {
   "cell_type": "code",
   "execution_count": 9,
   "metadata": {},
   "outputs": [],
   "source": [
    "#1.5\n",
    "pca=PCA(10)\n",
    "pca.fit(Xtrn_nm)\n",
    "fig,axs=plt.subplots(2,5,figsize=(12,5))\n",
    "for i in range (10):\n",
    "    a=i//5\n",
    "    b=i%5\n",
    "    axs[a][b].imshow(np.array(pca.components_[i]).reshape(28,28),cmap='gray_r')\n",
    "    axs[a][b].set_title('Component '+str(i+1))"
   ]
  },
  {
   "cell_type": "code",
   "execution_count": 8,
   "metadata": {},
   "outputs": [],
   "source": [
    "#1.6,1.7\n",
    "dfy=pd.DataFrame(Ytrn,columns=['y'])\n",
    "dfnm=pd.DataFrame(Xtrn_nm)\n",
    "frames=[dfnm,dfy]\n",
    "dftnm=pd.concat(frames,axis=1)\n",
    "a=[5,20,50,200]\n",
    "rmse_all=[[0 for i in range (4)]for j in range (10)]\n",
    "fig,axs=plt.subplots(10,4,figsize=(10,20))\n",
    "for i in range (10):\n",
    "    c=dftnm[dftnm['y']==i].drop(columns=['y'])\n",
    "    m=c.mean()\n",
    "    first=c.loc[c.index[0]]\n",
    "    for j in range (4):\n",
    "        pca=PCA(a[j])\n",
    "        pca.fit(c)\n",
    "        re=pca.inverse_transform(first.dot(pca.components_.transpose()))\n",
    "        rmse=np.sqrt(mean_squared_error(first,re))\n",
    "        rmse_all[i][j]=rmse\n",
    "        re=re+m\n",
    "        axs[i][j].imshow(np.array(re).reshape(28,28),cmap='gray_r')\n",
    "        axs[i][j].set(ylabel='Class '+str(i)+',K='+str(a[j]))\n",
    "plt.savefig('1-7.png')\n",
    "print(rmse_all)"
   ]
  },
  {
   "cell_type": "code",
   "execution_count": 21,
   "metadata": {},
   "outputs": [],
   "source": [
    "#1.8\n",
    "pca=PCA(2)\n",
    "pca.fit(Xtrn_nm,Ytrn)\n",
    "dftnmx=dftnm.drop(columns=['y'])\n",
    "c=dftnmx.dot(pca.components_.transpose())\n",
    "frames=[c,dfy]\n",
    "dftnm2=pd.concat(frames,axis=1)\n",
    "plt.scatter(dftnm2[0],dftnm2[1],c=Ytrn,s=1,cmap='coolwarm')\n",
    "plt.title('Training samples in 2-D')\n",
    "plt.xlabel('Component 1')\n",
    "plt.ylabel('Component 2')\n",
    "cb=plt.colorbar(aspect=15)\n",
    "cb.set_label('Color for each Class')\n",
    "plt.savefig('1-8.png')"
   ]
  },
  {
   "cell_type": "code",
   "execution_count": 6,
   "metadata": {},
   "outputs": [],
   "source": [
    "#2.1\n",
    "lg=LogisticRegression()\n",
    "lg.fit(Xtrn_nm,Ytrn)\n",
    "lg.score(Xtst_nm,Ytst)"
   ]
  },
  {
   "cell_type": "code",
   "execution_count": null,
   "metadata": {},
   "outputs": [],
   "source": [
    "#2.1\n",
    "cm=confusion_matrix(Ytst,lg.predict(Xtst_nm))"
   ]
  },
  {
   "cell_type": "code",
   "execution_count": 7,
   "metadata": {},
   "outputs": [],
   "source": [
    "#2.2\n",
    "svc=SVC()\n",
    "svc.fit(Xtrn_nm,Ytrn)\n",
    "svc.score(Xtst_nm,Ytst)"
   ]
  },
  {
   "cell_type": "code",
   "execution_count": 9,
   "metadata": {},
   "outputs": [],
   "source": [
    "#2.2\n",
    "cm=confusion_matrix(Ytst,svc.predict(Xtst_nm))"
   ]
  },
  {
   "cell_type": "code",
   "execution_count": 10,
   "metadata": {},
   "outputs": [],
   "source": [
    "#2.3\n",
    "pca=PCA(2)\n",
    "pca.fit(Xtrn_nm,Ytrn)\n",
    "sigma1=np.sqrt(pca.explained_variance_[0])\n",
    "sigma2=np.sqrt(pca.explained_variance_[1])\n",
    "x=np.linspace(-5*sigma1,5*sigma1,100)\n",
    "y=np.linspace(-5*sigma2,5*sigma2,100)\n",
    "X,Y=np.meshgrid(x,y)\n",
    "Xtst2d=Xtst.dot(pca.components_.transpose())\n",
    "z=[[lg.predict(pca.inverse_transform([[x[i],y[j]]]))[0] for i in range (100)]for j in range (100)]\n",
    "plt.contourf(X,Y,z,levels=np.arange(-1,9),cmap='coolwarm')\n",
    "plt.title('Decision Regions for Logistic Regression')\n",
    "plt.xlabel('Sigma1')\n",
    "plt.ylabel('Sigma2')\n",
    "cb=plt.colorbar(aspect=15)\n",
    "cb.set_label('Color for each Class')\n",
    "cb.set_ticks(np.arange(-0.5,8.5))\n",
    "cb.set_ticklabels(np.arange(0,9))\n",
    "plt.savefig('2-3.png')"
   ]
  },
  {
   "cell_type": "code",
   "execution_count": 21,
   "metadata": {},
   "outputs": [],
   "source": [
    "#2.4\n",
    "zs=[[svc.predict(pca.inverse_transform([[x[i],y[j]]]))[0] for i in range (100)]for j in range (100)]"
   ]
  },
  {
   "cell_type": "code",
   "execution_count": 11,
   "metadata": {},
   "outputs": [],
   "source": [
    "#2.5\n",
    "frames=[dft[dft['y']==i].head(1000) for i in range(10)]\n",
    "small=pd.concat(frames,axis=0)\n",
    "Xsmall=small.drop(columns=['y'])\n",
    "Ysmall=small['y']\n",
    "kf=KFold(3)\n",
    "x=np.linspace(-2,3,10)\n",
    "a=0\n",
    "m=[0 for i in range (10)]\n",
    "for i in range (10):\n",
    "    svc=SVC(10**x[i])\n",
    "    m[i]=cross_val_score(svc,Xsmall,Ysmall,cv=3)"
   ]
  },
  {
   "cell_type": "code",
   "execution_count": 12,
   "metadata": {},
   "outputs": [],
   "source": [
    "#2.4\n",
    "plt.contourf(X,Y,zs,levels=np.arange(-1,10),cmap='coolwarm')\n",
    "plt.title('Decision Regions for SVC')\n",
    "plt.xlabel('Sigma1')\n",
    "plt.ylabel('Sigma2')\n",
    "cb=plt.colorbar()\n",
    "cb.set_label('Color for each Class')\n",
    "cb.set_ticks(np.arange(-0.5,9.5))\n",
    "cb.set_ticklabels(np.arange(0,10))\n",
    "plt.savefig('2-4.png')"
   ]
  },
  {
   "cell_type": "code",
   "execution_count": 13,
   "metadata": {},
   "outputs": [],
   "source": [
    "#2.5\n",
    "mm=[np.mean(m[i]) for i in range (10)]\n",
    "plt.plot(x,mm)\n",
    "plt.title('Relationship between Accuracy and C')\n",
    "plt.xlabel('Regularisation Parameter(log-scale)')\n",
    "plt.ylabel('Mean Accuracy')\n",
    "plt.savefig('2-5.png')"
   ]
  },
  {
   "cell_type": "code",
   "execution_count": 16,
   "metadata": {},
   "outputs": [],
   "source": [
    "#2.5\n",
    "s=sorted(zip(x,mm),key=lambda t:t[1])"
   ]
  },
  {
   "cell_type": "code",
   "execution_count": 17,
   "metadata": {},
   "outputs": [],
   "source": [
    "#2.6\n",
    "svc2=SVC(10**x[6])\n",
    "svc2.fit(Xtrn_nm,Ytrn)"
   ]
  },
  {
   "cell_type": "code",
   "execution_count": 18,
   "metadata": {},
   "outputs": [],
   "source": [
    "#2.6\n",
    "svc2.score(Xtrn_nm,Ytrn)"
   ]
  },
  {
   "cell_type": "code",
   "execution_count": 19,
   "metadata": {},
   "outputs": [],
   "source": [
    "#2.6\n",
    "svc2.score(Xtst_nm,Ytst)"
   ]
  },
  {
   "cell_type": "code",
   "execution_count": null,
   "metadata": {},
   "outputs": [],
   "source": []
  }
 ],
 "metadata": {
  "kernelspec": {
   "display_name": "Python 3",
   "language": "python",
   "name": "python3"
  },
  "language_info": {
   "codemirror_mode": {
    "name": "ipython",
    "version": 3
   },
   "file_extension": ".py",
   "mimetype": "text/x-python",
   "name": "python",
   "nbconvert_exporter": "python",
   "pygments_lexer": "ipython3",
   "version": "3.7.9"
  }
 },
 "nbformat": 4,
 "nbformat_minor": 4
}
