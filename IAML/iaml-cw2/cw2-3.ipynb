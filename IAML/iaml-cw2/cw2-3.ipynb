{
 "cells": [
  {
   "cell_type": "code",
   "execution_count": 11,
   "metadata": {},
   "outputs": [],
   "source": [
    "# Import packages\n",
    "import os\n",
    "import numpy as np \n",
    "import pandas as pd\n",
    "import matplotlib.pyplot as plt\n",
    "import matplotlib.axes as ax\n",
    "import iaml01cw2_helpers as hp\n",
    "from scipy.spatial import distance\n",
    "from sklearn.model_selection import train_test_split\n",
    "from sklearn.linear_model import LogisticRegression\n",
    "from sklearn.svm import LinearSVC, SVC\n",
    "from sklearn.decomposition import PCA\n",
    "from sklearn.neighbors import KNeighborsClassifier\n",
    "from sklearn.metrics import confusion_matrix, log_loss, mean_squared_error\n",
    "from sklearn.cluster import KMeans\n",
    "from sklearn.mixture import GaussianMixture\n",
    "from scipy.cluster import hierarchy\n",
    "KNeighboursClassifier = KNeighborsClassifier # For the Brits!\n",
    "%matplotlib inline"
   ]
  },
  {
   "cell_type": "code",
   "execution_count": 2,
   "metadata": {},
   "outputs": [],
   "source": [
    "Xtrn,Ytrn,Xtst,Ytst = hp.load_CoVoST2('D:\\iaml-cw2\\data')"
   ]
  },
  {
   "cell_type": "code",
   "execution_count": 1,
   "metadata": {},
   "outputs": [],
   "source": [
    "df=pd.DataFrame(Ytrn,columns=['y'])"
   ]
  },
  {
   "cell_type": "code",
   "execution_count": 2,
   "metadata": {},
   "outputs": [],
   "source": [
    "#3.1\n",
    "km=KMeans(22,random_state=1)\n",
    "km.fit(Xtrn,Ytrn)\n",
    "km.inertia_"
   ]
  },
  {
   "cell_type": "code",
   "execution_count": 4,
   "metadata": {},
   "outputs": [],
   "source": [
    "#3.1\n",
    "df=pd.DataFrame(km.labels_)\n",
    "for i in range (22):\n",
    "    print('Number of Samples in Cluster '+str(i)+':'+str(df[df[0]==i].shape[0]))"
   ]
  },
  {
   "cell_type": "code",
   "execution_count": 6,
   "metadata": {},
   "outputs": [],
   "source": [
    "dfx=pd.DataFrame(Xtrn)\n",
    "dfy=pd.DataFrame(Ytrn,columns=['y'])\n",
    "frames=[dfx,dfy]\n",
    "dft=pd.concat(frames,axis=1)"
   ]
  },
  {
   "cell_type": "code",
   "execution_count": 5,
   "metadata": {},
   "outputs": [],
   "source": [
    "#3.2\n",
    "pca=PCA(2)\n",
    "pca.fit(Xtrn,Ytrn)"
   ]
  },
  {
   "cell_type": "code",
   "execution_count": 6,
   "metadata": {},
   "outputs": [],
   "source": [
    "#3.2\n",
    "ms=[[0 for i in range (22)]for j in range (2)]\n",
    "for i in range (22):\n",
    "    c=dft[dft['y']==i].drop(columns=['y'])\n",
    "    m=c.mean().dot(pca.components_.transpose())\n",
    "    ms[0][i]=m[0]\n",
    "    ms[1][i]=m[1]\n",
    "plt.scatter(ms[0],ms[1],s=20)\n",
    "for i in range (22):\n",
    "    plt.annotate(str(i),xy=(ms[0][i],ms[1][i]))\n",
    "cc2d=km.cluster_centers_.dot(pca.components_.transpose()).transpose()\n",
    "plt.scatter(cc2d[0],cc2d[1],s=20)\n",
    "for i in range (22):\n",
    "    plt.annotate(str(i),xy=(cc2d[0][i],cc2d[1][i]))\n",
    "plt.legend(labels=['Mean Vector of PCA','Cluster Center'])\n",
    "plt.title('Mean Vectors and Cluster Centers in 2D')\n",
    "plt.xlabel('Component 1')\n",
    "plt.ylabel('Component 2')\n",
    "plt.savefig('3-2.png')"
   ]
  },
  {
   "cell_type": "code",
   "execution_count": 3,
   "metadata": {},
   "outputs": [],
   "source": [
    "dfx=pd.DataFrame(Xtrn)\n",
    "dfy=pd.DataFrame(Ytrn,columns=['y'])\n",
    "frames=[dfx,dfy]\n",
    "dft=pd.concat(frames,axis=1)\n",
    "x0=dft[dft['y']==0].drop(columns=['y'])\n",
    "y0=dft[dft['y']==0][['y']]\n",
    "dfxt=pd.DataFrame(Xtst)\n",
    "dfyt=pd.DataFrame(Ytst,columns=['y'])\n",
    "frames=[dfxt,dfyt]\n",
    "dftt=pd.concat(frames,axis=1)\n",
    "x0t=dftt[dftt['y']==0].drop(columns=['y'])\n",
    "y0t=dftt[dftt['y']==0][['y']]"
   ]
  },
  {
   "cell_type": "code",
   "execution_count": 11,
   "metadata": {},
   "outputs": [],
   "source": [
    "#3.5\n",
    "k=[1,3,5,10,15]\n",
    "full_test=[0 for i in range(5)]\n",
    "diagonal_test=[0 for i in range(5)]\n",
    "full_train=[0 for i in range(5)]\n",
    "diagonal_train=[0 for i in range(5)]\n",
    "for i in range (5):\n",
    "    gm1=GaussianMixture(k[i],covariance_type='full',random_state=1)\n",
    "    gm1.fit(x0,y0)\n",
    "    full_train[i]=gm1.score(x0,y0)\n",
    "    full_test[i]=gm1.score(x0t,y0t)\n",
    "    gm2=GaussianMixture(k[i],covariance_type='diag',random_state=1)\n",
    "    gm2.fit(x0,y0)\n",
    "    diagonal_train[i]=gm2.score(x0,y0)\n",
    "    diagonal_test[i]=gm2.score(x0t,y0t)"
   ]
  },
  {
   "cell_type": "code",
   "execution_count": 7,
   "metadata": {},
   "outputs": [],
   "source": [
    "#3.5\n",
    "plt.plot(k,diagonal_train)\n",
    "plt.plot(k,full_train)\n",
    "plt.plot(k,diagonal_test)\n",
    "plt.plot(k,full_test)\n",
    "plt.legend(labels=['Diagonal_train','Full_train','Diagonal_test','Full_test'])\n",
    "plt.title('Relationship Between Log-likelihood and K')\n",
    "plt.xlabel('Number of mixtures')\n",
    "plt.xticks([1,3,5,10,15],['K=1','K=3','K=5','K=10','K=15'])\n",
    "plt.ylabel('Per-sample average Log-likelihood')\n",
    "plt.savefig('3-5.png')"
   ]
  },
  {
   "cell_type": "code",
   "execution_count": 8,
   "metadata": {},
   "outputs": [],
   "source": [
    "#3.5\n",
    "print(diagonal_train)\n",
    "print(diagonal_test)\n",
    "print(full_train)\n",
    "print(full_test)"
   ]
  },
  {
   "cell_type": "code",
   "execution_count": 9,
   "metadata": {},
   "outputs": [],
   "source": [
    "#3.3\n",
    "m=[dft[dft['y']==i].drop(columns=['y']).mean() for i in range (22)]\n",
    "hierarchy.dendrogram(hierarchy.ward(m),orientation='right')\n",
    "plt.ylabel('Languages')\n",
    "plt.title('Hierarchy of Languages')\n",
    "plt.xlabel('Distance Dissimilarity')\n",
    "plt.savefig('3-3.png')"
   ]
  },
  {
   "cell_type": "code",
   "execution_count": 10,
   "metadata": {},
   "outputs": [],
   "source": [
    "#3.4\n",
    "a=[]\n",
    "for i in range (22):\n",
    "    c=dft[dft['y']==i].drop(columns=['y'])\n",
    "    km=KMeans(3,random_state=1)\n",
    "    km.fit(c)\n",
    "    for j in range (3):\n",
    "        a.append(km.cluster_centers_[j])\n",
    "l=[str(int(i/3))+','+str(i%3) for i in range (66)]\n",
    "hierarchy.dendrogram(hierarchy.ward(a),orientation='right',labels=l)\n",
    "plt.ylabel('Languages and Clusters')\n",
    "plt.title('Hierarchy Using Ward Link ')\n",
    "plt.xlabel('Distance Dissimilarity')\n",
    "plt.savefig('3-4-ward.png')"
   ]
  },
  {
   "cell_type": "code",
   "execution_count": 11,
   "metadata": {},
   "outputs": [],
   "source": [
    "#3.4\n",
    "hierarchy.dendrogram(hierarchy.single(a),orientation='right',labels=l)\n",
    "plt.ylabel('Languages and Clusters')\n",
    "plt.title('Hierarchy Using Single Link ')\n",
    "plt.xlabel('Distance Dissimilarity')\n",
    "plt.savefig('3-4-single.png')"
   ]
  },
  {
   "cell_type": "code",
   "execution_count": 12,
   "metadata": {},
   "outputs": [],
   "source": [
    "#3.4\n",
    "hierarchy.dendrogram(hierarchy.complete(a),orientation='right',labels=l)\n",
    "plt.ylabel('Languages and Clusters')\n",
    "plt.title('Hierarchy Using Complete Link ')\n",
    "plt.xlabel('Distance Dissimilarity')\n",
    "plt.savefig('3-4-complete.png')"
   ]
  },
  {
   "cell_type": "code",
   "execution_count": null,
   "metadata": {},
   "outputs": [],
   "source": []
  }
 ],
 "metadata": {
  "kernelspec": {
   "display_name": "Python 3",
   "language": "python",
   "name": "python3"
  },
  "language_info": {
   "codemirror_mode": {
    "name": "ipython",
    "version": 3
   },
   "file_extension": ".py",
   "mimetype": "text/x-python",
   "name": "python",
   "nbconvert_exporter": "python",
   "pygments_lexer": "ipython3",
   "version": "3.7.9"
  }
 },
 "nbformat": 4,
 "nbformat_minor": 4
}
