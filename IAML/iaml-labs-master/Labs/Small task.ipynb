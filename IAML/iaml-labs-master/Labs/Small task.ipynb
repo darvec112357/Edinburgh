{
 "cells": [
  {
   "cell_type": "code",
   "execution_count": 28,
   "metadata": {},
   "outputs": [],
   "source": [
    "# Import packages\n",
    "import os\n",
    "import numpy as np \n",
    "import pandas as pd\n",
    "import matplotlib.pyplot as plt\n",
    "import seaborn as sns\n",
    "import math\n",
    "from sklearn.naive_bayes import MultinomialNB\n",
    "from sklearn.metrics import accuracy_score, confusion_matrix\n",
    "from sklearn.linear_model import LinearRegression,LogisticRegression\n",
    "from sklearn.model_selection import KFold,cross_val_score\n",
    "%matplotlib inline"
   ]
  },
  {
   "cell_type": "code",
   "execution_count": 29,
   "metadata": {},
   "outputs": [],
   "source": [
    "f=open('Training.txt','r',encoding='UTF-8')\n",
    "training = f.read().replace(u'\\ufeff','').splitlines()\n",
    "training_set=[training[i].split(',') for i in range (len(training))]\n",
    "for i in range (len(training_set)):\n",
    "    for j in range (513):\n",
    "        training_set[i][j]=float(training_set[i][j])\n",
    "trn=pd.DataFrame(training_set)\n",
    "Xtrn=trn.loc[:,0:511]\n",
    "Ytrn=trn[[512]]"
   ]
  },
  {
   "cell_type": "code",
   "execution_count": 30,
   "metadata": {},
   "outputs": [],
   "source": [
    "f=open('Testing.txt','r',encoding='UTF-8')\n",
    "testing = f.read().replace(u'\\ufeff','').splitlines()\n",
    "testing_set=[testing[i].split(',') for i in range (len(testing))]\n",
    "for i in range (len(testing_set)):\n",
    "    for j in range (513):\n",
    "        testing_set[i][j]=float(testing_set[i][j])\n",
    "tst=pd.DataFrame(testing_set)\n",
    "Xtst=tst.loc[:,0:511]\n",
    "Ytst=tst[[512]]"
   ]
  },
  {
   "cell_type": "markdown",
   "metadata": {},
   "source": [
    "Since we only have two classes in this problem, logistic regression would be a suitable model. "
   ]
  },
  {
   "cell_type": "code",
   "execution_count": 31,
   "metadata": {},
   "outputs": [
    {
     "data": {
      "text/plain": [
       "LogisticRegression()"
      ]
     },
     "execution_count": 31,
     "metadata": {},
     "output_type": "execute_result"
    }
   ],
   "source": [
    "lg=LogisticRegression()\n",
    "lg.fit(Xtrn,np.ravel(Ytrn))"
   ]
  },
  {
   "cell_type": "code",
   "execution_count": 32,
   "metadata": {},
   "outputs": [
    {
     "data": {
      "text/plain": [
       "0.6690647482014388"
      ]
     },
     "execution_count": 32,
     "metadata": {},
     "output_type": "execute_result"
    }
   ],
   "source": [
    "lg.score(Xtst,Ytst)"
   ]
  },
  {
   "cell_type": "code",
   "execution_count": 33,
   "metadata": {},
   "outputs": [
    {
     "data": {
      "text/plain": [
       "array([[87, 17],\n",
       "       [29,  6]], dtype=int64)"
      ]
     },
     "execution_count": 33,
     "metadata": {},
     "output_type": "execute_result"
    }
   ],
   "source": [
    "cm=confusion_matrix(Ytst,lg.predict(Xtst))\n",
    "cm"
   ]
  },
  {
   "cell_type": "markdown",
   "metadata": {},
   "source": [
    "The accuracy of predictions on test data is about 66.9%. However, since we want to predict as many major earthquakes as possible, we are more interested in the recall. According to the confusion matrix, the recall is 6/(6+29)=17%, which is very poor. \n",
    "\n",
    "One of the reasons is that there are many other geographical features that affect the earthquake, for example, the distance to boundaries between techtonic plates. Such data may also be included to predict major earthquake events."
   ]
  },
  {
   "cell_type": "code",
   "execution_count": null,
   "metadata": {},
   "outputs": [],
   "source": []
  }
 ],
 "metadata": {
  "kernelspec": {
   "display_name": "Python 3",
   "language": "python",
   "name": "python3"
  },
  "language_info": {
   "codemirror_mode": {
    "name": "ipython",
    "version": 3
   },
   "file_extension": ".py",
   "mimetype": "text/x-python",
   "name": "python",
   "nbconvert_exporter": "python",
   "pygments_lexer": "ipython3",
   "version": "3.8.3"
  }
 },
 "nbformat": 4,
 "nbformat_minor": 4
}
