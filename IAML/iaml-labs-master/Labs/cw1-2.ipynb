{
 "cells": [
  {
   "cell_type": "code",
   "execution_count": 138,
   "metadata": {},
   "outputs": [],
   "source": [
    "# Import packages\n",
    "import os\n",
    "import numpy as np \n",
    "import math\n",
    "import pandas as pd\n",
    "import matplotlib.pyplot as plt\n",
    "import seaborn as sns\n",
    "from sklearn.linear_model import LinearRegression\n",
    "from sklearn.preprocessing import PolynomialFeatures\n",
    "from sklearn.pipeline import Pipeline\n",
    "%matplotlib inline"
   ]
  },
  {
   "cell_type": "code",
   "execution_count": 3,
   "metadata": {},
   "outputs": [
    {
     "data": {
      "text/html": [
       "<div>\n",
       "<style scoped>\n",
       "    .dataframe tbody tr th:only-of-type {\n",
       "        vertical-align: middle;\n",
       "    }\n",
       "\n",
       "    .dataframe tbody tr th {\n",
       "        vertical-align: top;\n",
       "    }\n",
       "\n",
       "    .dataframe thead th {\n",
       "        text-align: right;\n",
       "    }\n",
       "</style>\n",
       "<table border=\"1\" class=\"dataframe\">\n",
       "  <thead>\n",
       "    <tr style=\"text-align: right;\">\n",
       "      <th></th>\n",
       "      <th>input</th>\n",
       "      <th>output</th>\n",
       "    </tr>\n",
       "  </thead>\n",
       "  <tbody>\n",
       "    <tr>\n",
       "      <th>0</th>\n",
       "      <td>2.728</td>\n",
       "      <td>9.088</td>\n",
       "    </tr>\n",
       "    <tr>\n",
       "      <th>1</th>\n",
       "      <td>3.244</td>\n",
       "      <td>12.786</td>\n",
       "    </tr>\n",
       "    <tr>\n",
       "      <th>2</th>\n",
       "      <td>-4.164</td>\n",
       "      <td>-10.016</td>\n",
       "    </tr>\n",
       "    <tr>\n",
       "      <th>3</th>\n",
       "      <td>4.875</td>\n",
       "      <td>32.976</td>\n",
       "    </tr>\n",
       "    <tr>\n",
       "      <th>4</th>\n",
       "      <td>3.329</td>\n",
       "      <td>10.437</td>\n",
       "    </tr>\n",
       "    <tr>\n",
       "      <th>5</th>\n",
       "      <td>4.268</td>\n",
       "      <td>21.681</td>\n",
       "    </tr>\n",
       "    <tr>\n",
       "      <th>6</th>\n",
       "      <td>-2.879</td>\n",
       "      <td>-5.204</td>\n",
       "    </tr>\n",
       "    <tr>\n",
       "      <th>7</th>\n",
       "      <td>-2.276</td>\n",
       "      <td>-1.465</td>\n",
       "    </tr>\n",
       "    <tr>\n",
       "      <th>8</th>\n",
       "      <td>2.688</td>\n",
       "      <td>8.539</td>\n",
       "    </tr>\n",
       "    <tr>\n",
       "      <th>9</th>\n",
       "      <td>2.780</td>\n",
       "      <td>6.929</td>\n",
       "    </tr>\n",
       "    <tr>\n",
       "      <th>10</th>\n",
       "      <td>3.874</td>\n",
       "      <td>15.765</td>\n",
       "    </tr>\n",
       "    <tr>\n",
       "      <th>11</th>\n",
       "      <td>-4.826</td>\n",
       "      <td>-15.577</td>\n",
       "    </tr>\n",
       "    <tr>\n",
       "      <th>12</th>\n",
       "      <td>2.633</td>\n",
       "      <td>11.382</td>\n",
       "    </tr>\n",
       "    <tr>\n",
       "      <th>13</th>\n",
       "      <td>2.815</td>\n",
       "      <td>9.853</td>\n",
       "    </tr>\n",
       "    <tr>\n",
       "      <th>14</th>\n",
       "      <td>4.441</td>\n",
       "      <td>24.914</td>\n",
       "    </tr>\n",
       "    <tr>\n",
       "      <th>15</th>\n",
       "      <td>1.345</td>\n",
       "      <td>3.977</td>\n",
       "    </tr>\n",
       "    <tr>\n",
       "      <th>16</th>\n",
       "      <td>-4.616</td>\n",
       "      <td>-15.291</td>\n",
       "    </tr>\n",
       "    <tr>\n",
       "      <th>17</th>\n",
       "      <td>1.405</td>\n",
       "      <td>-0.154</td>\n",
       "    </tr>\n",
       "    <tr>\n",
       "      <th>18</th>\n",
       "      <td>-2.588</td>\n",
       "      <td>-0.988</td>\n",
       "    </tr>\n",
       "    <tr>\n",
       "      <th>19</th>\n",
       "      <td>0.992</td>\n",
       "      <td>-1.133</td>\n",
       "    </tr>\n",
       "    <tr>\n",
       "      <th>20</th>\n",
       "      <td>3.276</td>\n",
       "      <td>10.743</td>\n",
       "    </tr>\n",
       "    <tr>\n",
       "      <th>21</th>\n",
       "      <td>-0.597</td>\n",
       "      <td>0.536</td>\n",
       "    </tr>\n",
       "    <tr>\n",
       "      <th>22</th>\n",
       "      <td>-3.772</td>\n",
       "      <td>-6.342</td>\n",
       "    </tr>\n",
       "    <tr>\n",
       "      <th>23</th>\n",
       "      <td>-2.848</td>\n",
       "      <td>-1.673</td>\n",
       "    </tr>\n",
       "    <tr>\n",
       "      <th>24</th>\n",
       "      <td>4.310</td>\n",
       "      <td>25.919</td>\n",
       "    </tr>\n",
       "  </tbody>\n",
       "</table>\n",
       "</div>"
      ],
      "text/plain": [
       "    input  output\n",
       "0   2.728   9.088\n",
       "1   3.244  12.786\n",
       "2  -4.164 -10.016\n",
       "3   4.875  32.976\n",
       "4   3.329  10.437\n",
       "5   4.268  21.681\n",
       "6  -2.879  -5.204\n",
       "7  -2.276  -1.465\n",
       "8   2.688   8.539\n",
       "9   2.780   6.929\n",
       "10  3.874  15.765\n",
       "11 -4.826 -15.577\n",
       "12  2.633  11.382\n",
       "13  2.815   9.853\n",
       "14  4.441  24.914\n",
       "15  1.345   3.977\n",
       "16 -4.616 -15.291\n",
       "17  1.405  -0.154\n",
       "18 -2.588  -0.988\n",
       "19  0.992  -1.133\n",
       "20  3.276  10.743\n",
       "21 -0.597   0.536\n",
       "22 -3.772  -6.342\n",
       "23 -2.848  -1.673\n",
       "24  4.310  25.919"
      ]
     },
     "execution_count": 3,
     "metadata": {},
     "output_type": "execute_result"
    }
   ],
   "source": [
    "path = os.path.join(os.getcwd(), 'data', 'regression_part2.csv')\n",
    "part2=pd.read_csv(path,delimiter=',')\n",
    "x=np.array([[1,part2['input'][i]] for i in range (25)])\n",
    "part2"
   ]
  },
  {
   "cell_type": "code",
   "execution_count": 4,
   "metadata": {},
   "outputs": [
    {
     "data": {
      "image/png": "[encoded data removed]",
      "text/plain": [
       "<Figure size 432x288 with 1 Axes>"
      ]
     },
     "metadata": {
      "needs_background": "light"
     },
     "output_type": "display_data"
    }
   ],
   "source": [
    "plt.scatter(part2['input'],part2['output'])\n",
    "plt.show()"
   ]
  },
  {
   "cell_type": "code",
   "execution_count": 30,
   "metadata": {},
   "outputs": [
    {
     "data": {
      "image/png": "[encoded data removed]",
      "text/plain": [
       "<Figure size 432x288 with 1 Axes>"
      ]
     },
     "metadata": {
      "needs_background": "light"
     },
     "output_type": "display_data"
    }
   ],
   "source": [
    "lg=LinearRegression(fit_intercept=False)\n",
    "lg.fit(x,part2['output'])\n",
    "lg_output=list(map(lambda n:n*lg.coef_[1]+lg.coef_[0],part2['input']))\n",
    "plt.scatter(part2['input'],part2['output'],label='real data')\n",
    "plt.plot(part2['input'],lg_output,color='black',label='M=1')\n",
    "colors=['black','orange','green','red']\n",
    "y_pred_all=[np.array(lg_output)]\n",
    "for i in [2,3,4]:\n",
    "    Input=[('polynomial',PolynomialFeatures(degree=i)),('modal',LinearRegression())]\n",
    "    pipe=Pipeline(Input)\n",
    "    pipe.fit(np.array(part2['input']).reshape(-1,1),np.array(part2['output']).reshape(-1,1))\n",
    "    poly_pred=pipe.predict(np.array(part2['input']).reshape(-1,1))\n",
    "    y_pred_all.append(poly_pred)\n",
    "#     print(poly_pred)\n",
    "#     print('\\n')\n",
    "    sorted_zip = sorted(zip(np.array(part2['input']),poly_pred),key=lambda t:t[0])\n",
    "    x_poly, poly_pred = zip(*sorted_zip)\n",
    "    plt.plot(x_poly,poly_pred,color=colors[i-1],label='M='+str(i))\n",
    "plt.xlabel('input')\n",
    "plt.ylabel('output')\n",
    "plt.legend()\n",
    "plt.title('Relationship between input and output')\n",
    "plt.show()\n",
    "#list(zip(np.array(part2['input']),poly_pred))\n",
    "#np.array(part2['input'])\n",
    "#poly_pred"
   ]
  },
  {
   "cell_type": "code",
   "execution_count": 39,
   "metadata": {},
   "outputs": [
    {
     "data": {
      "image/png": "[encoded data removed]",
      "text/plain": [
       "<Figure size 432x288 with 1 Axes>"
      ]
     },
     "metadata": {
      "needs_background": "light"
     },
     "output_type": "display_data"
    }
   ],
   "source": [
    "x_coordinates=[1,2,3,4]\n",
    "bar=[sum([(part2['output'][i]-y_pred_all[j][i])**2 for i in range(25)])/25for j in range (4)]\n",
    "fig,ax=plt.subplots()\n",
    "ax.bar(['M=1','M=2','M=3','M=4'],height=bar,width=0.5)\n",
    "# for i in range (4):\n",
    "#     ax.text(i,bar[i],str(bar[i]))\n",
    "plt.ylabel('MSE')\n",
    "plt.title('MSE from M=1 to 4')\n",
    "plt.show()"
   ]
  },
  {
   "cell_type": "code",
   "execution_count": 143,
   "metadata": {},
   "outputs": [
    {
     "data": {
      "image/png": "[encoded data removed]",
      "text/plain": [
       "<Figure size 432x288 with 1 Axes>"
      ]
     },
     "metadata": {
      "needs_background": "light"
     },
     "output_type": "display_data"
    }
   ],
   "source": [
    "C=[-4,-2,2,4]\n",
    "alpha=[0.2,100,1000]\n",
    "plt.scatter(part2['input'],part2['output'],label='real data')\n",
    "for a in alpha:\n",
    "    X=([[1]+[math.exp(((x-c)**2)/(-2*a*a)) for c in C]for x in part2['input']])\n",
    "    mlg=LinearRegression(fit_intercept=False)\n",
    "    mlg.fit(X,part2['output'])\n",
    "    Y=mlg.predict(X)\n",
    "    sorted_X=np.transpose(sorted(zip(part2['input'],Y),key=lambda t:t[0]))\n",
    "    plt.plot(sorted_X[0],sorted_X[1],label='alpha='+str(a))\n",
    "plt.xlabel('input')\n",
    "plt.ylabel('output')\n",
    "plt.title('RBF model')\n",
    "plt.legend()\n",
    "plt.show()  \n",
    "\n"
   ]
  },
  {
   "cell_type": "code",
   "execution_count": null,
   "metadata": {},
   "outputs": [],
   "source": []
  }
 ],
 "metadata": {
  "kernelspec": {
   "display_name": "Python 3",
   "language": "python",
   "name": "python3"
  },
  "language_info": {
   "codemirror_mode": {
    "name": "ipython",
    "version": 3
   },
   "file_extension": ".py",
   "mimetype": "text/x-python",
   "name": "python",
   "nbconvert_exporter": "python",
   "pygments_lexer": "ipython3",
   "version": "3.7.9"
  }
 },
 "nbformat": 4,
 "nbformat_minor": 4
}
